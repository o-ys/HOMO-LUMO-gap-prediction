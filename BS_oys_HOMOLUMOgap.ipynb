{
 "cells": [
  {
   "cell_type": "markdown",
   "id": "db9c1ab9-62f9-4d78-9312-62326e65dce0",
   "metadata": {},
   "source": [
    "201313766 오예슬"
   ]
  },
  {
   "cell_type": "markdown",
   "id": "6df4d093-0d80-4e16-83a4-0faeeca46e67",
   "metadata": {},
   "source": [
    "# <span style=\"color:blue\">SMILES 로부터 HOMO-LUMO gap 을 예측하는 모델 만들기 1 ~ **<< Confromation of molecules >>** </span> \n"
   ]
  },
  {
   "cell_type": "markdown",
   "id": "dfeeaecb-dcfa-4f86-b0b6-3a477fdb4e2b",
   "metadata": {},
   "source": [
    "###  <span style=\"color:orange\">Maching Learning 기본 순서 </span>\n",
    "1. **전체 dataset을 준비**\n",
    "2. **X , y 분리**\n",
    "3. traing set , test set 분리\n",
    "---\n",
    "3. 빈 모델을 만듦   \n",
    "4. 빈 모델에 traing set을 넣어 모델을 학습시킴\n",
    "5. 학습된 모델에 test set을 넣어 예측시켜봄 \n",
    "---\n",
    "6. 잘 풀었나 채점해봄 \n",
    "7. 모델 튜닝 Hypter parameter"
   ]
  },
  {
   "cell_type": "markdown",
   "id": "5db9fa71-ca3e-40dc-9d38-0e732007700f",
   "metadata": {},
   "source": [
    "↓ 먼저 파일을 .csv 파일을 불러와서 dataframe을 만든다. (엑셀에서 .csv 파일로 저장)"
   ]
  },
  {
   "cell_type": "code",
   "execution_count": 1,
   "id": "a1619c8a-1b3d-4606-8a5e-0eca4e62c11a",
   "metadata": {},
   "outputs": [],
   "source": [
    "import rdkit\n",
    "from rdkit import Chem\n",
    "import pandas as pd\n",
    "chart = pd.read_csv('PubchemQC_Random_HOMO-LUMO_gap_and_OS.csv')"
   ]
  },
  {
   "cell_type": "code",
   "execution_count": 2,
   "id": "bf4bb1e7-1b77-4ae8-a649-f3443eee61df",
   "metadata": {},
   "outputs": [
    {
     "data": {
      "text/html": [
       "<div>\n",
       "<style scoped>\n",
       "    .dataframe tbody tr th:only-of-type {\n",
       "        vertical-align: middle;\n",
       "    }\n",
       "\n",
       "    .dataframe tbody tr th {\n",
       "        vertical-align: top;\n",
       "    }\n",
       "\n",
       "    .dataframe thead th {\n",
       "        text-align: right;\n",
       "    }\n",
       "</style>\n",
       "<table border=\"1\" class=\"dataframe\">\n",
       "  <thead>\n",
       "    <tr style=\"text-align: right;\">\n",
       "      <th></th>\n",
       "      <th>#HOMO-LUMO_gap(eV)</th>\n",
       "      <th>Oscillator_Strength</th>\n",
       "      <th>SMILES</th>\n",
       "    </tr>\n",
       "  </thead>\n",
       "  <tbody>\n",
       "    <tr>\n",
       "      <th>0</th>\n",
       "      <td>4.603</td>\n",
       "      <td>0.053</td>\n",
       "      <td>CC(C)(C1=CC(=C(C=C1)F)N2CCNCC2)O</td>\n",
       "    </tr>\n",
       "    <tr>\n",
       "      <th>1</th>\n",
       "      <td>3.980</td>\n",
       "      <td>0.002</td>\n",
       "      <td>CC1CC(C(=O)C(O1)C)(C)N</td>\n",
       "    </tr>\n",
       "    <tr>\n",
       "      <th>2</th>\n",
       "      <td>4.958</td>\n",
       "      <td>0.003</td>\n",
       "      <td>CC1(CC(CC(N1O)(C)C)[N+](C)(C)C)C</td>\n",
       "    </tr>\n",
       "    <tr>\n",
       "      <th>3</th>\n",
       "      <td>4.822</td>\n",
       "      <td>0.065</td>\n",
       "      <td>C1=CC(=C(C=C1CC(C(=O)O)N)O)O</td>\n",
       "    </tr>\n",
       "    <tr>\n",
       "      <th>4</th>\n",
       "      <td>4.104</td>\n",
       "      <td>0.110</td>\n",
       "      <td>CC(CNC1=NC=NC2=CC=CC=C21)C(=O)O</td>\n",
       "    </tr>\n",
       "    <tr>\n",
       "      <th>...</th>\n",
       "      <td>...</td>\n",
       "      <td>...</td>\n",
       "      <td>...</td>\n",
       "    </tr>\n",
       "    <tr>\n",
       "      <th>99995</th>\n",
       "      <td>5.333</td>\n",
       "      <td>0.003</td>\n",
       "      <td>CN1CCCC1C(=O)NCC2CCCO2</td>\n",
       "    </tr>\n",
       "    <tr>\n",
       "      <th>99996</th>\n",
       "      <td>4.448</td>\n",
       "      <td>0.002</td>\n",
       "      <td>C1COC(=N)N=C1</td>\n",
       "    </tr>\n",
       "    <tr>\n",
       "      <th>99997</th>\n",
       "      <td>3.606</td>\n",
       "      <td>0.000</td>\n",
       "      <td>CC12CCC(=O)C=C1CCC3C2CCC4(C3CCC4(C#C)O)C</td>\n",
       "    </tr>\n",
       "    <tr>\n",
       "      <th>99998</th>\n",
       "      <td>0.000</td>\n",
       "      <td>0.000</td>\n",
       "      <td>C(CO)NC[CH]O</td>\n",
       "    </tr>\n",
       "    <tr>\n",
       "      <th>99999</th>\n",
       "      <td>4.039</td>\n",
       "      <td>0.039</td>\n",
       "      <td>CN(CC1CCOC1)C2=CC=CC(=C2)C(=N)N</td>\n",
       "    </tr>\n",
       "  </tbody>\n",
       "</table>\n",
       "<p>100000 rows × 3 columns</p>\n",
       "</div>"
      ],
      "text/plain": [
       "       #HOMO-LUMO_gap(eV)  Oscillator_Strength  \\\n",
       "0                   4.603                0.053   \n",
       "1                   3.980                0.002   \n",
       "2                   4.958                0.003   \n",
       "3                   4.822                0.065   \n",
       "4                   4.104                0.110   \n",
       "...                   ...                  ...   \n",
       "99995               5.333                0.003   \n",
       "99996               4.448                0.002   \n",
       "99997               3.606                0.000   \n",
       "99998               0.000                0.000   \n",
       "99999               4.039                0.039   \n",
       "\n",
       "                                         SMILES  \n",
       "0              CC(C)(C1=CC(=C(C=C1)F)N2CCNCC2)O  \n",
       "1                        CC1CC(C(=O)C(O1)C)(C)N  \n",
       "2              CC1(CC(CC(N1O)(C)C)[N+](C)(C)C)C  \n",
       "3                  C1=CC(=C(C=C1CC(C(=O)O)N)O)O  \n",
       "4               CC(CNC1=NC=NC2=CC=CC=C21)C(=O)O  \n",
       "...                                         ...  \n",
       "99995                    CN1CCCC1C(=O)NCC2CCCO2  \n",
       "99996                             C1COC(=N)N=C1  \n",
       "99997  CC12CCC(=O)C=C1CCC3C2CCC4(C3CCC4(C#C)O)C  \n",
       "99998                              C(CO)NC[CH]O  \n",
       "99999           CN(CC1CCOC1)C2=CC=CC(=C2)C(=N)N  \n",
       "\n",
       "[100000 rows x 3 columns]"
      ]
     },
     "execution_count": 2,
     "metadata": {},
     "output_type": "execute_result"
    }
   ],
   "source": [
    "chart"
   ]
  },
  {
   "cell_type": "markdown",
   "id": "eba88bc3-64d0-4d69-bbbd-6b4cfe4311de",
   "metadata": {},
   "source": [
    "↓ 각각 column들을 리스트에 넣어준다."
   ]
  },
  {
   "cell_type": "code",
   "execution_count": 3,
   "id": "875522db-a3ba-44d7-8e10-7923587d5221",
   "metadata": {},
   "outputs": [],
   "source": [
    "gap = [i for i in chart['#HOMO-LUMO_gap(eV)']]\n",
    "os = [i for i in chart['Oscillator_Strength']]\n",
    "smiles = [i for i in chart['SMILES']]"
   ]
  },
  {
   "cell_type": "markdown",
   "id": "59aaea2e-991e-44eb-b8ee-5a63b2480b44",
   "metadata": {},
   "source": [
    "↓ SMILES를 mol type으로 변환 후 H를 붙여 새로운 리스트에 저장한다."
   ]
  },
  {
   "cell_type": "code",
   "execution_count": 4,
   "id": "5fd79845-9042-452b-acb2-11cf1a589409",
   "metadata": {},
   "outputs": [],
   "source": [
    "smiles_H=[]\n",
    "for smi in smiles:\n",
    "    m = Chem.MolFromSmiles(smi)\n",
    "    smiles_H.append(Chem.AddHs(m))"
   ]
  },
  {
   "cell_type": "markdown",
   "id": "48a38e7b-e8ee-4087-9112-65cbca8ce165",
   "metadata": {},
   "source": [
    "↓ 수소를 붙인 분자들의 3D 구조를 생성한다."
   ]
  },
  {
   "cell_type": "code",
   "execution_count": 45,
   "id": "b0e50911-5078-4d38-bfd3-4a3381abf14f",
   "metadata": {
    "tags": []
   },
   "outputs": [],
   "source": [
    "from rdkit.Chem import AllChem\n",
    "for m in smiles_H:\n",
    "    AllChem.EmbedMolecule(m)        # 실행이 너무 느리다."
   ]
  },
  {
   "cell_type": "code",
   "execution_count": 48,
   "id": "ee1529b7-5a23-4aba-b7fa-fe19da75e946",
   "metadata": {},
   "outputs": [
    {
     "data": {
      "image/png": "[encoded data removed]",
      "text/plain": [
       "<rdkit.Chem.rdchem.Mol at 0x215ab247520>"
      ]
     },
     "execution_count": 48,
     "metadata": {},
     "output_type": "execute_result"
    }
   ],
   "source": [
    "smiles_H[1992]"
   ]
  },
  {
   "cell_type": "markdown",
   "id": "738db4af-2b68-474e-8900-4d4d699b5e20",
   "metadata": {},
   "source": [
    "↓  ~결과는 상당히 rough한 값이기 때문에  MMFF force-filed 최적화 함수로 구조를 최적화 해준다.~ ......... for문이 안돌아간다."
   ]
  },
  {
   "cell_type": "code",
   "execution_count": 50,
   "id": "ae4fee92-fc47-441d-bbcd-051276dda13a",
   "metadata": {},
   "outputs": [
    {
     "ename": "ValueError",
     "evalue": "Bad Conformer Id",
     "output_type": "error",
     "traceback": [
      "\u001b[1;31m---------------------------------------------------------------------------\u001b[0m",
      "\u001b[1;31mValueError\u001b[0m                                Traceback (most recent call last)",
      "\u001b[1;32m<ipython-input-50-e49ff77d1a75>\u001b[0m in \u001b[0;36m<module>\u001b[1;34m\u001b[0m\n\u001b[0;32m      1\u001b[0m \u001b[1;32mfor\u001b[0m \u001b[0mmol\u001b[0m \u001b[1;32min\u001b[0m \u001b[0msmiles_H\u001b[0m\u001b[1;33m:\u001b[0m\u001b[1;33m\u001b[0m\u001b[1;33m\u001b[0m\u001b[0m\n\u001b[1;32m----> 2\u001b[1;33m     \u001b[0mAllChem\u001b[0m\u001b[1;33m.\u001b[0m\u001b[0mMMFFOptimizeMolecule\u001b[0m\u001b[1;33m(\u001b[0m\u001b[0mmol\u001b[0m\u001b[1;33m)\u001b[0m\u001b[1;33m\u001b[0m\u001b[1;33m\u001b[0m\u001b[0m\n\u001b[0m",
      "\u001b[1;31mValueError\u001b[0m: Bad Conformer Id"
     ]
    }
   ],
   "source": [
    "for mol in smiles_H:\n",
    "    AllChem.MMFFOptimizeMolecule(mol)"
   ]
  },
  {
   "cell_type": "markdown",
   "id": "80c53dc9-2e44-4662-9f45-bb3b7161b994",
   "metadata": {},
   "source": [
    "↓ 분자 한개로는 실행이 되길래"
   ]
  },
  {
   "cell_type": "code",
   "execution_count": 51,
   "id": "bef9852b-84a5-44b5-b88a-209fff315be9",
   "metadata": {},
   "outputs": [
    {
     "data": {
      "text/plain": [
       "0"
      ]
     },
     "execution_count": 51,
     "metadata": {},
     "output_type": "execute_result"
    }
   ],
   "source": [
    "AllChem.MMFFOptimizeMolecule(smiles_H[0])"
   ]
  },
  {
   "cell_type": "markdown",
   "id": "2041466d-af5f-4c98-8b8f-12823ff15801",
   "metadata": {},
   "source": [
    "↓ 분자 개수가 너무 큰가 싶어서 list범위를 1/10 씩 쪼개서 돌려보려고 했는데 안된다."
   ]
  },
  {
   "cell_type": "code",
   "execution_count": 54,
   "id": "e237d1ca-de1b-406c-aa9e-d365a60e2acd",
   "metadata": {},
   "outputs": [
    {
     "ename": "ValueError",
     "evalue": "Bad Conformer Id",
     "output_type": "error",
     "traceback": [
      "\u001b[1;31m---------------------------------------------------------------------------\u001b[0m",
      "\u001b[1;31mValueError\u001b[0m                                Traceback (most recent call last)",
      "\u001b[1;32m<ipython-input-54-2685d3a747fd>\u001b[0m in \u001b[0;36m<module>\u001b[1;34m\u001b[0m\n\u001b[0;32m      1\u001b[0m \u001b[1;32mfor\u001b[0m \u001b[0mi\u001b[0m  \u001b[1;32min\u001b[0m \u001b[0mrange\u001b[0m\u001b[1;33m(\u001b[0m\u001b[1;36m0\u001b[0m\u001b[1;33m,\u001b[0m\u001b[1;36m10000\u001b[0m\u001b[1;33m)\u001b[0m\u001b[1;33m:\u001b[0m\u001b[1;33m\u001b[0m\u001b[1;33m\u001b[0m\u001b[0m\n\u001b[1;32m----> 2\u001b[1;33m     \u001b[0mAllChem\u001b[0m\u001b[1;33m.\u001b[0m\u001b[0mMMFFOptimizeMolecule\u001b[0m\u001b[1;33m(\u001b[0m\u001b[0msmiles_H\u001b[0m\u001b[1;33m[\u001b[0m\u001b[0mi\u001b[0m\u001b[1;33m]\u001b[0m\u001b[1;33m)\u001b[0m\u001b[1;33m\u001b[0m\u001b[1;33m\u001b[0m\u001b[0m\n\u001b[0m",
      "\u001b[1;31mValueError\u001b[0m: Bad Conformer Id"
     ]
    }
   ],
   "source": [
    "for i  in range(0,10000):\n",
    "    AllChem.MMFFOptimizeMolecule(smiles_H[i])"
   ]
  },
  {
   "cell_type": "markdown",
   "id": "bbf7a1d1-ee23-47f5-ad26-8f7b8d69b534",
   "metadata": {},
   "source": [
    "↑ 일단 이 과정은 생략해야겠다 :("
   ]
  },
  {
   "cell_type": "markdown",
   "id": "415ce46c-3475-4467-8f33-a2718da7d56a",
   "metadata": {},
   "source": [
    "↓ 분자들의 Figerprints 를 얻는다. (성질 예측을 위해서는 ECFP interation 횟수 3~4번이 좋다고 알려져 있지만, 노트북 성능이 안좋아서 2번으로 설정했다.)"
   ]
  },
  {
   "cell_type": "code",
   "execution_count": 56,
   "id": "3b30bfe0-ea94-4047-bb26-abc00aff2857",
   "metadata": {},
   "outputs": [],
   "source": [
    "fp = []\n",
    "for m in smiles_H:\n",
    "    m_fp = AllChem.GetMorganFingerprint(m,2)\n",
    "    fp.append(m_fp)"
   ]
  },
  {
   "cell_type": "markdown",
   "id": "fed32d84-bf8f-4297-872d-6afd550cd7af",
   "metadata": {},
   "source": [
    "↓ Fingerprints를 BitVector로 얻는다. (AllChem모듈의 method가 실행이 안돼서 rdMolDescriptors 있는 같은 기능의 method로 실행)"
   ]
  },
  {
   "cell_type": "code",
   "execution_count": 63,
   "id": "10a74487-b978-4b72-84b1-f9a713b2a72f",
   "metadata": {},
   "outputs": [],
   "source": [
    "from rdkit.Chem.rdMolDescriptors import GetMorganFingerprintAsBitVect\n",
    "\n",
    "fp_bit = []\n",
    "for m in smiles_H:\n",
    "    m_bit = GetMorganFingerprintAsBitVect(m,2,nBits=2048)\n",
    "    fp_bit.append(m_bit)"
   ]
  },
  {
   "cell_type": "markdown",
   "id": "ec488adc-65cb-4923-ad6a-bbfd01fdba8e",
   "metadata": {},
   "source": [
    "↓ X (ECFP) 와 y (HOMO-LUMO gap) 생성 완료 !  "
   ]
  },
  {
   "cell_type": "code",
   "execution_count": 66,
   "id": "4b1e5c0f-4cc6-4f59-aae7-404369fb17fc",
   "metadata": {},
   "outputs": [],
   "source": [
    "X = fp_bit\n",
    "y = gap"
   ]
  },
  {
   "cell_type": "markdown",
   "id": "d0405088-10f9-433d-be9e-fd9216f0b2f7",
   "metadata": {},
   "source": [
    "###  <span style=\"color:orange\">Maching Learning 기본 순서 </span>\n",
    "1. 전체 dataset을 준비\n",
    "2. X , y 분리\n",
    "3. **traing set , test set 분리**<span style=\"color:orange\"> →  X_train, X_test, y_train, y_test</span>\n",
    "---\n",
    "3. 빈 모델을 만듦   \n",
    "4. 빈 모델에 traing set을 넣어 모델을 학습시킴\n",
    "5. 학습된 모델에 test set을 넣어 예측시켜봄 \n",
    "---\n",
    "6. 잘 풀었나 채점해봄 \n",
    "7. 모델 튜닝 Hypter parameter"
   ]
  },
  {
   "cell_type": "markdown",
   "id": "813a1cce-02ba-4b6e-931c-8bb4445bab63",
   "metadata": {},
   "source": [
    "↓  X_train, X_test, y_train, y_test 을 분리한다."
   ]
  },
  {
   "cell_type": "code",
   "execution_count": 67,
   "id": "e41ac72e-8567-4d5b-88d8-7da9411b9c46",
   "metadata": {},
   "outputs": [],
   "source": [
    "import sklearn.model_selection\n",
    "X_train, X_test, y_train, y_test = sklearn.model_selection.train_test_split(X, y, test_size=0.2, random_state=722)"
   ]
  },
  {
   "cell_type": "code",
   "execution_count": 95,
   "id": "36f01bd1-bd9f-492c-9fa4-7886f0644162",
   "metadata": {},
   "outputs": [
    {
     "data": {
      "text/plain": [
       "rdkit.DataStructs.cDataStructs.ExplicitBitVect"
      ]
     },
     "execution_count": 95,
     "metadata": {},
     "output_type": "execute_result"
    }
   ],
   "source": [
    "type(X_test[0])"
   ]
  },
  {
   "cell_type": "markdown",
   "id": "d753ab95-6bcd-4ddc-9355-0567a5d64f32",
   "metadata": {},
   "source": [
    "###  <span style=\"color:orange\">Maching Learning 기본 순서 </span>\n",
    "1. 전체 dataset을 준비\n",
    "2. X , y 분리\n",
    "3. traing set , test set 분리\n",
    "---\n",
    "3. **빈 모델을 만듦**   <span style=\"color:orange\">→    .RandomForestRegressor()</span> \n",
    "4. **빈 모델에 traing set을 넣어 모델을 학습시킴**<span style=\"color:orange\"> → .fit()</span>\n",
    "5. **학습된 모델에 test set을 넣어 예측시켜봄** <span style=\"color:orange\">→ .predict()</span>\n",
    "---\n",
    "6. 잘 풀었나 채점해봄 \n",
    "7. 모델 튜닝 Hypter parameter"
   ]
  },
  {
   "cell_type": "markdown",
   "id": "1b2cef55-c223-4de6-894d-788c53f7e1b8",
   "metadata": {},
   "source": [
    "↓ 빈 모델 생성 → 학습 → 예측 순서로 진행한다."
   ]
  },
  {
   "cell_type": "code",
   "execution_count": 68,
   "id": "96c56bb3-0d1c-4a80-aed1-cfa1b1a5cc26",
   "metadata": {},
   "outputs": [],
   "source": [
    "import sklearn.ensemble\n",
    "from sklearn.ensemble import RandomForestRegressor\n",
    "\n",
    "my_model = RandomForestRegressor()"
   ]
  },
  {
   "cell_type": "code",
   "execution_count": null,
   "id": "f94aa019-bf32-429a-a769-1c89056f9c46",
   "metadata": {},
   "outputs": [],
   "source": [
    "my_model.fit(X_train, y_train)     # 너.....어......무 느리다... 안된다... 계속 [*] 상태다..."
   ]
  },
  {
   "attachments": {
    "c47cfb19-dca3-4315-b9e3-0d5f76719c86.png": {
     "image/png": "[encoded data removed]"
    }
   },
   "cell_type": "markdown",
   "id": "b83c7184-6c5d-485c-aa93-d13033e72828",
   "metadata": {},
   "source": [
    "![image.png](attachment:c47cfb19-dca3-4315-b9e3-0d5f76719c86.png) Hmmm..."
   ]
  },
  {
   "cell_type": "code",
   "execution_count": 72,
   "id": "1616f78a-baef-40f8-aba9-c25f8d78c7ba",
   "metadata": {},
   "outputs": [
    {
     "data": {
      "text/plain": [
       "RandomForestRegressor()"
      ]
     },
     "execution_count": 72,
     "metadata": {},
     "output_type": "execute_result"
    }
   ],
   "source": [
    "my_model.fit(X_train[:10000], y_train[:10000])  # 결국 학습을 멈추고 1/10 씩 쪼개서 다시 실행하였다..."
   ]
  },
  {
   "cell_type": "code",
   "execution_count": 73,
   "id": "c7fcbf79-806c-4fb2-a4fb-e00967c2d4ff",
   "metadata": {},
   "outputs": [
    {
     "data": {
      "text/plain": [
       "RandomForestRegressor()"
      ]
     },
     "execution_count": 73,
     "metadata": {},
     "output_type": "execute_result"
    }
   ],
   "source": [
    "my_model.fit(X_train[10001:20000], y_train[10001:20000])"
   ]
  },
  {
   "cell_type": "code",
   "execution_count": 74,
   "id": "1475ce1f-e20e-432e-82a8-cc053fd0c70e",
   "metadata": {},
   "outputs": [
    {
     "data": {
      "text/plain": [
       "RandomForestRegressor()"
      ]
     },
     "execution_count": 74,
     "metadata": {},
     "output_type": "execute_result"
    }
   ],
   "source": [
    "my_model.fit(X_train[20001:30000], y_train[20001:30000])"
   ]
  },
  {
   "cell_type": "code",
   "execution_count": 76,
   "id": "d967e2fe-ee0b-48a6-8da5-3b4877bafc04",
   "metadata": {},
   "outputs": [
    {
     "data": {
      "text/plain": [
       "RandomForestRegressor()"
      ]
     },
     "execution_count": 76,
     "metadata": {},
     "output_type": "execute_result"
    }
   ],
   "source": [
    "my_model.fit(X_train[40001:50000], y_train[40001:50000])"
   ]
  },
  {
   "cell_type": "code",
   "execution_count": 77,
   "id": "7bf0c114-2afe-4a30-ad9c-bf5f6669a13f",
   "metadata": {},
   "outputs": [
    {
     "data": {
      "text/plain": [
       "RandomForestRegressor()"
      ]
     },
     "execution_count": 77,
     "metadata": {},
     "output_type": "execute_result"
    }
   ],
   "source": [
    "my_model.fit(X_train[50001:60000], y_train[50001:60000])"
   ]
  },
  {
   "cell_type": "code",
   "execution_count": 78,
   "id": "6fe58518-8ac2-4386-918d-1ce82df24365",
   "metadata": {},
   "outputs": [
    {
     "data": {
      "text/plain": [
       "RandomForestRegressor()"
      ]
     },
     "execution_count": 78,
     "metadata": {},
     "output_type": "execute_result"
    }
   ],
   "source": [
    "my_model.fit(X_train[60001:70000], y_train[60001:70000])"
   ]
  },
  {
   "cell_type": "code",
   "execution_count": 79,
   "id": "84df5a24-60f6-42b7-be59-9751767f3d6d",
   "metadata": {},
   "outputs": [
    {
     "data": {
      "text/plain": [
       "RandomForestRegressor()"
      ]
     },
     "execution_count": 79,
     "metadata": {},
     "output_type": "execute_result"
    }
   ],
   "source": [
    "my_model.fit(X_train[70001:80000], y_train[70001:80000])"
   ]
  },
  {
   "cell_type": "code",
   "execution_count": 81,
   "id": "76b85058-b758-4463-b6c1-0cec538b2509",
   "metadata": {
    "collapsed": true,
    "jupyter": {
     "outputs_hidden": true
    },
    "tags": []
   },
   "outputs": [
    {
     "ename": "ValueError",
     "evalue": "Expected 2D array, got 1D array instead:\narray=[].\nReshape your data either using array.reshape(-1, 1) if your data has a single feature or array.reshape(1, -1) if it contains a single sample.",
     "output_type": "error",
     "traceback": [
      "\u001b[1;31m---------------------------------------------------------------------------\u001b[0m",
      "\u001b[1;31mValueError\u001b[0m                                Traceback (most recent call last)",
      "\u001b[1;32m<ipython-input-81-cd131a40cae0>\u001b[0m in \u001b[0;36m<module>\u001b[1;34m\u001b[0m\n\u001b[1;32m----> 1\u001b[1;33m \u001b[0mmy_model\u001b[0m\u001b[1;33m.\u001b[0m\u001b[0mfit\u001b[0m\u001b[1;33m(\u001b[0m\u001b[0mX_train\u001b[0m\u001b[1;33m[\u001b[0m\u001b[1;36m80001\u001b[0m\u001b[1;33m:\u001b[0m\u001b[1;36m90000\u001b[0m\u001b[1;33m]\u001b[0m\u001b[1;33m,\u001b[0m \u001b[0my_train\u001b[0m\u001b[1;33m[\u001b[0m\u001b[1;36m80001\u001b[0m\u001b[1;33m:\u001b[0m\u001b[1;36m90000\u001b[0m\u001b[1;33m]\u001b[0m\u001b[1;33m)\u001b[0m\u001b[1;33m\u001b[0m\u001b[1;33m\u001b[0m\u001b[0m\n\u001b[0m",
      "\u001b[1;32m~\\anaconda3\\lib\\site-packages\\sklearn\\ensemble\\_forest.py\u001b[0m in \u001b[0;36mfit\u001b[1;34m(self, X, y, sample_weight)\u001b[0m\n\u001b[0;32m    302\u001b[0m                 \u001b[1;34m\"sparse multilabel-indicator for y is not supported.\"\u001b[0m\u001b[1;33m\u001b[0m\u001b[1;33m\u001b[0m\u001b[0m\n\u001b[0;32m    303\u001b[0m             )\n\u001b[1;32m--> 304\u001b[1;33m         X, y = self._validate_data(X, y, multi_output=True,\n\u001b[0m\u001b[0;32m    305\u001b[0m                                    accept_sparse=\"csc\", dtype=DTYPE)\n\u001b[0;32m    306\u001b[0m         \u001b[1;32mif\u001b[0m \u001b[0msample_weight\u001b[0m \u001b[1;32mis\u001b[0m \u001b[1;32mnot\u001b[0m \u001b[1;32mNone\u001b[0m\u001b[1;33m:\u001b[0m\u001b[1;33m\u001b[0m\u001b[1;33m\u001b[0m\u001b[0m\n",
      "\u001b[1;32m~\\anaconda3\\lib\\site-packages\\sklearn\\base.py\u001b[0m in \u001b[0;36m_validate_data\u001b[1;34m(self, X, y, reset, validate_separately, **check_params)\u001b[0m\n\u001b[0;32m    431\u001b[0m                 \u001b[0my\u001b[0m \u001b[1;33m=\u001b[0m \u001b[0mcheck_array\u001b[0m\u001b[1;33m(\u001b[0m\u001b[0my\u001b[0m\u001b[1;33m,\u001b[0m \u001b[1;33m**\u001b[0m\u001b[0mcheck_y_params\u001b[0m\u001b[1;33m)\u001b[0m\u001b[1;33m\u001b[0m\u001b[1;33m\u001b[0m\u001b[0m\n\u001b[0;32m    432\u001b[0m             \u001b[1;32melse\u001b[0m\u001b[1;33m:\u001b[0m\u001b[1;33m\u001b[0m\u001b[1;33m\u001b[0m\u001b[0m\n\u001b[1;32m--> 433\u001b[1;33m                 \u001b[0mX\u001b[0m\u001b[1;33m,\u001b[0m \u001b[0my\u001b[0m \u001b[1;33m=\u001b[0m \u001b[0mcheck_X_y\u001b[0m\u001b[1;33m(\u001b[0m\u001b[0mX\u001b[0m\u001b[1;33m,\u001b[0m \u001b[0my\u001b[0m\u001b[1;33m,\u001b[0m \u001b[1;33m**\u001b[0m\u001b[0mcheck_params\u001b[0m\u001b[1;33m)\u001b[0m\u001b[1;33m\u001b[0m\u001b[1;33m\u001b[0m\u001b[0m\n\u001b[0m\u001b[0;32m    434\u001b[0m             \u001b[0mout\u001b[0m \u001b[1;33m=\u001b[0m \u001b[0mX\u001b[0m\u001b[1;33m,\u001b[0m \u001b[0my\u001b[0m\u001b[1;33m\u001b[0m\u001b[1;33m\u001b[0m\u001b[0m\n\u001b[0;32m    435\u001b[0m \u001b[1;33m\u001b[0m\u001b[0m\n",
      "\u001b[1;32m~\\anaconda3\\lib\\site-packages\\sklearn\\utils\\validation.py\u001b[0m in \u001b[0;36minner_f\u001b[1;34m(*args, **kwargs)\u001b[0m\n\u001b[0;32m     61\u001b[0m             \u001b[0mextra_args\u001b[0m \u001b[1;33m=\u001b[0m \u001b[0mlen\u001b[0m\u001b[1;33m(\u001b[0m\u001b[0margs\u001b[0m\u001b[1;33m)\u001b[0m \u001b[1;33m-\u001b[0m \u001b[0mlen\u001b[0m\u001b[1;33m(\u001b[0m\u001b[0mall_args\u001b[0m\u001b[1;33m)\u001b[0m\u001b[1;33m\u001b[0m\u001b[1;33m\u001b[0m\u001b[0m\n\u001b[0;32m     62\u001b[0m             \u001b[1;32mif\u001b[0m \u001b[0mextra_args\u001b[0m \u001b[1;33m<=\u001b[0m \u001b[1;36m0\u001b[0m\u001b[1;33m:\u001b[0m\u001b[1;33m\u001b[0m\u001b[1;33m\u001b[0m\u001b[0m\n\u001b[1;32m---> 63\u001b[1;33m                 \u001b[1;32mreturn\u001b[0m \u001b[0mf\u001b[0m\u001b[1;33m(\u001b[0m\u001b[1;33m*\u001b[0m\u001b[0margs\u001b[0m\u001b[1;33m,\u001b[0m \u001b[1;33m**\u001b[0m\u001b[0mkwargs\u001b[0m\u001b[1;33m)\u001b[0m\u001b[1;33m\u001b[0m\u001b[1;33m\u001b[0m\u001b[0m\n\u001b[0m\u001b[0;32m     64\u001b[0m \u001b[1;33m\u001b[0m\u001b[0m\n\u001b[0;32m     65\u001b[0m             \u001b[1;31m# extra_args > 0\u001b[0m\u001b[1;33m\u001b[0m\u001b[1;33m\u001b[0m\u001b[1;33m\u001b[0m\u001b[0m\n",
      "\u001b[1;32m~\\anaconda3\\lib\\site-packages\\sklearn\\utils\\validation.py\u001b[0m in \u001b[0;36mcheck_X_y\u001b[1;34m(X, y, accept_sparse, accept_large_sparse, dtype, order, copy, force_all_finite, ensure_2d, allow_nd, multi_output, ensure_min_samples, ensure_min_features, y_numeric, estimator)\u001b[0m\n\u001b[0;32m    812\u001b[0m         \u001b[1;32mraise\u001b[0m \u001b[0mValueError\u001b[0m\u001b[1;33m(\u001b[0m\u001b[1;34m\"y cannot be None\"\u001b[0m\u001b[1;33m)\u001b[0m\u001b[1;33m\u001b[0m\u001b[1;33m\u001b[0m\u001b[0m\n\u001b[0;32m    813\u001b[0m \u001b[1;33m\u001b[0m\u001b[0m\n\u001b[1;32m--> 814\u001b[1;33m     X = check_array(X, accept_sparse=accept_sparse,\n\u001b[0m\u001b[0;32m    815\u001b[0m                     \u001b[0maccept_large_sparse\u001b[0m\u001b[1;33m=\u001b[0m\u001b[0maccept_large_sparse\u001b[0m\u001b[1;33m,\u001b[0m\u001b[1;33m\u001b[0m\u001b[1;33m\u001b[0m\u001b[0m\n\u001b[0;32m    816\u001b[0m                     \u001b[0mdtype\u001b[0m\u001b[1;33m=\u001b[0m\u001b[0mdtype\u001b[0m\u001b[1;33m,\u001b[0m \u001b[0morder\u001b[0m\u001b[1;33m=\u001b[0m\u001b[0morder\u001b[0m\u001b[1;33m,\u001b[0m \u001b[0mcopy\u001b[0m\u001b[1;33m=\u001b[0m\u001b[0mcopy\u001b[0m\u001b[1;33m,\u001b[0m\u001b[1;33m\u001b[0m\u001b[1;33m\u001b[0m\u001b[0m\n",
      "\u001b[1;32m~\\anaconda3\\lib\\site-packages\\sklearn\\utils\\validation.py\u001b[0m in \u001b[0;36minner_f\u001b[1;34m(*args, **kwargs)\u001b[0m\n\u001b[0;32m     61\u001b[0m             \u001b[0mextra_args\u001b[0m \u001b[1;33m=\u001b[0m \u001b[0mlen\u001b[0m\u001b[1;33m(\u001b[0m\u001b[0margs\u001b[0m\u001b[1;33m)\u001b[0m \u001b[1;33m-\u001b[0m \u001b[0mlen\u001b[0m\u001b[1;33m(\u001b[0m\u001b[0mall_args\u001b[0m\u001b[1;33m)\u001b[0m\u001b[1;33m\u001b[0m\u001b[1;33m\u001b[0m\u001b[0m\n\u001b[0;32m     62\u001b[0m             \u001b[1;32mif\u001b[0m \u001b[0mextra_args\u001b[0m \u001b[1;33m<=\u001b[0m \u001b[1;36m0\u001b[0m\u001b[1;33m:\u001b[0m\u001b[1;33m\u001b[0m\u001b[1;33m\u001b[0m\u001b[0m\n\u001b[1;32m---> 63\u001b[1;33m                 \u001b[1;32mreturn\u001b[0m \u001b[0mf\u001b[0m\u001b[1;33m(\u001b[0m\u001b[1;33m*\u001b[0m\u001b[0margs\u001b[0m\u001b[1;33m,\u001b[0m \u001b[1;33m**\u001b[0m\u001b[0mkwargs\u001b[0m\u001b[1;33m)\u001b[0m\u001b[1;33m\u001b[0m\u001b[1;33m\u001b[0m\u001b[0m\n\u001b[0m\u001b[0;32m     64\u001b[0m \u001b[1;33m\u001b[0m\u001b[0m\n\u001b[0;32m     65\u001b[0m             \u001b[1;31m# extra_args > 0\u001b[0m\u001b[1;33m\u001b[0m\u001b[1;33m\u001b[0m\u001b[1;33m\u001b[0m\u001b[0m\n",
      "\u001b[1;32m~\\anaconda3\\lib\\site-packages\\sklearn\\utils\\validation.py\u001b[0m in \u001b[0;36mcheck_array\u001b[1;34m(array, accept_sparse, accept_large_sparse, dtype, order, copy, force_all_finite, ensure_2d, allow_nd, ensure_min_samples, ensure_min_features, estimator)\u001b[0m\n\u001b[0;32m    635\u001b[0m             \u001b[1;31m# If input is 1D raise error\u001b[0m\u001b[1;33m\u001b[0m\u001b[1;33m\u001b[0m\u001b[1;33m\u001b[0m\u001b[0m\n\u001b[0;32m    636\u001b[0m             \u001b[1;32mif\u001b[0m \u001b[0marray\u001b[0m\u001b[1;33m.\u001b[0m\u001b[0mndim\u001b[0m \u001b[1;33m==\u001b[0m \u001b[1;36m1\u001b[0m\u001b[1;33m:\u001b[0m\u001b[1;33m\u001b[0m\u001b[1;33m\u001b[0m\u001b[0m\n\u001b[1;32m--> 637\u001b[1;33m                 raise ValueError(\n\u001b[0m\u001b[0;32m    638\u001b[0m                     \u001b[1;34m\"Expected 2D array, got 1D array instead:\\narray={}.\\n\"\u001b[0m\u001b[1;33m\u001b[0m\u001b[1;33m\u001b[0m\u001b[0m\n\u001b[0;32m    639\u001b[0m                     \u001b[1;34m\"Reshape your data either using array.reshape(-1, 1) if \"\u001b[0m\u001b[1;33m\u001b[0m\u001b[1;33m\u001b[0m\u001b[0m\n",
      "\u001b[1;31mValueError\u001b[0m: Expected 2D array, got 1D array instead:\narray=[].\nReshape your data either using array.reshape(-1, 1) if your data has a single feature or array.reshape(1, -1) if it contains a single sample."
     ]
    }
   ],
   "source": [
    "my_model.fit(X_train[80001:90000], y_train[80001:90000])      # 엥? 갑자기 웬 오류?"
   ]
  },
  {
   "cell_type": "code",
   "execution_count": 82,
   "id": "6c2b2224-54ef-4a18-a93d-8e2dfd6e37a9",
   "metadata": {
    "collapsed": true,
    "jupyter": {
     "outputs_hidden": true
    },
    "tags": []
   },
   "outputs": [
    {
     "ename": "ValueError",
     "evalue": "Expected 2D array, got 1D array instead:\narray=[].\nReshape your data either using array.reshape(-1, 1) if your data has a single feature or array.reshape(1, -1) if it contains a single sample.",
     "output_type": "error",
     "traceback": [
      "\u001b[1;31m---------------------------------------------------------------------------\u001b[0m",
      "\u001b[1;31mValueError\u001b[0m                                Traceback (most recent call last)",
      "\u001b[1;32m<ipython-input-82-ac913c49438c>\u001b[0m in \u001b[0;36m<module>\u001b[1;34m\u001b[0m\n\u001b[1;32m----> 1\u001b[1;33m \u001b[0mmy_model\u001b[0m\u001b[1;33m.\u001b[0m\u001b[0mfit\u001b[0m\u001b[1;33m(\u001b[0m\u001b[0mX_train\u001b[0m\u001b[1;33m[\u001b[0m\u001b[1;36m90001\u001b[0m\u001b[1;33m:\u001b[0m\u001b[1;36m100000\u001b[0m\u001b[1;33m]\u001b[0m\u001b[1;33m,\u001b[0m \u001b[0my_train\u001b[0m\u001b[1;33m[\u001b[0m\u001b[1;36m90001\u001b[0m\u001b[1;33m:\u001b[0m\u001b[1;36m100000\u001b[0m\u001b[1;33m]\u001b[0m\u001b[1;33m)\u001b[0m\u001b[1;33m\u001b[0m\u001b[1;33m\u001b[0m\u001b[0m\n\u001b[0m",
      "\u001b[1;32m~\\anaconda3\\lib\\site-packages\\sklearn\\ensemble\\_forest.py\u001b[0m in \u001b[0;36mfit\u001b[1;34m(self, X, y, sample_weight)\u001b[0m\n\u001b[0;32m    302\u001b[0m                 \u001b[1;34m\"sparse multilabel-indicator for y is not supported.\"\u001b[0m\u001b[1;33m\u001b[0m\u001b[1;33m\u001b[0m\u001b[0m\n\u001b[0;32m    303\u001b[0m             )\n\u001b[1;32m--> 304\u001b[1;33m         X, y = self._validate_data(X, y, multi_output=True,\n\u001b[0m\u001b[0;32m    305\u001b[0m                                    accept_sparse=\"csc\", dtype=DTYPE)\n\u001b[0;32m    306\u001b[0m         \u001b[1;32mif\u001b[0m \u001b[0msample_weight\u001b[0m \u001b[1;32mis\u001b[0m \u001b[1;32mnot\u001b[0m \u001b[1;32mNone\u001b[0m\u001b[1;33m:\u001b[0m\u001b[1;33m\u001b[0m\u001b[1;33m\u001b[0m\u001b[0m\n",
      "\u001b[1;32m~\\anaconda3\\lib\\site-packages\\sklearn\\base.py\u001b[0m in \u001b[0;36m_validate_data\u001b[1;34m(self, X, y, reset, validate_separately, **check_params)\u001b[0m\n\u001b[0;32m    431\u001b[0m                 \u001b[0my\u001b[0m \u001b[1;33m=\u001b[0m \u001b[0mcheck_array\u001b[0m\u001b[1;33m(\u001b[0m\u001b[0my\u001b[0m\u001b[1;33m,\u001b[0m \u001b[1;33m**\u001b[0m\u001b[0mcheck_y_params\u001b[0m\u001b[1;33m)\u001b[0m\u001b[1;33m\u001b[0m\u001b[1;33m\u001b[0m\u001b[0m\n\u001b[0;32m    432\u001b[0m             \u001b[1;32melse\u001b[0m\u001b[1;33m:\u001b[0m\u001b[1;33m\u001b[0m\u001b[1;33m\u001b[0m\u001b[0m\n\u001b[1;32m--> 433\u001b[1;33m                 \u001b[0mX\u001b[0m\u001b[1;33m,\u001b[0m \u001b[0my\u001b[0m \u001b[1;33m=\u001b[0m \u001b[0mcheck_X_y\u001b[0m\u001b[1;33m(\u001b[0m\u001b[0mX\u001b[0m\u001b[1;33m,\u001b[0m \u001b[0my\u001b[0m\u001b[1;33m,\u001b[0m \u001b[1;33m**\u001b[0m\u001b[0mcheck_params\u001b[0m\u001b[1;33m)\u001b[0m\u001b[1;33m\u001b[0m\u001b[1;33m\u001b[0m\u001b[0m\n\u001b[0m\u001b[0;32m    434\u001b[0m             \u001b[0mout\u001b[0m \u001b[1;33m=\u001b[0m \u001b[0mX\u001b[0m\u001b[1;33m,\u001b[0m \u001b[0my\u001b[0m\u001b[1;33m\u001b[0m\u001b[1;33m\u001b[0m\u001b[0m\n\u001b[0;32m    435\u001b[0m \u001b[1;33m\u001b[0m\u001b[0m\n",
      "\u001b[1;32m~\\anaconda3\\lib\\site-packages\\sklearn\\utils\\validation.py\u001b[0m in \u001b[0;36minner_f\u001b[1;34m(*args, **kwargs)\u001b[0m\n\u001b[0;32m     61\u001b[0m             \u001b[0mextra_args\u001b[0m \u001b[1;33m=\u001b[0m \u001b[0mlen\u001b[0m\u001b[1;33m(\u001b[0m\u001b[0margs\u001b[0m\u001b[1;33m)\u001b[0m \u001b[1;33m-\u001b[0m \u001b[0mlen\u001b[0m\u001b[1;33m(\u001b[0m\u001b[0mall_args\u001b[0m\u001b[1;33m)\u001b[0m\u001b[1;33m\u001b[0m\u001b[1;33m\u001b[0m\u001b[0m\n\u001b[0;32m     62\u001b[0m             \u001b[1;32mif\u001b[0m \u001b[0mextra_args\u001b[0m \u001b[1;33m<=\u001b[0m \u001b[1;36m0\u001b[0m\u001b[1;33m:\u001b[0m\u001b[1;33m\u001b[0m\u001b[1;33m\u001b[0m\u001b[0m\n\u001b[1;32m---> 63\u001b[1;33m                 \u001b[1;32mreturn\u001b[0m \u001b[0mf\u001b[0m\u001b[1;33m(\u001b[0m\u001b[1;33m*\u001b[0m\u001b[0margs\u001b[0m\u001b[1;33m,\u001b[0m \u001b[1;33m**\u001b[0m\u001b[0mkwargs\u001b[0m\u001b[1;33m)\u001b[0m\u001b[1;33m\u001b[0m\u001b[1;33m\u001b[0m\u001b[0m\n\u001b[0m\u001b[0;32m     64\u001b[0m \u001b[1;33m\u001b[0m\u001b[0m\n\u001b[0;32m     65\u001b[0m             \u001b[1;31m# extra_args > 0\u001b[0m\u001b[1;33m\u001b[0m\u001b[1;33m\u001b[0m\u001b[1;33m\u001b[0m\u001b[0m\n",
      "\u001b[1;32m~\\anaconda3\\lib\\site-packages\\sklearn\\utils\\validation.py\u001b[0m in \u001b[0;36mcheck_X_y\u001b[1;34m(X, y, accept_sparse, accept_large_sparse, dtype, order, copy, force_all_finite, ensure_2d, allow_nd, multi_output, ensure_min_samples, ensure_min_features, y_numeric, estimator)\u001b[0m\n\u001b[0;32m    812\u001b[0m         \u001b[1;32mraise\u001b[0m \u001b[0mValueError\u001b[0m\u001b[1;33m(\u001b[0m\u001b[1;34m\"y cannot be None\"\u001b[0m\u001b[1;33m)\u001b[0m\u001b[1;33m\u001b[0m\u001b[1;33m\u001b[0m\u001b[0m\n\u001b[0;32m    813\u001b[0m \u001b[1;33m\u001b[0m\u001b[0m\n\u001b[1;32m--> 814\u001b[1;33m     X = check_array(X, accept_sparse=accept_sparse,\n\u001b[0m\u001b[0;32m    815\u001b[0m                     \u001b[0maccept_large_sparse\u001b[0m\u001b[1;33m=\u001b[0m\u001b[0maccept_large_sparse\u001b[0m\u001b[1;33m,\u001b[0m\u001b[1;33m\u001b[0m\u001b[1;33m\u001b[0m\u001b[0m\n\u001b[0;32m    816\u001b[0m                     \u001b[0mdtype\u001b[0m\u001b[1;33m=\u001b[0m\u001b[0mdtype\u001b[0m\u001b[1;33m,\u001b[0m \u001b[0morder\u001b[0m\u001b[1;33m=\u001b[0m\u001b[0morder\u001b[0m\u001b[1;33m,\u001b[0m \u001b[0mcopy\u001b[0m\u001b[1;33m=\u001b[0m\u001b[0mcopy\u001b[0m\u001b[1;33m,\u001b[0m\u001b[1;33m\u001b[0m\u001b[1;33m\u001b[0m\u001b[0m\n",
      "\u001b[1;32m~\\anaconda3\\lib\\site-packages\\sklearn\\utils\\validation.py\u001b[0m in \u001b[0;36minner_f\u001b[1;34m(*args, **kwargs)\u001b[0m\n\u001b[0;32m     61\u001b[0m             \u001b[0mextra_args\u001b[0m \u001b[1;33m=\u001b[0m \u001b[0mlen\u001b[0m\u001b[1;33m(\u001b[0m\u001b[0margs\u001b[0m\u001b[1;33m)\u001b[0m \u001b[1;33m-\u001b[0m \u001b[0mlen\u001b[0m\u001b[1;33m(\u001b[0m\u001b[0mall_args\u001b[0m\u001b[1;33m)\u001b[0m\u001b[1;33m\u001b[0m\u001b[1;33m\u001b[0m\u001b[0m\n\u001b[0;32m     62\u001b[0m             \u001b[1;32mif\u001b[0m \u001b[0mextra_args\u001b[0m \u001b[1;33m<=\u001b[0m \u001b[1;36m0\u001b[0m\u001b[1;33m:\u001b[0m\u001b[1;33m\u001b[0m\u001b[1;33m\u001b[0m\u001b[0m\n\u001b[1;32m---> 63\u001b[1;33m                 \u001b[1;32mreturn\u001b[0m \u001b[0mf\u001b[0m\u001b[1;33m(\u001b[0m\u001b[1;33m*\u001b[0m\u001b[0margs\u001b[0m\u001b[1;33m,\u001b[0m \u001b[1;33m**\u001b[0m\u001b[0mkwargs\u001b[0m\u001b[1;33m)\u001b[0m\u001b[1;33m\u001b[0m\u001b[1;33m\u001b[0m\u001b[0m\n\u001b[0m\u001b[0;32m     64\u001b[0m \u001b[1;33m\u001b[0m\u001b[0m\n\u001b[0;32m     65\u001b[0m             \u001b[1;31m# extra_args > 0\u001b[0m\u001b[1;33m\u001b[0m\u001b[1;33m\u001b[0m\u001b[1;33m\u001b[0m\u001b[0m\n",
      "\u001b[1;32m~\\anaconda3\\lib\\site-packages\\sklearn\\utils\\validation.py\u001b[0m in \u001b[0;36mcheck_array\u001b[1;34m(array, accept_sparse, accept_large_sparse, dtype, order, copy, force_all_finite, ensure_2d, allow_nd, ensure_min_samples, ensure_min_features, estimator)\u001b[0m\n\u001b[0;32m    635\u001b[0m             \u001b[1;31m# If input is 1D raise error\u001b[0m\u001b[1;33m\u001b[0m\u001b[1;33m\u001b[0m\u001b[1;33m\u001b[0m\u001b[0m\n\u001b[0;32m    636\u001b[0m             \u001b[1;32mif\u001b[0m \u001b[0marray\u001b[0m\u001b[1;33m.\u001b[0m\u001b[0mndim\u001b[0m \u001b[1;33m==\u001b[0m \u001b[1;36m1\u001b[0m\u001b[1;33m:\u001b[0m\u001b[1;33m\u001b[0m\u001b[1;33m\u001b[0m\u001b[0m\n\u001b[1;32m--> 637\u001b[1;33m                 raise ValueError(\n\u001b[0m\u001b[0;32m    638\u001b[0m                     \u001b[1;34m\"Expected 2D array, got 1D array instead:\\narray={}.\\n\"\u001b[0m\u001b[1;33m\u001b[0m\u001b[1;33m\u001b[0m\u001b[0m\n\u001b[0;32m    639\u001b[0m                     \u001b[1;34m\"Reshape your data either using array.reshape(-1, 1) if \"\u001b[0m\u001b[1;33m\u001b[0m\u001b[1;33m\u001b[0m\u001b[0m\n",
      "\u001b[1;31mValueError\u001b[0m: Expected 2D array, got 1D array instead:\narray=[].\nReshape your data either using array.reshape(-1, 1) if your data has a single feature or array.reshape(1, -1) if it contains a single sample."
     ]
    }
   ],
   "source": [
    "my_model.fit(X_train[90001:100000], y_train[90001:100000])    # 에엥?"
   ]
  },
  {
   "cell_type": "code",
   "execution_count": 83,
   "id": "5ec9da7f-244b-4082-9d21-4c70f93ecd33",
   "metadata": {},
   "outputs": [],
   "source": [
    "y_pred = my_model.predict(X_test)"
   ]
  },
  {
   "cell_type": "markdown",
   "id": "2903ef5c-8e85-49b2-9ae1-02414ac5d2eb",
   "metadata": {},
   "source": [
    "###  <span style=\"color:orange\">Maching Learning 기본 순서 </span>\n",
    "1. 전체 dataset을 준비\n",
    "2. X , y 분리\n",
    "3. traing set , test set 분리\n",
    "---\n",
    "3. 빈 모델을 만듦   \n",
    "4. 빈 모델에 traing set을 넣어 모델을 학습시킴\n",
    "5. 학습된 모델에 test set을 넣어 예측시켜봄 \n",
    "---\n",
    "6. **잘 풀었나 채점해봄**\n",
    "7. 모델 튜닝 Hypter parameter"
   ]
  },
  {
   "cell_type": "markdown",
   "id": "725acb09-5594-460d-a607-6d0c8c7dd2e4",
   "metadata": {},
   "source": [
    "↓ RMSE 구하기 (MSE에 루트를 취함)"
   ]
  },
  {
   "cell_type": "code",
   "execution_count": 85,
   "id": "deccc249-37c3-448e-adae-df145f34fb73",
   "metadata": {},
   "outputs": [
    {
     "data": {
      "text/plain": [
       "0.605304453024637"
      ]
     },
     "execution_count": 85,
     "metadata": {},
     "output_type": "execute_result"
    }
   ],
   "source": [
    "from sklearn.metrics import mean_squared_error\n",
    "from math import sqrt\n",
    "rmse = sqrt(mean_squared_error(y_test, y_pred))\n",
    "rmse"
   ]
  },
  {
   "cell_type": "markdown",
   "id": "d693145b-62f9-4839-9595-25e31f900f1e",
   "metadata": {},
   "source": [
    "↑ RMSE가 꽤 크다. MMFF force field 최적화 함수를 적용했다면 어떤 값이 나왔을 지 궁금하다."
   ]
  },
  {
   "cell_type": "markdown",
   "id": "fd8b38f3-31d5-4999-99a4-82df1e2fb336",
   "metadata": {},
   "source": [
    "↓  그래프 그려보기"
   ]
  },
  {
   "cell_type": "code",
   "execution_count": 88,
   "id": "29f9e06a-064c-4da7-b383-8c0d6e82bdda",
   "metadata": {},
   "outputs": [
    {
     "data": {
      "text/plain": [
       "<matplotlib.legend.Legend at 0x215a33558e0>"
      ]
     },
     "execution_count": 88,
     "metadata": {},
     "output_type": "execute_result"
    },
    {
     "data": {
      "image/png": "[encoded data removed]",
      "text/plain": [
       "<Figure size 432x288 with 1 Axes>"
      ]
     },
     "metadata": {
      "needs_background": "light"
     },
     "output_type": "display_data"
    }
   ],
   "source": [
    "import matplotlib.pyplot as plt  \n",
    "%matplotlib inline\n",
    "\n",
    "plt.scatter(y_test, y_pred)\n",
    "plt.xlabel(\"Experimental HOMO LUMO gap\")\n",
    "plt.ylabel(\"Predicted HOMO LUMO gap\")\n",
    "plt.grid()\n",
    "plt.plot(range(0, 10), range(0, 10), \"r--\", label = \"y=x\")\n",
    "plt.legend()"
   ]
  },
  {
   "cell_type": "markdown",
   "id": "22e298a9-ceab-4730-97ae-0b466e2e74fe",
   "metadata": {},
   "source": [
    "###  <span style=\"color:orange\">Maching Learning 기본 순서 </span>\n",
    "1. 전체 dataset을 준비\n",
    "2. X , y 분리\n",
    "3. traing set , test set 분리\n",
    "---\n",
    "3. 빈 모델을 만듦   \n",
    "4. 빈 모델에 traing set을 넣어 모델을 학습시킴\n",
    "5. 학습된 모델에 test set을 넣어 예측시켜봄 \n",
    "---\n",
    "6. 잘 풀었나 채점해봄\n",
    "7. **모델 튜닝 Hypter parameter**"
   ]
  },
  {
   "cell_type": "markdown",
   "id": "06893d28-3b68-4600-beba-470ea77662a1",
   "metadata": {},
   "source": [
    "↓ trainig 한번 돌리는데도 엄청난 시간이 소요돼서 이 과정은 생략할 수 밖에 없었다... :("
   ]
  },
  {
   "cell_type": "code",
   "execution_count": null,
   "id": "963a1c80-ab56-4dd0-a83a-ea6bfaf575c0",
   "metadata": {},
   "outputs": [],
   "source": [
    "min_rmse = 1.0\n",
    "for est in [50,100,150,200,250,300]:      \n",
    "        for spl in [2,3,4]:\n",
    "            model = RandomForestRegressor(n_estimators = est ,min_samples_split = spl)\n",
    "            model.fit(X_train[:], y_train[:])       # 학습\n",
    "            y_pred = model.predict(X_test)    # 예측\n",
    "            rmse = sqrt(mean_squared_error(y_test, y_pred))   # RMSE                          \n",
    "            if rmse < min_rmse:          \n",
    "                min_rmse = rmse          #오차가 가장 작아지게 하는\n",
    "                n_estimators = est       # hyper parameter 찾기\n",
    "                min_samples_split = spl\n",
    "            \n",
    "        print(f\"n_estimators: {est}\\tmin_samples_split: {spl}\\trmse: {rmse}\")\n",
    "print(\"-----------------End of Calculation!-----------------\")\n",
    "print(f\"Optimal result! n_estimators: {n_estimators}\\tmin_samples_split: {min_samples_split}\\trmse: {min_rmse}\")"
   ]
  },
  {
   "cell_type": "markdown",
   "id": "67c566a0-7868-490c-8bd4-5acb91cd0b66",
   "metadata": {},
   "source": [
    "Machine Learning 끝!"
   ]
  },
  {
   "cell_type": "markdown",
   "id": "3a440148-ff3f-4606-8eee-f3aee37d2d43",
   "metadata": {},
   "source": [
    "### <span style=\"color:blue\">테스트용 SMILES 데이터로 HOMO-LUMO gap 값을 예측해보자!</span>   "
   ]
  },
  {
   "cell_type": "markdown",
   "id": "aaf38e8f-e4d4-4332-8352-9d63848d4027",
   "metadata": {},
   "source": [
    "↓ 주어진 테스트용 파일을 읽어서 mol type으로 바꾸고, 수소 붙이고, 3차원구조 생성하고"
   ]
  },
  {
   "cell_type": "code",
   "execution_count": 90,
   "id": "a92124c9-4e36-456a-9f4d-d3a121890ee1",
   "metadata": {},
   "outputs": [],
   "source": [
    "real_test = []\n",
    "for smi in open('SMILES_for_test.txt').readlines():   \n",
    "    m = Chem.MolFromSmiles(smi)\n",
    "    real_test.append(Chem.AddHs(m))"
   ]
  },
  {
   "cell_type": "code",
   "execution_count": 92,
   "id": "6068f7a6-a2c8-4283-bc3a-53ae7b3bc5ad",
   "metadata": {},
   "outputs": [],
   "source": [
    "for m in real_test:\n",
    "    AllChem.EmbedMolecule(m)"
   ]
  },
  {
   "cell_type": "markdown",
   "id": "dbce5432-c4fc-4ea5-98c1-d3cf8483ffcb",
   "metadata": {},
   "source": [
    "↓ Fingerprints를 BitVector로 얻고, 예측값 얻는다."
   ]
  },
  {
   "cell_type": "code",
   "execution_count": 96,
   "id": "c649a4c1-556d-4a4d-90fa-469417e3c17c",
   "metadata": {},
   "outputs": [],
   "source": [
    "real_test_bit=[]\n",
    "for m in real_test:\n",
    "    m_bit = GetMorganFingerprintAsBitVect(m,2,nBits=2048)\n",
    "    real_test_bit.append(m_bit)\n",
    "    \n",
    "real_pred = my_model.predict(real_test_bit)"
   ]
  },
  {
   "cell_type": "markdown",
   "id": "e32a08d2-5099-4a5e-b5f4-db70df82ad26",
   "metadata": {},
   "source": [
    "- 전체 예측값 dataframe"
   ]
  },
  {
   "cell_type": "code",
   "execution_count": 101,
   "id": "00a7b20b-9d2d-4cfe-a6c4-f12e27744de6",
   "metadata": {},
   "outputs": [
    {
     "data": {
      "text/html": [
       "<div>\n",
       "<style scoped>\n",
       "    .dataframe tbody tr th:only-of-type {\n",
       "        vertical-align: middle;\n",
       "    }\n",
       "\n",
       "    .dataframe tbody tr th {\n",
       "        vertical-align: top;\n",
       "    }\n",
       "\n",
       "    .dataframe thead th {\n",
       "        text-align: right;\n",
       "    }\n",
       "</style>\n",
       "<table border=\"1\" class=\"dataframe\">\n",
       "  <thead>\n",
       "    <tr style=\"text-align: right;\">\n",
       "      <th></th>\n",
       "      <th>SMILES</th>\n",
       "      <th>H_L gap 예측값(eV)</th>\n",
       "    </tr>\n",
       "  </thead>\n",
       "  <tbody>\n",
       "    <tr>\n",
       "      <th>0</th>\n",
       "      <td>[H]OC1(S(=O)(=O)O[H])C(=O)C([H])([H])C([H])([H...</td>\n",
       "      <td>4.13547</td>\n",
       "    </tr>\n",
       "    <tr>\n",
       "      <th>1</th>\n",
       "      <td>[H]C([H])([H])C(=O)C([H])([H])C([H])([H])C([H]...</td>\n",
       "      <td>4.76590</td>\n",
       "    </tr>\n",
       "    <tr>\n",
       "      <th>2</th>\n",
       "      <td>[H]OS(=O)N([H])C([H])([H])C([H])([H])C1([H])N(...</td>\n",
       "      <td>5.04144</td>\n",
       "    </tr>\n",
       "    <tr>\n",
       "      <th>3</th>\n",
       "      <td>[H]c1c([H])c([H])c(C([H])([H])C([H])([H])[H])c...</td>\n",
       "      <td>4.99609</td>\n",
       "    </tr>\n",
       "    <tr>\n",
       "      <th>4</th>\n",
       "      <td>[H]OC([H])([H])c1c(C2([H])C([H])([H])C2([H])[H...</td>\n",
       "      <td>5.41609</td>\n",
       "    </tr>\n",
       "    <tr>\n",
       "      <th>...</th>\n",
       "      <td>...</td>\n",
       "      <td>...</td>\n",
       "    </tr>\n",
       "    <tr>\n",
       "      <th>9995</th>\n",
       "      <td>[H]c1c([H])c([H])c2c(c1[H])C([H])([H])C1([H])N...</td>\n",
       "      <td>4.82532</td>\n",
       "    </tr>\n",
       "    <tr>\n",
       "      <th>9996</th>\n",
       "      <td>[H]N=c1c2c([H])c([H])c([H])c([H])c2nc([H])n1-c...</td>\n",
       "      <td>3.84534</td>\n",
       "    </tr>\n",
       "    <tr>\n",
       "      <th>9997</th>\n",
       "      <td>[H]c1nc(C(=O)OC(C([H])([H])[H])(C([H])([H])[H]...</td>\n",
       "      <td>4.21902</td>\n",
       "    </tr>\n",
       "    <tr>\n",
       "      <th>9998</th>\n",
       "      <td>[H]c1nc(N(C([H])([H])C([H])([H])C([H])([H])C([...</td>\n",
       "      <td>3.93678</td>\n",
       "    </tr>\n",
       "    <tr>\n",
       "      <th>9999</th>\n",
       "      <td>[H]C(=O)c1nn(-c2c([H])c([H])c([H])c([H])c2C([H...</td>\n",
       "      <td>3.97561</td>\n",
       "    </tr>\n",
       "  </tbody>\n",
       "</table>\n",
       "<p>10000 rows × 2 columns</p>\n",
       "</div>"
      ],
      "text/plain": [
       "                                                 SMILES  H_L gap 예측값(eV)\n",
       "0     [H]OC1(S(=O)(=O)O[H])C(=O)C([H])([H])C([H])([H...          4.13547\n",
       "1     [H]C([H])([H])C(=O)C([H])([H])C([H])([H])C([H]...          4.76590\n",
       "2     [H]OS(=O)N([H])C([H])([H])C([H])([H])C1([H])N(...          5.04144\n",
       "3     [H]c1c([H])c([H])c(C([H])([H])C([H])([H])[H])c...          4.99609\n",
       "4     [H]OC([H])([H])c1c(C2([H])C([H])([H])C2([H])[H...          5.41609\n",
       "...                                                 ...              ...\n",
       "9995  [H]c1c([H])c([H])c2c(c1[H])C([H])([H])C1([H])N...          4.82532\n",
       "9996  [H]N=c1c2c([H])c([H])c([H])c([H])c2nc([H])n1-c...          3.84534\n",
       "9997  [H]c1nc(C(=O)OC(C([H])([H])[H])(C([H])([H])[H]...          4.21902\n",
       "9998  [H]c1nc(N(C([H])([H])C([H])([H])C([H])([H])C([...          3.93678\n",
       "9999  [H]C(=O)c1nn(-c2c([H])c([H])c([H])c([H])c2C([H...          3.97561\n",
       "\n",
       "[10000 rows x 2 columns]"
      ]
     },
     "execution_count": 101,
     "metadata": {},
     "output_type": "execute_result"
    }
   ],
   "source": [
    "real_test_smi = []\n",
    "for i in real_test:\n",
    "    m = Chem.MolToSmiles(i)\n",
    "    real_test_smi.append(m)\n",
    "\n",
    "result = {\"SMILES\": real_test_smi ,\"H_L gap 예측값(eV)\": real_pred }\n",
    "dataframe = pd.DataFrame(result)\n",
    "dataframe"
   ]
  },
  {
   "cell_type": "markdown",
   "id": "f15a7b35-c95f-4646-b272-35a23f3f8cb5",
   "metadata": {},
   "source": [
    "- 예측값을 반환하는 함수 "
   ]
  },
  {
   "cell_type": "code",
   "execution_count": null,
   "id": "a2e3e389-da5e-407d-a507-dc1a512f59a6",
   "metadata": {},
   "outputs": [],
   "source": [
    "def convert():\n",
    "    user = input(\"몇 번째 분자의 HOMO-LUMO gap 예측값이 궁금한가요? :\")\n",
    "    x = int(user)\n",
    "    y= real_pred[x-1]\n",
    "    s= real_test_smi[x-1]\n",
    "\n",
    "    return print(f\"{x} 번째 분자의 HOMO-LUMO gap 예측값은? : {y}eV 입니다! :D \\n SMILES:{s}\")\n",
    "convert()"
   ]
  },
  {
   "cell_type": "markdown",
   "id": "3095f621-dbf6-4afc-b49f-12ccbef58c91",
   "metadata": {},
   "source": [
    "### <span style=\"color:blue\">이번엔 Oscillator strength 값을 예측해보자 !</span>"
   ]
  },
  {
   "cell_type": "code",
   "execution_count": 116,
   "id": "f471543b-3520-48b7-843a-78b13af870f1",
   "metadata": {},
   "outputs": [],
   "source": [
    "X2 = fp_bit\n",
    "y2 = os"
   ]
  },
  {
   "cell_type": "markdown",
   "id": "bbe588a2-7dca-4114-8477-d821c46f5b58",
   "metadata": {},
   "source": [
    " **여기서부터 파이썬이 멈춰버렸다..**  \n",
    "↓ 데이터셋 나누고, 빈 모델 생성하고, 학습, 예측 !"
   ]
  },
  {
   "cell_type": "code",
   "execution_count": null,
   "id": "cbca93d3-550a-424c-b3f3-acf2b52f4abe",
   "metadata": {},
   "outputs": [],
   "source": [
    "X2_train, X2_test, y2_train, y2_test = sklearn.model_selection.train_test_split(X2, y2, test_size=0.2, random_state=722)"
   ]
  },
  {
   "cell_type": "code",
   "execution_count": null,
   "id": "4f6cf06a-6901-4514-b9d1-1c4bb80fb8fe",
   "metadata": {},
   "outputs": [],
   "source": [
    "my_model2 = RandomForestRegressor()\n",
    "my_model2.fit(X2_train, y2_train)"
   ]
  },
  {
   "cell_type": "code",
   "execution_count": null,
   "id": "997f2a2e-e533-4bc0-852e-ac6018615951",
   "metadata": {},
   "outputs": [],
   "source": [
    "y2_pred = my_model2.predict(X2_test)"
   ]
  },
  {
   "cell_type": "markdown",
   "id": "634a33c3-355b-44cd-9621-73baee1c749d",
   "metadata": {},
   "source": [
    "↓ RMSE 값 구하기"
   ]
  },
  {
   "cell_type": "code",
   "execution_count": null,
   "id": "b4f73093-1c68-4943-bff2-d496c47406c0",
   "metadata": {},
   "outputs": [],
   "source": [
    "rmse2 = sqrt(mean_squared_error(y2_test, y2_pred))\n",
    "rmse2"
   ]
  },
  {
   "cell_type": "markdown",
   "id": "16f17a61-3d8d-43a1-a988-66a7eaf9fb44",
   "metadata": {},
   "source": [
    "↓ 그래프 그리기~"
   ]
  },
  {
   "cell_type": "code",
   "execution_count": null,
   "id": "0d172750-417a-4641-9eac-937bde36a06b",
   "metadata": {},
   "outputs": [],
   "source": [
    "plt.scatter(y2_test, y2_pred)\n",
    "plt.xlabel(\"Experimental Oscillator strength\")\n",
    "plt.ylabel(\"Predicted Oscillator strength\")\n",
    "plt.grid()\n",
    "plt.plot(range(0, 1), range(0, 1), \"r--\", label = \"y=x\")\n",
    "plt.legend()"
   ]
  },
  {
   "cell_type": "markdown",
   "id": "2c05825d-2fc0-4c78-8aba-52c851b886f4",
   "metadata": {},
   "source": [
    "↓ 주어진 테스트용 데이터('SMILES_for_test.txt)의 scillator strength 값을 예측시켰다."
   ]
  },
  {
   "cell_type": "code",
   "execution_count": null,
   "id": "9d154ba9-2ec2-4f96-ae1c-8e5c5573cea0",
   "metadata": {},
   "outputs": [],
   "source": [
    "real_pred2 = my_model2.predict(real_test)"
   ]
  },
  {
   "cell_type": "markdown",
   "id": "2f94f198-6437-47fb-8523-d0998ef4edb4",
   "metadata": {},
   "source": [
    "- 전체 예측값 dataframe"
   ]
  },
  {
   "cell_type": "code",
   "execution_count": null,
   "id": "75045888-a338-4b8d-a71b-f9193fe3e4c5",
   "metadata": {},
   "outputs": [],
   "source": [
    "result2 = {\"SMILES\": real_test_smi ,\"Oscillator strength 예측값\": real_pred2 }\n",
    "dataframe2 = pd.DataFrame(result)"
   ]
  },
  {
   "cell_type": "markdown",
   "id": "26ed8e67-9166-4fbd-9d58-27136fd0e750",
   "metadata": {},
   "source": [
    "- 예측값을 반환하는 함수"
   ]
  },
  {
   "cell_type": "code",
   "execution_count": null,
   "id": "fb86afe4-3ef6-4520-82cd-0a272e96d254",
   "metadata": {},
   "outputs": [],
   "source": [
    "def convert2():\n",
    "    user = input(\"몇 번째 분자의 Oscillator strength 예측값이 궁금한가요?:\")\n",
    "    x = int(user)\n",
    "    y= real_pred2[x-1]\n",
    "    s= real_test_smi[x-1]\n",
    "\n",
    "    return print(f\"{x} 번째 분자의 Oscillator strength 예측값은?: {y} 입니다 :D \\n SMILES:{s}\")\n",
    "convert2()"
   ]
  },
  {
   "cell_type": "markdown",
   "id": "c8599e3f-5566-41d4-b229-1c300672b61a",
   "metadata": {},
   "source": [
    "----- 끝 ----- 이 아니다!\n",
    "---"
   ]
  },
  {
   "cell_type": "markdown",
   "id": "2674531d-a1c9-4f58-a5e4-d491beeabadf",
   "metadata": {},
   "source": [
    "# <span style=\"color:blue\">SMILES 로부터 HOMO-LUMO gap 을 예측하는 모델 만들기 2 ~ **<< Descriptors >>**</span>"
   ]
  },
  {
   "cell_type": "markdown",
   "id": "8dbdca1e-7f5b-4e92-bb27-e727797ac842",
   "metadata": {},
   "source": [
    "## <span style=\"color:orange\">HOMO-LUMO gap을 예측하는데 고려해볼만한 요소들 → feature로 사용</span>\n",
    "<span style=\"color:blue\"><1></span> Oscillator strength  \n",
    "- 빛이 얼마나 흡수되는 지와 관련\n",
    "\n",
    "<span style=\"color:blue\"><2></span> Conjugation  \n",
    "- conjugated groups의 개수   \n",
    "    .rdchem **.GetNumConjGrps**((ResonanceMolSupplier)arg1) → int \n",
    "- Aromatic ring의 개수    \n",
    "    .rdMolDescriptors **.CalcNumAromaticRings**((Mol)mol) → int     \n",
    "\n",
    "<span style=\"color:blue\"><3></span> EDG와 EWG \n",
    "- functional gourps의 개수  \n",
    "    **identify_functional_groups**(mol) →  list   \n",
    "    <span style=\"color:pink\">(※refernce※ 링크 참조  -  분자의 functional group의 정보를 리스트로 반환하는 mehod.</span>   \n",
    "    <span style=\"color:pink\">따라서 리스트 요소 개수 = 작용기 개수)</span>   \n",
    "\n",
    "<span style=\"color:blue\"><4></span> Atom \n",
    "- Hetero atom의 개수  \n",
    "    .rdMolDescriptors **.CalcNumHeteroatoms**((Mol)mol) → int\n",
    "\n",
    "<span style=\"color:blue\"><5></span> Hardness/Softness   \n",
    "<span style=\"color:pink\">직접 계산하는 method 못찾음. mendeleev package에 hardness() 찾았지만 Atom에 한정.  \n",
    "    ↓ Hardness/Softness에 영향을 주는 요소들을 대신함.</span>  \n",
    "- 전기 음성도\n",
    "- 편극성  \n",
    "    .Descriptors **.MaxPartialCharge**(mol, force=False) → float  \n",
    "    .Descriptors **.MinPartialCharge**(mol, force=False) → float  \n",
    "- 산화수  \n",
    "- 크기 (volume, diameter, radius)   \n",
    "    .AllChem.**ComputeMolVolume**(mol) <span style=\"color:pink\">(얘는 이렇게 저렇게 해봐도 돌려도 오류뜸.. 뭘 잘못했는지 모르겠음.)</span>  \n",
    "\n",
    "※reference※\n",
    "- https://chemiolin.tistory.com/2\n",
    "- http://chemical-quantum-images.blogspot.com/2018/11/electron-donating-and-withdrawing-groups.html \n",
    "- https://github.com/rdkit/rdkit/tree/master/Contrib/IFG  \n",
    "- https://www.shodor.org/chemviz/ionization/students/hardness.html"
   ]
  },
  {
   "cell_type": "markdown",
   "id": "ba41c4cf-f806-47dd-a138-619ca17cb606",
   "metadata": {},
   "source": [
    "## +추가로 여러가지  \n",
    "**rd mol descriptors**  \n",
    "Molecular Weight → CalcExactMolWt(mol)\n",
    "rdkit.Chem.rdMolDescriptors.CalcNumLipinskiHBA((Mol)mol) → int   \n",
    "rdkit.Chem.rdMolDescriptors.CalcNumLipinskiHBD((Mol)mol) → int  \n",
    "rdkit.Chem.rdMolDescriptors.CalcNumRotatableBonds((Mol)mol) → int \n",
    "rdkit.Chem.rdMolDescriptors.CalcNumRings((Mol)mol) → int   \n",
    "rdkit.Chem.rdMolDescriptors.CalcNumHeterocycles((Mol)mol) → int    \n",
    "rdkit.Chem.rdMolDescriptors.CalcNumSaturatedRings((Mol)mol) → int   \n",
    "rdkit.Chem.rdMolDescriptors.CalcNumAliphaticRings((Mol)mol) → int   \n",
    "rdkit.Chem.rdMolDescriptors.CalcNumBridgeheadAtoms((Mol)mol) → int   \n",
    "\n",
    "**descriptors**  \n",
    "rdkit.Chem.Descriptors.NumValenceElectrons(mol)\n",
    "\n",
    "**fragments**  \n",
    "rdkit.Chem.Fragments.fr_C_O(mol) → int  \n",
    "rdkit.Chem.Fragments.fr_ArN(mol) → int\n",
    "rdkit.Chem.Fragments.fr_methoxy(mol) → int  \n",
    "\n",
    " +전체 descriptors 다 계산해보기  \n",
    "rdkit.ML.Descriptors.**MoleculeDescriptors** module  → 나중에 이런 모듈의 method를 for 문으로 돌려봐야겠음. \n",
    "https://www.rdkit.org/docs/source/rdkit.ML.Descriptors.MoleculeDescriptors.html "
   ]
  },
  {
   "cell_type": "markdown",
   "id": "fb2884b2-2709-4f14-98af-e7c2ae7e86b8",
   "metadata": {},
   "source": [
    "# <span style=\"color:blue\">Let's start ~ !</span>"
   ]
  },
  {
   "cell_type": "markdown",
   "id": "51fe8e5a-e2d4-499c-b307-ff479e9e44d4",
   "metadata": {},
   "source": [
    "### <span style=\"color:orange\">Maching Learning 기본 순서</span>\n",
    "1. **전체 dataset을 준비**\n",
    "2. X , y 분리\n",
    "3. traing set , test set 분리\n",
    "---\n",
    "3. 빈 모델을 만듦\n",
    "4. 빈 모델에 traing set을 넣어 모델을 학습시킴\n",
    "5. 학습된 모델에 test set을 넣어 예측시켜봄\n",
    "---\n",
    "6. 잘 풀었나 채점해봄 \n",
    "7. 모델 튜닝 Hypter parameter\n",
    "8. 어떤 feature가 중요했는지 확인 "
   ]
  },
  {
   "cell_type": "code",
   "execution_count": 2,
   "id": "27b8541d-8e2f-447a-a8fe-951d3dae6dbb",
   "metadata": {
    "tags": []
   },
   "outputs": [],
   "source": [
    "import rdkit  \n",
    "from rdkit import Chem  \n",
    "import pandas as pd\n",
    "import rdkit.Chem.rdMolDescriptors as rdMD\n",
    "from rdkit.Chem import AllChem\n",
    "import rdkit.Chem.Fragments as Fm\n",
    "from rdkit.Chem.Descriptors import MaxPartialCharge, MinPartialCharge, NumValenceElectrons"
   ]
  },
  {
   "cell_type": "code",
   "execution_count": 3,
   "id": "ea5861df-5618-44f9-80d7-feca98799ed0",
   "metadata": {},
   "outputs": [],
   "source": [
    "HO_LU=pd.read_csv('PubchemQC_Random_HOMO-LUMO_gap_and_OS.csv')"
   ]
  },
  {
   "cell_type": "code",
   "execution_count": 5,
   "id": "0bfb35c2-b205-4e5e-91f7-19fb2338245b",
   "metadata": {
    "tags": []
   },
   "outputs": [
    {
     "data": {
      "text/html": [
       "<div>\n",
       "<style scoped>\n",
       "    .dataframe tbody tr th:only-of-type {\n",
       "        vertical-align: middle;\n",
       "    }\n",
       "\n",
       "    .dataframe tbody tr th {\n",
       "        vertical-align: top;\n",
       "    }\n",
       "\n",
       "    .dataframe thead th {\n",
       "        text-align: right;\n",
       "    }\n",
       "</style>\n",
       "<table border=\"1\" class=\"dataframe\">\n",
       "  <thead>\n",
       "    <tr style=\"text-align: right;\">\n",
       "      <th></th>\n",
       "      <th>#HOMO-LUMO_gap(eV)</th>\n",
       "      <th>Oscillator_Strength</th>\n",
       "      <th>SMILES</th>\n",
       "    </tr>\n",
       "  </thead>\n",
       "  <tbody>\n",
       "    <tr>\n",
       "      <th>0</th>\n",
       "      <td>4.603</td>\n",
       "      <td>0.053</td>\n",
       "      <td>CC(C)(C1=CC(=C(C=C1)F)N2CCNCC2)O</td>\n",
       "    </tr>\n",
       "    <tr>\n",
       "      <th>1</th>\n",
       "      <td>3.980</td>\n",
       "      <td>0.002</td>\n",
       "      <td>CC1CC(C(=O)C(O1)C)(C)N</td>\n",
       "    </tr>\n",
       "    <tr>\n",
       "      <th>2</th>\n",
       "      <td>4.958</td>\n",
       "      <td>0.003</td>\n",
       "      <td>CC1(CC(CC(N1O)(C)C)[N+](C)(C)C)C</td>\n",
       "    </tr>\n",
       "    <tr>\n",
       "      <th>3</th>\n",
       "      <td>4.822</td>\n",
       "      <td>0.065</td>\n",
       "      <td>C1=CC(=C(C=C1CC(C(=O)O)N)O)O</td>\n",
       "    </tr>\n",
       "    <tr>\n",
       "      <th>4</th>\n",
       "      <td>4.104</td>\n",
       "      <td>0.110</td>\n",
       "      <td>CC(CNC1=NC=NC2=CC=CC=C21)C(=O)O</td>\n",
       "    </tr>\n",
       "    <tr>\n",
       "      <th>...</th>\n",
       "      <td>...</td>\n",
       "      <td>...</td>\n",
       "      <td>...</td>\n",
       "    </tr>\n",
       "    <tr>\n",
       "      <th>99995</th>\n",
       "      <td>5.333</td>\n",
       "      <td>0.003</td>\n",
       "      <td>CN1CCCC1C(=O)NCC2CCCO2</td>\n",
       "    </tr>\n",
       "    <tr>\n",
       "      <th>99996</th>\n",
       "      <td>4.448</td>\n",
       "      <td>0.002</td>\n",
       "      <td>C1COC(=N)N=C1</td>\n",
       "    </tr>\n",
       "    <tr>\n",
       "      <th>99997</th>\n",
       "      <td>3.606</td>\n",
       "      <td>0.000</td>\n",
       "      <td>CC12CCC(=O)C=C1CCC3C2CCC4(C3CCC4(C#C)O)C</td>\n",
       "    </tr>\n",
       "    <tr>\n",
       "      <th>99998</th>\n",
       "      <td>0.000</td>\n",
       "      <td>0.000</td>\n",
       "      <td>C(CO)NC[CH]O</td>\n",
       "    </tr>\n",
       "    <tr>\n",
       "      <th>99999</th>\n",
       "      <td>4.039</td>\n",
       "      <td>0.039</td>\n",
       "      <td>CN(CC1CCOC1)C2=CC=CC(=C2)C(=N)N</td>\n",
       "    </tr>\n",
       "  </tbody>\n",
       "</table>\n",
       "<p>100000 rows × 3 columns</p>\n",
       "</div>"
      ],
      "text/plain": [
       "       #HOMO-LUMO_gap(eV)  Oscillator_Strength  \\\n",
       "0                   4.603                0.053   \n",
       "1                   3.980                0.002   \n",
       "2                   4.958                0.003   \n",
       "3                   4.822                0.065   \n",
       "4                   4.104                0.110   \n",
       "...                   ...                  ...   \n",
       "99995               5.333                0.003   \n",
       "99996               4.448                0.002   \n",
       "99997               3.606                0.000   \n",
       "99998               0.000                0.000   \n",
       "99999               4.039                0.039   \n",
       "\n",
       "                                         SMILES  \n",
       "0              CC(C)(C1=CC(=C(C=C1)F)N2CCNCC2)O  \n",
       "1                        CC1CC(C(=O)C(O1)C)(C)N  \n",
       "2              CC1(CC(CC(N1O)(C)C)[N+](C)(C)C)C  \n",
       "3                  C1=CC(=C(C=C1CC(C(=O)O)N)O)O  \n",
       "4               CC(CNC1=NC=NC2=CC=CC=C21)C(=O)O  \n",
       "...                                         ...  \n",
       "99995                    CN1CCCC1C(=O)NCC2CCCO2  \n",
       "99996                             C1COC(=N)N=C1  \n",
       "99997  CC12CCC(=O)C=C1CCC3C2CCC4(C3CCC4(C#C)O)C  \n",
       "99998                              C(CO)NC[CH]O  \n",
       "99999           CN(CC1CCOC1)C2=CC=CC(=C2)C(=N)N  \n",
       "\n",
       "[100000 rows x 3 columns]"
      ]
     },
     "execution_count": 5,
     "metadata": {},
     "output_type": "execute_result"
    }
   ],
   "source": [
    "HO_LU"
   ]
  },
  {
   "cell_type": "markdown",
   "id": "afabc0c8-7c3c-4b57-8152-88dc3ec39c8e",
   "metadata": {},
   "source": [
    "### <span style=\"color:red\">**↓ Click 필수!**</span>"
   ]
  },
  {
   "cell_type": "code",
   "execution_count": 5,
   "id": "814a904a-757e-4621-9ac0-a3192bce24d2",
   "metadata": {
    "collapsed": true,
    "jupyter": {
     "outputs_hidden": true,
     "source_hidden": true
    },
    "tags": []
   },
   "outputs": [
    {
     "name": "stdout",
     "output_type": "stream",
     "text": [
      " 1: 4 fgs [IFG(atomIds=(2,), atoms='n', type='cnc'), IFG(atomIds=(4, 5, 6, 7), atoms='NS(=O)=O', type='cNS(c)(=O)=O'), IFG(atomIds=(12,), atoms='N', type='cN'), IFG(atomIds=(15,), atoms='n', type='cnc')]\n",
      " 2: 4 fgs [IFG(atomIds=(0, 1, 2), atoms='N=CN', type='cC(=N)N'), IFG(atomIds=(8, 7), atoms='C=C', type='cC=Cc'), IFG(atomIds=(15,), atoms='O', type='cO'), IFG(atomIds=(16, 17, 18), atoms='N=CN', type='cC(=N)N')]\n",
      " 3: 4 fgs [IFG(atomIds=(1, 2, 3), atoms='NC=O', type='cNC(C)=O'), IFG(atomIds=(5, 6), atoms='nn', type='cnnc'), IFG(atomIds=(8,), atoms='s', type='csc'), IFG(atomIds=(9, 10, 11, 12), atoms='NS(=O)=O', type='cS(N)(=O)=O')]\n",
      " 4: 3 fgs [IFG(atomIds=(0, 1, 2, 3), atoms='NS(=O)=O', type='cS(N)(=O)=O'), IFG(atomIds=(8, 9, 10, 11, 12, 13), atoms='NCNS(=O)=O', type='O=S1(=O)ccNCN1'), IFG(atomIds=(16,), atoms='Cl', type='cCl')]\n",
      " 5: 3 fgs [IFG(atomIds=(1, 2, 3), atoms='N=CN', type='cN=C(C)NC'), IFG(atomIds=(8,), atoms='Cl', type='cCl'), IFG(atomIds=(11, 12, 13), atoms='C=[N+][O-]', type='cC(c)=[N+](C)[O-]')]\n",
      " 6: 4 fgs [IFG(atomIds=(2, 3), atoms='no', type='cnoc'), IFG(atomIds=(8, 6, 7), atoms='NC=O', type='cC(=O)NC'), IFG(atomIds=(16, 17, 18, 10, 11), atoms='O=CNCS', type='O=C1CC2SCCN12'), IFG(atomIds=(19, 20, 21), atoms='O=CO', type='CC(=O)O')]\n",
      " 7: 4 fgs [IFG(atomIds=(0,), atoms='Cl', type='cCl'), IFG(atomIds=(8, 7), atoms='C=N', type='cC(c)=NC'), IFG(atomIds=(10, 11, 12), atoms='NC=O', type='cNC(C)=O'), IFG(atomIds=(19, 20, 21), atoms='O=[N+][O-]', type='c[N+](=O)[O-]')]\n",
      " 8: 6 fgs [IFG(atomIds=(1,), atoms='O', type='cOC'), IFG(atomIds=(8, 9, 7), atoms='NC=O', type='cC(=O)NC'), IFG(atomIds=(15,), atoms='N', type='CN(C)C'), IFG(atomIds=(17, 18), atoms='C=C', type='C=CC'), IFG(atomIds=(20,), atoms='O', type='cOC'), IFG(atomIds=(24, 25, 22, 23), atoms='NS(=O)=O', type='cS(N)(=O)=O')]\n",
      " 9: 4 fgs [IFG(atomIds=(5,), atoms='Cl', type='cCl'), IFG(atomIds=(7,), atoms='N', type='cNc'), IFG(atomIds=(16, 14, 15), atoms='O=CO', type='cC(=O)O'), IFG(atomIds=(18,), atoms='Cl', type='cCl')]\n",
      "10: 4 fgs [IFG(atomIds=(0,), atoms='Cl', type='cCl'), IFG(atomIds=(5,), atoms='O', type='cOc'), IFG(atomIds=(12, 13, 14), atoms='N=CN', type='cN=C(c)N(C)C'), IFG(atomIds=(17,), atoms='N', type='CNC')]\n",
      "11: 6 fgs [IFG(atomIds=(0,), atoms='F', type='CF'), IFG(atomIds=(2,), atoms='F', type='CF'), IFG(atomIds=(3,), atoms='F', type='CF'), IFG(atomIds=(5, 6, 7), atoms='NC=O', type='cN(C)C(C)=O'), IFG(atomIds=(9, 10), atoms='C=N', type='cC(c)=NC'), IFG(atomIds=(20,), atoms='Cl', type='cCl')]\n",
      "12: 7 fgs [IFG(atomIds=(0,), atoms='O', type='CO'), IFG(atomIds=(3,), atoms='O', type='COC'), IFG(atomIds=(7,), atoms='O', type='CO'), IFG(atomIds=(8,), atoms='n', type='cn(c)C'), IFG(atomIds=(10,), atoms='n', type='cnc'), IFG(atomIds=(13,), atoms='O', type='CO'), IFG(atomIds=(16, 17, 15), atoms='N=CN', type='cN=CNC')]\n",
      "13: 4 fgs [IFG(atomIds=(2,), atoms='N', type='CNC'), IFG(atomIds=(8, 9, 7), atoms='O=S=O', type='cS(C)(=O)=O'), IFG(atomIds=(11,), atoms='s', type='csc'), IFG(atomIds=(16, 17, 18, 15), atoms='NS(=O)=O', type='cS(N)(=O)=O')]\n",
      "14: 4 fgs [IFG(atomIds=(2,), atoms='O', type='CO'), IFG(atomIds=(7, 8, 9, 10, 11, 12, 13, 14, 15), atoms='O=CNC(=CS)C(=O)O', type='CSC1=C(C(=O)O)N2C(=O)CC2C1'), IFG(atomIds=(18,), atoms='N', type='CNC'), IFG(atomIds=(21, 22, 23), atoms='NC=O', type='CC(=O)N(C)C')]\n",
      "15: 8 fgs [IFG(atomIds=(3,), atoms='N', type='cN(C)C'), IFG(atomIds=(7,), atoms='N', type='CNC'), IFG(atomIds=(10,), atoms='F', type='cF'), IFG(atomIds=(12,), atoms='N', type='cN'), IFG(atomIds=(15,), atoms='O', type='c=O'), IFG(atomIds=(18,), atoms='n', type='cn(c)C'), IFG(atomIds=(24,), atoms='F', type='cF'), IFG(atomIds=(25, 26, 27), atoms='O=CO', type='cC(=O)O')]\n",
      "16: 2 fgs [IFG(atomIds=(1, 2), atoms='C=C', type='CC=C(C)C'), IFG(atomIds=(5, 6, 7, 8, 9, 10), atoms='O=CNNC=O', type='cN1C(=O)CC(=O)N1c')]\n",
      "17: 3 fgs [IFG(atomIds=(0,), atoms='Cl', type='cCl'), IFG(atomIds=(5, 6, 7, 8, 9, 11), atoms='N=C(N)NC=O', type='cN=C1NC(=O)CN1C'), IFG(atomIds=(15,), atoms='Cl', type='cCl')]\n",
      "18: 6 fgs [IFG(atomIds=(1, 2, 3), atoms='NC=O', type='CNC(C)=O'), IFG(atomIds=(8, 9, 6, 7), atoms='N=C(N)N', type='CNC(=N)N'), IFG(atomIds=(20, 21, 22, 10, 11, 12), atoms='C=C(O)C(=O)O', type='CC=C(OC)C(=O)O'), IFG(atomIds=(15,), atoms='O', type='CO'), IFG(atomIds=(17,), atoms='O', type='CO'), IFG(atomIds=(19,), atoms='O', type='CO')]\n",
      "19: 8 fgs [IFG(atomIds=(2,), atoms='O', type='CO'), IFG(atomIds=(4,), atoms='O', type='CO'), IFG(atomIds=(7,), atoms='N', type='cNC'), IFG(atomIds=(9,), atoms='n', type='cnc'), IFG(atomIds=(11,), atoms='N', type='cN'), IFG(atomIds=(12,), atoms='n', type='cnc'), IFG(atomIds=(14,), atoms='O', type='cO'), IFG(atomIds=(16,), atoms='N', type='cNC')]\n",
      "20: 7 fgs [IFG(atomIds=(0,), atoms='N', type='CN'), IFG(atomIds=(6,), atoms='N', type='cN(C)C'), IFG(atomIds=(10,), atoms='Cl', type='cCl'), IFG(atomIds=(14,), atoms='O', type='c=O'), IFG(atomIds=(17,), atoms='n', type='cn(c)C'), IFG(atomIds=(23,), atoms='Cl', type='cCl'), IFG(atomIds=(24, 25, 26), atoms='O=CO', type='cC(=O)O')]\n"
     ]
    }
   ],
   "source": [
    "# 이것은 identify_functional_groups() method를 사용하기 위해 실행시켜야 한다. 누군가가 짜놓은 코드. (※reference 참조※)\n",
    "from rdkit import Chem\n",
    "from collections import namedtuple\n",
    "\n",
    "def merge(mol, marked, aset):\n",
    "    bset = set()\n",
    "    for idx in aset:\n",
    "        atom = mol.GetAtomWithIdx(idx)\n",
    "        for nbr in atom.GetNeighbors():\n",
    "            jdx = nbr.GetIdx()\n",
    "            if jdx in marked:\n",
    "                marked.remove(jdx)\n",
    "                bset.add(jdx)\n",
    "    if not bset:\n",
    "        return\n",
    "    merge(mol, marked, bset)\n",
    "    aset.update(bset)\n",
    "\n",
    "# atoms connected by non-aromatic double or triple bond to any heteroatom\n",
    "# c=O should not match (see fig1, box 15).  I think using A instead of * should sort that out?\n",
    "PATT_DOUBLE_TRIPLE = Chem.MolFromSmarts('A=,#[!#6]')\n",
    "# atoms in non aromatic carbon-carbon double or triple bonds\n",
    "PATT_CC_DOUBLE_TRIPLE = Chem.MolFromSmarts('C=,#C')\n",
    "# acetal carbons, i.e. sp3 carbons connected to tow or more oxygens, nitrogens or sulfurs; these O, N or S atoms must have only single bonds\n",
    "PATT_ACETAL = Chem.MolFromSmarts('[CX4](-[O,N,S])-[O,N,S]')\n",
    "# all atoms in oxirane, aziridine and thiirane rings\n",
    "PATT_OXIRANE_ETC = Chem.MolFromSmarts('[O,N,S]1CC1')\n",
    "\n",
    "PATT_TUPLE = (PATT_DOUBLE_TRIPLE, PATT_CC_DOUBLE_TRIPLE, PATT_ACETAL, PATT_OXIRANE_ETC)\n",
    "\n",
    "def identify_functional_groups(mol):\n",
    "    marked = set()\n",
    "#mark all heteroatoms in a molecule, including halogens\n",
    "    for atom in mol.GetAtoms():\n",
    "        if atom.GetAtomicNum() not in (6,1): # would we ever have hydrogen?\n",
    "            marked.add(atom.GetIdx())\n",
    "\n",
    "#mark the four specific types of carbon atom\n",
    "    for patt in PATT_TUPLE:\n",
    "        for path in mol.GetSubstructMatches(patt):\n",
    "            for atomindex in path:\n",
    "                marked.add(atomindex)\n",
    "\n",
    "#merge all connected marked atoms to a single FG\n",
    "    groups = []\n",
    "    while marked:\n",
    "        grp = set([marked.pop()])\n",
    "        merge(mol, marked, grp)\n",
    "        groups.append(grp)\n",
    "\n",
    "#extract also connected unmarked carbon atoms\n",
    "    ifg = namedtuple('IFG', ['atomIds', 'atoms', 'type'])\n",
    "    ifgs = []\n",
    "    for g in groups:\n",
    "        uca = set()\n",
    "        for atomidx in g:\n",
    "            for n in mol.GetAtomWithIdx(atomidx).GetNeighbors():\n",
    "                if n.GetAtomicNum() == 6:\n",
    "                    uca.add(n.GetIdx())\n",
    "        ifgs.append(ifg(atomIds=tuple(list(g)), atoms=Chem.MolFragmentToSmiles(mol, g, canonical=True), type=Chem.MolFragmentToSmiles(mol, g.union(uca),canonical=True)))\n",
    "    return ifgs\n",
    "\n",
    "def main():\n",
    "    for ix, smiles in enumerate([\n",
    "        'Cc1nc(NS(=O)(=O)c2ccc(N)cc2)nc(C)c1', # fig1, 1\n",
    "        'NC(=N)c1ccc(C=Cc2ccc(cc2O)C(=N)N)cc1', # 2\n",
    "        'CC(=O)Nc1nnc(s1)S(=O)(=O)N', # 3\n",
    "        'NS(=O)(=O)c1cc2c(NCNS2(=O)=O)cc1Cl', # 4\n",
    "        'CNC1=Nc2ccc(Cl)cc2C(=N(=O)C1)c3ccccc3', # 5\n",
    "        'Cc1onc(c1C(=O)NC2C3SC(C)(C)C(N3C2=O)C(=O)O)c4ccccc4', # 6\n",
    "        'Clc1ccccc1C2=NCC(=O)Nc3ccc(cc23)N(=O)=O', # 7\n",
    "        'COc1cc(cc(C(=O)NCC2CCCN2CC=C)c1OC)S(=O)(=O)N', # 8\n",
    "        'Cc1ccc(Cl)c(Nc2ccccc2C(=O)O)c1Cl', # 9\n",
    "        'Clc1ccc2Oc3ccccc3N=C(N4CCNCC4)c2c1', # 10 - there is a discrepancy with the paper here!  I wonder if Peter has the ring as aromatic?\n",
    "        'FC(F)(F)CN1C(=O)CN=C(c2ccccc2)c3cc(Cl)ccc13', # 11\n",
    "        'OCC1OC(CC1O)n2cnc3C(O)CNC=Nc32', # 12\n",
    "        'CCNC1CC(C)S(=O)(=O)c2sc(cc12)S(=O)(=O)N', # 13\n",
    "        'CC(O)C1C2C(C)C(=C(N2C1=O)C(=O)O)SC3CNC(C3)C(=O)N(C)C', # 14\n",
    "        'CC1CN(CC(C)N1)c2c(F)c(N)c3c(=O)c(cn(C4CC4)c3c2F)C(=O)O', # 15\n",
    "        'CC(=CCC1C(=O)N(N(C1=O)c2ccccc2)c3ccccc3)C', # 16\n",
    "        'Clc1ccc2N=C3NC(=O)CN3Cc2c1Cl', # 17\n",
    "        'CC(=O)NC1C(NC(=N)N)C=C(OC1C(O)C(O)CO)C(=O)O', # 18\n",
    "        'CC(O)C(O)C1CNc2nc(N)nc(O)c2N1', # 19\n",
    "        'NC1CCCCN(C1)c2c(Cl)cc3c(=O)c(cn(C4CC4)c3c2Cl)C(=O)O', # 20\n",
    "    ]):\n",
    "        m = Chem.MolFromSmiles(smiles)\n",
    "        fgs = identify_functional_groups(m)\n",
    "        print('%2d: %d fgs'%(ix+1, len(fgs)), fgs)\n",
    "\n",
    "\n",
    "if __name__ == \"__main__\":\n",
    "    main()"
   ]
  },
  {
   "cell_type": "code",
   "execution_count": 8,
   "id": "60c0faee-7ad6-4bae-977f-b331ce87b20b",
   "metadata": {
    "tags": []
   },
   "outputs": [],
   "source": [
    "# 계산해 볼 값 \n",
    "cj = []   # conjugated \n",
    "arr = []  # aromatic\n",
    "fg = []  # functional\n",
    "ha = [] # hetero  \n",
    "max_pc = [] # max partial charge\n",
    "min_pc =[]  # min partial charge\n",
    "#mv = [] #molecuole\n",
    "\n",
    "# +추가적으로 계산해 볼  값들\n",
    "mw = []\n",
    "hba = []\n",
    "hbd = []\n",
    "rb = []\n",
    "r = []\n",
    "hc = []\n",
    "sr = []\n",
    "alr = []\n",
    "ba = []\n",
    "\n",
    "ve = []\n",
    "\n",
    "co = []\n",
    "arn = []\n",
    "mth = []\n",
    "\n",
    "\n",
    "# 분자를 차례로 반복하면서 특징 값을 계산. \n",
    "for smi in HO_LU['SMILES']:\n",
    "    m = Chem.MolFromSmiles(smi)\n",
    "    m2 = Chem.ResonanceMolSupplier(m)\n",
    "    cj.append(m2.GetNumConjGrps())   \n",
    "    arr.append(rdMD.CalcNumAromaticRings(m))\n",
    "    fg.append(len(identify_functional_groups(m))) # 작용기 개수를 원하므로 len()에 넣어주기!\n",
    "    ha.append(rdMD.CalcNumHeteroatoms(m))\n",
    "    max_pc.append(MaxPartialCharge(m))\n",
    "    min_pc.append(MinPartialCharge(m))\n",
    "    #mv.append(AllChem.ComputeMolVolume(m))   # 계속 오류 떠서 실행하지 않음\n",
    "   \n",
    "    mw.append(rdMD.CalcExactMolWt(m))\n",
    "    hba.append(rdMD.CalcNumLipinskiHBA(m))\n",
    "    hbd.append(rdMD.CalcNumLipinskiHBD(m))\n",
    "    rb.append(rdMD.CalcNumRotatableBonds(m))\n",
    "    r.append(rdMD.CalcNumRings(m))\n",
    "    hc.append(rdMD.CalcNumHeterocycles(m))\n",
    "    sr.append(rdMD.CalcNumSaturatedRings(m))\n",
    "    alr.append(rdMD.CalcNumAliphaticRings(m))\n",
    "    ba.append(rdMD.CalcNumBridgeheadAtoms(m))\n",
    "    \n",
    "    ve.append(NumValenceElectrons(m))\n",
    "    \n",
    "    co.append(Fm.fr_C_O(m))\n",
    "    arn.append(Fm.fr_ArN(m))\n",
    "    mth.append(Fm.fr_methoxy(m))"
   ]
  },
  {
   "cell_type": "code",
   "execution_count": 9,
   "id": "3d42ca47-1760-415e-bf55-df46b7115696",
   "metadata": {},
   "outputs": [],
   "source": [
    "HO_LU['cj'] = cj\n",
    "HO_LU['arr'] = arr\n",
    "HO_LU['fg'] = fg\n",
    "HO_LU['ha'] = ha\n",
    "HO_LU['max_pc'] = max_pc\n",
    "HO_LU['min_pc'] = min_pc\n",
    "#HO_LU['mv'] = mv\n",
    "\n",
    "HO_LU['mw'] = mw\n",
    "HO_LU['hba'] = hba\n",
    "HO_LU['hbd'] = hbd\n",
    "HO_LU['rb'] = rb\n",
    "HO_LU['r'] = r\n",
    "HO_LU['hc'] = hc\n",
    "HO_LU['sr'] = sr\n",
    "HO_LU['alr'] = alr\n",
    "HO_LU['ba'] = ba\n",
    "\n",
    "HO_LU['ve'] = ve\n",
    "\n",
    "HO_LU['co'] = co\n",
    "HO_LU['arn'] = arn\n",
    "HO_LU['mth'] = mth"
   ]
  },
  {
   "cell_type": "code",
   "execution_count": 10,
   "id": "73ac46a0-9ae4-480d-b0aa-58b4cfa4dc54",
   "metadata": {},
   "outputs": [],
   "source": [
    "pd.set_option('display.max_columns',None)  #전체 열 다 보기."
   ]
  },
  {
   "cell_type": "code",
   "execution_count": 11,
   "id": "11b8ff57-1158-45f5-9494-11ab0b8402da",
   "metadata": {},
   "outputs": [
    {
     "data": {
      "text/html": [
       "<div>\n",
       "<style scoped>\n",
       "    .dataframe tbody tr th:only-of-type {\n",
       "        vertical-align: middle;\n",
       "    }\n",
       "\n",
       "    .dataframe tbody tr th {\n",
       "        vertical-align: top;\n",
       "    }\n",
       "\n",
       "    .dataframe thead th {\n",
       "        text-align: right;\n",
       "    }\n",
       "</style>\n",
       "<table border=\"1\" class=\"dataframe\">\n",
       "  <thead>\n",
       "    <tr style=\"text-align: right;\">\n",
       "      <th></th>\n",
       "      <th>SMILES</th>\n",
       "      <th>#HOMO-LUMO_gap(eV)</th>\n",
       "      <th>Oscillator_Strength</th>\n",
       "      <th>cj</th>\n",
       "      <th>arr</th>\n",
       "      <th>fg</th>\n",
       "      <th>ha</th>\n",
       "      <th>max_pc</th>\n",
       "      <th>min_pc</th>\n",
       "      <th>mw</th>\n",
       "      <th>hba</th>\n",
       "      <th>hbd</th>\n",
       "      <th>rb</th>\n",
       "      <th>r</th>\n",
       "      <th>hc</th>\n",
       "      <th>sr</th>\n",
       "      <th>alr</th>\n",
       "      <th>ba</th>\n",
       "      <th>ve</th>\n",
       "      <th>co</th>\n",
       "      <th>arn</th>\n",
       "      <th>mth</th>\n",
       "    </tr>\n",
       "  </thead>\n",
       "  <tbody>\n",
       "    <tr>\n",
       "      <th>0</th>\n",
       "      <td>CC(C)(C1=CC(=C(C=C1)F)N2CCNCC2)O</td>\n",
       "      <td>4.603</td>\n",
       "      <td>0.053</td>\n",
       "      <td>1</td>\n",
       "      <td>1</td>\n",
       "      <td>4</td>\n",
       "      <td>4</td>\n",
       "      <td>0.146012</td>\n",
       "      <td>-0.385753</td>\n",
       "      <td>238.148141</td>\n",
       "      <td>3</td>\n",
       "      <td>2</td>\n",
       "      <td>2</td>\n",
       "      <td>2</td>\n",
       "      <td>1</td>\n",
       "      <td>1</td>\n",
       "      <td>1</td>\n",
       "      <td>0</td>\n",
       "      <td>94</td>\n",
       "      <td>0</td>\n",
       "      <td>0</td>\n",
       "      <td>0</td>\n",
       "    </tr>\n",
       "    <tr>\n",
       "      <th>1</th>\n",
       "      <td>CC1CC(C(=O)C(O1)C)(C)N</td>\n",
       "      <td>3.980</td>\n",
       "      <td>0.002</td>\n",
       "      <td>0</td>\n",
       "      <td>0</td>\n",
       "      <td>3</td>\n",
       "      <td>3</td>\n",
       "      <td>0.180288</td>\n",
       "      <td>-0.367630</td>\n",
       "      <td>157.110279</td>\n",
       "      <td>3</td>\n",
       "      <td>2</td>\n",
       "      <td>0</td>\n",
       "      <td>1</td>\n",
       "      <td>1</td>\n",
       "      <td>1</td>\n",
       "      <td>1</td>\n",
       "      <td>0</td>\n",
       "      <td>64</td>\n",
       "      <td>1</td>\n",
       "      <td>0</td>\n",
       "      <td>0</td>\n",
       "    </tr>\n",
       "    <tr>\n",
       "      <th>2</th>\n",
       "      <td>CC1(CC(CC(N1O)(C)C)[N+](C)(C)C)C</td>\n",
       "      <td>4.958</td>\n",
       "      <td>0.003</td>\n",
       "      <td>0</td>\n",
       "      <td>0</td>\n",
       "      <td>2</td>\n",
       "      <td>3</td>\n",
       "      <td>0.092082</td>\n",
       "      <td>-0.328366</td>\n",
       "      <td>215.211790</td>\n",
       "      <td>3</td>\n",
       "      <td>1</td>\n",
       "      <td>1</td>\n",
       "      <td>1</td>\n",
       "      <td>1</td>\n",
       "      <td>1</td>\n",
       "      <td>1</td>\n",
       "      <td>0</td>\n",
       "      <td>90</td>\n",
       "      <td>0</td>\n",
       "      <td>0</td>\n",
       "      <td>0</td>\n",
       "    </tr>\n",
       "    <tr>\n",
       "      <th>3</th>\n",
       "      <td>C1=CC(=C(C=C1CC(C(=O)O)N)O)O</td>\n",
       "      <td>4.822</td>\n",
       "      <td>0.065</td>\n",
       "      <td>2</td>\n",
       "      <td>1</td>\n",
       "      <td>4</td>\n",
       "      <td>5</td>\n",
       "      <td>0.320316</td>\n",
       "      <td>-0.504260</td>\n",
       "      <td>197.068808</td>\n",
       "      <td>5</td>\n",
       "      <td>5</td>\n",
       "      <td>3</td>\n",
       "      <td>1</td>\n",
       "      <td>0</td>\n",
       "      <td>0</td>\n",
       "      <td>0</td>\n",
       "      <td>0</td>\n",
       "      <td>76</td>\n",
       "      <td>1</td>\n",
       "      <td>0</td>\n",
       "      <td>0</td>\n",
       "    </tr>\n",
       "    <tr>\n",
       "      <th>4</th>\n",
       "      <td>CC(CNC1=NC=NC2=CC=CC=C21)C(=O)O</td>\n",
       "      <td>4.104</td>\n",
       "      <td>0.110</td>\n",
       "      <td>2</td>\n",
       "      <td>2</td>\n",
       "      <td>4</td>\n",
       "      <td>5</td>\n",
       "      <td>0.307501</td>\n",
       "      <td>-0.480985</td>\n",
       "      <td>231.100777</td>\n",
       "      <td>5</td>\n",
       "      <td>2</td>\n",
       "      <td>4</td>\n",
       "      <td>2</td>\n",
       "      <td>1</td>\n",
       "      <td>0</td>\n",
       "      <td>0</td>\n",
       "      <td>0</td>\n",
       "      <td>88</td>\n",
       "      <td>1</td>\n",
       "      <td>0</td>\n",
       "      <td>0</td>\n",
       "    </tr>\n",
       "    <tr>\n",
       "      <th>...</th>\n",
       "      <td>...</td>\n",
       "      <td>...</td>\n",
       "      <td>...</td>\n",
       "      <td>...</td>\n",
       "      <td>...</td>\n",
       "      <td>...</td>\n",
       "      <td>...</td>\n",
       "      <td>...</td>\n",
       "      <td>...</td>\n",
       "      <td>...</td>\n",
       "      <td>...</td>\n",
       "      <td>...</td>\n",
       "      <td>...</td>\n",
       "      <td>...</td>\n",
       "      <td>...</td>\n",
       "      <td>...</td>\n",
       "      <td>...</td>\n",
       "      <td>...</td>\n",
       "      <td>...</td>\n",
       "      <td>...</td>\n",
       "      <td>...</td>\n",
       "      <td>...</td>\n",
       "    </tr>\n",
       "    <tr>\n",
       "      <th>99995</th>\n",
       "      <td>CN1CCCC1C(=O)NCC2CCCO2</td>\n",
       "      <td>5.333</td>\n",
       "      <td>0.003</td>\n",
       "      <td>1</td>\n",
       "      <td>0</td>\n",
       "      <td>3</td>\n",
       "      <td>4</td>\n",
       "      <td>0.236940</td>\n",
       "      <td>-0.376386</td>\n",
       "      <td>212.152478</td>\n",
       "      <td>4</td>\n",
       "      <td>1</td>\n",
       "      <td>3</td>\n",
       "      <td>2</td>\n",
       "      <td>2</td>\n",
       "      <td>2</td>\n",
       "      <td>2</td>\n",
       "      <td>0</td>\n",
       "      <td>86</td>\n",
       "      <td>1</td>\n",
       "      <td>0</td>\n",
       "      <td>0</td>\n",
       "    </tr>\n",
       "    <tr>\n",
       "      <th>99996</th>\n",
       "      <td>C1COC(=N)N=C1</td>\n",
       "      <td>4.448</td>\n",
       "      <td>0.002</td>\n",
       "      <td>1</td>\n",
       "      <td>0</td>\n",
       "      <td>1</td>\n",
       "      <td>3</td>\n",
       "      <td>0.307877</td>\n",
       "      <td>-0.463489</td>\n",
       "      <td>98.048013</td>\n",
       "      <td>3</td>\n",
       "      <td>1</td>\n",
       "      <td>0</td>\n",
       "      <td>1</td>\n",
       "      <td>1</td>\n",
       "      <td>0</td>\n",
       "      <td>1</td>\n",
       "      <td>0</td>\n",
       "      <td>38</td>\n",
       "      <td>0</td>\n",
       "      <td>0</td>\n",
       "      <td>0</td>\n",
       "    </tr>\n",
       "    <tr>\n",
       "      <th>99997</th>\n",
       "      <td>CC12CCC(=O)C=C1CCC3C2CCC4(C3CCC4(C#C)O)C</td>\n",
       "      <td>3.606</td>\n",
       "      <td>0.000</td>\n",
       "      <td>1</td>\n",
       "      <td>0</td>\n",
       "      <td>3</td>\n",
       "      <td>2</td>\n",
       "      <td>0.155197</td>\n",
       "      <td>-0.377034</td>\n",
       "      <td>312.208930</td>\n",
       "      <td>2</td>\n",
       "      <td>1</td>\n",
       "      <td>0</td>\n",
       "      <td>4</td>\n",
       "      <td>0</td>\n",
       "      <td>3</td>\n",
       "      <td>4</td>\n",
       "      <td>0</td>\n",
       "      <td>124</td>\n",
       "      <td>1</td>\n",
       "      <td>0</td>\n",
       "      <td>0</td>\n",
       "    </tr>\n",
       "    <tr>\n",
       "      <th>99998</th>\n",
       "      <td>C(CO)NC[CH]O</td>\n",
       "      <td>0.000</td>\n",
       "      <td>0.000</td>\n",
       "      <td>0</td>\n",
       "      <td>0</td>\n",
       "      <td>3</td>\n",
       "      <td>3</td>\n",
       "      <td>0.093513</td>\n",
       "      <td>-0.395054</td>\n",
       "      <td>104.071154</td>\n",
       "      <td>3</td>\n",
       "      <td>3</td>\n",
       "      <td>4</td>\n",
       "      <td>0</td>\n",
       "      <td>0</td>\n",
       "      <td>0</td>\n",
       "      <td>0</td>\n",
       "      <td>0</td>\n",
       "      <td>43</td>\n",
       "      <td>0</td>\n",
       "      <td>0</td>\n",
       "      <td>0</td>\n",
       "    </tr>\n",
       "    <tr>\n",
       "      <th>99999</th>\n",
       "      <td>CN(CC1CCOC1)C2=CC=CC(=C2)C(=N)N</td>\n",
       "      <td>4.039</td>\n",
       "      <td>0.039</td>\n",
       "      <td>1</td>\n",
       "      <td>1</td>\n",
       "      <td>3</td>\n",
       "      <td>4</td>\n",
       "      <td>0.122351</td>\n",
       "      <td>-0.383681</td>\n",
       "      <td>233.152812</td>\n",
       "      <td>4</td>\n",
       "      <td>3</td>\n",
       "      <td>4</td>\n",
       "      <td>2</td>\n",
       "      <td>1</td>\n",
       "      <td>1</td>\n",
       "      <td>1</td>\n",
       "      <td>0</td>\n",
       "      <td>92</td>\n",
       "      <td>0</td>\n",
       "      <td>1</td>\n",
       "      <td>0</td>\n",
       "    </tr>\n",
       "  </tbody>\n",
       "</table>\n",
       "<p>100000 rows × 22 columns</p>\n",
       "</div>"
      ],
      "text/plain": [
       "                                         SMILES  #HOMO-LUMO_gap(eV)  \\\n",
       "0              CC(C)(C1=CC(=C(C=C1)F)N2CCNCC2)O               4.603   \n",
       "1                        CC1CC(C(=O)C(O1)C)(C)N               3.980   \n",
       "2              CC1(CC(CC(N1O)(C)C)[N+](C)(C)C)C               4.958   \n",
       "3                  C1=CC(=C(C=C1CC(C(=O)O)N)O)O               4.822   \n",
       "4               CC(CNC1=NC=NC2=CC=CC=C21)C(=O)O               4.104   \n",
       "...                                         ...                 ...   \n",
       "99995                    CN1CCCC1C(=O)NCC2CCCO2               5.333   \n",
       "99996                             C1COC(=N)N=C1               4.448   \n",
       "99997  CC12CCC(=O)C=C1CCC3C2CCC4(C3CCC4(C#C)O)C               3.606   \n",
       "99998                              C(CO)NC[CH]O               0.000   \n",
       "99999           CN(CC1CCOC1)C2=CC=CC(=C2)C(=N)N               4.039   \n",
       "\n",
       "       Oscillator_Strength  cj  arr  fg  ha    max_pc    min_pc          mw  \\\n",
       "0                    0.053   1    1   4   4  0.146012 -0.385753  238.148141   \n",
       "1                    0.002   0    0   3   3  0.180288 -0.367630  157.110279   \n",
       "2                    0.003   0    0   2   3  0.092082 -0.328366  215.211790   \n",
       "3                    0.065   2    1   4   5  0.320316 -0.504260  197.068808   \n",
       "4                    0.110   2    2   4   5  0.307501 -0.480985  231.100777   \n",
       "...                    ...  ..  ...  ..  ..       ...       ...         ...   \n",
       "99995                0.003   1    0   3   4  0.236940 -0.376386  212.152478   \n",
       "99996                0.002   1    0   1   3  0.307877 -0.463489   98.048013   \n",
       "99997                0.000   1    0   3   2  0.155197 -0.377034  312.208930   \n",
       "99998                0.000   0    0   3   3  0.093513 -0.395054  104.071154   \n",
       "99999                0.039   1    1   3   4  0.122351 -0.383681  233.152812   \n",
       "\n",
       "       hba  hbd  rb  r  hc  sr  alr  ba   ve  co  arn  mth  \n",
       "0        3    2   2  2   1   1    1   0   94   0    0    0  \n",
       "1        3    2   0  1   1   1    1   0   64   1    0    0  \n",
       "2        3    1   1  1   1   1    1   0   90   0    0    0  \n",
       "3        5    5   3  1   0   0    0   0   76   1    0    0  \n",
       "4        5    2   4  2   1   0    0   0   88   1    0    0  \n",
       "...    ...  ...  .. ..  ..  ..  ...  ..  ...  ..  ...  ...  \n",
       "99995    4    1   3  2   2   2    2   0   86   1    0    0  \n",
       "99996    3    1   0  1   1   0    1   0   38   0    0    0  \n",
       "99997    2    1   0  4   0   3    4   0  124   1    0    0  \n",
       "99998    3    3   4  0   0   0    0   0   43   0    0    0  \n",
       "99999    4    3   4  2   1   1    1   0   92   0    1    0  \n",
       "\n",
       "[100000 rows x 22 columns]"
      ]
     },
     "execution_count": 11,
     "metadata": {},
     "output_type": "execute_result"
    }
   ],
   "source": [
    "smiles = HO_LU['SMILES']        # feature들을 오른쪽에 모아주기 위해 SMILES를 잠시 빼두고\n",
    "HO_LU.drop('SMILES', axis=1, inplace=True)      # dataframe에서 SMILES 열을 지우고\n",
    "HO_LU.insert(0,'SMILES',smiles)            # 왼쪽에 다시 삽입했다.\n",
    "HO_LU    # SMILES 가 첫번쨰 열에 온 것을 확인!"
   ]
  },
  {
   "cell_type": "markdown",
   "id": "bdd14790-193a-4ea2-92b4-343c4a0fbe0c",
   "metadata": {},
   "source": [
    "###  <span style=\"color:orange\">Maching Learning 기본 순서 </span>\n",
    "1. 전체 dataset을 준비\n",
    "2. **X , y 분리**\n",
    "3. **traing set , test set 분리**<span style=\"color:orange\"> →  X_train, X_test, y_train, y_test</span>\n",
    "---\n",
    "3. 빈 모델을 만듦\n",
    "4. 빈 모델에 traing set을 넣어 모델을 학습시킴\n",
    "5. 학습된 모델에 test set을 넣어 예측시켜봄\n",
    "---\n",
    "6. 잘 풀었나 채점해봄 \n",
    "7. 모델 튜닝 Hypter parameter\n",
    "8. 어떤 feature가 중요했는지 확인 "
   ]
  },
  {
   "cell_type": "code",
   "execution_count": 12,
   "id": "afbeb87b-7e13-4780-85de-ea495fa9375a",
   "metadata": {},
   "outputs": [],
   "source": [
    "X = HO_LU.iloc[:,2:]      #feature는 3열부터 왼쪽 끝까지의 열이다.\n",
    "y = HO_LU.iloc[:,1]       #target(output)은 2열이다."
   ]
  },
  {
   "cell_type": "code",
   "execution_count": 13,
   "id": "75d6ae51-066c-4453-b405-dc38294fcf6c",
   "metadata": {},
   "outputs": [
    {
     "data": {
      "text/html": [
       "<div>\n",
       "<style scoped>\n",
       "    .dataframe tbody tr th:only-of-type {\n",
       "        vertical-align: middle;\n",
       "    }\n",
       "\n",
       "    .dataframe tbody tr th {\n",
       "        vertical-align: top;\n",
       "    }\n",
       "\n",
       "    .dataframe thead th {\n",
       "        text-align: right;\n",
       "    }\n",
       "</style>\n",
       "<table border=\"1\" class=\"dataframe\">\n",
       "  <thead>\n",
       "    <tr style=\"text-align: right;\">\n",
       "      <th></th>\n",
       "      <th>Oscillator_Strength</th>\n",
       "      <th>cj</th>\n",
       "      <th>arr</th>\n",
       "      <th>fg</th>\n",
       "      <th>ha</th>\n",
       "      <th>max_pc</th>\n",
       "      <th>min_pc</th>\n",
       "      <th>mw</th>\n",
       "      <th>hba</th>\n",
       "      <th>hbd</th>\n",
       "      <th>rb</th>\n",
       "      <th>r</th>\n",
       "      <th>hc</th>\n",
       "      <th>sr</th>\n",
       "      <th>alr</th>\n",
       "      <th>ba</th>\n",
       "      <th>ve</th>\n",
       "      <th>co</th>\n",
       "      <th>arn</th>\n",
       "      <th>mth</th>\n",
       "    </tr>\n",
       "  </thead>\n",
       "  <tbody>\n",
       "    <tr>\n",
       "      <th>0</th>\n",
       "      <td>0.053</td>\n",
       "      <td>1</td>\n",
       "      <td>1</td>\n",
       "      <td>4</td>\n",
       "      <td>4</td>\n",
       "      <td>0.146012</td>\n",
       "      <td>-0.385753</td>\n",
       "      <td>238.148141</td>\n",
       "      <td>3</td>\n",
       "      <td>2</td>\n",
       "      <td>2</td>\n",
       "      <td>2</td>\n",
       "      <td>1</td>\n",
       "      <td>1</td>\n",
       "      <td>1</td>\n",
       "      <td>0</td>\n",
       "      <td>94</td>\n",
       "      <td>0</td>\n",
       "      <td>0</td>\n",
       "      <td>0</td>\n",
       "    </tr>\n",
       "    <tr>\n",
       "      <th>1</th>\n",
       "      <td>0.002</td>\n",
       "      <td>0</td>\n",
       "      <td>0</td>\n",
       "      <td>3</td>\n",
       "      <td>3</td>\n",
       "      <td>0.180288</td>\n",
       "      <td>-0.367630</td>\n",
       "      <td>157.110279</td>\n",
       "      <td>3</td>\n",
       "      <td>2</td>\n",
       "      <td>0</td>\n",
       "      <td>1</td>\n",
       "      <td>1</td>\n",
       "      <td>1</td>\n",
       "      <td>1</td>\n",
       "      <td>0</td>\n",
       "      <td>64</td>\n",
       "      <td>1</td>\n",
       "      <td>0</td>\n",
       "      <td>0</td>\n",
       "    </tr>\n",
       "    <tr>\n",
       "      <th>2</th>\n",
       "      <td>0.003</td>\n",
       "      <td>0</td>\n",
       "      <td>0</td>\n",
       "      <td>2</td>\n",
       "      <td>3</td>\n",
       "      <td>0.092082</td>\n",
       "      <td>-0.328366</td>\n",
       "      <td>215.211790</td>\n",
       "      <td>3</td>\n",
       "      <td>1</td>\n",
       "      <td>1</td>\n",
       "      <td>1</td>\n",
       "      <td>1</td>\n",
       "      <td>1</td>\n",
       "      <td>1</td>\n",
       "      <td>0</td>\n",
       "      <td>90</td>\n",
       "      <td>0</td>\n",
       "      <td>0</td>\n",
       "      <td>0</td>\n",
       "    </tr>\n",
       "    <tr>\n",
       "      <th>3</th>\n",
       "      <td>0.065</td>\n",
       "      <td>2</td>\n",
       "      <td>1</td>\n",
       "      <td>4</td>\n",
       "      <td>5</td>\n",
       "      <td>0.320316</td>\n",
       "      <td>-0.504260</td>\n",
       "      <td>197.068808</td>\n",
       "      <td>5</td>\n",
       "      <td>5</td>\n",
       "      <td>3</td>\n",
       "      <td>1</td>\n",
       "      <td>0</td>\n",
       "      <td>0</td>\n",
       "      <td>0</td>\n",
       "      <td>0</td>\n",
       "      <td>76</td>\n",
       "      <td>1</td>\n",
       "      <td>0</td>\n",
       "      <td>0</td>\n",
       "    </tr>\n",
       "    <tr>\n",
       "      <th>4</th>\n",
       "      <td>0.110</td>\n",
       "      <td>2</td>\n",
       "      <td>2</td>\n",
       "      <td>4</td>\n",
       "      <td>5</td>\n",
       "      <td>0.307501</td>\n",
       "      <td>-0.480985</td>\n",
       "      <td>231.100777</td>\n",
       "      <td>5</td>\n",
       "      <td>2</td>\n",
       "      <td>4</td>\n",
       "      <td>2</td>\n",
       "      <td>1</td>\n",
       "      <td>0</td>\n",
       "      <td>0</td>\n",
       "      <td>0</td>\n",
       "      <td>88</td>\n",
       "      <td>1</td>\n",
       "      <td>0</td>\n",
       "      <td>0</td>\n",
       "    </tr>\n",
       "    <tr>\n",
       "      <th>...</th>\n",
       "      <td>...</td>\n",
       "      <td>...</td>\n",
       "      <td>...</td>\n",
       "      <td>...</td>\n",
       "      <td>...</td>\n",
       "      <td>...</td>\n",
       "      <td>...</td>\n",
       "      <td>...</td>\n",
       "      <td>...</td>\n",
       "      <td>...</td>\n",
       "      <td>...</td>\n",
       "      <td>...</td>\n",
       "      <td>...</td>\n",
       "      <td>...</td>\n",
       "      <td>...</td>\n",
       "      <td>...</td>\n",
       "      <td>...</td>\n",
       "      <td>...</td>\n",
       "      <td>...</td>\n",
       "      <td>...</td>\n",
       "    </tr>\n",
       "    <tr>\n",
       "      <th>99995</th>\n",
       "      <td>0.003</td>\n",
       "      <td>1</td>\n",
       "      <td>0</td>\n",
       "      <td>3</td>\n",
       "      <td>4</td>\n",
       "      <td>0.236940</td>\n",
       "      <td>-0.376386</td>\n",
       "      <td>212.152478</td>\n",
       "      <td>4</td>\n",
       "      <td>1</td>\n",
       "      <td>3</td>\n",
       "      <td>2</td>\n",
       "      <td>2</td>\n",
       "      <td>2</td>\n",
       "      <td>2</td>\n",
       "      <td>0</td>\n",
       "      <td>86</td>\n",
       "      <td>1</td>\n",
       "      <td>0</td>\n",
       "      <td>0</td>\n",
       "    </tr>\n",
       "    <tr>\n",
       "      <th>99996</th>\n",
       "      <td>0.002</td>\n",
       "      <td>1</td>\n",
       "      <td>0</td>\n",
       "      <td>1</td>\n",
       "      <td>3</td>\n",
       "      <td>0.307877</td>\n",
       "      <td>-0.463489</td>\n",
       "      <td>98.048013</td>\n",
       "      <td>3</td>\n",
       "      <td>1</td>\n",
       "      <td>0</td>\n",
       "      <td>1</td>\n",
       "      <td>1</td>\n",
       "      <td>0</td>\n",
       "      <td>1</td>\n",
       "      <td>0</td>\n",
       "      <td>38</td>\n",
       "      <td>0</td>\n",
       "      <td>0</td>\n",
       "      <td>0</td>\n",
       "    </tr>\n",
       "    <tr>\n",
       "      <th>99997</th>\n",
       "      <td>0.000</td>\n",
       "      <td>1</td>\n",
       "      <td>0</td>\n",
       "      <td>3</td>\n",
       "      <td>2</td>\n",
       "      <td>0.155197</td>\n",
       "      <td>-0.377034</td>\n",
       "      <td>312.208930</td>\n",
       "      <td>2</td>\n",
       "      <td>1</td>\n",
       "      <td>0</td>\n",
       "      <td>4</td>\n",
       "      <td>0</td>\n",
       "      <td>3</td>\n",
       "      <td>4</td>\n",
       "      <td>0</td>\n",
       "      <td>124</td>\n",
       "      <td>1</td>\n",
       "      <td>0</td>\n",
       "      <td>0</td>\n",
       "    </tr>\n",
       "    <tr>\n",
       "      <th>99998</th>\n",
       "      <td>0.000</td>\n",
       "      <td>0</td>\n",
       "      <td>0</td>\n",
       "      <td>3</td>\n",
       "      <td>3</td>\n",
       "      <td>0.093513</td>\n",
       "      <td>-0.395054</td>\n",
       "      <td>104.071154</td>\n",
       "      <td>3</td>\n",
       "      <td>3</td>\n",
       "      <td>4</td>\n",
       "      <td>0</td>\n",
       "      <td>0</td>\n",
       "      <td>0</td>\n",
       "      <td>0</td>\n",
       "      <td>0</td>\n",
       "      <td>43</td>\n",
       "      <td>0</td>\n",
       "      <td>0</td>\n",
       "      <td>0</td>\n",
       "    </tr>\n",
       "    <tr>\n",
       "      <th>99999</th>\n",
       "      <td>0.039</td>\n",
       "      <td>1</td>\n",
       "      <td>1</td>\n",
       "      <td>3</td>\n",
       "      <td>4</td>\n",
       "      <td>0.122351</td>\n",
       "      <td>-0.383681</td>\n",
       "      <td>233.152812</td>\n",
       "      <td>4</td>\n",
       "      <td>3</td>\n",
       "      <td>4</td>\n",
       "      <td>2</td>\n",
       "      <td>1</td>\n",
       "      <td>1</td>\n",
       "      <td>1</td>\n",
       "      <td>0</td>\n",
       "      <td>92</td>\n",
       "      <td>0</td>\n",
       "      <td>1</td>\n",
       "      <td>0</td>\n",
       "    </tr>\n",
       "  </tbody>\n",
       "</table>\n",
       "<p>100000 rows × 20 columns</p>\n",
       "</div>"
      ],
      "text/plain": [
       "       Oscillator_Strength  cj  arr  fg  ha    max_pc    min_pc          mw  \\\n",
       "0                    0.053   1    1   4   4  0.146012 -0.385753  238.148141   \n",
       "1                    0.002   0    0   3   3  0.180288 -0.367630  157.110279   \n",
       "2                    0.003   0    0   2   3  0.092082 -0.328366  215.211790   \n",
       "3                    0.065   2    1   4   5  0.320316 -0.504260  197.068808   \n",
       "4                    0.110   2    2   4   5  0.307501 -0.480985  231.100777   \n",
       "...                    ...  ..  ...  ..  ..       ...       ...         ...   \n",
       "99995                0.003   1    0   3   4  0.236940 -0.376386  212.152478   \n",
       "99996                0.002   1    0   1   3  0.307877 -0.463489   98.048013   \n",
       "99997                0.000   1    0   3   2  0.155197 -0.377034  312.208930   \n",
       "99998                0.000   0    0   3   3  0.093513 -0.395054  104.071154   \n",
       "99999                0.039   1    1   3   4  0.122351 -0.383681  233.152812   \n",
       "\n",
       "       hba  hbd  rb  r  hc  sr  alr  ba   ve  co  arn  mth  \n",
       "0        3    2   2  2   1   1    1   0   94   0    0    0  \n",
       "1        3    2   0  1   1   1    1   0   64   1    0    0  \n",
       "2        3    1   1  1   1   1    1   0   90   0    0    0  \n",
       "3        5    5   3  1   0   0    0   0   76   1    0    0  \n",
       "4        5    2   4  2   1   0    0   0   88   1    0    0  \n",
       "...    ...  ...  .. ..  ..  ..  ...  ..  ...  ..  ...  ...  \n",
       "99995    4    1   3  2   2   2    2   0   86   1    0    0  \n",
       "99996    3    1   0  1   1   0    1   0   38   0    0    0  \n",
       "99997    2    1   0  4   0   3    4   0  124   1    0    0  \n",
       "99998    3    3   4  0   0   0    0   0   43   0    0    0  \n",
       "99999    4    3   4  2   1   1    1   0   92   0    1    0  \n",
       "\n",
       "[100000 rows x 20 columns]"
      ]
     },
     "execution_count": 13,
     "metadata": {},
     "output_type": "execute_result"
    }
   ],
   "source": [
    "X  "
   ]
  },
  {
   "cell_type": "code",
   "execution_count": 14,
   "id": "bdc94858-08c2-4c73-962c-7334706c5ce7",
   "metadata": {},
   "outputs": [],
   "source": [
    "from sklearn.model_selection import train_test_split"
   ]
  },
  {
   "cell_type": "code",
   "execution_count": 15,
   "id": "dca18725-04ad-4c27-833d-8aeac346c8f9",
   "metadata": {},
   "outputs": [],
   "source": [
    "X_train, X_test, y_train, y_test = train_test_split(X,y,test_size=0.2,random_state=722)"
   ]
  },
  {
   "cell_type": "code",
   "execution_count": 16,
   "id": "f8dc8b48-3874-494c-9c1c-5de6171830fd",
   "metadata": {},
   "outputs": [],
   "source": [
    "import sklearn.ensemble\n",
    "from sklearn.ensemble import RandomForestRegressor"
   ]
  },
  {
   "cell_type": "code",
   "execution_count": 17,
   "id": "d801c169-32c4-49af-bce8-edf9fe6b56b2",
   "metadata": {},
   "outputs": [],
   "source": [
    "ys_model = RandomForestRegressor()    #빈 회귀 모델을 만들었다."
   ]
  },
  {
   "cell_type": "code",
   "execution_count": 19,
   "id": "04b44f5f-7b01-445a-b468-8909fb8507ae",
   "metadata": {
    "collapsed": true,
    "jupyter": {
     "outputs_hidden": true
    },
    "tags": []
   },
   "outputs": [
    {
     "ename": "ValueError",
     "evalue": "Input contains NaN, infinity or a value too large for dtype('float32').",
     "output_type": "error",
     "traceback": [
      "\u001b[1;31m---------------------------------------------------------------------------\u001b[0m",
      "\u001b[1;31mValueError\u001b[0m                                Traceback (most recent call last)",
      "\u001b[1;32m<ipython-input-19-6b35bf45c0d2>\u001b[0m in \u001b[0;36m<module>\u001b[1;34m\u001b[0m\n\u001b[1;32m----> 1\u001b[1;33m \u001b[0mys_model\u001b[0m\u001b[1;33m.\u001b[0m\u001b[0mfit\u001b[0m\u001b[1;33m(\u001b[0m\u001b[0mX_train\u001b[0m\u001b[1;33m,\u001b[0m \u001b[0my_train\u001b[0m\u001b[1;33m)\u001b[0m       \u001b[1;31m#연습문제와 답을 넣어 학습시킨다.\u001b[0m\u001b[1;33m\u001b[0m\u001b[1;33m\u001b[0m\u001b[0m\n\u001b[0m",
      "\u001b[1;32m~\\anaconda3\\lib\\site-packages\\sklearn\\ensemble\\_forest.py\u001b[0m in \u001b[0;36mfit\u001b[1;34m(self, X, y, sample_weight)\u001b[0m\n\u001b[0;32m    302\u001b[0m                 \u001b[1;34m\"sparse multilabel-indicator for y is not supported.\"\u001b[0m\u001b[1;33m\u001b[0m\u001b[1;33m\u001b[0m\u001b[0m\n\u001b[0;32m    303\u001b[0m             )\n\u001b[1;32m--> 304\u001b[1;33m         X, y = self._validate_data(X, y, multi_output=True,\n\u001b[0m\u001b[0;32m    305\u001b[0m                                    accept_sparse=\"csc\", dtype=DTYPE)\n\u001b[0;32m    306\u001b[0m         \u001b[1;32mif\u001b[0m \u001b[0msample_weight\u001b[0m \u001b[1;32mis\u001b[0m \u001b[1;32mnot\u001b[0m \u001b[1;32mNone\u001b[0m\u001b[1;33m:\u001b[0m\u001b[1;33m\u001b[0m\u001b[1;33m\u001b[0m\u001b[0m\n",
      "\u001b[1;32m~\\anaconda3\\lib\\site-packages\\sklearn\\base.py\u001b[0m in \u001b[0;36m_validate_data\u001b[1;34m(self, X, y, reset, validate_separately, **check_params)\u001b[0m\n\u001b[0;32m    431\u001b[0m                 \u001b[0my\u001b[0m \u001b[1;33m=\u001b[0m \u001b[0mcheck_array\u001b[0m\u001b[1;33m(\u001b[0m\u001b[0my\u001b[0m\u001b[1;33m,\u001b[0m \u001b[1;33m**\u001b[0m\u001b[0mcheck_y_params\u001b[0m\u001b[1;33m)\u001b[0m\u001b[1;33m\u001b[0m\u001b[1;33m\u001b[0m\u001b[0m\n\u001b[0;32m    432\u001b[0m             \u001b[1;32melse\u001b[0m\u001b[1;33m:\u001b[0m\u001b[1;33m\u001b[0m\u001b[1;33m\u001b[0m\u001b[0m\n\u001b[1;32m--> 433\u001b[1;33m                 \u001b[0mX\u001b[0m\u001b[1;33m,\u001b[0m \u001b[0my\u001b[0m \u001b[1;33m=\u001b[0m \u001b[0mcheck_X_y\u001b[0m\u001b[1;33m(\u001b[0m\u001b[0mX\u001b[0m\u001b[1;33m,\u001b[0m \u001b[0my\u001b[0m\u001b[1;33m,\u001b[0m \u001b[1;33m**\u001b[0m\u001b[0mcheck_params\u001b[0m\u001b[1;33m)\u001b[0m\u001b[1;33m\u001b[0m\u001b[1;33m\u001b[0m\u001b[0m\n\u001b[0m\u001b[0;32m    434\u001b[0m             \u001b[0mout\u001b[0m \u001b[1;33m=\u001b[0m \u001b[0mX\u001b[0m\u001b[1;33m,\u001b[0m \u001b[0my\u001b[0m\u001b[1;33m\u001b[0m\u001b[1;33m\u001b[0m\u001b[0m\n\u001b[0;32m    435\u001b[0m \u001b[1;33m\u001b[0m\u001b[0m\n",
      "\u001b[1;32m~\\anaconda3\\lib\\site-packages\\sklearn\\utils\\validation.py\u001b[0m in \u001b[0;36minner_f\u001b[1;34m(*args, **kwargs)\u001b[0m\n\u001b[0;32m     61\u001b[0m             \u001b[0mextra_args\u001b[0m \u001b[1;33m=\u001b[0m \u001b[0mlen\u001b[0m\u001b[1;33m(\u001b[0m\u001b[0margs\u001b[0m\u001b[1;33m)\u001b[0m \u001b[1;33m-\u001b[0m \u001b[0mlen\u001b[0m\u001b[1;33m(\u001b[0m\u001b[0mall_args\u001b[0m\u001b[1;33m)\u001b[0m\u001b[1;33m\u001b[0m\u001b[1;33m\u001b[0m\u001b[0m\n\u001b[0;32m     62\u001b[0m             \u001b[1;32mif\u001b[0m \u001b[0mextra_args\u001b[0m \u001b[1;33m<=\u001b[0m \u001b[1;36m0\u001b[0m\u001b[1;33m:\u001b[0m\u001b[1;33m\u001b[0m\u001b[1;33m\u001b[0m\u001b[0m\n\u001b[1;32m---> 63\u001b[1;33m                 \u001b[1;32mreturn\u001b[0m \u001b[0mf\u001b[0m\u001b[1;33m(\u001b[0m\u001b[1;33m*\u001b[0m\u001b[0margs\u001b[0m\u001b[1;33m,\u001b[0m \u001b[1;33m**\u001b[0m\u001b[0mkwargs\u001b[0m\u001b[1;33m)\u001b[0m\u001b[1;33m\u001b[0m\u001b[1;33m\u001b[0m\u001b[0m\n\u001b[0m\u001b[0;32m     64\u001b[0m \u001b[1;33m\u001b[0m\u001b[0m\n\u001b[0;32m     65\u001b[0m             \u001b[1;31m# extra_args > 0\u001b[0m\u001b[1;33m\u001b[0m\u001b[1;33m\u001b[0m\u001b[1;33m\u001b[0m\u001b[0m\n",
      "\u001b[1;32m~\\anaconda3\\lib\\site-packages\\sklearn\\utils\\validation.py\u001b[0m in \u001b[0;36mcheck_X_y\u001b[1;34m(X, y, accept_sparse, accept_large_sparse, dtype, order, copy, force_all_finite, ensure_2d, allow_nd, multi_output, ensure_min_samples, ensure_min_features, y_numeric, estimator)\u001b[0m\n\u001b[0;32m    812\u001b[0m         \u001b[1;32mraise\u001b[0m \u001b[0mValueError\u001b[0m\u001b[1;33m(\u001b[0m\u001b[1;34m\"y cannot be None\"\u001b[0m\u001b[1;33m)\u001b[0m\u001b[1;33m\u001b[0m\u001b[1;33m\u001b[0m\u001b[0m\n\u001b[0;32m    813\u001b[0m \u001b[1;33m\u001b[0m\u001b[0m\n\u001b[1;32m--> 814\u001b[1;33m     X = check_array(X, accept_sparse=accept_sparse,\n\u001b[0m\u001b[0;32m    815\u001b[0m                     \u001b[0maccept_large_sparse\u001b[0m\u001b[1;33m=\u001b[0m\u001b[0maccept_large_sparse\u001b[0m\u001b[1;33m,\u001b[0m\u001b[1;33m\u001b[0m\u001b[1;33m\u001b[0m\u001b[0m\n\u001b[0;32m    816\u001b[0m                     \u001b[0mdtype\u001b[0m\u001b[1;33m=\u001b[0m\u001b[0mdtype\u001b[0m\u001b[1;33m,\u001b[0m \u001b[0morder\u001b[0m\u001b[1;33m=\u001b[0m\u001b[0morder\u001b[0m\u001b[1;33m,\u001b[0m \u001b[0mcopy\u001b[0m\u001b[1;33m=\u001b[0m\u001b[0mcopy\u001b[0m\u001b[1;33m,\u001b[0m\u001b[1;33m\u001b[0m\u001b[1;33m\u001b[0m\u001b[0m\n",
      "\u001b[1;32m~\\anaconda3\\lib\\site-packages\\sklearn\\utils\\validation.py\u001b[0m in \u001b[0;36minner_f\u001b[1;34m(*args, **kwargs)\u001b[0m\n\u001b[0;32m     61\u001b[0m             \u001b[0mextra_args\u001b[0m \u001b[1;33m=\u001b[0m \u001b[0mlen\u001b[0m\u001b[1;33m(\u001b[0m\u001b[0margs\u001b[0m\u001b[1;33m)\u001b[0m \u001b[1;33m-\u001b[0m \u001b[0mlen\u001b[0m\u001b[1;33m(\u001b[0m\u001b[0mall_args\u001b[0m\u001b[1;33m)\u001b[0m\u001b[1;33m\u001b[0m\u001b[1;33m\u001b[0m\u001b[0m\n\u001b[0;32m     62\u001b[0m             \u001b[1;32mif\u001b[0m \u001b[0mextra_args\u001b[0m \u001b[1;33m<=\u001b[0m \u001b[1;36m0\u001b[0m\u001b[1;33m:\u001b[0m\u001b[1;33m\u001b[0m\u001b[1;33m\u001b[0m\u001b[0m\n\u001b[1;32m---> 63\u001b[1;33m                 \u001b[1;32mreturn\u001b[0m \u001b[0mf\u001b[0m\u001b[1;33m(\u001b[0m\u001b[1;33m*\u001b[0m\u001b[0margs\u001b[0m\u001b[1;33m,\u001b[0m \u001b[1;33m**\u001b[0m\u001b[0mkwargs\u001b[0m\u001b[1;33m)\u001b[0m\u001b[1;33m\u001b[0m\u001b[1;33m\u001b[0m\u001b[0m\n\u001b[0m\u001b[0;32m     64\u001b[0m \u001b[1;33m\u001b[0m\u001b[0m\n\u001b[0;32m     65\u001b[0m             \u001b[1;31m# extra_args > 0\u001b[0m\u001b[1;33m\u001b[0m\u001b[1;33m\u001b[0m\u001b[1;33m\u001b[0m\u001b[0m\n",
      "\u001b[1;32m~\\anaconda3\\lib\\site-packages\\sklearn\\utils\\validation.py\u001b[0m in \u001b[0;36mcheck_array\u001b[1;34m(array, accept_sparse, accept_large_sparse, dtype, order, copy, force_all_finite, ensure_2d, allow_nd, ensure_min_samples, ensure_min_features, estimator)\u001b[0m\n\u001b[0;32m    661\u001b[0m \u001b[1;33m\u001b[0m\u001b[0m\n\u001b[0;32m    662\u001b[0m         \u001b[1;32mif\u001b[0m \u001b[0mforce_all_finite\u001b[0m\u001b[1;33m:\u001b[0m\u001b[1;33m\u001b[0m\u001b[1;33m\u001b[0m\u001b[0m\n\u001b[1;32m--> 663\u001b[1;33m             _assert_all_finite(array,\n\u001b[0m\u001b[0;32m    664\u001b[0m                                allow_nan=force_all_finite == 'allow-nan')\n\u001b[0;32m    665\u001b[0m \u001b[1;33m\u001b[0m\u001b[0m\n",
      "\u001b[1;32m~\\anaconda3\\lib\\site-packages\\sklearn\\utils\\validation.py\u001b[0m in \u001b[0;36m_assert_all_finite\u001b[1;34m(X, allow_nan, msg_dtype)\u001b[0m\n\u001b[0;32m    101\u001b[0m                 not allow_nan and not np.isfinite(X).all()):\n\u001b[0;32m    102\u001b[0m             \u001b[0mtype_err\u001b[0m \u001b[1;33m=\u001b[0m \u001b[1;34m'infinity'\u001b[0m \u001b[1;32mif\u001b[0m \u001b[0mallow_nan\u001b[0m \u001b[1;32melse\u001b[0m \u001b[1;34m'NaN, infinity'\u001b[0m\u001b[1;33m\u001b[0m\u001b[1;33m\u001b[0m\u001b[0m\n\u001b[1;32m--> 103\u001b[1;33m             raise ValueError(\n\u001b[0m\u001b[0;32m    104\u001b[0m                     \u001b[0mmsg_err\u001b[0m\u001b[1;33m.\u001b[0m\u001b[0mformat\u001b[0m\u001b[1;33m\u001b[0m\u001b[1;33m\u001b[0m\u001b[0m\n\u001b[0;32m    105\u001b[0m                     (type_err,\n",
      "\u001b[1;31mValueError\u001b[0m: Input contains NaN, infinity or a value too large for dtype('float32')."
     ]
    }
   ],
   "source": [
    "ys_model.fit(X_train, y_train)       #연습문제와 답을 넣어 학습시킨다. "
   ]
  },
  {
   "cell_type": "markdown",
   "id": "be7c9075-2497-469e-9d53-6515b0d1cd7f",
   "metadata": {},
   "source": [
    "↑ 데이터 사이즈가 커서 실행이 안된다. (오류: NaN문제가 아님을 dropna() method로 확인했다. 아무래도 큰 데이터가 문제인것 같다.)"
   ]
  },
  {
   "cell_type": "markdown",
   "id": "3966bfe3-be4c-40f7-a585-b73793518d56",
   "metadata": {},
   "source": [
    "↓ Oscillator strength feature와 19개의 나머지 feature중 4개를 골라서 오차를 가장 낮추는 feature조합이 무엇인지 반환하도록 해보았다. (Combination: 19C4)"
   ]
  },
  {
   "cell_type": "code",
   "execution_count": 26,
   "id": "af04692f-2334-4de8-98a0-592369017234",
   "metadata": {
    "collapsed": true,
    "jupyter": {
     "outputs_hidden": true
    },
    "tags": []
   },
   "outputs": [
    {
     "name": "stdout",
     "output_type": "stream",
     "text": [
      "0.8251315968514696\n",
      "0.796699367552995\n"
     ]
    },
    {
     "ename": "ValueError",
     "evalue": "Input contains NaN, infinity or a value too large for dtype('float32').",
     "output_type": "error",
     "traceback": [
      "\u001b[1;31m---------------------------------------------------------------------------\u001b[0m",
      "\u001b[1;31mValueError\u001b[0m                                Traceback (most recent call last)",
      "\u001b[1;32m<ipython-input-26-a9127740e233>\u001b[0m in \u001b[0;36m<module>\u001b[1;34m\u001b[0m\n\u001b[0;32m      9\u001b[0m     \u001b[0mX_train\u001b[0m\u001b[1;33m,\u001b[0m \u001b[0mX_test\u001b[0m\u001b[1;33m,\u001b[0m \u001b[0my_train\u001b[0m\u001b[1;33m,\u001b[0m \u001b[0my_test\u001b[0m \u001b[1;33m=\u001b[0m \u001b[0mtrain_test_split\u001b[0m\u001b[1;33m(\u001b[0m\u001b[0mX\u001b[0m\u001b[1;33m,\u001b[0m\u001b[0my\u001b[0m\u001b[1;33m,\u001b[0m\u001b[0mtest_size\u001b[0m\u001b[1;33m=\u001b[0m\u001b[1;36m0.2\u001b[0m\u001b[1;33m,\u001b[0m\u001b[0mrandom_state\u001b[0m\u001b[1;33m=\u001b[0m\u001b[1;36m722\u001b[0m\u001b[1;33m)\u001b[0m\u001b[1;33m\u001b[0m\u001b[1;33m\u001b[0m\u001b[0m\n\u001b[0;32m     10\u001b[0m     \u001b[0mys_model\u001b[0m \u001b[1;33m=\u001b[0m \u001b[0mRandomForestRegressor\u001b[0m\u001b[1;33m(\u001b[0m\u001b[1;33m)\u001b[0m\u001b[1;33m\u001b[0m\u001b[1;33m\u001b[0m\u001b[0m\n\u001b[1;32m---> 11\u001b[1;33m     \u001b[0mys_model\u001b[0m\u001b[1;33m.\u001b[0m\u001b[0mfit\u001b[0m\u001b[1;33m(\u001b[0m\u001b[0mX_train\u001b[0m\u001b[1;33m,\u001b[0m \u001b[0my_train\u001b[0m\u001b[1;33m)\u001b[0m\u001b[1;33m\u001b[0m\u001b[1;33m\u001b[0m\u001b[0m\n\u001b[0m\u001b[0;32m     12\u001b[0m     \u001b[0my_pred\u001b[0m \u001b[1;33m=\u001b[0m \u001b[0mys_model\u001b[0m\u001b[1;33m.\u001b[0m\u001b[0mpredict\u001b[0m\u001b[1;33m(\u001b[0m\u001b[0mX_test\u001b[0m\u001b[1;33m)\u001b[0m\u001b[1;33m\u001b[0m\u001b[1;33m\u001b[0m\u001b[0m\n\u001b[0;32m     13\u001b[0m     \u001b[0mr_mse\u001b[0m \u001b[1;33m=\u001b[0m \u001b[0msqrt\u001b[0m\u001b[1;33m(\u001b[0m\u001b[0mmean_squared_error\u001b[0m\u001b[1;33m(\u001b[0m\u001b[0my_test\u001b[0m\u001b[1;33m,\u001b[0m \u001b[0my_pred\u001b[0m\u001b[1;33m)\u001b[0m\u001b[1;33m)\u001b[0m\u001b[1;33m\u001b[0m\u001b[1;33m\u001b[0m\u001b[0m\n",
      "\u001b[1;32m~\\anaconda3\\lib\\site-packages\\sklearn\\ensemble\\_forest.py\u001b[0m in \u001b[0;36mfit\u001b[1;34m(self, X, y, sample_weight)\u001b[0m\n\u001b[0;32m    302\u001b[0m                 \u001b[1;34m\"sparse multilabel-indicator for y is not supported.\"\u001b[0m\u001b[1;33m\u001b[0m\u001b[1;33m\u001b[0m\u001b[0m\n\u001b[0;32m    303\u001b[0m             )\n\u001b[1;32m--> 304\u001b[1;33m         X, y = self._validate_data(X, y, multi_output=True,\n\u001b[0m\u001b[0;32m    305\u001b[0m                                    accept_sparse=\"csc\", dtype=DTYPE)\n\u001b[0;32m    306\u001b[0m         \u001b[1;32mif\u001b[0m \u001b[0msample_weight\u001b[0m \u001b[1;32mis\u001b[0m \u001b[1;32mnot\u001b[0m \u001b[1;32mNone\u001b[0m\u001b[1;33m:\u001b[0m\u001b[1;33m\u001b[0m\u001b[1;33m\u001b[0m\u001b[0m\n",
      "\u001b[1;32m~\\anaconda3\\lib\\site-packages\\sklearn\\base.py\u001b[0m in \u001b[0;36m_validate_data\u001b[1;34m(self, X, y, reset, validate_separately, **check_params)\u001b[0m\n\u001b[0;32m    431\u001b[0m                 \u001b[0my\u001b[0m \u001b[1;33m=\u001b[0m \u001b[0mcheck_array\u001b[0m\u001b[1;33m(\u001b[0m\u001b[0my\u001b[0m\u001b[1;33m,\u001b[0m \u001b[1;33m**\u001b[0m\u001b[0mcheck_y_params\u001b[0m\u001b[1;33m)\u001b[0m\u001b[1;33m\u001b[0m\u001b[1;33m\u001b[0m\u001b[0m\n\u001b[0;32m    432\u001b[0m             \u001b[1;32melse\u001b[0m\u001b[1;33m:\u001b[0m\u001b[1;33m\u001b[0m\u001b[1;33m\u001b[0m\u001b[0m\n\u001b[1;32m--> 433\u001b[1;33m                 \u001b[0mX\u001b[0m\u001b[1;33m,\u001b[0m \u001b[0my\u001b[0m \u001b[1;33m=\u001b[0m \u001b[0mcheck_X_y\u001b[0m\u001b[1;33m(\u001b[0m\u001b[0mX\u001b[0m\u001b[1;33m,\u001b[0m \u001b[0my\u001b[0m\u001b[1;33m,\u001b[0m \u001b[1;33m**\u001b[0m\u001b[0mcheck_params\u001b[0m\u001b[1;33m)\u001b[0m\u001b[1;33m\u001b[0m\u001b[1;33m\u001b[0m\u001b[0m\n\u001b[0m\u001b[0;32m    434\u001b[0m             \u001b[0mout\u001b[0m \u001b[1;33m=\u001b[0m \u001b[0mX\u001b[0m\u001b[1;33m,\u001b[0m \u001b[0my\u001b[0m\u001b[1;33m\u001b[0m\u001b[1;33m\u001b[0m\u001b[0m\n\u001b[0;32m    435\u001b[0m \u001b[1;33m\u001b[0m\u001b[0m\n",
      "\u001b[1;32m~\\anaconda3\\lib\\site-packages\\sklearn\\utils\\validation.py\u001b[0m in \u001b[0;36minner_f\u001b[1;34m(*args, **kwargs)\u001b[0m\n\u001b[0;32m     61\u001b[0m             \u001b[0mextra_args\u001b[0m \u001b[1;33m=\u001b[0m \u001b[0mlen\u001b[0m\u001b[1;33m(\u001b[0m\u001b[0margs\u001b[0m\u001b[1;33m)\u001b[0m \u001b[1;33m-\u001b[0m \u001b[0mlen\u001b[0m\u001b[1;33m(\u001b[0m\u001b[0mall_args\u001b[0m\u001b[1;33m)\u001b[0m\u001b[1;33m\u001b[0m\u001b[1;33m\u001b[0m\u001b[0m\n\u001b[0;32m     62\u001b[0m             \u001b[1;32mif\u001b[0m \u001b[0mextra_args\u001b[0m \u001b[1;33m<=\u001b[0m \u001b[1;36m0\u001b[0m\u001b[1;33m:\u001b[0m\u001b[1;33m\u001b[0m\u001b[1;33m\u001b[0m\u001b[0m\n\u001b[1;32m---> 63\u001b[1;33m                 \u001b[1;32mreturn\u001b[0m \u001b[0mf\u001b[0m\u001b[1;33m(\u001b[0m\u001b[1;33m*\u001b[0m\u001b[0margs\u001b[0m\u001b[1;33m,\u001b[0m \u001b[1;33m**\u001b[0m\u001b[0mkwargs\u001b[0m\u001b[1;33m)\u001b[0m\u001b[1;33m\u001b[0m\u001b[1;33m\u001b[0m\u001b[0m\n\u001b[0m\u001b[0;32m     64\u001b[0m \u001b[1;33m\u001b[0m\u001b[0m\n\u001b[0;32m     65\u001b[0m             \u001b[1;31m# extra_args > 0\u001b[0m\u001b[1;33m\u001b[0m\u001b[1;33m\u001b[0m\u001b[1;33m\u001b[0m\u001b[0m\n",
      "\u001b[1;32m~\\anaconda3\\lib\\site-packages\\sklearn\\utils\\validation.py\u001b[0m in \u001b[0;36mcheck_X_y\u001b[1;34m(X, y, accept_sparse, accept_large_sparse, dtype, order, copy, force_all_finite, ensure_2d, allow_nd, multi_output, ensure_min_samples, ensure_min_features, y_numeric, estimator)\u001b[0m\n\u001b[0;32m    812\u001b[0m         \u001b[1;32mraise\u001b[0m \u001b[0mValueError\u001b[0m\u001b[1;33m(\u001b[0m\u001b[1;34m\"y cannot be None\"\u001b[0m\u001b[1;33m)\u001b[0m\u001b[1;33m\u001b[0m\u001b[1;33m\u001b[0m\u001b[0m\n\u001b[0;32m    813\u001b[0m \u001b[1;33m\u001b[0m\u001b[0m\n\u001b[1;32m--> 814\u001b[1;33m     X = check_array(X, accept_sparse=accept_sparse,\n\u001b[0m\u001b[0;32m    815\u001b[0m                     \u001b[0maccept_large_sparse\u001b[0m\u001b[1;33m=\u001b[0m\u001b[0maccept_large_sparse\u001b[0m\u001b[1;33m,\u001b[0m\u001b[1;33m\u001b[0m\u001b[1;33m\u001b[0m\u001b[0m\n\u001b[0;32m    816\u001b[0m                     \u001b[0mdtype\u001b[0m\u001b[1;33m=\u001b[0m\u001b[0mdtype\u001b[0m\u001b[1;33m,\u001b[0m \u001b[0morder\u001b[0m\u001b[1;33m=\u001b[0m\u001b[0morder\u001b[0m\u001b[1;33m,\u001b[0m \u001b[0mcopy\u001b[0m\u001b[1;33m=\u001b[0m\u001b[0mcopy\u001b[0m\u001b[1;33m,\u001b[0m\u001b[1;33m\u001b[0m\u001b[1;33m\u001b[0m\u001b[0m\n",
      "\u001b[1;32m~\\anaconda3\\lib\\site-packages\\sklearn\\utils\\validation.py\u001b[0m in \u001b[0;36minner_f\u001b[1;34m(*args, **kwargs)\u001b[0m\n\u001b[0;32m     61\u001b[0m             \u001b[0mextra_args\u001b[0m \u001b[1;33m=\u001b[0m \u001b[0mlen\u001b[0m\u001b[1;33m(\u001b[0m\u001b[0margs\u001b[0m\u001b[1;33m)\u001b[0m \u001b[1;33m-\u001b[0m \u001b[0mlen\u001b[0m\u001b[1;33m(\u001b[0m\u001b[0mall_args\u001b[0m\u001b[1;33m)\u001b[0m\u001b[1;33m\u001b[0m\u001b[1;33m\u001b[0m\u001b[0m\n\u001b[0;32m     62\u001b[0m             \u001b[1;32mif\u001b[0m \u001b[0mextra_args\u001b[0m \u001b[1;33m<=\u001b[0m \u001b[1;36m0\u001b[0m\u001b[1;33m:\u001b[0m\u001b[1;33m\u001b[0m\u001b[1;33m\u001b[0m\u001b[0m\n\u001b[1;32m---> 63\u001b[1;33m                 \u001b[1;32mreturn\u001b[0m \u001b[0mf\u001b[0m\u001b[1;33m(\u001b[0m\u001b[1;33m*\u001b[0m\u001b[0margs\u001b[0m\u001b[1;33m,\u001b[0m \u001b[1;33m**\u001b[0m\u001b[0mkwargs\u001b[0m\u001b[1;33m)\u001b[0m\u001b[1;33m\u001b[0m\u001b[1;33m\u001b[0m\u001b[0m\n\u001b[0m\u001b[0;32m     64\u001b[0m \u001b[1;33m\u001b[0m\u001b[0m\n\u001b[0;32m     65\u001b[0m             \u001b[1;31m# extra_args > 0\u001b[0m\u001b[1;33m\u001b[0m\u001b[1;33m\u001b[0m\u001b[1;33m\u001b[0m\u001b[0m\n",
      "\u001b[1;32m~\\anaconda3\\lib\\site-packages\\sklearn\\utils\\validation.py\u001b[0m in \u001b[0;36mcheck_array\u001b[1;34m(array, accept_sparse, accept_large_sparse, dtype, order, copy, force_all_finite, ensure_2d, allow_nd, ensure_min_samples, ensure_min_features, estimator)\u001b[0m\n\u001b[0;32m    661\u001b[0m \u001b[1;33m\u001b[0m\u001b[0m\n\u001b[0;32m    662\u001b[0m         \u001b[1;32mif\u001b[0m \u001b[0mforce_all_finite\u001b[0m\u001b[1;33m:\u001b[0m\u001b[1;33m\u001b[0m\u001b[1;33m\u001b[0m\u001b[0m\n\u001b[1;32m--> 663\u001b[1;33m             _assert_all_finite(array,\n\u001b[0m\u001b[0;32m    664\u001b[0m                                allow_nan=force_all_finite == 'allow-nan')\n\u001b[0;32m    665\u001b[0m \u001b[1;33m\u001b[0m\u001b[0m\n",
      "\u001b[1;32m~\\anaconda3\\lib\\site-packages\\sklearn\\utils\\validation.py\u001b[0m in \u001b[0;36m_assert_all_finite\u001b[1;34m(X, allow_nan, msg_dtype)\u001b[0m\n\u001b[0;32m    101\u001b[0m                 not allow_nan and not np.isfinite(X).all()):\n\u001b[0;32m    102\u001b[0m             \u001b[0mtype_err\u001b[0m \u001b[1;33m=\u001b[0m \u001b[1;34m'infinity'\u001b[0m \u001b[1;32mif\u001b[0m \u001b[0mallow_nan\u001b[0m \u001b[1;32melse\u001b[0m \u001b[1;34m'NaN, infinity'\u001b[0m\u001b[1;33m\u001b[0m\u001b[1;33m\u001b[0m\u001b[0m\n\u001b[1;32m--> 103\u001b[1;33m             raise ValueError(\n\u001b[0m\u001b[0;32m    104\u001b[0m                     \u001b[0mmsg_err\u001b[0m\u001b[1;33m.\u001b[0m\u001b[0mformat\u001b[0m\u001b[1;33m\u001b[0m\u001b[1;33m\u001b[0m\u001b[0m\n\u001b[0;32m    105\u001b[0m                     (type_err,\n",
      "\u001b[1;31mValueError\u001b[0m: Input contains NaN, infinity or a value too large for dtype('float32')."
     ]
    }
   ],
   "source": [
    "from itertools import product\n",
    "from math import sqrt\n",
    "from sklearn.metrics import mean_squared_error\n",
    "\n",
    "min_r_mse = 1.0\n",
    "for i in product(range(3,22), range(3,22), range(3,22), range(3,22)):   # 조합 함수.\n",
    "    X = HO_LU.iloc[:,[2,i[0],i[1],i[2],i[3]]]     \n",
    "    y = HO_LU.iloc[:,1]\n",
    "    X_train, X_test, y_train, y_test = train_test_split(X,y,test_size=0.2,random_state=722)\n",
    "    ys_model = RandomForestRegressor()      \n",
    "    ys_model.fit(X_train, y_train)        \n",
    "    y_pred = ys_model.predict(X_test)\n",
    "    r_mse = sqrt(mean_squared_error(y_test, y_pred))\n",
    "    if r_mse < min_r_mse:      # 기존의 최소 오차보다 작아졌을 때 \n",
    "        min_r_mse = r_mse\n",
    "        min_features = i\n",
    "        print(r_mse)\n",
    "        \n",
    "print(f\"오차: {min_r_mse}\")\n",
    "print(f\"오차를 가장 낮추는 feature는 2열 + {i} 열 의 조합이다.\")"
   ]
  },
  {
   "cell_type": "markdown",
   "id": "13f7410c-00b5-4a04-8300-f5e74c74d9d0",
   "metadata": {
    "tags": []
   },
   "source": [
    "↑ 실행이 멈춰버렸다. (아무래도 노트북 사양이 낮아서 그런 것 같다...)  \n",
    "\n",
    "↓ 이번엔 feature를 고르는 대신 total molecule set를 [one to ten] 으로 쪼개서 각각 돌려보기로 했다."
   ]
  },
  {
   "cell_type": "code",
   "execution_count": 28,
   "id": "78cf649c-9728-42ae-b505-a5b977254246",
   "metadata": {
    "tags": []
   },
   "outputs": [],
   "source": [
    "one = HO_LU.iloc[:10000]\n",
    "two = HO_LU.iloc[10001:20000]\n",
    "three = HO_LU.iloc[20001:30000]\n",
    "four = HO_LU.iloc[30001:40000]\n",
    "five = HO_LU.iloc[40001:50000]\n",
    "six = HO_LU.iloc[50001:60000]\n",
    "seven = HO_LU.iloc[60001:70000]\n",
    "eight = HO_LU.iloc[70001:80000]\n",
    "nine = HO_LU.iloc[80001:90000]\n",
    "ten = HO_LU.iloc[90001:100000]"
   ]
  },
  {
   "attachments": {
    "670dcf6a-8a07-4392-afe7-981f09d9b50f.png": {
     "image/png": "[encoded data removed]"
    }
   },
   "cell_type": "markdown",
   "id": "d09c6890-5be2-43c4-86cf-84ce263c0709",
   "metadata": {},
   "source": [
    "위에서 나눈 molecule set들을 for문으로 돌려서 오차를 반환하도록 하는 코드를 짰는데 그것도 과부하가 걸렸다...  \n",
    "![image.png](attachment:670dcf6a-8a07-4392-afe7-981f09d9b50f.png)"
   ]
  },
  {
   "cell_type": "markdown",
   "id": "5e55d8d0-f424-4bf8-84ec-ff38c79585de",
   "metadata": {},
   "source": [
    "↓ 단계별로 나눠서 실행시키기로 했다. for문으로 moecule sets 순서대로 X_train, X_test, y_train, y_test 값을 받는 리스트를 생성한 후  \n",
    "(예: list_X_i_train 의 첫번째 요소는 molecule set one의  X_train 값)"
   ]
  },
  {
   "cell_type": "code",
   "execution_count": 160,
   "id": "a28ba4b1-e64b-4f3d-b58f-a5ef70890f36",
   "metadata": {
    "tags": []
   },
   "outputs": [],
   "source": [
    "HO_LU_list=[one,two,three,four,five,six,seven,eight,nine,ten]\n",
    "\n",
    "list_X_i = []\n",
    "list_y_i = []\n",
    "\n",
    "list_X_i_train = []\n",
    "list_X_i_test = []\n",
    "list_y_i_train = []\n",
    "list_y_i_test = []\n",
    "\n",
    "list_y_i_pred = []\n",
    "\n",
    "list_r_mse_i = [] \n",
    "\n",
    "for i in range(0,10):\n",
    "    X_i = HO_LU_list[i].iloc[:,2:]    \n",
    "    y_i = HO_LU_list[i].iloc[:,1]\n",
    "    list_X_i.append(X_i)\n",
    "    list_y_i.append(y_i)\n",
    "\n",
    "    X_i_train, X_i_test, y_i_train, y_i_test = train_test_split(list_X_i[i],list_y_i[i],test_size=0.2,random_state=722)\n",
    "    list_X_i_train.append(X_i_train)\n",
    "    list_X_i_test.append(X_i_test)\n",
    "    list_y_i_train.append(y_i_train)\n",
    "    list_y_i_test.append(y_i_test)"
   ]
  },
  {
   "cell_type": "markdown",
   "id": "8d703c8b-89fe-46e5-bd94-280c23ec729c",
   "metadata": {},
   "source": [
    "↓ for문으로 한번에 학습시키기 오류..."
   ]
  },
  {
   "cell_type": "code",
   "execution_count": 147,
   "id": "7c07f409-4374-4c13-a0ee-b0886965c834",
   "metadata": {
    "collapsed": true,
    "jupyter": {
     "outputs_hidden": true
    },
    "tags": []
   },
   "outputs": [
    {
     "ename": "ValueError",
     "evalue": "Input contains NaN, infinity or a value too large for dtype('float32').",
     "output_type": "error",
     "traceback": [
      "\u001b[1;31m---------------------------------------------------------------------------\u001b[0m",
      "\u001b[1;31mValueError\u001b[0m                                Traceback (most recent call last)",
      "\u001b[1;32m<ipython-input-147-323125c61f27>\u001b[0m in \u001b[0;36m<module>\u001b[1;34m\u001b[0m\n\u001b[0;32m      1\u001b[0m \u001b[1;32mfor\u001b[0m \u001b[0mi\u001b[0m \u001b[1;32min\u001b[0m \u001b[0mrange\u001b[0m\u001b[1;33m(\u001b[0m\u001b[1;36m0\u001b[0m\u001b[1;33m,\u001b[0m\u001b[1;36m10\u001b[0m\u001b[1;33m)\u001b[0m\u001b[1;33m:\u001b[0m\u001b[1;33m\u001b[0m\u001b[1;33m\u001b[0m\u001b[0m\n\u001b[1;32m----> 2\u001b[1;33m     \u001b[0mys_model\u001b[0m\u001b[1;33m.\u001b[0m\u001b[0mfit\u001b[0m\u001b[1;33m(\u001b[0m\u001b[0mlist_X_i_train\u001b[0m\u001b[1;33m[\u001b[0m\u001b[0mi\u001b[0m\u001b[1;33m]\u001b[0m\u001b[1;33m,\u001b[0m \u001b[0mlist_y_i_train\u001b[0m\u001b[1;33m[\u001b[0m\u001b[0mi\u001b[0m\u001b[1;33m]\u001b[0m\u001b[1;33m)\u001b[0m\u001b[1;33m\u001b[0m\u001b[1;33m\u001b[0m\u001b[0m\n\u001b[0m",
      "\u001b[1;32m~\\anaconda3\\lib\\site-packages\\sklearn\\ensemble\\_forest.py\u001b[0m in \u001b[0;36mfit\u001b[1;34m(self, X, y, sample_weight)\u001b[0m\n\u001b[0;32m    302\u001b[0m                 \u001b[1;34m\"sparse multilabel-indicator for y is not supported.\"\u001b[0m\u001b[1;33m\u001b[0m\u001b[1;33m\u001b[0m\u001b[0m\n\u001b[0;32m    303\u001b[0m             )\n\u001b[1;32m--> 304\u001b[1;33m         X, y = self._validate_data(X, y, multi_output=True,\n\u001b[0m\u001b[0;32m    305\u001b[0m                                    accept_sparse=\"csc\", dtype=DTYPE)\n\u001b[0;32m    306\u001b[0m         \u001b[1;32mif\u001b[0m \u001b[0msample_weight\u001b[0m \u001b[1;32mis\u001b[0m \u001b[1;32mnot\u001b[0m \u001b[1;32mNone\u001b[0m\u001b[1;33m:\u001b[0m\u001b[1;33m\u001b[0m\u001b[1;33m\u001b[0m\u001b[0m\n",
      "\u001b[1;32m~\\anaconda3\\lib\\site-packages\\sklearn\\base.py\u001b[0m in \u001b[0;36m_validate_data\u001b[1;34m(self, X, y, reset, validate_separately, **check_params)\u001b[0m\n\u001b[0;32m    431\u001b[0m                 \u001b[0my\u001b[0m \u001b[1;33m=\u001b[0m \u001b[0mcheck_array\u001b[0m\u001b[1;33m(\u001b[0m\u001b[0my\u001b[0m\u001b[1;33m,\u001b[0m \u001b[1;33m**\u001b[0m\u001b[0mcheck_y_params\u001b[0m\u001b[1;33m)\u001b[0m\u001b[1;33m\u001b[0m\u001b[1;33m\u001b[0m\u001b[0m\n\u001b[0;32m    432\u001b[0m             \u001b[1;32melse\u001b[0m\u001b[1;33m:\u001b[0m\u001b[1;33m\u001b[0m\u001b[1;33m\u001b[0m\u001b[0m\n\u001b[1;32m--> 433\u001b[1;33m                 \u001b[0mX\u001b[0m\u001b[1;33m,\u001b[0m \u001b[0my\u001b[0m \u001b[1;33m=\u001b[0m \u001b[0mcheck_X_y\u001b[0m\u001b[1;33m(\u001b[0m\u001b[0mX\u001b[0m\u001b[1;33m,\u001b[0m \u001b[0my\u001b[0m\u001b[1;33m,\u001b[0m \u001b[1;33m**\u001b[0m\u001b[0mcheck_params\u001b[0m\u001b[1;33m)\u001b[0m\u001b[1;33m\u001b[0m\u001b[1;33m\u001b[0m\u001b[0m\n\u001b[0m\u001b[0;32m    434\u001b[0m             \u001b[0mout\u001b[0m \u001b[1;33m=\u001b[0m \u001b[0mX\u001b[0m\u001b[1;33m,\u001b[0m \u001b[0my\u001b[0m\u001b[1;33m\u001b[0m\u001b[1;33m\u001b[0m\u001b[0m\n\u001b[0;32m    435\u001b[0m \u001b[1;33m\u001b[0m\u001b[0m\n",
      "\u001b[1;32m~\\anaconda3\\lib\\site-packages\\sklearn\\utils\\validation.py\u001b[0m in \u001b[0;36minner_f\u001b[1;34m(*args, **kwargs)\u001b[0m\n\u001b[0;32m     61\u001b[0m             \u001b[0mextra_args\u001b[0m \u001b[1;33m=\u001b[0m \u001b[0mlen\u001b[0m\u001b[1;33m(\u001b[0m\u001b[0margs\u001b[0m\u001b[1;33m)\u001b[0m \u001b[1;33m-\u001b[0m \u001b[0mlen\u001b[0m\u001b[1;33m(\u001b[0m\u001b[0mall_args\u001b[0m\u001b[1;33m)\u001b[0m\u001b[1;33m\u001b[0m\u001b[1;33m\u001b[0m\u001b[0m\n\u001b[0;32m     62\u001b[0m             \u001b[1;32mif\u001b[0m \u001b[0mextra_args\u001b[0m \u001b[1;33m<=\u001b[0m \u001b[1;36m0\u001b[0m\u001b[1;33m:\u001b[0m\u001b[1;33m\u001b[0m\u001b[1;33m\u001b[0m\u001b[0m\n\u001b[1;32m---> 63\u001b[1;33m                 \u001b[1;32mreturn\u001b[0m \u001b[0mf\u001b[0m\u001b[1;33m(\u001b[0m\u001b[1;33m*\u001b[0m\u001b[0margs\u001b[0m\u001b[1;33m,\u001b[0m \u001b[1;33m**\u001b[0m\u001b[0mkwargs\u001b[0m\u001b[1;33m)\u001b[0m\u001b[1;33m\u001b[0m\u001b[1;33m\u001b[0m\u001b[0m\n\u001b[0m\u001b[0;32m     64\u001b[0m \u001b[1;33m\u001b[0m\u001b[0m\n\u001b[0;32m     65\u001b[0m             \u001b[1;31m# extra_args > 0\u001b[0m\u001b[1;33m\u001b[0m\u001b[1;33m\u001b[0m\u001b[1;33m\u001b[0m\u001b[0m\n",
      "\u001b[1;32m~\\anaconda3\\lib\\site-packages\\sklearn\\utils\\validation.py\u001b[0m in \u001b[0;36mcheck_X_y\u001b[1;34m(X, y, accept_sparse, accept_large_sparse, dtype, order, copy, force_all_finite, ensure_2d, allow_nd, multi_output, ensure_min_samples, ensure_min_features, y_numeric, estimator)\u001b[0m\n\u001b[0;32m    812\u001b[0m         \u001b[1;32mraise\u001b[0m \u001b[0mValueError\u001b[0m\u001b[1;33m(\u001b[0m\u001b[1;34m\"y cannot be None\"\u001b[0m\u001b[1;33m)\u001b[0m\u001b[1;33m\u001b[0m\u001b[1;33m\u001b[0m\u001b[0m\n\u001b[0;32m    813\u001b[0m \u001b[1;33m\u001b[0m\u001b[0m\n\u001b[1;32m--> 814\u001b[1;33m     X = check_array(X, accept_sparse=accept_sparse,\n\u001b[0m\u001b[0;32m    815\u001b[0m                     \u001b[0maccept_large_sparse\u001b[0m\u001b[1;33m=\u001b[0m\u001b[0maccept_large_sparse\u001b[0m\u001b[1;33m,\u001b[0m\u001b[1;33m\u001b[0m\u001b[1;33m\u001b[0m\u001b[0m\n\u001b[0;32m    816\u001b[0m                     \u001b[0mdtype\u001b[0m\u001b[1;33m=\u001b[0m\u001b[0mdtype\u001b[0m\u001b[1;33m,\u001b[0m \u001b[0morder\u001b[0m\u001b[1;33m=\u001b[0m\u001b[0morder\u001b[0m\u001b[1;33m,\u001b[0m \u001b[0mcopy\u001b[0m\u001b[1;33m=\u001b[0m\u001b[0mcopy\u001b[0m\u001b[1;33m,\u001b[0m\u001b[1;33m\u001b[0m\u001b[1;33m\u001b[0m\u001b[0m\n",
      "\u001b[1;32m~\\anaconda3\\lib\\site-packages\\sklearn\\utils\\validation.py\u001b[0m in \u001b[0;36minner_f\u001b[1;34m(*args, **kwargs)\u001b[0m\n\u001b[0;32m     61\u001b[0m             \u001b[0mextra_args\u001b[0m \u001b[1;33m=\u001b[0m \u001b[0mlen\u001b[0m\u001b[1;33m(\u001b[0m\u001b[0margs\u001b[0m\u001b[1;33m)\u001b[0m \u001b[1;33m-\u001b[0m \u001b[0mlen\u001b[0m\u001b[1;33m(\u001b[0m\u001b[0mall_args\u001b[0m\u001b[1;33m)\u001b[0m\u001b[1;33m\u001b[0m\u001b[1;33m\u001b[0m\u001b[0m\n\u001b[0;32m     62\u001b[0m             \u001b[1;32mif\u001b[0m \u001b[0mextra_args\u001b[0m \u001b[1;33m<=\u001b[0m \u001b[1;36m0\u001b[0m\u001b[1;33m:\u001b[0m\u001b[1;33m\u001b[0m\u001b[1;33m\u001b[0m\u001b[0m\n\u001b[1;32m---> 63\u001b[1;33m                 \u001b[1;32mreturn\u001b[0m \u001b[0mf\u001b[0m\u001b[1;33m(\u001b[0m\u001b[1;33m*\u001b[0m\u001b[0margs\u001b[0m\u001b[1;33m,\u001b[0m \u001b[1;33m**\u001b[0m\u001b[0mkwargs\u001b[0m\u001b[1;33m)\u001b[0m\u001b[1;33m\u001b[0m\u001b[1;33m\u001b[0m\u001b[0m\n\u001b[0m\u001b[0;32m     64\u001b[0m \u001b[1;33m\u001b[0m\u001b[0m\n\u001b[0;32m     65\u001b[0m             \u001b[1;31m# extra_args > 0\u001b[0m\u001b[1;33m\u001b[0m\u001b[1;33m\u001b[0m\u001b[1;33m\u001b[0m\u001b[0m\n",
      "\u001b[1;32m~\\anaconda3\\lib\\site-packages\\sklearn\\utils\\validation.py\u001b[0m in \u001b[0;36mcheck_array\u001b[1;34m(array, accept_sparse, accept_large_sparse, dtype, order, copy, force_all_finite, ensure_2d, allow_nd, ensure_min_samples, ensure_min_features, estimator)\u001b[0m\n\u001b[0;32m    661\u001b[0m \u001b[1;33m\u001b[0m\u001b[0m\n\u001b[0;32m    662\u001b[0m         \u001b[1;32mif\u001b[0m \u001b[0mforce_all_finite\u001b[0m\u001b[1;33m:\u001b[0m\u001b[1;33m\u001b[0m\u001b[1;33m\u001b[0m\u001b[0m\n\u001b[1;32m--> 663\u001b[1;33m             _assert_all_finite(array,\n\u001b[0m\u001b[0;32m    664\u001b[0m                                allow_nan=force_all_finite == 'allow-nan')\n\u001b[0;32m    665\u001b[0m \u001b[1;33m\u001b[0m\u001b[0m\n",
      "\u001b[1;32m~\\anaconda3\\lib\\site-packages\\sklearn\\utils\\validation.py\u001b[0m in \u001b[0;36m_assert_all_finite\u001b[1;34m(X, allow_nan, msg_dtype)\u001b[0m\n\u001b[0;32m    101\u001b[0m                 not allow_nan and not np.isfinite(X).all()):\n\u001b[0;32m    102\u001b[0m             \u001b[0mtype_err\u001b[0m \u001b[1;33m=\u001b[0m \u001b[1;34m'infinity'\u001b[0m \u001b[1;32mif\u001b[0m \u001b[0mallow_nan\u001b[0m \u001b[1;32melse\u001b[0m \u001b[1;34m'NaN, infinity'\u001b[0m\u001b[1;33m\u001b[0m\u001b[1;33m\u001b[0m\u001b[0m\n\u001b[1;32m--> 103\u001b[1;33m             raise ValueError(\n\u001b[0m\u001b[0;32m    104\u001b[0m                     \u001b[0mmsg_err\u001b[0m\u001b[1;33m.\u001b[0m\u001b[0mformat\u001b[0m\u001b[1;33m\u001b[0m\u001b[1;33m\u001b[0m\u001b[0m\n\u001b[0;32m    105\u001b[0m                     (type_err,\n",
      "\u001b[1;31mValueError\u001b[0m: Input contains NaN, infinity or a value too large for dtype('float32')."
     ]
    }
   ],
   "source": [
    "for i in range(0,10):\n",
    "    ys_model.fit(list_X_i_train[i], list_y_i_train[i])"
   ]
  },
  {
   "cell_type": "markdown",
   "id": "5fc23866-7f1b-4d4c-a985-b61c32efa4d4",
   "metadata": {},
   "source": [
    "↓ 직접 molecule set 하나씩 학습시켰다."
   ]
  },
  {
   "cell_type": "code",
   "execution_count": 148,
   "id": "500bdb9a-547d-42b9-8723-99cb5f9c2bd7",
   "metadata": {},
   "outputs": [
    {
     "data": {
      "text/plain": [
       "RandomForestRegressor()"
      ]
     },
     "execution_count": 148,
     "metadata": {},
     "output_type": "execute_result"
    }
   ],
   "source": [
    "ys_model.fit(list_X_i_train[0], list_y_i_train[0])"
   ]
  },
  {
   "cell_type": "code",
   "execution_count": 149,
   "id": "926387ff-aa8b-48b9-abc4-0c924e16bc5d",
   "metadata": {
    "collapsed": true,
    "jupyter": {
     "outputs_hidden": true
    },
    "tags": []
   },
   "outputs": [
    {
     "ename": "ValueError",
     "evalue": "Input contains NaN, infinity or a value too large for dtype('float32').",
     "output_type": "error",
     "traceback": [
      "\u001b[1;31m---------------------------------------------------------------------------\u001b[0m",
      "\u001b[1;31mValueError\u001b[0m                                Traceback (most recent call last)",
      "\u001b[1;32m<ipython-input-149-6d1d30e70693>\u001b[0m in \u001b[0;36m<module>\u001b[1;34m\u001b[0m\n\u001b[1;32m----> 1\u001b[1;33m \u001b[0mys_model\u001b[0m\u001b[1;33m.\u001b[0m\u001b[0mfit\u001b[0m\u001b[1;33m(\u001b[0m\u001b[0mlist_X_i_train\u001b[0m\u001b[1;33m[\u001b[0m\u001b[1;36m1\u001b[0m\u001b[1;33m]\u001b[0m\u001b[1;33m,\u001b[0m \u001b[0mlist_y_i_train\u001b[0m\u001b[1;33m[\u001b[0m\u001b[1;36m1\u001b[0m\u001b[1;33m]\u001b[0m\u001b[1;33m)\u001b[0m\u001b[1;33m\u001b[0m\u001b[1;33m\u001b[0m\u001b[0m\n\u001b[0m",
      "\u001b[1;32m~\\anaconda3\\lib\\site-packages\\sklearn\\ensemble\\_forest.py\u001b[0m in \u001b[0;36mfit\u001b[1;34m(self, X, y, sample_weight)\u001b[0m\n\u001b[0;32m    302\u001b[0m                 \u001b[1;34m\"sparse multilabel-indicator for y is not supported.\"\u001b[0m\u001b[1;33m\u001b[0m\u001b[1;33m\u001b[0m\u001b[0m\n\u001b[0;32m    303\u001b[0m             )\n\u001b[1;32m--> 304\u001b[1;33m         X, y = self._validate_data(X, y, multi_output=True,\n\u001b[0m\u001b[0;32m    305\u001b[0m                                    accept_sparse=\"csc\", dtype=DTYPE)\n\u001b[0;32m    306\u001b[0m         \u001b[1;32mif\u001b[0m \u001b[0msample_weight\u001b[0m \u001b[1;32mis\u001b[0m \u001b[1;32mnot\u001b[0m \u001b[1;32mNone\u001b[0m\u001b[1;33m:\u001b[0m\u001b[1;33m\u001b[0m\u001b[1;33m\u001b[0m\u001b[0m\n",
      "\u001b[1;32m~\\anaconda3\\lib\\site-packages\\sklearn\\base.py\u001b[0m in \u001b[0;36m_validate_data\u001b[1;34m(self, X, y, reset, validate_separately, **check_params)\u001b[0m\n\u001b[0;32m    431\u001b[0m                 \u001b[0my\u001b[0m \u001b[1;33m=\u001b[0m \u001b[0mcheck_array\u001b[0m\u001b[1;33m(\u001b[0m\u001b[0my\u001b[0m\u001b[1;33m,\u001b[0m \u001b[1;33m**\u001b[0m\u001b[0mcheck_y_params\u001b[0m\u001b[1;33m)\u001b[0m\u001b[1;33m\u001b[0m\u001b[1;33m\u001b[0m\u001b[0m\n\u001b[0;32m    432\u001b[0m             \u001b[1;32melse\u001b[0m\u001b[1;33m:\u001b[0m\u001b[1;33m\u001b[0m\u001b[1;33m\u001b[0m\u001b[0m\n\u001b[1;32m--> 433\u001b[1;33m                 \u001b[0mX\u001b[0m\u001b[1;33m,\u001b[0m \u001b[0my\u001b[0m \u001b[1;33m=\u001b[0m \u001b[0mcheck_X_y\u001b[0m\u001b[1;33m(\u001b[0m\u001b[0mX\u001b[0m\u001b[1;33m,\u001b[0m \u001b[0my\u001b[0m\u001b[1;33m,\u001b[0m \u001b[1;33m**\u001b[0m\u001b[0mcheck_params\u001b[0m\u001b[1;33m)\u001b[0m\u001b[1;33m\u001b[0m\u001b[1;33m\u001b[0m\u001b[0m\n\u001b[0m\u001b[0;32m    434\u001b[0m             \u001b[0mout\u001b[0m \u001b[1;33m=\u001b[0m \u001b[0mX\u001b[0m\u001b[1;33m,\u001b[0m \u001b[0my\u001b[0m\u001b[1;33m\u001b[0m\u001b[1;33m\u001b[0m\u001b[0m\n\u001b[0;32m    435\u001b[0m \u001b[1;33m\u001b[0m\u001b[0m\n",
      "\u001b[1;32m~\\anaconda3\\lib\\site-packages\\sklearn\\utils\\validation.py\u001b[0m in \u001b[0;36minner_f\u001b[1;34m(*args, **kwargs)\u001b[0m\n\u001b[0;32m     61\u001b[0m             \u001b[0mextra_args\u001b[0m \u001b[1;33m=\u001b[0m \u001b[0mlen\u001b[0m\u001b[1;33m(\u001b[0m\u001b[0margs\u001b[0m\u001b[1;33m)\u001b[0m \u001b[1;33m-\u001b[0m \u001b[0mlen\u001b[0m\u001b[1;33m(\u001b[0m\u001b[0mall_args\u001b[0m\u001b[1;33m)\u001b[0m\u001b[1;33m\u001b[0m\u001b[1;33m\u001b[0m\u001b[0m\n\u001b[0;32m     62\u001b[0m             \u001b[1;32mif\u001b[0m \u001b[0mextra_args\u001b[0m \u001b[1;33m<=\u001b[0m \u001b[1;36m0\u001b[0m\u001b[1;33m:\u001b[0m\u001b[1;33m\u001b[0m\u001b[1;33m\u001b[0m\u001b[0m\n\u001b[1;32m---> 63\u001b[1;33m                 \u001b[1;32mreturn\u001b[0m \u001b[0mf\u001b[0m\u001b[1;33m(\u001b[0m\u001b[1;33m*\u001b[0m\u001b[0margs\u001b[0m\u001b[1;33m,\u001b[0m \u001b[1;33m**\u001b[0m\u001b[0mkwargs\u001b[0m\u001b[1;33m)\u001b[0m\u001b[1;33m\u001b[0m\u001b[1;33m\u001b[0m\u001b[0m\n\u001b[0m\u001b[0;32m     64\u001b[0m \u001b[1;33m\u001b[0m\u001b[0m\n\u001b[0;32m     65\u001b[0m             \u001b[1;31m# extra_args > 0\u001b[0m\u001b[1;33m\u001b[0m\u001b[1;33m\u001b[0m\u001b[1;33m\u001b[0m\u001b[0m\n",
      "\u001b[1;32m~\\anaconda3\\lib\\site-packages\\sklearn\\utils\\validation.py\u001b[0m in \u001b[0;36mcheck_X_y\u001b[1;34m(X, y, accept_sparse, accept_large_sparse, dtype, order, copy, force_all_finite, ensure_2d, allow_nd, multi_output, ensure_min_samples, ensure_min_features, y_numeric, estimator)\u001b[0m\n\u001b[0;32m    812\u001b[0m         \u001b[1;32mraise\u001b[0m \u001b[0mValueError\u001b[0m\u001b[1;33m(\u001b[0m\u001b[1;34m\"y cannot be None\"\u001b[0m\u001b[1;33m)\u001b[0m\u001b[1;33m\u001b[0m\u001b[1;33m\u001b[0m\u001b[0m\n\u001b[0;32m    813\u001b[0m \u001b[1;33m\u001b[0m\u001b[0m\n\u001b[1;32m--> 814\u001b[1;33m     X = check_array(X, accept_sparse=accept_sparse,\n\u001b[0m\u001b[0;32m    815\u001b[0m                     \u001b[0maccept_large_sparse\u001b[0m\u001b[1;33m=\u001b[0m\u001b[0maccept_large_sparse\u001b[0m\u001b[1;33m,\u001b[0m\u001b[1;33m\u001b[0m\u001b[1;33m\u001b[0m\u001b[0m\n\u001b[0;32m    816\u001b[0m                     \u001b[0mdtype\u001b[0m\u001b[1;33m=\u001b[0m\u001b[0mdtype\u001b[0m\u001b[1;33m,\u001b[0m \u001b[0morder\u001b[0m\u001b[1;33m=\u001b[0m\u001b[0morder\u001b[0m\u001b[1;33m,\u001b[0m \u001b[0mcopy\u001b[0m\u001b[1;33m=\u001b[0m\u001b[0mcopy\u001b[0m\u001b[1;33m,\u001b[0m\u001b[1;33m\u001b[0m\u001b[1;33m\u001b[0m\u001b[0m\n",
      "\u001b[1;32m~\\anaconda3\\lib\\site-packages\\sklearn\\utils\\validation.py\u001b[0m in \u001b[0;36minner_f\u001b[1;34m(*args, **kwargs)\u001b[0m\n\u001b[0;32m     61\u001b[0m             \u001b[0mextra_args\u001b[0m \u001b[1;33m=\u001b[0m \u001b[0mlen\u001b[0m\u001b[1;33m(\u001b[0m\u001b[0margs\u001b[0m\u001b[1;33m)\u001b[0m \u001b[1;33m-\u001b[0m \u001b[0mlen\u001b[0m\u001b[1;33m(\u001b[0m\u001b[0mall_args\u001b[0m\u001b[1;33m)\u001b[0m\u001b[1;33m\u001b[0m\u001b[1;33m\u001b[0m\u001b[0m\n\u001b[0;32m     62\u001b[0m             \u001b[1;32mif\u001b[0m \u001b[0mextra_args\u001b[0m \u001b[1;33m<=\u001b[0m \u001b[1;36m0\u001b[0m\u001b[1;33m:\u001b[0m\u001b[1;33m\u001b[0m\u001b[1;33m\u001b[0m\u001b[0m\n\u001b[1;32m---> 63\u001b[1;33m                 \u001b[1;32mreturn\u001b[0m \u001b[0mf\u001b[0m\u001b[1;33m(\u001b[0m\u001b[1;33m*\u001b[0m\u001b[0margs\u001b[0m\u001b[1;33m,\u001b[0m \u001b[1;33m**\u001b[0m\u001b[0mkwargs\u001b[0m\u001b[1;33m)\u001b[0m\u001b[1;33m\u001b[0m\u001b[1;33m\u001b[0m\u001b[0m\n\u001b[0m\u001b[0;32m     64\u001b[0m \u001b[1;33m\u001b[0m\u001b[0m\n\u001b[0;32m     65\u001b[0m             \u001b[1;31m# extra_args > 0\u001b[0m\u001b[1;33m\u001b[0m\u001b[1;33m\u001b[0m\u001b[1;33m\u001b[0m\u001b[0m\n",
      "\u001b[1;32m~\\anaconda3\\lib\\site-packages\\sklearn\\utils\\validation.py\u001b[0m in \u001b[0;36mcheck_array\u001b[1;34m(array, accept_sparse, accept_large_sparse, dtype, order, copy, force_all_finite, ensure_2d, allow_nd, ensure_min_samples, ensure_min_features, estimator)\u001b[0m\n\u001b[0;32m    661\u001b[0m \u001b[1;33m\u001b[0m\u001b[0m\n\u001b[0;32m    662\u001b[0m         \u001b[1;32mif\u001b[0m \u001b[0mforce_all_finite\u001b[0m\u001b[1;33m:\u001b[0m\u001b[1;33m\u001b[0m\u001b[1;33m\u001b[0m\u001b[0m\n\u001b[1;32m--> 663\u001b[1;33m             _assert_all_finite(array,\n\u001b[0m\u001b[0;32m    664\u001b[0m                                allow_nan=force_all_finite == 'allow-nan')\n\u001b[0;32m    665\u001b[0m \u001b[1;33m\u001b[0m\u001b[0m\n",
      "\u001b[1;32m~\\anaconda3\\lib\\site-packages\\sklearn\\utils\\validation.py\u001b[0m in \u001b[0;36m_assert_all_finite\u001b[1;34m(X, allow_nan, msg_dtype)\u001b[0m\n\u001b[0;32m    101\u001b[0m                 not allow_nan and not np.isfinite(X).all()):\n\u001b[0;32m    102\u001b[0m             \u001b[0mtype_err\u001b[0m \u001b[1;33m=\u001b[0m \u001b[1;34m'infinity'\u001b[0m \u001b[1;32mif\u001b[0m \u001b[0mallow_nan\u001b[0m \u001b[1;32melse\u001b[0m \u001b[1;34m'NaN, infinity'\u001b[0m\u001b[1;33m\u001b[0m\u001b[1;33m\u001b[0m\u001b[0m\n\u001b[1;32m--> 103\u001b[1;33m             raise ValueError(\n\u001b[0m\u001b[0;32m    104\u001b[0m                     \u001b[0mmsg_err\u001b[0m\u001b[1;33m.\u001b[0m\u001b[0mformat\u001b[0m\u001b[1;33m\u001b[0m\u001b[1;33m\u001b[0m\u001b[0m\n\u001b[0;32m    105\u001b[0m                     (type_err,\n",
      "\u001b[1;31mValueError\u001b[0m: Input contains NaN, infinity or a value too large for dtype('float32')."
     ]
    }
   ],
   "source": [
    "ys_model.fit(list_X_i_train[1], list_y_i_train[1])    #오류"
   ]
  },
  {
   "cell_type": "code",
   "execution_count": 150,
   "id": "80f553ee-a871-4c85-a251-633269ee894f",
   "metadata": {
    "collapsed": true,
    "jupyter": {
     "outputs_hidden": true
    },
    "tags": []
   },
   "outputs": [
    {
     "ename": "ValueError",
     "evalue": "Input contains NaN, infinity or a value too large for dtype('float32').",
     "output_type": "error",
     "traceback": [
      "\u001b[1;31m---------------------------------------------------------------------------\u001b[0m",
      "\u001b[1;31mValueError\u001b[0m                                Traceback (most recent call last)",
      "\u001b[1;32m<ipython-input-150-d4115ca39e6b>\u001b[0m in \u001b[0;36m<module>\u001b[1;34m\u001b[0m\n\u001b[1;32m----> 1\u001b[1;33m \u001b[0mys_model\u001b[0m\u001b[1;33m.\u001b[0m\u001b[0mfit\u001b[0m\u001b[1;33m(\u001b[0m\u001b[0mlist_X_i_train\u001b[0m\u001b[1;33m[\u001b[0m\u001b[1;36m2\u001b[0m\u001b[1;33m]\u001b[0m\u001b[1;33m,\u001b[0m \u001b[0mlist_y_i_train\u001b[0m\u001b[1;33m[\u001b[0m\u001b[1;36m2\u001b[0m\u001b[1;33m]\u001b[0m\u001b[1;33m)\u001b[0m\u001b[1;33m\u001b[0m\u001b[1;33m\u001b[0m\u001b[0m\n\u001b[0m",
      "\u001b[1;32m~\\anaconda3\\lib\\site-packages\\sklearn\\ensemble\\_forest.py\u001b[0m in \u001b[0;36mfit\u001b[1;34m(self, X, y, sample_weight)\u001b[0m\n\u001b[0;32m    302\u001b[0m                 \u001b[1;34m\"sparse multilabel-indicator for y is not supported.\"\u001b[0m\u001b[1;33m\u001b[0m\u001b[1;33m\u001b[0m\u001b[0m\n\u001b[0;32m    303\u001b[0m             )\n\u001b[1;32m--> 304\u001b[1;33m         X, y = self._validate_data(X, y, multi_output=True,\n\u001b[0m\u001b[0;32m    305\u001b[0m                                    accept_sparse=\"csc\", dtype=DTYPE)\n\u001b[0;32m    306\u001b[0m         \u001b[1;32mif\u001b[0m \u001b[0msample_weight\u001b[0m \u001b[1;32mis\u001b[0m \u001b[1;32mnot\u001b[0m \u001b[1;32mNone\u001b[0m\u001b[1;33m:\u001b[0m\u001b[1;33m\u001b[0m\u001b[1;33m\u001b[0m\u001b[0m\n",
      "\u001b[1;32m~\\anaconda3\\lib\\site-packages\\sklearn\\base.py\u001b[0m in \u001b[0;36m_validate_data\u001b[1;34m(self, X, y, reset, validate_separately, **check_params)\u001b[0m\n\u001b[0;32m    431\u001b[0m                 \u001b[0my\u001b[0m \u001b[1;33m=\u001b[0m \u001b[0mcheck_array\u001b[0m\u001b[1;33m(\u001b[0m\u001b[0my\u001b[0m\u001b[1;33m,\u001b[0m \u001b[1;33m**\u001b[0m\u001b[0mcheck_y_params\u001b[0m\u001b[1;33m)\u001b[0m\u001b[1;33m\u001b[0m\u001b[1;33m\u001b[0m\u001b[0m\n\u001b[0;32m    432\u001b[0m             \u001b[1;32melse\u001b[0m\u001b[1;33m:\u001b[0m\u001b[1;33m\u001b[0m\u001b[1;33m\u001b[0m\u001b[0m\n\u001b[1;32m--> 433\u001b[1;33m                 \u001b[0mX\u001b[0m\u001b[1;33m,\u001b[0m \u001b[0my\u001b[0m \u001b[1;33m=\u001b[0m \u001b[0mcheck_X_y\u001b[0m\u001b[1;33m(\u001b[0m\u001b[0mX\u001b[0m\u001b[1;33m,\u001b[0m \u001b[0my\u001b[0m\u001b[1;33m,\u001b[0m \u001b[1;33m**\u001b[0m\u001b[0mcheck_params\u001b[0m\u001b[1;33m)\u001b[0m\u001b[1;33m\u001b[0m\u001b[1;33m\u001b[0m\u001b[0m\n\u001b[0m\u001b[0;32m    434\u001b[0m             \u001b[0mout\u001b[0m \u001b[1;33m=\u001b[0m \u001b[0mX\u001b[0m\u001b[1;33m,\u001b[0m \u001b[0my\u001b[0m\u001b[1;33m\u001b[0m\u001b[1;33m\u001b[0m\u001b[0m\n\u001b[0;32m    435\u001b[0m \u001b[1;33m\u001b[0m\u001b[0m\n",
      "\u001b[1;32m~\\anaconda3\\lib\\site-packages\\sklearn\\utils\\validation.py\u001b[0m in \u001b[0;36minner_f\u001b[1;34m(*args, **kwargs)\u001b[0m\n\u001b[0;32m     61\u001b[0m             \u001b[0mextra_args\u001b[0m \u001b[1;33m=\u001b[0m \u001b[0mlen\u001b[0m\u001b[1;33m(\u001b[0m\u001b[0margs\u001b[0m\u001b[1;33m)\u001b[0m \u001b[1;33m-\u001b[0m \u001b[0mlen\u001b[0m\u001b[1;33m(\u001b[0m\u001b[0mall_args\u001b[0m\u001b[1;33m)\u001b[0m\u001b[1;33m\u001b[0m\u001b[1;33m\u001b[0m\u001b[0m\n\u001b[0;32m     62\u001b[0m             \u001b[1;32mif\u001b[0m \u001b[0mextra_args\u001b[0m \u001b[1;33m<=\u001b[0m \u001b[1;36m0\u001b[0m\u001b[1;33m:\u001b[0m\u001b[1;33m\u001b[0m\u001b[1;33m\u001b[0m\u001b[0m\n\u001b[1;32m---> 63\u001b[1;33m                 \u001b[1;32mreturn\u001b[0m \u001b[0mf\u001b[0m\u001b[1;33m(\u001b[0m\u001b[1;33m*\u001b[0m\u001b[0margs\u001b[0m\u001b[1;33m,\u001b[0m \u001b[1;33m**\u001b[0m\u001b[0mkwargs\u001b[0m\u001b[1;33m)\u001b[0m\u001b[1;33m\u001b[0m\u001b[1;33m\u001b[0m\u001b[0m\n\u001b[0m\u001b[0;32m     64\u001b[0m \u001b[1;33m\u001b[0m\u001b[0m\n\u001b[0;32m     65\u001b[0m             \u001b[1;31m# extra_args > 0\u001b[0m\u001b[1;33m\u001b[0m\u001b[1;33m\u001b[0m\u001b[1;33m\u001b[0m\u001b[0m\n",
      "\u001b[1;32m~\\anaconda3\\lib\\site-packages\\sklearn\\utils\\validation.py\u001b[0m in \u001b[0;36mcheck_X_y\u001b[1;34m(X, y, accept_sparse, accept_large_sparse, dtype, order, copy, force_all_finite, ensure_2d, allow_nd, multi_output, ensure_min_samples, ensure_min_features, y_numeric, estimator)\u001b[0m\n\u001b[0;32m    812\u001b[0m         \u001b[1;32mraise\u001b[0m \u001b[0mValueError\u001b[0m\u001b[1;33m(\u001b[0m\u001b[1;34m\"y cannot be None\"\u001b[0m\u001b[1;33m)\u001b[0m\u001b[1;33m\u001b[0m\u001b[1;33m\u001b[0m\u001b[0m\n\u001b[0;32m    813\u001b[0m \u001b[1;33m\u001b[0m\u001b[0m\n\u001b[1;32m--> 814\u001b[1;33m     X = check_array(X, accept_sparse=accept_sparse,\n\u001b[0m\u001b[0;32m    815\u001b[0m                     \u001b[0maccept_large_sparse\u001b[0m\u001b[1;33m=\u001b[0m\u001b[0maccept_large_sparse\u001b[0m\u001b[1;33m,\u001b[0m\u001b[1;33m\u001b[0m\u001b[1;33m\u001b[0m\u001b[0m\n\u001b[0;32m    816\u001b[0m                     \u001b[0mdtype\u001b[0m\u001b[1;33m=\u001b[0m\u001b[0mdtype\u001b[0m\u001b[1;33m,\u001b[0m \u001b[0morder\u001b[0m\u001b[1;33m=\u001b[0m\u001b[0morder\u001b[0m\u001b[1;33m,\u001b[0m \u001b[0mcopy\u001b[0m\u001b[1;33m=\u001b[0m\u001b[0mcopy\u001b[0m\u001b[1;33m,\u001b[0m\u001b[1;33m\u001b[0m\u001b[1;33m\u001b[0m\u001b[0m\n",
      "\u001b[1;32m~\\anaconda3\\lib\\site-packages\\sklearn\\utils\\validation.py\u001b[0m in \u001b[0;36minner_f\u001b[1;34m(*args, **kwargs)\u001b[0m\n\u001b[0;32m     61\u001b[0m             \u001b[0mextra_args\u001b[0m \u001b[1;33m=\u001b[0m \u001b[0mlen\u001b[0m\u001b[1;33m(\u001b[0m\u001b[0margs\u001b[0m\u001b[1;33m)\u001b[0m \u001b[1;33m-\u001b[0m \u001b[0mlen\u001b[0m\u001b[1;33m(\u001b[0m\u001b[0mall_args\u001b[0m\u001b[1;33m)\u001b[0m\u001b[1;33m\u001b[0m\u001b[1;33m\u001b[0m\u001b[0m\n\u001b[0;32m     62\u001b[0m             \u001b[1;32mif\u001b[0m \u001b[0mextra_args\u001b[0m \u001b[1;33m<=\u001b[0m \u001b[1;36m0\u001b[0m\u001b[1;33m:\u001b[0m\u001b[1;33m\u001b[0m\u001b[1;33m\u001b[0m\u001b[0m\n\u001b[1;32m---> 63\u001b[1;33m                 \u001b[1;32mreturn\u001b[0m \u001b[0mf\u001b[0m\u001b[1;33m(\u001b[0m\u001b[1;33m*\u001b[0m\u001b[0margs\u001b[0m\u001b[1;33m,\u001b[0m \u001b[1;33m**\u001b[0m\u001b[0mkwargs\u001b[0m\u001b[1;33m)\u001b[0m\u001b[1;33m\u001b[0m\u001b[1;33m\u001b[0m\u001b[0m\n\u001b[0m\u001b[0;32m     64\u001b[0m \u001b[1;33m\u001b[0m\u001b[0m\n\u001b[0;32m     65\u001b[0m             \u001b[1;31m# extra_args > 0\u001b[0m\u001b[1;33m\u001b[0m\u001b[1;33m\u001b[0m\u001b[1;33m\u001b[0m\u001b[0m\n",
      "\u001b[1;32m~\\anaconda3\\lib\\site-packages\\sklearn\\utils\\validation.py\u001b[0m in \u001b[0;36mcheck_array\u001b[1;34m(array, accept_sparse, accept_large_sparse, dtype, order, copy, force_all_finite, ensure_2d, allow_nd, ensure_min_samples, ensure_min_features, estimator)\u001b[0m\n\u001b[0;32m    661\u001b[0m \u001b[1;33m\u001b[0m\u001b[0m\n\u001b[0;32m    662\u001b[0m         \u001b[1;32mif\u001b[0m \u001b[0mforce_all_finite\u001b[0m\u001b[1;33m:\u001b[0m\u001b[1;33m\u001b[0m\u001b[1;33m\u001b[0m\u001b[0m\n\u001b[1;32m--> 663\u001b[1;33m             _assert_all_finite(array,\n\u001b[0m\u001b[0;32m    664\u001b[0m                                allow_nan=force_all_finite == 'allow-nan')\n\u001b[0;32m    665\u001b[0m \u001b[1;33m\u001b[0m\u001b[0m\n",
      "\u001b[1;32m~\\anaconda3\\lib\\site-packages\\sklearn\\utils\\validation.py\u001b[0m in \u001b[0;36m_assert_all_finite\u001b[1;34m(X, allow_nan, msg_dtype)\u001b[0m\n\u001b[0;32m    101\u001b[0m                 not allow_nan and not np.isfinite(X).all()):\n\u001b[0;32m    102\u001b[0m             \u001b[0mtype_err\u001b[0m \u001b[1;33m=\u001b[0m \u001b[1;34m'infinity'\u001b[0m \u001b[1;32mif\u001b[0m \u001b[0mallow_nan\u001b[0m \u001b[1;32melse\u001b[0m \u001b[1;34m'NaN, infinity'\u001b[0m\u001b[1;33m\u001b[0m\u001b[1;33m\u001b[0m\u001b[0m\n\u001b[1;32m--> 103\u001b[1;33m             raise ValueError(\n\u001b[0m\u001b[0;32m    104\u001b[0m                     \u001b[0mmsg_err\u001b[0m\u001b[1;33m.\u001b[0m\u001b[0mformat\u001b[0m\u001b[1;33m\u001b[0m\u001b[1;33m\u001b[0m\u001b[0m\n\u001b[0;32m    105\u001b[0m                     (type_err,\n",
      "\u001b[1;31mValueError\u001b[0m: Input contains NaN, infinity or a value too large for dtype('float32')."
     ]
    }
   ],
   "source": [
    "ys_model.fit(list_X_i_train[2], list_y_i_train[2])    #오류"
   ]
  },
  {
   "cell_type": "code",
   "execution_count": 151,
   "id": "86833b1c-9c5c-4bf5-99db-f03823f64627",
   "metadata": {},
   "outputs": [
    {
     "data": {
      "text/plain": [
       "RandomForestRegressor()"
      ]
     },
     "execution_count": 151,
     "metadata": {},
     "output_type": "execute_result"
    }
   ],
   "source": [
    "ys_model.fit(list_X_i_train[3], list_y_i_train[3])"
   ]
  },
  {
   "cell_type": "code",
   "execution_count": 152,
   "id": "52e4af9d-c095-4f7d-90ad-3ed98da6a5ea",
   "metadata": {
    "collapsed": true,
    "jupyter": {
     "outputs_hidden": true
    },
    "tags": []
   },
   "outputs": [
    {
     "ename": "ValueError",
     "evalue": "Input contains NaN, infinity or a value too large for dtype('float32').",
     "output_type": "error",
     "traceback": [
      "\u001b[1;31m---------------------------------------------------------------------------\u001b[0m",
      "\u001b[1;31mValueError\u001b[0m                                Traceback (most recent call last)",
      "\u001b[1;32m<ipython-input-152-819b52dbff42>\u001b[0m in \u001b[0;36m<module>\u001b[1;34m\u001b[0m\n\u001b[1;32m----> 1\u001b[1;33m \u001b[0mys_model\u001b[0m\u001b[1;33m.\u001b[0m\u001b[0mfit\u001b[0m\u001b[1;33m(\u001b[0m\u001b[0mlist_X_i_train\u001b[0m\u001b[1;33m[\u001b[0m\u001b[1;36m4\u001b[0m\u001b[1;33m]\u001b[0m\u001b[1;33m,\u001b[0m \u001b[0mlist_y_i_train\u001b[0m\u001b[1;33m[\u001b[0m\u001b[1;36m4\u001b[0m\u001b[1;33m]\u001b[0m\u001b[1;33m)\u001b[0m\u001b[1;33m\u001b[0m\u001b[1;33m\u001b[0m\u001b[0m\n\u001b[0m",
      "\u001b[1;32m~\\anaconda3\\lib\\site-packages\\sklearn\\ensemble\\_forest.py\u001b[0m in \u001b[0;36mfit\u001b[1;34m(self, X, y, sample_weight)\u001b[0m\n\u001b[0;32m    302\u001b[0m                 \u001b[1;34m\"sparse multilabel-indicator for y is not supported.\"\u001b[0m\u001b[1;33m\u001b[0m\u001b[1;33m\u001b[0m\u001b[0m\n\u001b[0;32m    303\u001b[0m             )\n\u001b[1;32m--> 304\u001b[1;33m         X, y = self._validate_data(X, y, multi_output=True,\n\u001b[0m\u001b[0;32m    305\u001b[0m                                    accept_sparse=\"csc\", dtype=DTYPE)\n\u001b[0;32m    306\u001b[0m         \u001b[1;32mif\u001b[0m \u001b[0msample_weight\u001b[0m \u001b[1;32mis\u001b[0m \u001b[1;32mnot\u001b[0m \u001b[1;32mNone\u001b[0m\u001b[1;33m:\u001b[0m\u001b[1;33m\u001b[0m\u001b[1;33m\u001b[0m\u001b[0m\n",
      "\u001b[1;32m~\\anaconda3\\lib\\site-packages\\sklearn\\base.py\u001b[0m in \u001b[0;36m_validate_data\u001b[1;34m(self, X, y, reset, validate_separately, **check_params)\u001b[0m\n\u001b[0;32m    431\u001b[0m                 \u001b[0my\u001b[0m \u001b[1;33m=\u001b[0m \u001b[0mcheck_array\u001b[0m\u001b[1;33m(\u001b[0m\u001b[0my\u001b[0m\u001b[1;33m,\u001b[0m \u001b[1;33m**\u001b[0m\u001b[0mcheck_y_params\u001b[0m\u001b[1;33m)\u001b[0m\u001b[1;33m\u001b[0m\u001b[1;33m\u001b[0m\u001b[0m\n\u001b[0;32m    432\u001b[0m             \u001b[1;32melse\u001b[0m\u001b[1;33m:\u001b[0m\u001b[1;33m\u001b[0m\u001b[1;33m\u001b[0m\u001b[0m\n\u001b[1;32m--> 433\u001b[1;33m                 \u001b[0mX\u001b[0m\u001b[1;33m,\u001b[0m \u001b[0my\u001b[0m \u001b[1;33m=\u001b[0m \u001b[0mcheck_X_y\u001b[0m\u001b[1;33m(\u001b[0m\u001b[0mX\u001b[0m\u001b[1;33m,\u001b[0m \u001b[0my\u001b[0m\u001b[1;33m,\u001b[0m \u001b[1;33m**\u001b[0m\u001b[0mcheck_params\u001b[0m\u001b[1;33m)\u001b[0m\u001b[1;33m\u001b[0m\u001b[1;33m\u001b[0m\u001b[0m\n\u001b[0m\u001b[0;32m    434\u001b[0m             \u001b[0mout\u001b[0m \u001b[1;33m=\u001b[0m \u001b[0mX\u001b[0m\u001b[1;33m,\u001b[0m \u001b[0my\u001b[0m\u001b[1;33m\u001b[0m\u001b[1;33m\u001b[0m\u001b[0m\n\u001b[0;32m    435\u001b[0m \u001b[1;33m\u001b[0m\u001b[0m\n",
      "\u001b[1;32m~\\anaconda3\\lib\\site-packages\\sklearn\\utils\\validation.py\u001b[0m in \u001b[0;36minner_f\u001b[1;34m(*args, **kwargs)\u001b[0m\n\u001b[0;32m     61\u001b[0m             \u001b[0mextra_args\u001b[0m \u001b[1;33m=\u001b[0m \u001b[0mlen\u001b[0m\u001b[1;33m(\u001b[0m\u001b[0margs\u001b[0m\u001b[1;33m)\u001b[0m \u001b[1;33m-\u001b[0m \u001b[0mlen\u001b[0m\u001b[1;33m(\u001b[0m\u001b[0mall_args\u001b[0m\u001b[1;33m)\u001b[0m\u001b[1;33m\u001b[0m\u001b[1;33m\u001b[0m\u001b[0m\n\u001b[0;32m     62\u001b[0m             \u001b[1;32mif\u001b[0m \u001b[0mextra_args\u001b[0m \u001b[1;33m<=\u001b[0m \u001b[1;36m0\u001b[0m\u001b[1;33m:\u001b[0m\u001b[1;33m\u001b[0m\u001b[1;33m\u001b[0m\u001b[0m\n\u001b[1;32m---> 63\u001b[1;33m                 \u001b[1;32mreturn\u001b[0m \u001b[0mf\u001b[0m\u001b[1;33m(\u001b[0m\u001b[1;33m*\u001b[0m\u001b[0margs\u001b[0m\u001b[1;33m,\u001b[0m \u001b[1;33m**\u001b[0m\u001b[0mkwargs\u001b[0m\u001b[1;33m)\u001b[0m\u001b[1;33m\u001b[0m\u001b[1;33m\u001b[0m\u001b[0m\n\u001b[0m\u001b[0;32m     64\u001b[0m \u001b[1;33m\u001b[0m\u001b[0m\n\u001b[0;32m     65\u001b[0m             \u001b[1;31m# extra_args > 0\u001b[0m\u001b[1;33m\u001b[0m\u001b[1;33m\u001b[0m\u001b[1;33m\u001b[0m\u001b[0m\n",
      "\u001b[1;32m~\\anaconda3\\lib\\site-packages\\sklearn\\utils\\validation.py\u001b[0m in \u001b[0;36mcheck_X_y\u001b[1;34m(X, y, accept_sparse, accept_large_sparse, dtype, order, copy, force_all_finite, ensure_2d, allow_nd, multi_output, ensure_min_samples, ensure_min_features, y_numeric, estimator)\u001b[0m\n\u001b[0;32m    812\u001b[0m         \u001b[1;32mraise\u001b[0m \u001b[0mValueError\u001b[0m\u001b[1;33m(\u001b[0m\u001b[1;34m\"y cannot be None\"\u001b[0m\u001b[1;33m)\u001b[0m\u001b[1;33m\u001b[0m\u001b[1;33m\u001b[0m\u001b[0m\n\u001b[0;32m    813\u001b[0m \u001b[1;33m\u001b[0m\u001b[0m\n\u001b[1;32m--> 814\u001b[1;33m     X = check_array(X, accept_sparse=accept_sparse,\n\u001b[0m\u001b[0;32m    815\u001b[0m                     \u001b[0maccept_large_sparse\u001b[0m\u001b[1;33m=\u001b[0m\u001b[0maccept_large_sparse\u001b[0m\u001b[1;33m,\u001b[0m\u001b[1;33m\u001b[0m\u001b[1;33m\u001b[0m\u001b[0m\n\u001b[0;32m    816\u001b[0m                     \u001b[0mdtype\u001b[0m\u001b[1;33m=\u001b[0m\u001b[0mdtype\u001b[0m\u001b[1;33m,\u001b[0m \u001b[0morder\u001b[0m\u001b[1;33m=\u001b[0m\u001b[0morder\u001b[0m\u001b[1;33m,\u001b[0m \u001b[0mcopy\u001b[0m\u001b[1;33m=\u001b[0m\u001b[0mcopy\u001b[0m\u001b[1;33m,\u001b[0m\u001b[1;33m\u001b[0m\u001b[1;33m\u001b[0m\u001b[0m\n",
      "\u001b[1;32m~\\anaconda3\\lib\\site-packages\\sklearn\\utils\\validation.py\u001b[0m in \u001b[0;36minner_f\u001b[1;34m(*args, **kwargs)\u001b[0m\n\u001b[0;32m     61\u001b[0m             \u001b[0mextra_args\u001b[0m \u001b[1;33m=\u001b[0m \u001b[0mlen\u001b[0m\u001b[1;33m(\u001b[0m\u001b[0margs\u001b[0m\u001b[1;33m)\u001b[0m \u001b[1;33m-\u001b[0m \u001b[0mlen\u001b[0m\u001b[1;33m(\u001b[0m\u001b[0mall_args\u001b[0m\u001b[1;33m)\u001b[0m\u001b[1;33m\u001b[0m\u001b[1;33m\u001b[0m\u001b[0m\n\u001b[0;32m     62\u001b[0m             \u001b[1;32mif\u001b[0m \u001b[0mextra_args\u001b[0m \u001b[1;33m<=\u001b[0m \u001b[1;36m0\u001b[0m\u001b[1;33m:\u001b[0m\u001b[1;33m\u001b[0m\u001b[1;33m\u001b[0m\u001b[0m\n\u001b[1;32m---> 63\u001b[1;33m                 \u001b[1;32mreturn\u001b[0m \u001b[0mf\u001b[0m\u001b[1;33m(\u001b[0m\u001b[1;33m*\u001b[0m\u001b[0margs\u001b[0m\u001b[1;33m,\u001b[0m \u001b[1;33m**\u001b[0m\u001b[0mkwargs\u001b[0m\u001b[1;33m)\u001b[0m\u001b[1;33m\u001b[0m\u001b[1;33m\u001b[0m\u001b[0m\n\u001b[0m\u001b[0;32m     64\u001b[0m \u001b[1;33m\u001b[0m\u001b[0m\n\u001b[0;32m     65\u001b[0m             \u001b[1;31m# extra_args > 0\u001b[0m\u001b[1;33m\u001b[0m\u001b[1;33m\u001b[0m\u001b[1;33m\u001b[0m\u001b[0m\n",
      "\u001b[1;32m~\\anaconda3\\lib\\site-packages\\sklearn\\utils\\validation.py\u001b[0m in \u001b[0;36mcheck_array\u001b[1;34m(array, accept_sparse, accept_large_sparse, dtype, order, copy, force_all_finite, ensure_2d, allow_nd, ensure_min_samples, ensure_min_features, estimator)\u001b[0m\n\u001b[0;32m    661\u001b[0m \u001b[1;33m\u001b[0m\u001b[0m\n\u001b[0;32m    662\u001b[0m         \u001b[1;32mif\u001b[0m \u001b[0mforce_all_finite\u001b[0m\u001b[1;33m:\u001b[0m\u001b[1;33m\u001b[0m\u001b[1;33m\u001b[0m\u001b[0m\n\u001b[1;32m--> 663\u001b[1;33m             _assert_all_finite(array,\n\u001b[0m\u001b[0;32m    664\u001b[0m                                allow_nan=force_all_finite == 'allow-nan')\n\u001b[0;32m    665\u001b[0m \u001b[1;33m\u001b[0m\u001b[0m\n",
      "\u001b[1;32m~\\anaconda3\\lib\\site-packages\\sklearn\\utils\\validation.py\u001b[0m in \u001b[0;36m_assert_all_finite\u001b[1;34m(X, allow_nan, msg_dtype)\u001b[0m\n\u001b[0;32m    101\u001b[0m                 not allow_nan and not np.isfinite(X).all()):\n\u001b[0;32m    102\u001b[0m             \u001b[0mtype_err\u001b[0m \u001b[1;33m=\u001b[0m \u001b[1;34m'infinity'\u001b[0m \u001b[1;32mif\u001b[0m \u001b[0mallow_nan\u001b[0m \u001b[1;32melse\u001b[0m \u001b[1;34m'NaN, infinity'\u001b[0m\u001b[1;33m\u001b[0m\u001b[1;33m\u001b[0m\u001b[0m\n\u001b[1;32m--> 103\u001b[1;33m             raise ValueError(\n\u001b[0m\u001b[0;32m    104\u001b[0m                     \u001b[0mmsg_err\u001b[0m\u001b[1;33m.\u001b[0m\u001b[0mformat\u001b[0m\u001b[1;33m\u001b[0m\u001b[1;33m\u001b[0m\u001b[0m\n\u001b[0;32m    105\u001b[0m                     (type_err,\n",
      "\u001b[1;31mValueError\u001b[0m: Input contains NaN, infinity or a value too large for dtype('float32')."
     ]
    }
   ],
   "source": [
    "ys_model.fit(list_X_i_train[4], list_y_i_train[4])    #오류"
   ]
  },
  {
   "cell_type": "code",
   "execution_count": 153,
   "id": "2f1a4ea6-31b1-443b-9d08-514f7b53ab7d",
   "metadata": {
    "collapsed": true,
    "jupyter": {
     "outputs_hidden": true
    },
    "tags": []
   },
   "outputs": [
    {
     "ename": "ValueError",
     "evalue": "Input contains NaN, infinity or a value too large for dtype('float32').",
     "output_type": "error",
     "traceback": [
      "\u001b[1;31m---------------------------------------------------------------------------\u001b[0m",
      "\u001b[1;31mValueError\u001b[0m                                Traceback (most recent call last)",
      "\u001b[1;32m<ipython-input-153-aecb461258c1>\u001b[0m in \u001b[0;36m<module>\u001b[1;34m\u001b[0m\n\u001b[1;32m----> 1\u001b[1;33m \u001b[0mys_model\u001b[0m\u001b[1;33m.\u001b[0m\u001b[0mfit\u001b[0m\u001b[1;33m(\u001b[0m\u001b[0mlist_X_i_train\u001b[0m\u001b[1;33m[\u001b[0m\u001b[1;36m5\u001b[0m\u001b[1;33m]\u001b[0m\u001b[1;33m,\u001b[0m \u001b[0mlist_y_i_train\u001b[0m\u001b[1;33m[\u001b[0m\u001b[1;36m5\u001b[0m\u001b[1;33m]\u001b[0m\u001b[1;33m)\u001b[0m\u001b[1;33m\u001b[0m\u001b[1;33m\u001b[0m\u001b[0m\n\u001b[0m",
      "\u001b[1;32m~\\anaconda3\\lib\\site-packages\\sklearn\\ensemble\\_forest.py\u001b[0m in \u001b[0;36mfit\u001b[1;34m(self, X, y, sample_weight)\u001b[0m\n\u001b[0;32m    302\u001b[0m                 \u001b[1;34m\"sparse multilabel-indicator for y is not supported.\"\u001b[0m\u001b[1;33m\u001b[0m\u001b[1;33m\u001b[0m\u001b[0m\n\u001b[0;32m    303\u001b[0m             )\n\u001b[1;32m--> 304\u001b[1;33m         X, y = self._validate_data(X, y, multi_output=True,\n\u001b[0m\u001b[0;32m    305\u001b[0m                                    accept_sparse=\"csc\", dtype=DTYPE)\n\u001b[0;32m    306\u001b[0m         \u001b[1;32mif\u001b[0m \u001b[0msample_weight\u001b[0m \u001b[1;32mis\u001b[0m \u001b[1;32mnot\u001b[0m \u001b[1;32mNone\u001b[0m\u001b[1;33m:\u001b[0m\u001b[1;33m\u001b[0m\u001b[1;33m\u001b[0m\u001b[0m\n",
      "\u001b[1;32m~\\anaconda3\\lib\\site-packages\\sklearn\\base.py\u001b[0m in \u001b[0;36m_validate_data\u001b[1;34m(self, X, y, reset, validate_separately, **check_params)\u001b[0m\n\u001b[0;32m    431\u001b[0m                 \u001b[0my\u001b[0m \u001b[1;33m=\u001b[0m \u001b[0mcheck_array\u001b[0m\u001b[1;33m(\u001b[0m\u001b[0my\u001b[0m\u001b[1;33m,\u001b[0m \u001b[1;33m**\u001b[0m\u001b[0mcheck_y_params\u001b[0m\u001b[1;33m)\u001b[0m\u001b[1;33m\u001b[0m\u001b[1;33m\u001b[0m\u001b[0m\n\u001b[0;32m    432\u001b[0m             \u001b[1;32melse\u001b[0m\u001b[1;33m:\u001b[0m\u001b[1;33m\u001b[0m\u001b[1;33m\u001b[0m\u001b[0m\n\u001b[1;32m--> 433\u001b[1;33m                 \u001b[0mX\u001b[0m\u001b[1;33m,\u001b[0m \u001b[0my\u001b[0m \u001b[1;33m=\u001b[0m \u001b[0mcheck_X_y\u001b[0m\u001b[1;33m(\u001b[0m\u001b[0mX\u001b[0m\u001b[1;33m,\u001b[0m \u001b[0my\u001b[0m\u001b[1;33m,\u001b[0m \u001b[1;33m**\u001b[0m\u001b[0mcheck_params\u001b[0m\u001b[1;33m)\u001b[0m\u001b[1;33m\u001b[0m\u001b[1;33m\u001b[0m\u001b[0m\n\u001b[0m\u001b[0;32m    434\u001b[0m             \u001b[0mout\u001b[0m \u001b[1;33m=\u001b[0m \u001b[0mX\u001b[0m\u001b[1;33m,\u001b[0m \u001b[0my\u001b[0m\u001b[1;33m\u001b[0m\u001b[1;33m\u001b[0m\u001b[0m\n\u001b[0;32m    435\u001b[0m \u001b[1;33m\u001b[0m\u001b[0m\n",
      "\u001b[1;32m~\\anaconda3\\lib\\site-packages\\sklearn\\utils\\validation.py\u001b[0m in \u001b[0;36minner_f\u001b[1;34m(*args, **kwargs)\u001b[0m\n\u001b[0;32m     61\u001b[0m             \u001b[0mextra_args\u001b[0m \u001b[1;33m=\u001b[0m \u001b[0mlen\u001b[0m\u001b[1;33m(\u001b[0m\u001b[0margs\u001b[0m\u001b[1;33m)\u001b[0m \u001b[1;33m-\u001b[0m \u001b[0mlen\u001b[0m\u001b[1;33m(\u001b[0m\u001b[0mall_args\u001b[0m\u001b[1;33m)\u001b[0m\u001b[1;33m\u001b[0m\u001b[1;33m\u001b[0m\u001b[0m\n\u001b[0;32m     62\u001b[0m             \u001b[1;32mif\u001b[0m \u001b[0mextra_args\u001b[0m \u001b[1;33m<=\u001b[0m \u001b[1;36m0\u001b[0m\u001b[1;33m:\u001b[0m\u001b[1;33m\u001b[0m\u001b[1;33m\u001b[0m\u001b[0m\n\u001b[1;32m---> 63\u001b[1;33m                 \u001b[1;32mreturn\u001b[0m \u001b[0mf\u001b[0m\u001b[1;33m(\u001b[0m\u001b[1;33m*\u001b[0m\u001b[0margs\u001b[0m\u001b[1;33m,\u001b[0m \u001b[1;33m**\u001b[0m\u001b[0mkwargs\u001b[0m\u001b[1;33m)\u001b[0m\u001b[1;33m\u001b[0m\u001b[1;33m\u001b[0m\u001b[0m\n\u001b[0m\u001b[0;32m     64\u001b[0m \u001b[1;33m\u001b[0m\u001b[0m\n\u001b[0;32m     65\u001b[0m             \u001b[1;31m# extra_args > 0\u001b[0m\u001b[1;33m\u001b[0m\u001b[1;33m\u001b[0m\u001b[1;33m\u001b[0m\u001b[0m\n",
      "\u001b[1;32m~\\anaconda3\\lib\\site-packages\\sklearn\\utils\\validation.py\u001b[0m in \u001b[0;36mcheck_X_y\u001b[1;34m(X, y, accept_sparse, accept_large_sparse, dtype, order, copy, force_all_finite, ensure_2d, allow_nd, multi_output, ensure_min_samples, ensure_min_features, y_numeric, estimator)\u001b[0m\n\u001b[0;32m    812\u001b[0m         \u001b[1;32mraise\u001b[0m \u001b[0mValueError\u001b[0m\u001b[1;33m(\u001b[0m\u001b[1;34m\"y cannot be None\"\u001b[0m\u001b[1;33m)\u001b[0m\u001b[1;33m\u001b[0m\u001b[1;33m\u001b[0m\u001b[0m\n\u001b[0;32m    813\u001b[0m \u001b[1;33m\u001b[0m\u001b[0m\n\u001b[1;32m--> 814\u001b[1;33m     X = check_array(X, accept_sparse=accept_sparse,\n\u001b[0m\u001b[0;32m    815\u001b[0m                     \u001b[0maccept_large_sparse\u001b[0m\u001b[1;33m=\u001b[0m\u001b[0maccept_large_sparse\u001b[0m\u001b[1;33m,\u001b[0m\u001b[1;33m\u001b[0m\u001b[1;33m\u001b[0m\u001b[0m\n\u001b[0;32m    816\u001b[0m                     \u001b[0mdtype\u001b[0m\u001b[1;33m=\u001b[0m\u001b[0mdtype\u001b[0m\u001b[1;33m,\u001b[0m \u001b[0morder\u001b[0m\u001b[1;33m=\u001b[0m\u001b[0morder\u001b[0m\u001b[1;33m,\u001b[0m \u001b[0mcopy\u001b[0m\u001b[1;33m=\u001b[0m\u001b[0mcopy\u001b[0m\u001b[1;33m,\u001b[0m\u001b[1;33m\u001b[0m\u001b[1;33m\u001b[0m\u001b[0m\n",
      "\u001b[1;32m~\\anaconda3\\lib\\site-packages\\sklearn\\utils\\validation.py\u001b[0m in \u001b[0;36minner_f\u001b[1;34m(*args, **kwargs)\u001b[0m\n\u001b[0;32m     61\u001b[0m             \u001b[0mextra_args\u001b[0m \u001b[1;33m=\u001b[0m \u001b[0mlen\u001b[0m\u001b[1;33m(\u001b[0m\u001b[0margs\u001b[0m\u001b[1;33m)\u001b[0m \u001b[1;33m-\u001b[0m \u001b[0mlen\u001b[0m\u001b[1;33m(\u001b[0m\u001b[0mall_args\u001b[0m\u001b[1;33m)\u001b[0m\u001b[1;33m\u001b[0m\u001b[1;33m\u001b[0m\u001b[0m\n\u001b[0;32m     62\u001b[0m             \u001b[1;32mif\u001b[0m \u001b[0mextra_args\u001b[0m \u001b[1;33m<=\u001b[0m \u001b[1;36m0\u001b[0m\u001b[1;33m:\u001b[0m\u001b[1;33m\u001b[0m\u001b[1;33m\u001b[0m\u001b[0m\n\u001b[1;32m---> 63\u001b[1;33m                 \u001b[1;32mreturn\u001b[0m \u001b[0mf\u001b[0m\u001b[1;33m(\u001b[0m\u001b[1;33m*\u001b[0m\u001b[0margs\u001b[0m\u001b[1;33m,\u001b[0m \u001b[1;33m**\u001b[0m\u001b[0mkwargs\u001b[0m\u001b[1;33m)\u001b[0m\u001b[1;33m\u001b[0m\u001b[1;33m\u001b[0m\u001b[0m\n\u001b[0m\u001b[0;32m     64\u001b[0m \u001b[1;33m\u001b[0m\u001b[0m\n\u001b[0;32m     65\u001b[0m             \u001b[1;31m# extra_args > 0\u001b[0m\u001b[1;33m\u001b[0m\u001b[1;33m\u001b[0m\u001b[1;33m\u001b[0m\u001b[0m\n",
      "\u001b[1;32m~\\anaconda3\\lib\\site-packages\\sklearn\\utils\\validation.py\u001b[0m in \u001b[0;36mcheck_array\u001b[1;34m(array, accept_sparse, accept_large_sparse, dtype, order, copy, force_all_finite, ensure_2d, allow_nd, ensure_min_samples, ensure_min_features, estimator)\u001b[0m\n\u001b[0;32m    661\u001b[0m \u001b[1;33m\u001b[0m\u001b[0m\n\u001b[0;32m    662\u001b[0m         \u001b[1;32mif\u001b[0m \u001b[0mforce_all_finite\u001b[0m\u001b[1;33m:\u001b[0m\u001b[1;33m\u001b[0m\u001b[1;33m\u001b[0m\u001b[0m\n\u001b[1;32m--> 663\u001b[1;33m             _assert_all_finite(array,\n\u001b[0m\u001b[0;32m    664\u001b[0m                                allow_nan=force_all_finite == 'allow-nan')\n\u001b[0;32m    665\u001b[0m \u001b[1;33m\u001b[0m\u001b[0m\n",
      "\u001b[1;32m~\\anaconda3\\lib\\site-packages\\sklearn\\utils\\validation.py\u001b[0m in \u001b[0;36m_assert_all_finite\u001b[1;34m(X, allow_nan, msg_dtype)\u001b[0m\n\u001b[0;32m    101\u001b[0m                 not allow_nan and not np.isfinite(X).all()):\n\u001b[0;32m    102\u001b[0m             \u001b[0mtype_err\u001b[0m \u001b[1;33m=\u001b[0m \u001b[1;34m'infinity'\u001b[0m \u001b[1;32mif\u001b[0m \u001b[0mallow_nan\u001b[0m \u001b[1;32melse\u001b[0m \u001b[1;34m'NaN, infinity'\u001b[0m\u001b[1;33m\u001b[0m\u001b[1;33m\u001b[0m\u001b[0m\n\u001b[1;32m--> 103\u001b[1;33m             raise ValueError(\n\u001b[0m\u001b[0;32m    104\u001b[0m                     \u001b[0mmsg_err\u001b[0m\u001b[1;33m.\u001b[0m\u001b[0mformat\u001b[0m\u001b[1;33m\u001b[0m\u001b[1;33m\u001b[0m\u001b[0m\n\u001b[0;32m    105\u001b[0m                     (type_err,\n",
      "\u001b[1;31mValueError\u001b[0m: Input contains NaN, infinity or a value too large for dtype('float32')."
     ]
    }
   ],
   "source": [
    "ys_model.fit(list_X_i_train[5], list_y_i_train[5])     #오류"
   ]
  },
  {
   "cell_type": "code",
   "execution_count": 154,
   "id": "22471884-b65a-48ae-9aba-c19db6c83d6f",
   "metadata": {
    "collapsed": true,
    "jupyter": {
     "outputs_hidden": true
    },
    "tags": []
   },
   "outputs": [
    {
     "ename": "ValueError",
     "evalue": "Input contains NaN, infinity or a value too large for dtype('float32').",
     "output_type": "error",
     "traceback": [
      "\u001b[1;31m---------------------------------------------------------------------------\u001b[0m",
      "\u001b[1;31mValueError\u001b[0m                                Traceback (most recent call last)",
      "\u001b[1;32m<ipython-input-154-96b88cc31660>\u001b[0m in \u001b[0;36m<module>\u001b[1;34m\u001b[0m\n\u001b[1;32m----> 1\u001b[1;33m \u001b[0mys_model\u001b[0m\u001b[1;33m.\u001b[0m\u001b[0mfit\u001b[0m\u001b[1;33m(\u001b[0m\u001b[0mlist_X_i_train\u001b[0m\u001b[1;33m[\u001b[0m\u001b[1;36m6\u001b[0m\u001b[1;33m]\u001b[0m\u001b[1;33m,\u001b[0m \u001b[0mlist_y_i_train\u001b[0m\u001b[1;33m[\u001b[0m\u001b[1;36m6\u001b[0m\u001b[1;33m]\u001b[0m\u001b[1;33m)\u001b[0m\u001b[1;33m\u001b[0m\u001b[1;33m\u001b[0m\u001b[0m\n\u001b[0m",
      "\u001b[1;32m~\\anaconda3\\lib\\site-packages\\sklearn\\ensemble\\_forest.py\u001b[0m in \u001b[0;36mfit\u001b[1;34m(self, X, y, sample_weight)\u001b[0m\n\u001b[0;32m    302\u001b[0m                 \u001b[1;34m\"sparse multilabel-indicator for y is not supported.\"\u001b[0m\u001b[1;33m\u001b[0m\u001b[1;33m\u001b[0m\u001b[0m\n\u001b[0;32m    303\u001b[0m             )\n\u001b[1;32m--> 304\u001b[1;33m         X, y = self._validate_data(X, y, multi_output=True,\n\u001b[0m\u001b[0;32m    305\u001b[0m                                    accept_sparse=\"csc\", dtype=DTYPE)\n\u001b[0;32m    306\u001b[0m         \u001b[1;32mif\u001b[0m \u001b[0msample_weight\u001b[0m \u001b[1;32mis\u001b[0m \u001b[1;32mnot\u001b[0m \u001b[1;32mNone\u001b[0m\u001b[1;33m:\u001b[0m\u001b[1;33m\u001b[0m\u001b[1;33m\u001b[0m\u001b[0m\n",
      "\u001b[1;32m~\\anaconda3\\lib\\site-packages\\sklearn\\base.py\u001b[0m in \u001b[0;36m_validate_data\u001b[1;34m(self, X, y, reset, validate_separately, **check_params)\u001b[0m\n\u001b[0;32m    431\u001b[0m                 \u001b[0my\u001b[0m \u001b[1;33m=\u001b[0m \u001b[0mcheck_array\u001b[0m\u001b[1;33m(\u001b[0m\u001b[0my\u001b[0m\u001b[1;33m,\u001b[0m \u001b[1;33m**\u001b[0m\u001b[0mcheck_y_params\u001b[0m\u001b[1;33m)\u001b[0m\u001b[1;33m\u001b[0m\u001b[1;33m\u001b[0m\u001b[0m\n\u001b[0;32m    432\u001b[0m             \u001b[1;32melse\u001b[0m\u001b[1;33m:\u001b[0m\u001b[1;33m\u001b[0m\u001b[1;33m\u001b[0m\u001b[0m\n\u001b[1;32m--> 433\u001b[1;33m                 \u001b[0mX\u001b[0m\u001b[1;33m,\u001b[0m \u001b[0my\u001b[0m \u001b[1;33m=\u001b[0m \u001b[0mcheck_X_y\u001b[0m\u001b[1;33m(\u001b[0m\u001b[0mX\u001b[0m\u001b[1;33m,\u001b[0m \u001b[0my\u001b[0m\u001b[1;33m,\u001b[0m \u001b[1;33m**\u001b[0m\u001b[0mcheck_params\u001b[0m\u001b[1;33m)\u001b[0m\u001b[1;33m\u001b[0m\u001b[1;33m\u001b[0m\u001b[0m\n\u001b[0m\u001b[0;32m    434\u001b[0m             \u001b[0mout\u001b[0m \u001b[1;33m=\u001b[0m \u001b[0mX\u001b[0m\u001b[1;33m,\u001b[0m \u001b[0my\u001b[0m\u001b[1;33m\u001b[0m\u001b[1;33m\u001b[0m\u001b[0m\n\u001b[0;32m    435\u001b[0m \u001b[1;33m\u001b[0m\u001b[0m\n",
      "\u001b[1;32m~\\anaconda3\\lib\\site-packages\\sklearn\\utils\\validation.py\u001b[0m in \u001b[0;36minner_f\u001b[1;34m(*args, **kwargs)\u001b[0m\n\u001b[0;32m     61\u001b[0m             \u001b[0mextra_args\u001b[0m \u001b[1;33m=\u001b[0m \u001b[0mlen\u001b[0m\u001b[1;33m(\u001b[0m\u001b[0margs\u001b[0m\u001b[1;33m)\u001b[0m \u001b[1;33m-\u001b[0m \u001b[0mlen\u001b[0m\u001b[1;33m(\u001b[0m\u001b[0mall_args\u001b[0m\u001b[1;33m)\u001b[0m\u001b[1;33m\u001b[0m\u001b[1;33m\u001b[0m\u001b[0m\n\u001b[0;32m     62\u001b[0m             \u001b[1;32mif\u001b[0m \u001b[0mextra_args\u001b[0m \u001b[1;33m<=\u001b[0m \u001b[1;36m0\u001b[0m\u001b[1;33m:\u001b[0m\u001b[1;33m\u001b[0m\u001b[1;33m\u001b[0m\u001b[0m\n\u001b[1;32m---> 63\u001b[1;33m                 \u001b[1;32mreturn\u001b[0m \u001b[0mf\u001b[0m\u001b[1;33m(\u001b[0m\u001b[1;33m*\u001b[0m\u001b[0margs\u001b[0m\u001b[1;33m,\u001b[0m \u001b[1;33m**\u001b[0m\u001b[0mkwargs\u001b[0m\u001b[1;33m)\u001b[0m\u001b[1;33m\u001b[0m\u001b[1;33m\u001b[0m\u001b[0m\n\u001b[0m\u001b[0;32m     64\u001b[0m \u001b[1;33m\u001b[0m\u001b[0m\n\u001b[0;32m     65\u001b[0m             \u001b[1;31m# extra_args > 0\u001b[0m\u001b[1;33m\u001b[0m\u001b[1;33m\u001b[0m\u001b[1;33m\u001b[0m\u001b[0m\n",
      "\u001b[1;32m~\\anaconda3\\lib\\site-packages\\sklearn\\utils\\validation.py\u001b[0m in \u001b[0;36mcheck_X_y\u001b[1;34m(X, y, accept_sparse, accept_large_sparse, dtype, order, copy, force_all_finite, ensure_2d, allow_nd, multi_output, ensure_min_samples, ensure_min_features, y_numeric, estimator)\u001b[0m\n\u001b[0;32m    812\u001b[0m         \u001b[1;32mraise\u001b[0m \u001b[0mValueError\u001b[0m\u001b[1;33m(\u001b[0m\u001b[1;34m\"y cannot be None\"\u001b[0m\u001b[1;33m)\u001b[0m\u001b[1;33m\u001b[0m\u001b[1;33m\u001b[0m\u001b[0m\n\u001b[0;32m    813\u001b[0m \u001b[1;33m\u001b[0m\u001b[0m\n\u001b[1;32m--> 814\u001b[1;33m     X = check_array(X, accept_sparse=accept_sparse,\n\u001b[0m\u001b[0;32m    815\u001b[0m                     \u001b[0maccept_large_sparse\u001b[0m\u001b[1;33m=\u001b[0m\u001b[0maccept_large_sparse\u001b[0m\u001b[1;33m,\u001b[0m\u001b[1;33m\u001b[0m\u001b[1;33m\u001b[0m\u001b[0m\n\u001b[0;32m    816\u001b[0m                     \u001b[0mdtype\u001b[0m\u001b[1;33m=\u001b[0m\u001b[0mdtype\u001b[0m\u001b[1;33m,\u001b[0m \u001b[0morder\u001b[0m\u001b[1;33m=\u001b[0m\u001b[0morder\u001b[0m\u001b[1;33m,\u001b[0m \u001b[0mcopy\u001b[0m\u001b[1;33m=\u001b[0m\u001b[0mcopy\u001b[0m\u001b[1;33m,\u001b[0m\u001b[1;33m\u001b[0m\u001b[1;33m\u001b[0m\u001b[0m\n",
      "\u001b[1;32m~\\anaconda3\\lib\\site-packages\\sklearn\\utils\\validation.py\u001b[0m in \u001b[0;36minner_f\u001b[1;34m(*args, **kwargs)\u001b[0m\n\u001b[0;32m     61\u001b[0m             \u001b[0mextra_args\u001b[0m \u001b[1;33m=\u001b[0m \u001b[0mlen\u001b[0m\u001b[1;33m(\u001b[0m\u001b[0margs\u001b[0m\u001b[1;33m)\u001b[0m \u001b[1;33m-\u001b[0m \u001b[0mlen\u001b[0m\u001b[1;33m(\u001b[0m\u001b[0mall_args\u001b[0m\u001b[1;33m)\u001b[0m\u001b[1;33m\u001b[0m\u001b[1;33m\u001b[0m\u001b[0m\n\u001b[0;32m     62\u001b[0m             \u001b[1;32mif\u001b[0m \u001b[0mextra_args\u001b[0m \u001b[1;33m<=\u001b[0m \u001b[1;36m0\u001b[0m\u001b[1;33m:\u001b[0m\u001b[1;33m\u001b[0m\u001b[1;33m\u001b[0m\u001b[0m\n\u001b[1;32m---> 63\u001b[1;33m                 \u001b[1;32mreturn\u001b[0m \u001b[0mf\u001b[0m\u001b[1;33m(\u001b[0m\u001b[1;33m*\u001b[0m\u001b[0margs\u001b[0m\u001b[1;33m,\u001b[0m \u001b[1;33m**\u001b[0m\u001b[0mkwargs\u001b[0m\u001b[1;33m)\u001b[0m\u001b[1;33m\u001b[0m\u001b[1;33m\u001b[0m\u001b[0m\n\u001b[0m\u001b[0;32m     64\u001b[0m \u001b[1;33m\u001b[0m\u001b[0m\n\u001b[0;32m     65\u001b[0m             \u001b[1;31m# extra_args > 0\u001b[0m\u001b[1;33m\u001b[0m\u001b[1;33m\u001b[0m\u001b[1;33m\u001b[0m\u001b[0m\n",
      "\u001b[1;32m~\\anaconda3\\lib\\site-packages\\sklearn\\utils\\validation.py\u001b[0m in \u001b[0;36mcheck_array\u001b[1;34m(array, accept_sparse, accept_large_sparse, dtype, order, copy, force_all_finite, ensure_2d, allow_nd, ensure_min_samples, ensure_min_features, estimator)\u001b[0m\n\u001b[0;32m    661\u001b[0m \u001b[1;33m\u001b[0m\u001b[0m\n\u001b[0;32m    662\u001b[0m         \u001b[1;32mif\u001b[0m \u001b[0mforce_all_finite\u001b[0m\u001b[1;33m:\u001b[0m\u001b[1;33m\u001b[0m\u001b[1;33m\u001b[0m\u001b[0m\n\u001b[1;32m--> 663\u001b[1;33m             _assert_all_finite(array,\n\u001b[0m\u001b[0;32m    664\u001b[0m                                allow_nan=force_all_finite == 'allow-nan')\n\u001b[0;32m    665\u001b[0m \u001b[1;33m\u001b[0m\u001b[0m\n",
      "\u001b[1;32m~\\anaconda3\\lib\\site-packages\\sklearn\\utils\\validation.py\u001b[0m in \u001b[0;36m_assert_all_finite\u001b[1;34m(X, allow_nan, msg_dtype)\u001b[0m\n\u001b[0;32m    101\u001b[0m                 not allow_nan and not np.isfinite(X).all()):\n\u001b[0;32m    102\u001b[0m             \u001b[0mtype_err\u001b[0m \u001b[1;33m=\u001b[0m \u001b[1;34m'infinity'\u001b[0m \u001b[1;32mif\u001b[0m \u001b[0mallow_nan\u001b[0m \u001b[1;32melse\u001b[0m \u001b[1;34m'NaN, infinity'\u001b[0m\u001b[1;33m\u001b[0m\u001b[1;33m\u001b[0m\u001b[0m\n\u001b[1;32m--> 103\u001b[1;33m             raise ValueError(\n\u001b[0m\u001b[0;32m    104\u001b[0m                     \u001b[0mmsg_err\u001b[0m\u001b[1;33m.\u001b[0m\u001b[0mformat\u001b[0m\u001b[1;33m\u001b[0m\u001b[1;33m\u001b[0m\u001b[0m\n\u001b[0;32m    105\u001b[0m                     (type_err,\n",
      "\u001b[1;31mValueError\u001b[0m: Input contains NaN, infinity or a value too large for dtype('float32')."
     ]
    }
   ],
   "source": [
    "ys_model.fit(list_X_i_train[6], list_y_i_train[6])     #오류"
   ]
  },
  {
   "cell_type": "code",
   "execution_count": 155,
   "id": "37a581ae-f673-42e2-adc7-10188876d0a9",
   "metadata": {},
   "outputs": [
    {
     "data": {
      "text/plain": [
       "RandomForestRegressor()"
      ]
     },
     "execution_count": 155,
     "metadata": {},
     "output_type": "execute_result"
    }
   ],
   "source": [
    "ys_model.fit(list_X_i_train[7], list_y_i_train[7])"
   ]
  },
  {
   "cell_type": "code",
   "execution_count": 156,
   "id": "bd68af15-7f59-4bf6-8a9d-79412d2078d4",
   "metadata": {},
   "outputs": [
    {
     "data": {
      "text/plain": [
       "RandomForestRegressor()"
      ]
     },
     "execution_count": 156,
     "metadata": {},
     "output_type": "execute_result"
    }
   ],
   "source": [
    "ys_model.fit(list_X_i_train[8], list_y_i_train[8])"
   ]
  },
  {
   "cell_type": "code",
   "execution_count": 157,
   "id": "71eea73b-f619-4f47-941f-6ff76f0b33c9",
   "metadata": {
    "collapsed": true,
    "jupyter": {
     "outputs_hidden": true
    },
    "tags": []
   },
   "outputs": [
    {
     "ename": "ValueError",
     "evalue": "Input contains NaN, infinity or a value too large for dtype('float32').",
     "output_type": "error",
     "traceback": [
      "\u001b[1;31m---------------------------------------------------------------------------\u001b[0m",
      "\u001b[1;31mValueError\u001b[0m                                Traceback (most recent call last)",
      "\u001b[1;32m<ipython-input-157-54cd6611ed1c>\u001b[0m in \u001b[0;36m<module>\u001b[1;34m\u001b[0m\n\u001b[1;32m----> 1\u001b[1;33m \u001b[0mys_model\u001b[0m\u001b[1;33m.\u001b[0m\u001b[0mfit\u001b[0m\u001b[1;33m(\u001b[0m\u001b[0mlist_X_i_train\u001b[0m\u001b[1;33m[\u001b[0m\u001b[1;36m9\u001b[0m\u001b[1;33m]\u001b[0m\u001b[1;33m,\u001b[0m \u001b[0mlist_y_i_train\u001b[0m\u001b[1;33m[\u001b[0m\u001b[1;36m9\u001b[0m\u001b[1;33m]\u001b[0m\u001b[1;33m)\u001b[0m\u001b[1;33m\u001b[0m\u001b[1;33m\u001b[0m\u001b[0m\n\u001b[0m",
      "\u001b[1;32m~\\anaconda3\\lib\\site-packages\\sklearn\\ensemble\\_forest.py\u001b[0m in \u001b[0;36mfit\u001b[1;34m(self, X, y, sample_weight)\u001b[0m\n\u001b[0;32m    302\u001b[0m                 \u001b[1;34m\"sparse multilabel-indicator for y is not supported.\"\u001b[0m\u001b[1;33m\u001b[0m\u001b[1;33m\u001b[0m\u001b[0m\n\u001b[0;32m    303\u001b[0m             )\n\u001b[1;32m--> 304\u001b[1;33m         X, y = self._validate_data(X, y, multi_output=True,\n\u001b[0m\u001b[0;32m    305\u001b[0m                                    accept_sparse=\"csc\", dtype=DTYPE)\n\u001b[0;32m    306\u001b[0m         \u001b[1;32mif\u001b[0m \u001b[0msample_weight\u001b[0m \u001b[1;32mis\u001b[0m \u001b[1;32mnot\u001b[0m \u001b[1;32mNone\u001b[0m\u001b[1;33m:\u001b[0m\u001b[1;33m\u001b[0m\u001b[1;33m\u001b[0m\u001b[0m\n",
      "\u001b[1;32m~\\anaconda3\\lib\\site-packages\\sklearn\\base.py\u001b[0m in \u001b[0;36m_validate_data\u001b[1;34m(self, X, y, reset, validate_separately, **check_params)\u001b[0m\n\u001b[0;32m    431\u001b[0m                 \u001b[0my\u001b[0m \u001b[1;33m=\u001b[0m \u001b[0mcheck_array\u001b[0m\u001b[1;33m(\u001b[0m\u001b[0my\u001b[0m\u001b[1;33m,\u001b[0m \u001b[1;33m**\u001b[0m\u001b[0mcheck_y_params\u001b[0m\u001b[1;33m)\u001b[0m\u001b[1;33m\u001b[0m\u001b[1;33m\u001b[0m\u001b[0m\n\u001b[0;32m    432\u001b[0m             \u001b[1;32melse\u001b[0m\u001b[1;33m:\u001b[0m\u001b[1;33m\u001b[0m\u001b[1;33m\u001b[0m\u001b[0m\n\u001b[1;32m--> 433\u001b[1;33m                 \u001b[0mX\u001b[0m\u001b[1;33m,\u001b[0m \u001b[0my\u001b[0m \u001b[1;33m=\u001b[0m \u001b[0mcheck_X_y\u001b[0m\u001b[1;33m(\u001b[0m\u001b[0mX\u001b[0m\u001b[1;33m,\u001b[0m \u001b[0my\u001b[0m\u001b[1;33m,\u001b[0m \u001b[1;33m**\u001b[0m\u001b[0mcheck_params\u001b[0m\u001b[1;33m)\u001b[0m\u001b[1;33m\u001b[0m\u001b[1;33m\u001b[0m\u001b[0m\n\u001b[0m\u001b[0;32m    434\u001b[0m             \u001b[0mout\u001b[0m \u001b[1;33m=\u001b[0m \u001b[0mX\u001b[0m\u001b[1;33m,\u001b[0m \u001b[0my\u001b[0m\u001b[1;33m\u001b[0m\u001b[1;33m\u001b[0m\u001b[0m\n\u001b[0;32m    435\u001b[0m \u001b[1;33m\u001b[0m\u001b[0m\n",
      "\u001b[1;32m~\\anaconda3\\lib\\site-packages\\sklearn\\utils\\validation.py\u001b[0m in \u001b[0;36minner_f\u001b[1;34m(*args, **kwargs)\u001b[0m\n\u001b[0;32m     61\u001b[0m             \u001b[0mextra_args\u001b[0m \u001b[1;33m=\u001b[0m \u001b[0mlen\u001b[0m\u001b[1;33m(\u001b[0m\u001b[0margs\u001b[0m\u001b[1;33m)\u001b[0m \u001b[1;33m-\u001b[0m \u001b[0mlen\u001b[0m\u001b[1;33m(\u001b[0m\u001b[0mall_args\u001b[0m\u001b[1;33m)\u001b[0m\u001b[1;33m\u001b[0m\u001b[1;33m\u001b[0m\u001b[0m\n\u001b[0;32m     62\u001b[0m             \u001b[1;32mif\u001b[0m \u001b[0mextra_args\u001b[0m \u001b[1;33m<=\u001b[0m \u001b[1;36m0\u001b[0m\u001b[1;33m:\u001b[0m\u001b[1;33m\u001b[0m\u001b[1;33m\u001b[0m\u001b[0m\n\u001b[1;32m---> 63\u001b[1;33m                 \u001b[1;32mreturn\u001b[0m \u001b[0mf\u001b[0m\u001b[1;33m(\u001b[0m\u001b[1;33m*\u001b[0m\u001b[0margs\u001b[0m\u001b[1;33m,\u001b[0m \u001b[1;33m**\u001b[0m\u001b[0mkwargs\u001b[0m\u001b[1;33m)\u001b[0m\u001b[1;33m\u001b[0m\u001b[1;33m\u001b[0m\u001b[0m\n\u001b[0m\u001b[0;32m     64\u001b[0m \u001b[1;33m\u001b[0m\u001b[0m\n\u001b[0;32m     65\u001b[0m             \u001b[1;31m# extra_args > 0\u001b[0m\u001b[1;33m\u001b[0m\u001b[1;33m\u001b[0m\u001b[1;33m\u001b[0m\u001b[0m\n",
      "\u001b[1;32m~\\anaconda3\\lib\\site-packages\\sklearn\\utils\\validation.py\u001b[0m in \u001b[0;36mcheck_X_y\u001b[1;34m(X, y, accept_sparse, accept_large_sparse, dtype, order, copy, force_all_finite, ensure_2d, allow_nd, multi_output, ensure_min_samples, ensure_min_features, y_numeric, estimator)\u001b[0m\n\u001b[0;32m    812\u001b[0m         \u001b[1;32mraise\u001b[0m \u001b[0mValueError\u001b[0m\u001b[1;33m(\u001b[0m\u001b[1;34m\"y cannot be None\"\u001b[0m\u001b[1;33m)\u001b[0m\u001b[1;33m\u001b[0m\u001b[1;33m\u001b[0m\u001b[0m\n\u001b[0;32m    813\u001b[0m \u001b[1;33m\u001b[0m\u001b[0m\n\u001b[1;32m--> 814\u001b[1;33m     X = check_array(X, accept_sparse=accept_sparse,\n\u001b[0m\u001b[0;32m    815\u001b[0m                     \u001b[0maccept_large_sparse\u001b[0m\u001b[1;33m=\u001b[0m\u001b[0maccept_large_sparse\u001b[0m\u001b[1;33m,\u001b[0m\u001b[1;33m\u001b[0m\u001b[1;33m\u001b[0m\u001b[0m\n\u001b[0;32m    816\u001b[0m                     \u001b[0mdtype\u001b[0m\u001b[1;33m=\u001b[0m\u001b[0mdtype\u001b[0m\u001b[1;33m,\u001b[0m \u001b[0morder\u001b[0m\u001b[1;33m=\u001b[0m\u001b[0morder\u001b[0m\u001b[1;33m,\u001b[0m \u001b[0mcopy\u001b[0m\u001b[1;33m=\u001b[0m\u001b[0mcopy\u001b[0m\u001b[1;33m,\u001b[0m\u001b[1;33m\u001b[0m\u001b[1;33m\u001b[0m\u001b[0m\n",
      "\u001b[1;32m~\\anaconda3\\lib\\site-packages\\sklearn\\utils\\validation.py\u001b[0m in \u001b[0;36minner_f\u001b[1;34m(*args, **kwargs)\u001b[0m\n\u001b[0;32m     61\u001b[0m             \u001b[0mextra_args\u001b[0m \u001b[1;33m=\u001b[0m \u001b[0mlen\u001b[0m\u001b[1;33m(\u001b[0m\u001b[0margs\u001b[0m\u001b[1;33m)\u001b[0m \u001b[1;33m-\u001b[0m \u001b[0mlen\u001b[0m\u001b[1;33m(\u001b[0m\u001b[0mall_args\u001b[0m\u001b[1;33m)\u001b[0m\u001b[1;33m\u001b[0m\u001b[1;33m\u001b[0m\u001b[0m\n\u001b[0;32m     62\u001b[0m             \u001b[1;32mif\u001b[0m \u001b[0mextra_args\u001b[0m \u001b[1;33m<=\u001b[0m \u001b[1;36m0\u001b[0m\u001b[1;33m:\u001b[0m\u001b[1;33m\u001b[0m\u001b[1;33m\u001b[0m\u001b[0m\n\u001b[1;32m---> 63\u001b[1;33m                 \u001b[1;32mreturn\u001b[0m \u001b[0mf\u001b[0m\u001b[1;33m(\u001b[0m\u001b[1;33m*\u001b[0m\u001b[0margs\u001b[0m\u001b[1;33m,\u001b[0m \u001b[1;33m**\u001b[0m\u001b[0mkwargs\u001b[0m\u001b[1;33m)\u001b[0m\u001b[1;33m\u001b[0m\u001b[1;33m\u001b[0m\u001b[0m\n\u001b[0m\u001b[0;32m     64\u001b[0m \u001b[1;33m\u001b[0m\u001b[0m\n\u001b[0;32m     65\u001b[0m             \u001b[1;31m# extra_args > 0\u001b[0m\u001b[1;33m\u001b[0m\u001b[1;33m\u001b[0m\u001b[1;33m\u001b[0m\u001b[0m\n",
      "\u001b[1;32m~\\anaconda3\\lib\\site-packages\\sklearn\\utils\\validation.py\u001b[0m in \u001b[0;36mcheck_array\u001b[1;34m(array, accept_sparse, accept_large_sparse, dtype, order, copy, force_all_finite, ensure_2d, allow_nd, ensure_min_samples, ensure_min_features, estimator)\u001b[0m\n\u001b[0;32m    661\u001b[0m \u001b[1;33m\u001b[0m\u001b[0m\n\u001b[0;32m    662\u001b[0m         \u001b[1;32mif\u001b[0m \u001b[0mforce_all_finite\u001b[0m\u001b[1;33m:\u001b[0m\u001b[1;33m\u001b[0m\u001b[1;33m\u001b[0m\u001b[0m\n\u001b[1;32m--> 663\u001b[1;33m             _assert_all_finite(array,\n\u001b[0m\u001b[0;32m    664\u001b[0m                                allow_nan=force_all_finite == 'allow-nan')\n\u001b[0;32m    665\u001b[0m \u001b[1;33m\u001b[0m\u001b[0m\n",
      "\u001b[1;32m~\\anaconda3\\lib\\site-packages\\sklearn\\utils\\validation.py\u001b[0m in \u001b[0;36m_assert_all_finite\u001b[1;34m(X, allow_nan, msg_dtype)\u001b[0m\n\u001b[0;32m    101\u001b[0m                 not allow_nan and not np.isfinite(X).all()):\n\u001b[0;32m    102\u001b[0m             \u001b[0mtype_err\u001b[0m \u001b[1;33m=\u001b[0m \u001b[1;34m'infinity'\u001b[0m \u001b[1;32mif\u001b[0m \u001b[0mallow_nan\u001b[0m \u001b[1;32melse\u001b[0m \u001b[1;34m'NaN, infinity'\u001b[0m\u001b[1;33m\u001b[0m\u001b[1;33m\u001b[0m\u001b[0m\n\u001b[1;32m--> 103\u001b[1;33m             raise ValueError(\n\u001b[0m\u001b[0;32m    104\u001b[0m                     \u001b[0mmsg_err\u001b[0m\u001b[1;33m.\u001b[0m\u001b[0mformat\u001b[0m\u001b[1;33m\u001b[0m\u001b[1;33m\u001b[0m\u001b[0m\n\u001b[0;32m    105\u001b[0m                     (type_err,\n",
      "\u001b[1;31mValueError\u001b[0m: Input contains NaN, infinity or a value too large for dtype('float32')."
     ]
    }
   ],
   "source": [
    "ys_model.fit(list_X_i_train[9], list_y_i_train[9])    #오류"
   ]
  },
  {
   "cell_type": "markdown",
   "id": "0c5fd41f-e79a-4c45-a81b-06d6fcce2ea3",
   "metadata": {},
   "source": [
    "↑ 제대로 실행된 molecule set은 idx [0],[3],[7],[8] 4개이다."
   ]
  },
  {
   "cell_type": "markdown",
   "id": "68a3acbf-755b-4b1c-a260-356c85ff0031",
   "metadata": {},
   "source": [
    "↓ 예측하기!"
   ]
  },
  {
   "cell_type": "code",
   "execution_count": 161,
   "id": "49f65c74-c6bb-4d0d-bfc7-46a92fc20ed5",
   "metadata": {},
   "outputs": [],
   "source": [
    "for i in [0,3,7,8]:\n",
    "    y_pred_i = ys_model.predict(list_X_i_test[i])\n",
    "    list_y_i_pred.append(y_pred_i)  "
   ]
  },
  {
   "cell_type": "code",
   "execution_count": 162,
   "id": "a8b88999-e0f2-46e7-b440-9abd74d07c4c",
   "metadata": {},
   "outputs": [
    {
     "data": {
      "text/plain": [
       "4"
      ]
     },
     "execution_count": 162,
     "metadata": {},
     "output_type": "execute_result"
    }
   ],
   "source": [
    "len(list_y_i_pred)"
   ]
  },
  {
   "cell_type": "markdown",
   "id": "a5b98016-d7c1-474e-8ba5-41163aad0cab",
   "metadata": {},
   "source": [
    "↑ 실행이 완료 되었다."
   ]
  },
  {
   "cell_type": "markdown",
   "id": "1b627cb5-7868-4d76-a94f-4654e08ec84b",
   "metadata": {},
   "source": [
    "###  <span style=\"color:orange\">Maching Learning 기본 순서 </span>\n",
    "1. 전체 dataset을 준비\n",
    "2. X , y 분리\n",
    "3. traing set , test set 분리\n",
    "---\n",
    "3. 빈 모델을 만듦\n",
    "4. 빈 모델에 traing set을 넣어 모델을 학습시킴\n",
    "5. 학습된 모델에 test set을 넣어 예측시켜봄\n",
    "---\n",
    "6. **잘 풀었나 채점해봄** → 그래프 그려보기, 오차를 정량화\n",
    "7. 모델 튜닝 Hypter parameter\n",
    "8. 어떤 feature가 중요했는지 확인 "
   ]
  },
  {
   "cell_type": "markdown",
   "id": "cbfa055a-e1f5-4c52-8ba4-0df7aa708f91",
   "metadata": {},
   "source": [
    "↓ 정답과 예측값을 비교해야하므로 y_test 리스트에서 idx [0],[3],[7],[8] 만 뽑아준다."
   ]
  },
  {
   "cell_type": "code",
   "execution_count": 163,
   "id": "a5c265f4-a65f-474a-adcd-967db09f4b97",
   "metadata": {
    "tags": []
   },
   "outputs": [
    {
     "data": {
      "text/plain": [
       "4"
      ]
     },
     "execution_count": 163,
     "metadata": {},
     "output_type": "execute_result"
    }
   ],
   "source": [
    "new_list_y_i_test = []\n",
    "for i in [0,3,7,8]:\n",
    "    new_list_y_i_test.append(list_y_i_test[i])\n",
    "len(new_list_y_i_test)"
   ]
  },
  {
   "cell_type": "markdown",
   "id": "ac78aed9-8156-408d-8b19-5fb80c680698",
   "metadata": {},
   "source": [
    "♠ 그래프 그려보기"
   ]
  },
  {
   "cell_type": "code",
   "execution_count": 105,
   "id": "5dd42bff-8ff5-41ac-b023-b1bc47711202",
   "metadata": {},
   "outputs": [],
   "source": [
    "import matplotlib.pyplot as plt  \n",
    "%matplotlib inline"
   ]
  },
  {
   "cell_type": "code",
   "execution_count": 164,
   "id": "5d60c51e-2052-4b18-95e1-a41d97409531",
   "metadata": {},
   "outputs": [
    {
     "data": {
      "text/plain": [
       "<matplotlib.legend.Legend at 0x13be6c07580>"
      ]
     },
     "execution_count": 164,
     "metadata": {},
     "output_type": "execute_result"
    },
    {
     "data": {
      "image/png": "[encoded data removed]",
      "text/plain": [
       "<Figure size 432x288 with 1 Axes>"
      ]
     },
     "metadata": {
      "needs_background": "light"
     },
     "output_type": "display_data"
    }
   ],
   "source": [
    "for i in range(0,4):\n",
    "    plt.scatter(new_list_y_i_test[i], list_y_i_pred[i])\n",
    "plt.xlabel(\"Experimental HOMO LUMO gap\")\n",
    "plt.ylabel(\"Predicted HOMO LUMO gap\")\n",
    "plt.grid()\n",
    "plt.plot(range(0, 10), range(0, 10), \"b--\", label = \"y=x\")   #plt.plot() 선형 그래프 # x값 4~11, y값 4~11\n",
    "plt.legend()"
   ]
  },
  {
   "cell_type": "markdown",
   "id": "6948cc64-fac5-4a0d-a2bb-3add7a73cfcd",
   "metadata": {},
   "source": [
    "♠ 오차 계산"
   ]
  },
  {
   "cell_type": "code",
   "execution_count": 165,
   "id": "2bd0bba0-0228-4b1f-83ff-0f8623c8d589",
   "metadata": {},
   "outputs": [
    {
     "name": "stdout",
     "output_type": "stream",
     "text": [
      "[0.6733331188669665, 0.6664155192197457, 0.6828120664309412, 0.6531091076359543]\n"
     ]
    }
   ],
   "source": [
    "for i in range(0,4):\n",
    "    r_mse_i = sqrt(mean_squared_error(new_list_y_i_test[i], list_y_i_pred[i]))    # MSE(평균 제곱 오차)에 루트를 씌워 RMSD(평균 제굽근 오차)를 구함.\n",
    "    list_r_mse_i.append(r_mse_i)\n",
    "    \n",
    "print(list_r_mse_i) "
   ]
  },
  {
   "cell_type": "markdown",
   "id": "960ddba6-30a8-442c-807a-7c51c6bfee75",
   "metadata": {},
   "source": [
    "↓ 4개의 molecule set RMSE의 평균을 구했다."
   ]
  },
  {
   "cell_type": "code",
   "execution_count": 166,
   "id": "691b281d-d69c-4bc5-a1f9-5901c846fac9",
   "metadata": {},
   "outputs": [
    {
     "data": {
      "text/plain": [
       "0.6689174530384019"
      ]
     },
     "execution_count": 166,
     "metadata": {},
     "output_type": "execute_result"
    }
   ],
   "source": [
    "import numpy as np\n",
    "mean_r_mse = np.mean(list_r_mse_i)\n",
    "mean_r_mse"
   ]
  },
  {
   "cell_type": "markdown",
   "id": "c828eda9-0b0e-4394-8615-9e44c90a0fc6",
   "metadata": {},
   "source": [
    "↑ 오차가 계산되었다.  \n",
    "<span style=\"color:purple\">[caculate 1] n_estimators=100 / min_samples_split=2 / RMSD = 0.6689174530384019 </span>"
   ]
  },
  {
   "cell_type": "markdown",
   "id": "b0ed077f-d900-44c4-909e-bc384e4ebbd5",
   "metadata": {},
   "source": [
    "###  <span style=\"color:orange\">Maching Learning 기본 순서 </span>\n",
    "1. 전체 dataset을 준비\n",
    "2. X , y 분리\n",
    "3. traing set , test set 분리\n",
    "---\n",
    "3. 빈 모델을 만듦\n",
    "4. 빈 모델에 traing set을 넣어 모델을 학습시킴\n",
    "5. 학습된 모델에 test set을 넣어 예측시켜봄\n",
    "---\n",
    "6. 잘 풀었나 채점해봄 \n",
    "7. **모델 튜닝 Hypter parameter**\n",
    "8. 어떤 feature가 중요했는지 확인"
   ]
  },
  {
   "cell_type": "markdown",
   "id": "e46c30cb-55bf-45a5-a6aa-45af2d8efba9",
   "metadata": {},
   "source": [
    "↓  Hyper parameter를 조정해 보았다.  \n",
    "<span style=\"color:purple\">[calculation 2]</span>"
   ]
  },
  {
   "cell_type": "code",
   "execution_count": 180,
   "id": "7130541e-4a9a-48b1-beba-125397fd346c",
   "metadata": {
    "collapsed": true,
    "jupyter": {
     "outputs_hidden": true
    },
    "tags": []
   },
   "outputs": [
    {
     "name": "stdout",
     "output_type": "stream",
     "text": [
      "n_estimators: 100\tmin_samples_split: 3\tNmean_r_mse_i: 0.6698005862041148\n",
      "n_estimators: 100\tmin_samples_split: 3\tNmean_r_mse_i: 0.6694928528418994\n",
      "n_estimators: 100\tmin_samples_split: 3\tNmean_r_mse_i: 0.670602787307653\n",
      "n_estimators: 100\tmin_samples_split: 3\tNmean_r_mse_i: 0.6692571196405992\n",
      "n_estimators: 100\tmin_samples_split: 4\tNmean_r_mse_i: 0.6695482624424827\n",
      "n_estimators: 100\tmin_samples_split: 4\tNmean_r_mse_i: 0.6693394128943002\n",
      "n_estimators: 100\tmin_samples_split: 4\tNmean_r_mse_i: 0.6701814537403401\n",
      "n_estimators: 100\tmin_samples_split: 4\tNmean_r_mse_i: 0.6691771980871409\n",
      "n_estimators: 125\tmin_samples_split: 3\tNmean_r_mse_i: 0.6694080825749089\n",
      "n_estimators: 125\tmin_samples_split: 3\tNmean_r_mse_i: 0.6692505792404266\n",
      "n_estimators: 125\tmin_samples_split: 3\tNmean_r_mse_i: 0.6699286535999524\n",
      "n_estimators: 125\tmin_samples_split: 3\tNmean_r_mse_i: 0.669127722839762\n",
      "n_estimators: 125\tmin_samples_split: 4\tNmean_r_mse_i: 0.6693188772046349\n",
      "n_estimators: 125\tmin_samples_split: 4\tNmean_r_mse_i: 0.6691926442487702\n",
      "n_estimators: 125\tmin_samples_split: 4\tNmean_r_mse_i: 0.6697601201730276\n",
      "n_estimators: 125\tmin_samples_split: 4\tNmean_r_mse_i: 0.6690940796715447\n",
      "n_estimators: 275\tmin_samples_split: 3\tNmean_r_mse_i: 0.6692571196405994\n",
      "n_estimators: 275\tmin_samples_split: 3\tNmean_r_mse_i: 0.6691518751805678\n",
      "n_estimators: 275\tmin_samples_split: 3\tNmean_r_mse_i: 0.6696397391537954\n",
      "n_estimators: 275\tmin_samples_split: 3\tNmean_r_mse_i: 0.6690697173773181\n",
      "n_estimators: 275\tmin_samples_split: 4\tNmean_r_mse_i: 0.6692118307603064\n",
      "n_estimators: 275\tmin_samples_split: 4\tNmean_r_mse_i: 0.6691216271622239\n",
      "n_estimators: 275\tmin_samples_split: 4\tNmean_r_mse_i: 0.6695494533893711\n",
      "n_estimators: 275\tmin_samples_split: 4\tNmean_r_mse_i: 0.6690512610938131\n",
      "n_estimators: 300\tmin_samples_split: 3\tNmean_r_mse_i: 0.6691771980871412\n",
      "n_estimators: 300\tmin_samples_split: 3\tNmean_r_mse_i: 0.6690982929766441\n",
      "n_estimators: 300\tmin_samples_split: 3\tNmean_r_mse_i: 0.6694792311281524\n",
      "n_estimators: 300\tmin_samples_split: 3\tNmean_r_mse_i: 0.669036795358093\n",
      "n_estimators: 300\tmin_samples_split: 4\tNmean_r_mse_i: 0.6691498565030635\n",
      "n_estimators: 300\tmin_samples_split: 4\tNmean_r_mse_i: 0.6690797452906707\n",
      "n_estimators: 300\tmin_samples_split: 4\tNmean_r_mse_i: 0.6694230533191772\n",
      "n_estimators: 300\tmin_samples_split: 4\tNmean_r_mse_i: 0.6690251522049523\n",
      "n_estimators: 100\tmin_samples_split: 3\tNmean_r_mse_i: 0.6691277228397622\n",
      "n_estimators: 100\tmin_samples_split: 3\tNmean_r_mse_i: 0.6690646483369711\n",
      "n_estimators: 100\tmin_samples_split: 3\tNmean_r_mse_i: 0.6693770896572886\n",
      "n_estimators: 100\tmin_samples_split: 3\tNmean_r_mse_i: 0.6690155789457034\n",
      "n_estimators: 100\tmin_samples_split: 4\tNmean_r_mse_i: 0.6691094385092091\n",
      "n_estimators: 100\tmin_samples_split: 4\tNmean_r_mse_i: 0.6690521210775184\n",
      "n_estimators: 100\tmin_samples_split: 4\tNmean_r_mse_i: 0.6693387866057146\n",
      "n_estimators: 100\tmin_samples_split: 4\tNmean_r_mse_i: 0.6690075686675562\n",
      "n_estimators: 125\tmin_samples_split: 3\tNmean_r_mse_i: 0.6690940796715443\n",
      "n_estimators: 125\tmin_samples_split: 3\tNmean_r_mse_i: 0.6690415588783719\n",
      "n_estimators: 125\tmin_samples_split: 3\tNmean_r_mse_i: 0.6693063763313059\n",
      "n_estimators: 125\tmin_samples_split: 3\tNmean_r_mse_i: 0.6690007674879974\n",
      "n_estimators: 125\tmin_samples_split: 4\tNmean_r_mse_i: 0.6690809962172375\n",
      "n_estimators: 125\tmin_samples_split: 4\tNmean_r_mse_i: 0.6690325329991014\n",
      "n_estimators: 125\tmin_samples_split: 4\tNmean_r_mse_i: 0.6692785960960984\n",
      "n_estimators: 125\tmin_samples_split: 4\tNmean_r_mse_i: 0.6689949208599556\n",
      "n_estimators: 275\tmin_samples_split: 3\tNmean_r_mse_i: 0.6690697173773178\n",
      "n_estimators: 275\tmin_samples_split: 3\tNmean_r_mse_i: 0.6690247309678674\n",
      "n_estimators: 275\tmin_samples_split: 3\tNmean_r_mse_i: 0.669254519892252\n",
      "n_estimators: 275\tmin_samples_split: 3\tNmean_r_mse_i: 0.6689898410028046\n",
      "n_estimators: 275\tmin_samples_split: 4\tNmean_r_mse_i: 0.6690598938715813\n",
      "n_estimators: 275\tmin_samples_split: 4\tNmean_r_mse_i: 0.6690179196707585\n",
      "n_estimators: 275\tmin_samples_split: 4\tNmean_r_mse_i: 0.6692334532138864\n",
      "n_estimators: 275\tmin_samples_split: 4\tNmean_r_mse_i: 0.6689853863588413\n",
      "n_estimators: 300\tmin_samples_split: 3\tNmean_r_mse_i: 0.6690512610938129\n",
      "n_estimators: 300\tmin_samples_split: 3\tNmean_r_mse_i: 0.6690119216628566\n",
      "n_estimators: 300\tmin_samples_split: 3\tNmean_r_mse_i: 0.6692148649682697\n",
      "n_estimators: 300\tmin_samples_split: 3\tNmean_r_mse_i: 0.6689814481953376\n",
      "n_estimators: 300\tmin_samples_split: 4\tNmean_r_mse_i: 0.6690436149192179\n",
      "n_estimators: 300\tmin_samples_split: 4\tNmean_r_mse_i: 0.669006599486831\n",
      "n_estimators: 300\tmin_samples_split: 4\tNmean_r_mse_i: 0.669198342083277\n",
      "n_estimators: 300\tmin_samples_split: 4\tNmean_r_mse_i: 0.6689779416113959\n",
      "n_estimators: 100\tmin_samples_split: 3\tNmean_r_mse_i: 0.6690367953580928\n",
      "n_estimators: 100\tmin_samples_split: 3\tNmean_r_mse_i: 0.6690018450095815\n",
      "n_estimators: 100\tmin_samples_split: 3\tNmean_r_mse_i: 0.6691835584493362\n",
      "n_estimators: 100\tmin_samples_split: 3\tNmean_r_mse_i: 0.6689747993478637\n",
      "n_estimators: 100\tmin_samples_split: 4\tNmean_r_mse_i: 0.6690306752391343\n",
      "n_estimators: 100\tmin_samples_split: 4\tNmean_r_mse_i: 0.6689975719983825\n",
      "n_estimators: 100\tmin_samples_split: 4\tNmean_r_mse_i: 0.6691702531787895\n",
      "n_estimators: 100\tmin_samples_split: 4\tNmean_r_mse_i: 0.6689719674313471\n",
      "n_estimators: 125\tmin_samples_split: 3\tNmean_r_mse_i: 0.6690251522049522\n",
      "n_estimators: 125\tmin_samples_split: 3\tNmean_r_mse_i: 0.6689937108436846\n",
      "n_estimators: 125\tmin_samples_split: 3\tNmean_r_mse_i: 0.6691582150768662\n",
      "n_estimators: 125\tmin_samples_split: 3\tNmean_r_mse_i: 0.6689694020481497\n",
      "n_estimators: 125\tmin_samples_split: 4\tNmean_r_mse_i: 0.6690201429413917\n",
      "n_estimators: 125\tmin_samples_split: 4\tNmean_r_mse_i: 0.6689902047376947\n",
      "n_estimators: 125\tmin_samples_split: 4\tNmean_r_mse_i: 0.6691472713478451\n",
      "n_estimators: 125\tmin_samples_split: 4\tNmean_r_mse_i: 0.6689670672611947\n",
      "n_estimators: 275\tmin_samples_split: 3\tNmean_r_mse_i: 0.6690155789457033\n",
      "n_estimators: 275\tmin_samples_split: 3\tNmean_r_mse_i: 0.6689870068608026\n",
      "n_estimators: 275\tmin_samples_split: 3\tNmean_r_mse_i: 0.6691372792474346\n",
      "n_estimators: 275\tmin_samples_split: 3\tNmean_r_mse_i: 0.6689649333161284\n",
      "n_estimators: 275\tmin_samples_split: 4\tNmean_r_mse_i: 0.6690114033751798\n",
      "n_estimators: 275\tmin_samples_split: 4\tNmean_r_mse_i: 0.6689840782788068\n",
      "n_estimators: 275\tmin_samples_split: 4\tNmean_r_mse_i: 0.6691281198220583\n",
      "n_estimators: 275\tmin_samples_split: 4\tNmean_r_mse_i: 0.6689629753665315\n",
      "n_estimators: 300\tmin_samples_split: 3\tNmean_r_mse_i: 0.6690075686675564\n",
      "n_estimators: 300\tmin_samples_split: 3\tNmean_r_mse_i: 0.6689813863499017\n",
      "n_estimators: 300\tmin_samples_split: 3\tNmean_r_mse_i: 0.6691196931507121\n",
      "n_estimators: 300\tmin_samples_split: 3\tNmean_r_mse_i: 0.6689611725020511\n",
      "n_estimators: 300\tmin_samples_split: 4\tNmean_r_mse_i: 0.669004034721315\n",
      "n_estimators: 300\tmin_samples_split: 4\tNmean_r_mse_i: 0.668978903502853\n",
      "n_estimators: 300\tmin_samples_split: 4\tNmean_r_mse_i: 0.6691119146848539\n",
      "n_estimators: 300\tmin_samples_split: 4\tNmean_r_mse_i: 0.6689595069986739\n",
      "n_estimators: 100\tmin_samples_split: 3\tNmean_r_mse_i: 0.6690007674879974\n",
      "n_estimators: 100\tmin_samples_split: 3\tNmean_r_mse_i: 0.6689766062892286\n",
      "n_estimators: 100\tmin_samples_split: 3\tNmean_r_mse_i: 0.6691047124016519\n",
      "n_estimators: 100\tmin_samples_split: 3\tNmean_r_mse_i: 0.6689579637340767\n",
      "n_estimators: 100\tmin_samples_split: 4\tNmean_r_mse_i: 0.6689977378716484\n",
      "n_estimators: 100\tmin_samples_split: 4\tNmean_r_mse_i: 0.6689744746405502\n",
      "n_estimators: 100\tmin_samples_split: 4\tNmean_r_mse_i: 0.6690980245672503\n",
      "n_estimators: 100\tmin_samples_split: 4\tNmean_r_mse_i: 0.6689565297271504\n",
      "n_estimators: 125\tmin_samples_split: 3\tNmean_r_mse_i: 0.6689949208599557\n",
      "n_estimators: 125\tmin_samples_split: 3\tNmean_r_mse_i: 0.6689724912804756\n",
      "n_estimators: 125\tmin_samples_split: 3\tNmean_r_mse_i: 0.6690917979628072\n",
      "n_estimators: 125\tmin_samples_split: 3\tNmean_r_mse_i: 0.6689551937719794\n",
      "n_estimators: 125\tmin_samples_split: 4\tNmean_r_mse_i: 0.6689922948321064\n",
      "n_estimators: 125\tmin_samples_split: 4\tNmean_r_mse_i: 0.6689706412555319\n",
      "n_estimators: 125\tmin_samples_split: 4\tNmean_r_mse_i: 0.6690859864653269\n",
      "n_estimators: 125\tmin_samples_split: 4\tNmean_r_mse_i: 0.668953946144423\n",
      "n_estimators: 275\tmin_samples_split: 3\tNmean_r_mse_i: 0.6689898410028046\n",
      "n_estimators: 275\tmin_samples_split: 3\tNmean_r_mse_i: 0.6689689115574138\n",
      "n_estimators: 275\tmin_samples_split: 3\tNmean_r_mse_i: 0.669080549903168\n",
      "n_estimators: 275\tmin_samples_split: 3\tNmean_r_mse_i: 0.6689527783650303\n",
      "n_estimators: 275\tmin_samples_split: 4\tNmean_r_mse_i: 0.6689875429721885\n",
      "n_estimators: 275\tmin_samples_split: 4\tNmean_r_mse_i: 0.6689672908166574\n",
      "n_estimators: 275\tmin_samples_split: 4\tNmean_r_mse_i: 0.6690754531261441\n",
      "n_estimators: 275\tmin_samples_split: 4\tNmean_r_mse_i: 0.6689516830060651\n",
      "n_estimators: 300\tmin_samples_split: 3\tNmean_r_mse_i: 0.6689853863588413\n",
      "n_estimators: 300\tmin_samples_split: 3\tNmean_r_mse_i: 0.6689657690524361\n",
      "n_estimators: 300\tmin_samples_split: 3\tNmean_r_mse_i: 0.6690706652446974\n",
      "n_estimators: 300\tmin_samples_split: 3\tNmean_r_mse_i: 0.6689506535333536\n",
      "n_estimators: 300\tmin_samples_split: 4\tNmean_r_mse_i: 0.6689833584985297\n",
      "n_estimators: 300\tmin_samples_split: 4\tNmean_r_mse_i: 0.668964337466835\n",
      "n_estimators: 300\tmin_samples_split: 4\tNmean_r_mse_i: 0.6690661590033358\n",
      "n_estimators: 300\tmin_samples_split: 4\tNmean_r_mse_i: 0.6689496841758367\n",
      "---------End of Calculation!---------\n",
      "min_est: 300\tmin_spl: 4\tmin_r_mse_i: 0.6689496841758367\n"
     ]
    }
   ],
   "source": [
    "Nlist_y_i_pred = []\n",
    "Nlist_r_mse_i =[]\n",
    "min_r_mse_i = 0.7\n",
    "\n",
    "for i in [0,3,7,8]:       # 위에서 쪼갠 molecule set 중 one, four, eight, nine 만 .fit() 가 실행되므로 해당 set들만 계산이 돌아가도록 설정해주고\n",
    "    for est in [100,125,275,300]:      \n",
    "        for spl in [3,4]:\n",
    "            model = RandomForestRegressor(n_estimators = est ,min_samples_split = spl)    # 여러 hyper parameter를 넣어볼 모델을 만들고\n",
    "            model.fit(list_X_i_train[i], list_y_i_train[i])     # 학습시키기!\n",
    "            y_pred_i = model.predict(list_X_i_test[i])         # 예측하기!\n",
    "            Nlist_y_i_pred.append(y_pred_i)                    # 4개의 molecule set을 따로 돌렸으므로 예측값들을 리스트에 넣어주고\n",
    "            for i in range(0,4):                               \n",
    "                r_mse_i = sqrt(mean_squared_error(new_list_y_i_test[i], list_y_i_pred[i]))    # 4개의 molecule set들 각각의 정답과 예측 값의 RMSE를 리스트에 넣어주고\n",
    "                list_r_mse_i.append(r_mse_i)    \n",
    "                Nmean_r_mse_i = np.mean(list_r_mse_i)    # 구한 4개의 RMSE의 평균을 구한다.\n",
    "\n",
    "                if Nmean_r_mse_i < min_r_mse_i :      #  hyper parameter를 바꿔가며 구한 RMSE 평균의 최소값을 구한다.\n",
    "                    min_r_mse_i = Nmean_r_mse_i\n",
    "                    min_est = est\n",
    "                    min_spl = spl               \n",
    "\n",
    "                print(f\"n_estimators: {est}\\tmin_samples_split: {spl}\\tNmean_r_mse_i: {Nmean_r_mse_i}\")\n",
    "print(\"---------End of Calculation!---------\")\n",
    "print(f\"min_est: {min_est}\\tmin_spl: {min_spl}\\tmin_r_mse_i: {min_r_mse_i}\")  "
   ]
  },
  {
   "cell_type": "markdown",
   "id": "612faf2e-f648-4441-b83e-0de1362381a5",
   "metadata": {},
   "source": [
    "<span style=\"color:purple\">↑ [caculate 2] n_estimators=300 / min_samples_split=4 / RMSD = 0.6689496841758367 </span>"
   ]
  },
  {
   "cell_type": "markdown",
   "id": "88a663de-7046-496a-8faf-289ee7f6bb45",
   "metadata": {},
   "source": [
    "<span style=\"color:purple\">[calculation 3]</span>"
   ]
  },
  {
   "cell_type": "code",
   "execution_count": 182,
   "id": "8193371b-f89f-43ea-b1bb-f1c2f1207aa7",
   "metadata": {
    "collapsed": true,
    "jupyter": {
     "outputs_hidden": true
    },
    "tags": []
   },
   "outputs": [
    {
     "name": "stdout",
     "output_type": "stream",
     "text": [
      "n_estimators: 25\tmin_samples_split: 2\tNmean_r_mse_i: 0.6689814481953376\n",
      "n_estimators: 25\tmin_samples_split: 2\tNmean_r_mse_i: 0.6689629882746498\n",
      "n_estimators: 25\tmin_samples_split: 2\tNmean_r_mse_i: 0.6690619102614805\n",
      "n_estimators: 25\tmin_samples_split: 2\tNmean_r_mse_i: 0.6689487698173278\n",
      "n_estimators: 25\tmin_samples_split: 3\tNmean_r_mse_i: 0.6689796455148604\n",
      "n_estimators: 25\tmin_samples_split: 3\tNmean_r_mse_i: 0.6689617145617478\n",
      "n_estimators: 25\tmin_samples_split: 3\tNmean_r_mse_i: 0.6690578975608394\n",
      "n_estimators: 25\tmin_samples_split: 3\tNmean_r_mse_i: 0.668947905906185\n",
      "n_estimators: 25\tmin_samples_split: 4\tNmean_r_mse_i: 0.6689779416113959\n",
      "n_estimators: 25\tmin_samples_split: 4\tNmean_r_mse_i: 0.6689605101665548\n",
      "n_estimators: 25\tmin_samples_split: 4\tNmean_r_mse_i: 0.6690541017629357\n",
      "n_estimators: 25\tmin_samples_split: 4\tNmean_r_mse_i: 0.6689470883795332\n",
      "n_estimators: 25\tmin_samples_split: 5\tNmean_r_mse_i: 0.6689763285827828\n",
      "n_estimators: 25\tmin_samples_split: 5\tNmean_r_mse_i: 0.6689593695803785\n",
      "n_estimators: 25\tmin_samples_split: 5\tNmean_r_mse_i: 0.669050505743869\n",
      "n_estimators: 25\tmin_samples_split: 5\tNmean_r_mse_i: 0.6689463135993728\n",
      "n_estimators: 50\tmin_samples_split: 2\tNmean_r_mse_i: 0.6689747993478637\n",
      "n_estimators: 50\tmin_samples_split: 2\tNmean_r_mse_i: 0.6689582878631661\n",
      "n_estimators: 50\tmin_samples_split: 2\tNmean_r_mse_i: 0.6690470941360366\n",
      "n_estimators: 50\tmin_samples_split: 2\tNmean_r_mse_i: 0.6689455782984564\n",
      "n_estimators: 50\tmin_samples_split: 3\tNmean_r_mse_i: 0.6689733475425609\n",
      "n_estimators: 50\tmin_samples_split: 3\tNmean_r_mse_i: 0.6689572605719771\n",
      "n_estimators: 50\tmin_samples_split: 3\tNmean_r_mse_i: 0.6690438531085957\n",
      "n_estimators: 50\tmin_samples_split: 3\tNmean_r_mse_i: 0.6689448795342314\n",
      "n_estimators: 50\tmin_samples_split: 4\tNmean_r_mse_i: 0.6689719674313471\n",
      "n_estimators: 50\tmin_samples_split: 4\tNmean_r_mse_i: 0.6689562836999876\n",
      "n_estimators: 50\tmin_samples_split: 4\tNmean_r_mse_i: 0.6690407701800544\n",
      "n_estimators: 50\tmin_samples_split: 4\tNmean_r_mse_i: 0.6689442146494842\n",
      "n_estimators: 50\tmin_samples_split: 5\tNmean_r_mse_i: 0.6689706538315171\n",
      "n_estimators: 50\tmin_samples_split: 5\tNmean_r_mse_i: 0.668955353624261\n",
      "n_estimators: 50\tmin_samples_split: 5\tNmean_r_mse_i: 0.6690378340576341\n",
      "n_estimators: 50\tmin_samples_split: 5\tNmean_r_mse_i: 0.6689435812385709\n",
      "n_estimators: 75\tmin_samples_split: 2\tNmean_r_mse_i: 0.6689694020481497\n",
      "n_estimators: 75\tmin_samples_split: 2\tNmean_r_mse_i: 0.668954467060849\n",
      "n_estimators: 75\tmin_samples_split: 2\tNmean_r_mse_i: 0.6690350344990473\n",
      "n_estimators: 75\tmin_samples_split: 2\tNmean_r_mse_i: 0.6689429771183357\n",
      "n_estimators: 75\tmin_samples_split: 3\tNmean_r_mse_i: 0.6689682078180405\n",
      "n_estimators: 75\tmin_samples_split: 3\tNmean_r_mse_i: 0.6689536210260503\n",
      "n_estimators: 75\tmin_samples_split: 3\tNmean_r_mse_i: 0.6690323621931236\n",
      "n_estimators: 75\tmin_samples_split: 3\tNmean_r_mse_i: 0.66894240030297\n",
      "n_estimators: 75\tmin_samples_split: 4\tNmean_r_mse_i: 0.6689670672611947\n",
      "n_estimators: 75\tmin_samples_split: 4\tNmean_r_mse_i: 0.6689528128028627\n",
      "n_estimators: 75\tmin_samples_split: 4\tNmean_r_mse_i: 0.6690298086563519\n",
      "n_estimators: 75\tmin_samples_split: 4\tNmean_r_mse_i: 0.6689418489822061\n",
      "n_estimators: 75\tmin_samples_split: 5\tNmean_r_mse_i: 0.6689659768387158\n",
      "n_estimators: 75\tmin_samples_split: 5\tNmean_r_mse_i: 0.6689520399118362\n",
      "n_estimators: 75\tmin_samples_split: 5\tNmean_r_mse_i: 0.6690273661429182\n",
      "n_estimators: 75\tmin_samples_split: 5\tNmean_r_mse_i: 0.6689413215023401\n",
      "n_estimators: 100\tmin_samples_split: 2\tNmean_r_mse_i: 0.6689649333161284\n",
      "n_estimators: 100\tmin_samples_split: 2\tNmean_r_mse_i: 0.6689513000856664\n",
      "n_estimators: 100\tmin_samples_split: 2\tNmean_r_mse_i: 0.6690250275662264\n",
      "n_estimators: 100\tmin_samples_split: 2\tNmean_r_mse_i: 0.6689408163496641\n",
      "n_estimators: 100\tmin_samples_split: 3\tNmean_r_mse_i: 0.6689639337313341\n",
      "n_estimators: 100\tmin_samples_split: 3\tNmean_r_mse_i: 0.6689505912469802\n",
      "n_estimators: 100\tmin_samples_split: 3\tNmean_r_mse_i: 0.6690227864302302\n",
      "n_estimators: 100\tmin_samples_split: 3\tNmean_r_mse_i: 0.6689403321359594\n",
      "n_estimators: 100\tmin_samples_split: 4\tNmean_r_mse_i: 0.6689629753665314\n",
      "n_estimators: 100\tmin_samples_split: 4\tNmean_r_mse_i: 0.6689499114888556\n",
      "n_estimators: 100\tmin_samples_split: 4\tNmean_r_mse_i: 0.6690206367691723\n",
      "n_estimators: 100\tmin_samples_split: 4\tNmean_r_mse_i: 0.6689398675857551\n",
      "n_estimators: 100\tmin_samples_split: 5\tNmean_r_mse_i: 0.668962055723539\n",
      "n_estimators: 100\tmin_samples_split: 5\tNmean_r_mse_i: 0.6689492590576908\n",
      "n_estimators: 100\tmin_samples_split: 5\tNmean_r_mse_i: 0.6690185730945569\n",
      "n_estimators: 100\tmin_samples_split: 5\tNmean_r_mse_i: 0.6689394215251112\n",
      "n_estimators: 125\tmin_samples_split: 2\tNmean_r_mse_i: 0.6689611725020511\n",
      "n_estimators: 125\tmin_samples_split: 2\tNmean_r_mse_i: 0.6689486323380989\n",
      "n_estimators: 125\tmin_samples_split: 2\tNmean_r_mse_i: 0.6690165903483578\n",
      "n_estimators: 125\tmin_samples_split: 2\tNmean_r_mse_i: 0.6689389928717119\n",
      "n_estimators: 125\tmin_samples_split: 3\tNmean_r_mse_i: 0.6689603235804269\n",
      "n_estimators: 125\tmin_samples_split: 3\tNmean_r_mse_i: 0.6689480298395539\n",
      "n_estimators: 125\tmin_samples_split: 3\tNmean_r_mse_i: 0.669014683861628\n",
      "n_estimators: 125\tmin_samples_split: 3\tNmean_r_mse_i: 0.6689385806260983\n",
      "n_estimators: 125\tmin_samples_split: 4\tNmean_r_mse_i: 0.6689595069986739\n",
      "n_estimators: 125\tmin_samples_split: 4\tNmean_r_mse_i: 0.6689474501845557\n",
      "n_estimators: 125\tmin_samples_split: 4\tNmean_r_mse_i: 0.6690128493177934\n",
      "n_estimators: 125\tmin_samples_split: 4\tNmean_r_mse_i: 0.6689381838638881\n",
      "n_estimators: 125\tmin_samples_split: 5\tNmean_r_mse_i: 0.6689587209433416\n",
      "n_estimators: 125\tmin_samples_split: 5\tNmean_r_mse_i: 0.6689468920981156\n",
      "n_estimators: 125\tmin_samples_split: 5\tNmean_r_mse_i: 0.669011082720027\n",
      "n_estimators: 125\tmin_samples_split: 5\tNmean_r_mse_i: 0.6689378017288562\n",
      "n_estimators: 150\tmin_samples_split: 2\tNmean_r_mse_i: 0.6689579637340767\n",
      "n_estimators: 150\tmin_samples_split: 2\tNmean_r_mse_i: 0.6689463543983949\n",
      "n_estimators: 150\tmin_samples_split: 2\tNmean_r_mse_i: 0.669009380362179\n",
      "n_estimators: 150\tmin_samples_split: 2\tNmean_r_mse_i: 0.6689374334267664\n",
      "n_estimators: 150\tmin_samples_split: 3\tNmean_r_mse_i: 0.6689572338116322\n",
      "n_estimators: 150\tmin_samples_split: 3\tNmean_r_mse_i: 0.6689458359883502\n",
      "n_estimators: 150\tmin_samples_split: 3\tNmean_r_mse_i: 0.669007738802826\n",
      "n_estimators: 150\tmin_samples_split: 3\tNmean_r_mse_i: 0.6689370782198623\n",
      "n_estimators: 150\tmin_samples_split: 4\tNmean_r_mse_i: 0.6689565297271503\n",
      "n_estimators: 150\tmin_samples_split: 4\tNmean_r_mse_i: 0.668945335848263\n",
      "n_estimators: 150\tmin_samples_split: 4\tNmean_r_mse_i: 0.6690061548420466\n",
      "n_estimators: 150\tmin_samples_split: 4\tNmean_r_mse_i: 0.6689367354219328\n",
      "n_estimators: 150\tmin_samples_split: 5\tNmean_r_mse_i: 0.6689558501325633\n",
      "n_estimators: 150\tmin_samples_split: 5\tNmean_r_mse_i: 0.6689448530290447\n",
      "n_estimators: 150\tmin_samples_split: 5\tNmean_r_mse_i: 0.6690046255006046\n",
      "n_estimators: 150\tmin_samples_split: 5\tNmean_r_mse_i: 0.6689364043938895\n",
      "n_estimators: 175\tmin_samples_split: 2\tNmean_r_mse_i: 0.6689551937719794\n",
      "n_estimators: 175\tmin_samples_split: 2\tNmean_r_mse_i: 0.6689443866462252\n",
      "n_estimators: 175\tmin_samples_split: 2\tNmean_r_mse_i: 0.6690031480012452\n",
      "n_estimators: 175\tmin_samples_split: 2\tNmean_r_mse_i: 0.6689360845397884\n",
      "n_estimators: 175\tmin_samples_split: 3\tNmean_r_mse_i: 0.6689545594739361\n",
      "n_estimators: 175\tmin_samples_split: 3\tNmean_r_mse_i: 0.6689439358745463\n",
      "n_estimators: 175\tmin_samples_split: 3\tNmean_r_mse_i: 0.6690017197518645\n",
      "n_estimators: 175\tmin_samples_split: 3\tNmean_r_mse_i: 0.6689357753032507\n",
      "n_estimators: 175\tmin_samples_split: 4\tNmean_r_mse_i: 0.6689539461444232\n",
      "n_estimators: 175\tmin_samples_split: 4\tNmean_r_mse_i: 0.668943499943087\n",
      "n_estimators: 175\tmin_samples_split: 4\tNmean_r_mse_i: 0.6690003383303323\n",
      "n_estimators: 175\tmin_samples_split: 4\tNmean_r_mse_i: 0.6689354761642328\n",
      "n_estimators: 175\tmin_samples_split: 5\tNmean_r_mse_i: 0.6689533527605853\n",
      "n_estimators: 175\tmin_samples_split: 5\tNmean_r_mse_i: 0.6689430781308653\n",
      "n_estimators: 175\tmin_samples_split: 5\tNmean_r_mse_i: 0.668999001470785\n",
      "n_estimators: 175\tmin_samples_split: 5\tNmean_r_mse_i: 0.668935186636107\n",
      "n_estimators: 200\tmin_samples_split: 2\tNmean_r_mse_i: 0.6689527783650303\n",
      "n_estimators: 200\tmin_samples_split: 2\tNmean_r_mse_i: 0.6689426697628579\n",
      "n_estimators: 200\tmin_samples_split: 2\tNmean_r_mse_i: 0.6689977070512234\n",
      "n_estimators: 200\tmin_samples_split: 2\tNmean_r_mse_i: 0.6689349062630207\n",
      "n_estimators: 200\tmin_samples_split: 3\tNmean_r_mse_i: 0.668952222060674\n",
      "n_estimators: 200\tmin_samples_split: 3\tNmean_r_mse_i: 0.6689422742063958\n",
      "n_estimators: 200\tmin_samples_split: 3\tNmean_r_mse_i: 0.668996453082273\n",
      "n_estimators: 200\tmin_samples_split: 3\tNmean_r_mse_i: 0.6689346346175014\n",
      "n_estimators: 200\tmin_samples_split: 4\tNmean_r_mse_i: 0.6689516830060651\n",
      "n_estimators: 200\tmin_samples_split: 4\tNmean_r_mse_i: 0.668941890867894\n",
      "n_estimators: 200\tmin_samples_split: 4\tNmean_r_mse_i: 0.6689952376969827\n",
      "n_estimators: 200\tmin_samples_split: 4\tNmean_r_mse_i: 0.6689343712982814\n",
      "n_estimators: 200\tmin_samples_split: 5\tNmean_r_mse_i: 0.668951160411139\n",
      "n_estimators: 200\tmin_samples_split: 5\tNmean_r_mse_i: 0.668941519189879\n",
      "n_estimators: 200\tmin_samples_split: 5\tNmean_r_mse_i: 0.6689940591415496\n",
      "n_estimators: 200\tmin_samples_split: 5\tNmean_r_mse_i: 0.668934115928321\n",
      "n_estimators: 225\tmin_samples_split: 2\tNmean_r_mse_i: 0.6689506535333536\n",
      "n_estimators: 225\tmin_samples_split: 2\tNmean_r_mse_i: 0.6689411586482839\n",
      "n_estimators: 225\tmin_samples_split: 2\tNmean_r_mse_i: 0.6689929157668758\n",
      "n_estimators: 225\tmin_samples_split: 2\tNmean_r_mse_i: 0.6689338681530062\n",
      "n_estimators: 225\tmin_samples_split: 3\tNmean_r_mse_i: 0.6689501616741691\n",
      "n_estimators: 225\tmin_samples_split: 3\tNmean_r_mse_i: 0.668940808749983\n",
      "n_estimators: 225\tmin_samples_split: 3\tNmean_r_mse_i: 0.6689918060208688\n",
      "n_estimators: 225\tmin_samples_split: 3\tNmean_r_mse_i: 0.6689336276385065\n",
      "n_estimators: 225\tmin_samples_split: 4\tNmean_r_mse_i: 0.6689496841758367\n",
      "n_estimators: 225\tmin_samples_split: 4\tNmean_r_mse_i: 0.6689404690305418\n",
      "n_estimators: 225\tmin_samples_split: 4\tNmean_r_mse_i: 0.6689907284414127\n",
      "n_estimators: 225\tmin_samples_split: 4\tNmean_r_mse_i: 0.668933394070274\n",
      "n_estimators: 225\tmin_samples_split: 5\tNmean_r_mse_i: 0.6689492204184635\n",
      "n_estimators: 225\tmin_samples_split: 5\tNmean_r_mse_i: 0.6689401390521598\n",
      "n_estimators: 225\tmin_samples_split: 5\tNmean_r_mse_i: 0.6689896816499412\n",
      "n_estimators: 225\tmin_samples_split: 5\tNmean_r_mse_i: 0.6689331671516708\n",
      "n_estimators: 250\tmin_samples_split: 2\tNmean_r_mse_i: 0.6689487698173278\n",
      "n_estimators: 250\tmin_samples_split: 2\tNmean_r_mse_i: 0.6689398184017887\n",
      "n_estimators: 250\tmin_samples_split: 2\tNmean_r_mse_i: 0.6689886643455534\n",
      "n_estimators: 250\tmin_samples_split: 2\tNmean_r_mse_i: 0.6689329466027126\n",
      "n_estimators: 250\tmin_samples_split: 3\tNmean_r_mse_i: 0.6689483318204198\n",
      "n_estimators: 250\tmin_samples_split: 3\tNmean_r_mse_i: 0.668939506689407\n",
      "n_estimators: 250\tmin_samples_split: 3\tNmean_r_mse_i: 0.6689876752996207\n",
      "n_estimators: 250\tmin_samples_split: 3\tNmean_r_mse_i: 0.6689327321589159\n",
      "n_estimators: 250\tmin_samples_split: 4\tNmean_r_mse_i: 0.668947905906185\n",
      "n_estimators: 250\tmin_samples_split: 4\tNmean_r_mse_i: 0.6689392035464379\n",
      "n_estimators: 250\tmin_samples_split: 4\tNmean_r_mse_i: 0.6689867133508368\n",
      "n_estimators: 250\tmin_samples_split: 4\tNmean_r_mse_i: 0.6689325235702399\n",
      "n_estimators: 250\tmin_samples_split: 5\tNmean_r_mse_i: 0.6689474915814534\n",
      "n_estimators: 250\tmin_samples_split: 5\tNmean_r_mse_i: 0.6689389086242951\n",
      "n_estimators: 250\tmin_samples_split: 5\tNmean_r_mse_i: 0.6689857774006688\n",
      "n_estimators: 250\tmin_samples_split: 5\tNmean_r_mse_i: 0.6689323206001142\n",
      "n_estimators: 275\tmin_samples_split: 2\tNmean_r_mse_i: 0.6689470883795332\n",
      "n_estimators: 275\tmin_samples_split: 2\tNmean_r_mse_i: 0.6689386215930456\n",
      "n_estimators: 275\tmin_samples_split: 2\tNmean_r_mse_i: 0.668984866409172\n",
      "n_estimators: 275\tmin_samples_split: 2\tNmean_r_mse_i: 0.6689321230245433\n",
      "n_estimators: 275\tmin_samples_split: 3\tNmean_r_mse_i: 0.6689466958584587\n",
      "n_estimators: 275\tmin_samples_split: 3\tNmean_r_mse_i: 0.668938342140179\n",
      "n_estimators: 275\tmin_samples_split: 3\tNmean_r_mse_i: 0.6689839793911355\n",
      "n_estimators: 275\tmin_samples_split: 3\tNmean_r_mse_i: 0.6689319306312824\n",
      "n_estimators: 275\tmin_samples_split: 4\tNmean_r_mse_i: 0.6689463135993728\n",
      "n_estimators: 275\tmin_samples_split: 4\tNmean_r_mse_i: 0.6689380699694718\n",
      "n_estimators: 275\tmin_samples_split: 4\tNmean_r_mse_i: 0.6689831154125285\n",
      "n_estimators: 275\tmin_samples_split: 4\tNmean_r_mse_i: 0.6689317432190769\n",
      "n_estimators: 275\tmin_samples_split: 5\tNmean_r_mse_i: 0.6689459412050378\n",
      "n_estimators: 275\tmin_samples_split: 5\tNmean_r_mse_i: 0.6689378047999404\n",
      "n_estimators: 275\tmin_samples_split: 5\tNmean_r_mse_i: 0.6689822735872192\n",
      "n_estimators: 275\tmin_samples_split: 5\tNmean_r_mse_i: 0.6689315605969597\n",
      "n_estimators: 300\tmin_samples_split: 2\tNmean_r_mse_i: 0.6689455782984564\n",
      "n_estimators: 300\tmin_samples_split: 2\tNmean_r_mse_i: 0.6689375463648732\n",
      "n_estimators: 300\tmin_samples_split: 2\tNmean_r_mse_i: 0.6689814530739431\n",
      "n_estimators: 300\tmin_samples_split: 2\tNmean_r_mse_i: 0.6689313825836024\n",
      "n_estimators: 300\tmin_samples_split: 3\tNmean_r_mse_i: 0.6689452245216003\n",
      "n_estimators: 300\tmin_samples_split: 3\tNmean_r_mse_i: 0.6689372944109363\n",
      "n_estimators: 300\tmin_samples_split: 3\tNmean_r_mse_i: 0.6689806530734987\n",
      "n_estimators: 300\tmin_samples_split: 3\tNmean_r_mse_i: 0.6689312090067152\n",
      "n_estimators: 300\tmin_samples_split: 4\tNmean_r_mse_i: 0.6689448795342314\n",
      "n_estimators: 300\tmin_samples_split: 4\tNmean_r_mse_i: 0.6689370486973445\n",
      "n_estimators: 300\tmin_samples_split: 4\tNmean_r_mse_i: 0.6689798728261519\n",
      "n_estimators: 300\tmin_samples_split: 4\tNmean_r_mse_i: 0.6689310397024897\n",
      "n_estimators: 300\tmin_samples_split: 5\tNmean_r_mse_i: 0.6689445430128103\n",
      "n_estimators: 300\tmin_samples_split: 5\tNmean_r_mse_i: 0.6689368089950944\n",
      "n_estimators: 300\tmin_samples_split: 5\tNmean_r_mse_i: 0.6689791116092282\n",
      "n_estimators: 300\tmin_samples_split: 5\tNmean_r_mse_i: 0.6689308745150844\n",
      "n_estimators: 25\tmin_samples_split: 2\tNmean_r_mse_i: 0.6689442146494842\n",
      "n_estimators: 25\tmin_samples_split: 2\tNmean_r_mse_i: 0.6689365750862523\n",
      "n_estimators: 25\tmin_samples_split: 2\tNmean_r_mse_i: 0.6689783687348808\n",
      "n_estimators: 25\tmin_samples_split: 2\tNmean_r_mse_i: 0.6689307132961453\n",
      "n_estimators: 25\tmin_samples_split: 3\tNmean_r_mse_i: 0.6689438941511479\n",
      "n_estimators: 25\tmin_samples_split: 3\tNmean_r_mse_i: 0.6689363467632928\n",
      "n_estimators: 25\tmin_samples_split: 3\tNmean_r_mse_i: 0.668977643548018\n",
      "n_estimators: 25\tmin_samples_split: 3\tNmean_r_mse_i: 0.668930555904362\n",
      "n_estimators: 25\tmin_samples_split: 4\tNmean_r_mse_i: 0.6689435812385709\n",
      "n_estimators: 25\tmin_samples_split: 4\tNmean_r_mse_i: 0.6689361238284859\n",
      "n_estimators: 25\tmin_samples_split: 4\tNmean_r_mse_i: 0.6689769354243754\n",
      "n_estimators: 25\tmin_samples_split: 4\tNmean_r_mse_i: 0.6689304022050546\n",
      "n_estimators: 25\tmin_samples_split: 5\tNmean_r_mse_i: 0.6689432756455865\n",
      "n_estimators: 25\tmin_samples_split: 5\tNmean_r_mse_i: 0.6689359060933245\n",
      "n_estimators: 25\tmin_samples_split: 5\tNmean_r_mse_i: 0.6689762437687246\n",
      "n_estimators: 25\tmin_samples_split: 5\tNmean_r_mse_i: 0.6689302520697891\n",
      "n_estimators: 50\tmin_samples_split: 2\tNmean_r_mse_i: 0.6689429771183357\n",
      "n_estimators: 50\tmin_samples_split: 2\tNmean_r_mse_i: 0.668935693377994\n",
      "n_estimators: 50\tmin_samples_split: 2\tNmean_r_mse_i: 0.6689755680132037\n",
      "n_estimators: 50\tmin_samples_split: 2\tNmean_r_mse_i: 0.6689301053760195\n",
      "n_estimators: 50\tmin_samples_split: 3\tNmean_r_mse_i: 0.668942685414565\n",
      "n_estimators: 50\tmin_samples_split: 3\tNmean_r_mse_i: 0.6689354855108761\n",
      "n_estimators: 50\tmin_samples_split: 3\tNmean_r_mse_i: 0.6689749076157626\n",
      "n_estimators: 50\tmin_samples_split: 3\tNmean_r_mse_i: 0.6689299620067548\n",
      "n_estimators: 50\tmin_samples_split: 4\tNmean_r_mse_i: 0.66894240030297\n",
      "n_estimators: 50\tmin_samples_split: 4\tNmean_r_mse_i: 0.6689352823280877\n",
      "n_estimators: 50\tmin_samples_split: 4\tNmean_r_mse_i: 0.6689742620587137\n",
      "n_estimators: 50\tmin_samples_split: 4\tNmean_r_mse_i: 0.6689298218502465\n",
      "n_estimators: 50\tmin_samples_split: 5\tNmean_r_mse_i: 0.6689421215625838\n",
      "n_estimators: 50\tmin_samples_split: 5\tNmean_r_mse_i: 0.6689350836730494\n",
      "n_estimators: 50\tmin_samples_split: 5\tNmean_r_mse_i: 0.6689736308473769\n",
      "n_estimators: 50\tmin_samples_split: 5\tNmean_r_mse_i: 0.6689296847996998\n",
      "n_estimators: 75\tmin_samples_split: 2\tNmean_r_mse_i: 0.6689418489822061\n",
      "n_estimators: 75\tmin_samples_split: 2\tNmean_r_mse_i: 0.6689348893960836\n",
      "n_estimators: 75\tmin_samples_split: 2\tNmean_r_mse_i: 0.6689730135088168\n",
      "n_estimators: 75\tmin_samples_split: 2\tNmean_r_mse_i: 0.6689295507530006\n",
      "n_estimators: 75\tmin_samples_split: 3\tNmean_r_mse_i: 0.6689415823598694\n",
      "n_estimators: 75\tmin_samples_split: 3\tNmean_r_mse_i: 0.6689346993540379\n",
      "n_estimators: 75\tmin_samples_split: 3\tNmean_r_mse_i: 0.6689724095906601\n",
      "n_estimators: 75\tmin_samples_split: 3\tNmean_r_mse_i: 0.668929419612463\n",
      "n_estimators: 75\tmin_samples_split: 4\tNmean_r_mse_i: 0.6689413215023401\n",
      "n_estimators: 75\tmin_samples_split: 4\tNmean_r_mse_i: 0.668934513409934\n",
      "n_estimators: 75\tmin_samples_split: 4\tNmean_r_mse_i: 0.6689718186599906\n",
      "n_estimators: 75\tmin_samples_split: 4\tNmean_r_mse_i: 0.6689292912845911\n",
      "n_estimators: 75\tmin_samples_split: 5\tNmean_r_mse_i: 0.6689410662246508\n",
      "n_estimators: 75\tmin_samples_split: 5\tNmean_r_mse_i: 0.6689343314326378\n",
      "n_estimators: 75\tmin_samples_split: 5\tNmean_r_mse_i: 0.6689712403023141\n",
      "n_estimators: 75\tmin_samples_split: 5\tNmean_r_mse_i: 0.6689291656798569\n",
      "n_estimators: 100\tmin_samples_split: 2\tNmean_r_mse_i: 0.6689408163496642\n",
      "n_estimators: 100\tmin_samples_split: 2\tNmean_r_mse_i: 0.6689341532965508\n",
      "n_estimators: 100\tmin_samples_split: 2\tNmean_r_mse_i: 0.6689706741205887\n",
      "n_estimators: 100\tmin_samples_split: 2\tNmean_r_mse_i: 0.6689290427124925\n",
      "n_estimators: 100\tmin_samples_split: 3\tNmean_r_mse_i: 0.6689405717076613\n",
      "n_estimators: 100\tmin_samples_split: 3\tNmean_r_mse_i: 0.668933978881322\n",
      "n_estimators: 100\tmin_samples_split: 3\tNmean_r_mse_i: 0.668970119734316\n",
      "n_estimators: 100\tmin_samples_split: 3\tNmean_r_mse_i: 0.6689289223002942\n",
      "n_estimators: 100\tmin_samples_split: 4\tNmean_r_mse_i: 0.6689403321359594\n",
      "n_estimators: 100\tmin_samples_split: 4\tNmean_r_mse_i: 0.6689338080715762\n",
      "n_estimators: 100\tmin_samples_split: 4\tNmean_r_mse_i: 0.668969576778688\n",
      "n_estimators: 100\tmin_samples_split: 4\tNmean_r_mse_i: 0.6689288043644392\n",
      "n_estimators: 100\tmin_samples_split: 5\tNmean_r_mse_i: 0.6689400974785483\n",
      "n_estimators: 100\tmin_samples_split: 5\tNmean_r_mse_i: 0.6689336407566587\n",
      "n_estimators: 100\tmin_samples_split: 5\tNmean_r_mse_i: 0.6689690449037871\n",
      "n_estimators: 100\tmin_samples_split: 5\tNmean_r_mse_i: 0.6689286888293142\n",
      "n_estimators: 125\tmin_samples_split: 2\tNmean_r_mse_i: 0.6689398675857551\n",
      "n_estimators: 125\tmin_samples_split: 2\tNmean_r_mse_i: 0.6689334768303979\n",
      "n_estimators: 125\tmin_samples_split: 2\tNmean_r_mse_i: 0.6689685237738338\n",
      "n_estimators: 125\tmin_samples_split: 2\tNmean_r_mse_i: 0.6689285756223529\n",
      "n_estimators: 125\tmin_samples_split: 3\tNmean_r_mse_i: 0.6689396423139222\n",
      "n_estimators: 125\tmin_samples_split: 3\tNmean_r_mse_i: 0.6689333161908791\n",
      "n_estimators: 125\tmin_samples_split: 3\tNmean_r_mse_i: 0.6689680130664795\n",
      "n_estimators: 125\tmin_samples_split: 3\tNmean_r_mse_i: 0.6689284646738846\n",
      "n_estimators: 125\tmin_samples_split: 4\tNmean_r_mse_i: 0.6689394215251111\n",
      "n_estimators: 125\tmin_samples_split: 4\tNmean_r_mse_i: 0.6689331587402343\n",
      "n_estimators: 125\tmin_samples_split: 4\tNmean_r_mse_i: 0.668967512472142\n",
      "n_estimators: 125\tmin_samples_split: 4\tNmean_r_mse_i: 0.668928355916991\n",
      "n_estimators: 125\tmin_samples_split: 5\tNmean_r_mse_i: 0.6689392050868184\n",
      "n_estimators: 125\tmin_samples_split: 5\tNmean_r_mse_i: 0.6689330043844424\n",
      "n_estimators: 125\tmin_samples_split: 5\tNmean_r_mse_i: 0.66896702169338\n",
      "n_estimators: 125\tmin_samples_split: 5\tNmean_r_mse_i: 0.6689282492873715\n",
      "n_estimators: 150\tmin_samples_split: 2\tNmean_r_mse_i: 0.6689389928717119\n",
      "n_estimators: 150\tmin_samples_split: 2\tNmean_r_mse_i: 0.6689328530331426\n",
      "n_estimators: 150\tmin_samples_split: 2\tNmean_r_mse_i: 0.6689665404443024\n",
      "n_estimators: 150\tmin_samples_split: 2\tNmean_r_mse_i: 0.6689281447232168\n",
      "n_estimators: 150\tmin_samples_split: 3\tNmean_r_mse_i: 0.6689387847573804\n",
      "n_estimators: 150\tmin_samples_split: 3\tNmean_r_mse_i: 0.6689327045994584\n",
      "n_estimators: 150\tmin_samples_split: 3\tNmean_r_mse_i: 0.6689660684500149\n",
      "n_estimators: 150\tmin_samples_split: 3\tNmean_r_mse_i: 0.6689280421650892\n",
      "n_estimators: 150\tmin_samples_split: 4\tNmean_r_mse_i: 0.6689385806260983\n",
      "n_estimators: 150\tmin_samples_split: 4\tNmean_r_mse_i: 0.6689325589998303\n",
      "n_estimators: 150\tmin_samples_split: 4\tNmean_r_mse_i: 0.6689656054460947\n",
      "n_estimators: 150\tmin_samples_split: 4\tNmean_r_mse_i: 0.6689279415558095\n",
      "n_estimators: 150\tmin_samples_split: 5\tNmean_r_mse_i: 0.6689383803646036\n",
      "n_estimators: 150\tmin_samples_split: 5\tNmean_r_mse_i: 0.6689324161538593\n",
      "n_estimators: 150\tmin_samples_split: 5\tNmean_r_mse_i: 0.6689651511780976\n",
      "n_estimators: 150\tmin_samples_split: 5\tNmean_r_mse_i: 0.6689278428403516\n",
      "n_estimators: 175\tmin_samples_split: 2\tNmean_r_mse_i: 0.6689381838638881\n",
      "n_estimators: 175\tmin_samples_split: 2\tNmean_r_mse_i: 0.6689322759841595\n",
      "n_estimators: 175\tmin_samples_split: 2\tNmean_r_mse_i: 0.6689647054010912\n",
      "n_estimators: 175\tmin_samples_split: 2\tNmean_r_mse_i: 0.6689277459657412\n",
      "n_estimators: 175\tmin_samples_split: 3\tNmean_r_mse_i: 0.6689379910189999\n",
      "n_estimators: 175\tmin_samples_split: 3\tNmean_r_mse_i: 0.6689321384162175\n",
      "n_estimators: 175\tmin_samples_split: 3\tNmean_r_mse_i: 0.6689642678792143\n",
      "n_estimators: 175\tmin_samples_split: 3\tNmean_r_mse_i: 0.6689276508809621\n",
      "n_estimators: 175\tmin_samples_split: 4\tNmean_r_mse_i: 0.6689378017288562\n",
      "n_estimators: 175\tmin_samples_split: 4\tNmean_r_mse_i: 0.6689320033782605\n",
      "n_estimators: 175\tmin_samples_split: 4\tNmean_r_mse_i: 0.668963838385262\n",
      "n_estimators: 175\tmin_samples_split: 4\tNmean_r_mse_i: 0.6689275575368653\n",
      "n_estimators: 175\tmin_samples_split: 5\tNmean_r_mse_i: 0.6689376158960666\n",
      "n_estimators: 175\tmin_samples_split: 5\tNmean_r_mse_i: 0.6689318708011318\n",
      "n_estimators: 175\tmin_samples_split: 5\tNmean_r_mse_i: 0.6689634167002905\n",
      "n_estimators: 175\tmin_samples_split: 5\tNmean_r_mse_i: 0.6689274658860856\n",
      "n_estimators: 200\tmin_samples_split: 2\tNmean_r_mse_i: 0.6689374334267665\n",
      "n_estimators: 200\tmin_samples_split: 2\tNmean_r_mse_i: 0.6689317406181727\n",
      "n_estimators: 200\tmin_samples_split: 2\tNmean_r_mse_i: 0.6689630026132465\n",
      "n_estimators: 200\tmin_samples_split: 2\tNmean_r_mse_i: 0.6689273758829604\n",
      "n_estimators: 200\tmin_samples_split: 3\tNmean_r_mse_i: 0.6689372542304582\n",
      "n_estimators: 200\tmin_samples_split: 3\tNmean_r_mse_i: 0.6689316127651097\n",
      "n_estimators: 200\tmin_samples_split: 3\tNmean_r_mse_i: 0.6689625959206139\n",
      "n_estimators: 200\tmin_samples_split: 3\tNmean_r_mse_i: 0.6689272874834543\n",
      "n_estimators: 200\tmin_samples_split: 4\tNmean_r_mse_i: 0.6689370782198623\n",
      "n_estimators: 200\tmin_samples_split: 4\tNmean_r_mse_i: 0.6689314871799507\n",
      "n_estimators: 200\tmin_samples_split: 4\tNmean_r_mse_i: 0.6689621964260811\n",
      "n_estimators: 200\tmin_samples_split: 4\tNmean_r_mse_i: 0.6689272006450874\n",
      "n_estimators: 200\tmin_samples_split: 5\tNmean_r_mse_i: 0.6689369053107744\n",
      "n_estimators: 200\tmin_samples_split: 5\tNmean_r_mse_i: 0.668931363802882\n",
      "n_estimators: 200\tmin_samples_split: 5\tNmean_r_mse_i: 0.6689618039402243\n",
      "n_estimators: 200\tmin_samples_split: 5\tNmean_r_mse_i: 0.668927115326867\n",
      "n_estimators: 225\tmin_samples_split: 2\tNmean_r_mse_i: 0.6689367354219329\n",
      "n_estimators: 225\tmin_samples_split: 2\tNmean_r_mse_i: 0.6689312425761764\n",
      "n_estimators: 225\tmin_samples_split: 2\tNmean_r_mse_i: 0.6689614182802085\n",
      "n_estimators: 225\tmin_samples_split: 2\tNmean_r_mse_i: 0.6689270314892231\n",
      "n_estimators: 225\tmin_samples_split: 3\tNmean_r_mse_i: 0.6689365684748892\n",
      "n_estimators: 225\tmin_samples_split: 3\tNmean_r_mse_i: 0.6689311234441004\n",
      "n_estimators: 225\tmin_samples_split: 3\tNmean_r_mse_i: 0.6689610392695032\n",
      "n_estimators: 225\tmin_samples_split: 3\tNmean_r_mse_i: 0.6689269490939472\n",
      "n_estimators: 225\tmin_samples_split: 4\tNmean_r_mse_i: 0.6689364043938895\n",
      "n_estimators: 225\tmin_samples_split: 4\tNmean_r_mse_i: 0.6689310063528312\n",
      "n_estimators: 225\tmin_samples_split: 4\tNmean_r_mse_i: 0.6689606667376135\n",
      "n_estimators: 225\tmin_samples_split: 4\tNmean_r_mse_i: 0.6689268681041345\n",
      "n_estimators: 225\tmin_samples_split: 5\tNmean_r_mse_i: 0.6689362431057575\n",
      "n_estimators: 225\tmin_samples_split: 5\tNmean_r_mse_i: 0.6689308912503731\n",
      "n_estimators: 225\tmin_samples_split: 5\tNmean_r_mse_i: 0.6689603005198236\n",
      "n_estimators: 225\tmin_samples_split: 5\tNmean_r_mse_i: 0.6689267884841282\n",
      "n_estimators: 250\tmin_samples_split: 2\tNmean_r_mse_i: 0.6689360845397885\n",
      "n_estimators: 250\tmin_samples_split: 2\tNmean_r_mse_i: 0.6689307780864829\n",
      "n_estimators: 250\tmin_samples_split: 2\tNmean_r_mse_i: 0.6689599404569545\n",
      "n_estimators: 250\tmin_samples_split: 2\tNmean_r_mse_i: 0.6689267101994681\n",
      "n_estimators: 250\tmin_samples_split: 3\tNmean_r_mse_i: 0.6689359286276428\n",
      "n_estimators: 250\tmin_samples_split: 3\tNmean_r_mse_i: 0.6689306668125949\n",
      "n_estimators: 250\tmin_samples_split: 3\tNmean_r_mse_i: 0.6689595863951332\n",
      "n_estimators: 250\tmin_samples_split: 3\tNmean_r_mse_i: 0.6689266332168398\n",
      "n_estimators: 250\tmin_samples_split: 4\tNmean_r_mse_i: 0.6689357753032508\n",
      "n_estimators: 250\tmin_samples_split: 4\tNmean_r_mse_i: 0.6689305573817528\n",
      "n_estimators: 250\tmin_samples_split: 4\tNmean_r_mse_i: 0.6689592381855735\n",
      "n_estimators: 250\tmin_samples_split: 4\tNmean_r_mse_i: 0.6689265575040279\n",
      "n_estimators: 250\tmin_samples_split: 5\tNmean_r_mse_i: 0.6689356245027169\n",
      "n_estimators: 250\tmin_samples_split: 5\tNmean_r_mse_i: 0.6689304497485425\n",
      "n_estimators: 250\tmin_samples_split: 5\tNmean_r_mse_i: 0.6689588956843672\n",
      "n_estimators: 250\tmin_samples_split: 5\tNmean_r_mse_i: 0.6689264830298715\n",
      "n_estimators: 275\tmin_samples_split: 2\tNmean_r_mse_i: 0.6689354761642328\n",
      "n_estimators: 275\tmin_samples_split: 2\tNmean_r_mse_i: 0.6689303438690302\n",
      "n_estimators: 275\tmin_samples_split: 2\tNmean_r_mse_i: 0.6689585587522862\n",
      "n_estimators: 275\tmin_samples_split: 2\tNmean_r_mse_i: 0.6689264097642206\n",
      "n_estimators: 275\tmin_samples_split: 3\tNmean_r_mse_i: 0.6689353302279912\n",
      "n_estimators: 275\tmin_samples_split: 3\tNmean_r_mse_i: 0.6689302397007019\n",
      "n_estimators: 275\tmin_samples_split: 3\tNmean_r_mse_i: 0.6689582272545934\n",
      "n_estimators: 275\tmin_samples_split: 3\tNmean_r_mse_i: 0.6689263376778961\n",
      "n_estimators: 275\tmin_samples_split: 4\tNmean_r_mse_i: 0.668935186636107\n",
      "n_estimators: 275\tmin_samples_split: 4\tNmean_r_mse_i: 0.6689301372024069\n",
      "n_estimators: 275\tmin_samples_split: 4\tNmean_r_mse_i: 0.668957901060864\n",
      "n_estimators: 275\tmin_samples_split: 4\tNmean_r_mse_i: 0.6689262667426505\n",
      "n_estimators: 275\tmin_samples_split: 5\tNmean_r_mse_i: 0.6689350453325397\n",
      "n_estimators: 275\tmin_samples_split: 5\tNmean_r_mse_i: 0.6689300363343035\n",
      "n_estimators: 275\tmin_samples_split: 5\tNmean_r_mse_i: 0.6689575800448125\n",
      "n_estimators: 275\tmin_samples_split: 5\tNmean_r_mse_i: 0.6689261969311316\n",
      "n_estimators: 300\tmin_samples_split: 2\tNmean_r_mse_i: 0.6689349062630208\n",
      "n_estimators: 300\tmin_samples_split: 2\tNmean_r_mse_i: 0.6689299370578071\n",
      "n_estimators: 300\tmin_samples_split: 2\tNmean_r_mse_i: 0.6689572640841321\n",
      "n_estimators: 300\tmin_samples_split: 2\tNmean_r_mse_i: 0.6689261282168469\n",
      "n_estimators: 300\tmin_samples_split: 3\tNmean_r_mse_i: 0.6689347693749844\n",
      "n_estimators: 300\tmin_samples_split: 3\tNmean_r_mse_i: 0.6689298393355417\n",
      "n_estimators: 300\tmin_samples_split: 3\tNmean_r_mse_i: 0.6689569530603374\n",
      "n_estimators: 300\tmin_samples_split: 3\tNmean_r_mse_i: 0.6689260605741301\n",
      "n_estimators: 300\tmin_samples_split: 4\tNmean_r_mse_i: 0.6689346346175014\n",
      "n_estimators: 300\tmin_samples_split: 4\tNmean_r_mse_i: 0.668929743131292\n",
      "n_estimators: 300\tmin_samples_split: 4\tNmean_r_mse_i: 0.668956646858617\n",
      "n_estimators: 300\tmin_samples_split: 4\tNmean_r_mse_i: 0.6689259939781089\n",
      "n_estimators: 300\tmin_samples_split: 5\tNmean_r_mse_i: 0.6689345019412147\n",
      "n_estimators: 300\tmin_samples_split: 5\tNmean_r_mse_i: 0.6689296484099595\n",
      "n_estimators: 300\tmin_samples_split: 5\tNmean_r_mse_i: 0.6689563453676923\n",
      "n_estimators: 300\tmin_samples_split: 5\tNmean_r_mse_i: 0.6689259284046755\n",
      "n_estimators: 25\tmin_samples_split: 2\tNmean_r_mse_i: 0.6689343712982814\n",
      "n_estimators: 25\tmin_samples_split: 2\tNmean_r_mse_i: 0.6689295551375194\n",
      "n_estimators: 25\tmin_samples_split: 2\tNmean_r_mse_i: 0.6689560484796825\n",
      "n_estimators: 25\tmin_samples_split: 2\tNmean_r_mse_i: 0.6689258638304563\n",
      "n_estimators: 25\tmin_samples_split: 3\tNmean_r_mse_i: 0.6689342426423127\n",
      "n_estimators: 25\tmin_samples_split: 3\tNmean_r_mse_i: 0.6689294632809796\n",
      "n_estimators: 25\tmin_samples_split: 3\tNmean_r_mse_i: 0.6689557560899758\n",
      "n_estimators: 25\tmin_samples_split: 3\tNmean_r_mse_i: 0.6689258002327848\n",
      "n_estimators: 25\tmin_samples_split: 4\tNmean_r_mse_i: 0.668934115928321\n",
      "n_estimators: 25\tmin_samples_split: 4\tNmean_r_mse_i: 0.6689293728083424\n",
      "n_estimators: 25\tmin_samples_split: 4\tNmean_r_mse_i: 0.6689554680971068\n",
      "n_estimators: 25\tmin_samples_split: 4\tNmean_r_mse_i: 0.668925737589675\n",
      "n_estimators: 25\tmin_samples_split: 5\tNmean_r_mse_i: 0.6689339911126662\n",
      "n_estimators: 25\tmin_samples_split: 5\tNmean_r_mse_i: 0.6689292836885672\n",
      "n_estimators: 25\tmin_samples_split: 5\tNmean_r_mse_i: 0.6689551844026389\n",
      "n_estimators: 25\tmin_samples_split: 5\tNmean_r_mse_i: 0.6689256758797959\n",
      "n_estimators: 50\tmin_samples_split: 2\tNmean_r_mse_i: 0.6689338681530062\n",
      "n_estimators: 50\tmin_samples_split: 2\tNmean_r_mse_i: 0.6689291958915344\n",
      "n_estimators: 50\tmin_samples_split: 2\tNmean_r_mse_i: 0.6689549049110519\n",
      "n_estimators: 50\tmin_samples_split: 2\tNmean_r_mse_i: 0.6689256150824473\n",
      "n_estimators: 50\tmin_samples_split: 3\tNmean_r_mse_i: 0.6689337470082489\n",
      "n_estimators: 50\tmin_samples_split: 3\tNmean_r_mse_i: 0.6689291093880123\n",
      "n_estimators: 50\tmin_samples_split: 3\tNmean_r_mse_i: 0.6689546295296355\n",
      "n_estimators: 50\tmin_samples_split: 3\tNmean_r_mse_i: 0.6689255551775369\n",
      "n_estimators: 50\tmin_samples_split: 4\tNmean_r_mse_i: 0.6689336276385065\n",
      "n_estimators: 50\tmin_samples_split: 4\tNmean_r_mse_i: 0.668929024149624\n",
      "n_estimators: 50\tmin_samples_split: 4\tNmean_r_mse_i: 0.6689543581683854\n",
      "n_estimators: 50\tmin_samples_split: 4\tNmean_r_mse_i: 0.6689254961455579\n",
      "n_estimators: 50\tmin_samples_split: 5\tNmean_r_mse_i: 0.6689335100050512\n",
      "n_estimators: 50\tmin_samples_split: 5\tNmean_r_mse_i: 0.6689289401488165\n",
      "n_estimators: 50\tmin_samples_split: 5\tNmean_r_mse_i: 0.6689540907399073\n",
      "n_estimators: 50\tmin_samples_split: 5\tNmean_r_mse_i: 0.6689254379675675\n",
      "n_estimators: 75\tmin_samples_split: 2\tNmean_r_mse_i: 0.668933394070274\n",
      "n_estimators: 75\tmin_samples_split: 2\tNmean_r_mse_i: 0.6689288573588316\n",
      "n_estimators: 75\tmin_samples_split: 2\tNmean_r_mse_i: 0.668953827159321\n",
      "n_estimators: 75\tmin_samples_split: 2\tNmean_r_mse_i: 0.6689253806251677\n",
      "n_estimators: 75\tmin_samples_split: 3\tNmean_r_mse_i: 0.668933279797644\n",
      "n_estimators: 75\tmin_samples_split: 3\tNmean_r_mse_i: 0.6689287757536765\n",
      "n_estimators: 75\tmin_samples_split: 3\tNmean_r_mse_i: 0.6689535673441714\n",
      "n_estimators: 75\tmin_samples_split: 3\tNmean_r_mse_i: 0.6689253241004849\n",
      "n_estimators: 75\tmin_samples_split: 4\tNmean_r_mse_i: 0.6689331671516708\n",
      "n_estimators: 75\tmin_samples_split: 4\tNmean_r_mse_i: 0.6689286953080973\n",
      "n_estimators: 75\tmin_samples_split: 4\tNmean_r_mse_i: 0.6689533112143433\n",
      "n_estimators: 75\tmin_samples_split: 4\tNmean_r_mse_i: 0.6689252683761515\n",
      "n_estimators: 75\tmin_samples_split: 5\tNmean_r_mse_i: 0.6689330560978668\n",
      "n_estimators: 75\tmin_samples_split: 5\tNmean_r_mse_i: 0.6689286159975527\n",
      "n_estimators: 75\tmin_samples_split: 5\tNmean_r_mse_i: 0.6689530586919775\n",
      "n_estimators: 75\tmin_samples_split: 5\tNmean_r_mse_i: 0.6689252134352885\n",
      "n_estimators: 100\tmin_samples_split: 2\tNmean_r_mse_i: 0.6689329466027127\n",
      "n_estimators: 100\tmin_samples_split: 2\tNmean_r_mse_i: 0.6689285377981891\n",
      "n_estimators: 100\tmin_samples_split: 2\tNmean_r_mse_i: 0.6689528097013931\n",
      "n_estimators: 100\tmin_samples_split: 2\tNmean_r_mse_i: 0.6689251592614883\n",
      "n_estimators: 100\tmin_samples_split: 3\tNmean_r_mse_i: 0.6689328386336233\n",
      "n_estimators: 100\tmin_samples_split: 3\tNmean_r_mse_i: 0.6689284606868167\n",
      "n_estimators: 100\tmin_samples_split: 3\tNmean_r_mse_i: 0.6689525641690113\n",
      "n_estimators: 100\tmin_samples_split: 3\tNmean_r_mse_i: 0.6689251058387979\n",
      "n_estimators: 100\tmin_samples_split: 4\tNmean_r_mse_i: 0.6689327321589159\n",
      "n_estimators: 100\tmin_samples_split: 4\tNmean_r_mse_i: 0.6689283846408862\n",
      "n_estimators: 100\tmin_samples_split: 4\tNmean_r_mse_i: 0.6689523220232829\n",
      "n_estimators: 100\tmin_samples_split: 4\tNmean_r_mse_i: 0.668925053151704\n",
      "n_estimators: 100\tmin_samples_split: 5\tNmean_r_mse_i: 0.6689326271477783\n",
      "n_estimators: 100\tmin_samples_split: 5\tNmean_r_mse_i: 0.6689283096384678\n",
      "n_estimators: 100\tmin_samples_split: 5\tNmean_r_mse_i: 0.6689520831946194\n",
      "n_estimators: 100\tmin_samples_split: 5\tNmean_r_mse_i: 0.6689250011851173\n",
      "n_estimators: 125\tmin_samples_split: 2\tNmean_r_mse_i: 0.6689325235702399\n",
      "n_estimators: 125\tmin_samples_split: 2\tNmean_r_mse_i: 0.6689282356582289\n",
      "n_estimators: 125\tmin_samples_split: 2\tNmean_r_mse_i: 0.6689518476153253\n",
      "n_estimators: 125\tmin_samples_split: 2\tNmean_r_mse_i: 0.6689249499243587\n",
      "n_estimators: 125\tmin_samples_split: 3\tNmean_r_mse_i: 0.6689324213971427\n",
      "n_estimators: 125\tmin_samples_split: 3\tNmean_r_mse_i: 0.6689281626794145\n",
      "n_estimators: 125\tmin_samples_split: 3\tNmean_r_mse_i: 0.6689516152195354\n",
      "n_estimators: 125\tmin_samples_split: 3\tNmean_r_mse_i: 0.6689248993551449\n",
      "n_estimators: 125\tmin_samples_split: 4\tNmean_r_mse_i: 0.6689323206001142\n",
      "n_estimators: 125\tmin_samples_split: 4\tNmean_r_mse_i: 0.6689280906818279\n",
      "n_estimators: 125\tmin_samples_split: 4\tNmean_r_mse_i: 0.668951385943152\n",
      "n_estimators: 125\tmin_samples_split: 4\tNmean_r_mse_i: 0.6689248494635753\n",
      "n_estimators: 125\tmin_samples_split: 5\tNmean_r_mse_i: 0.6689322211515408\n",
      "n_estimators: 125\tmin_samples_split: 5\tNmean_r_mse_i: 0.6689280196458116\n",
      "n_estimators: 125\tmin_samples_split: 5\tNmean_r_mse_i: 0.6689511597237869\n",
      "n_estimators: 125\tmin_samples_split: 5\tNmean_r_mse_i: 0.66892480023612\n",
      "n_estimators: 150\tmin_samples_split: 2\tNmean_r_mse_i: 0.6689321230245433\n",
      "n_estimators: 150\tmin_samples_split: 2\tNmean_r_mse_i: 0.6689279495522302\n",
      "n_estimators: 150\tmin_samples_split: 2\tNmean_r_mse_i: 0.6689509365007048\n",
      "n_estimators: 150\tmin_samples_split: 2\tNmean_r_mse_i: 0.6689247516596062\n",
      "n_estimators: 150\tmin_samples_split: 3\tNmean_r_mse_i: 0.6689320261929516\n",
      "n_estimators: 150\tmin_samples_split: 3\tNmean_r_mse_i: 0.6689278803824521\n",
      "n_estimators: 150\tmin_samples_split: 3\tNmean_r_mse_i: 0.6689507162147688\n",
      "n_estimators: 150\tmin_samples_split: 3\tNmean_r_mse_i: 0.6689247037212075\n",
      "n_estimators: 150\tmin_samples_split: 4\tNmean_r_mse_i: 0.6689319306312824\n",
      "n_estimators: 150\tmin_samples_split: 4\tNmean_r_mse_i: 0.668927812118334\n",
      "n_estimators: 150\tmin_samples_split: 4\tNmean_r_mse_i: 0.6689504988083872\n",
      "n_estimators: 150\tmin_samples_split: 4\tNmean_r_mse_i: 0.6689246564084322\n",
      "n_estimators: 150\tmin_samples_split: 5\tNmean_r_mse_i: 0.6689318363147164\n",
      "n_estimators: 150\tmin_samples_split: 5\tNmean_r_mse_i: 0.6689277447422043\n",
      "n_estimators: 150\tmin_samples_split: 5\tNmean_r_mse_i: 0.6689502842254652\n",
      "n_estimators: 150\tmin_samples_split: 5\tNmean_r_mse_i: 0.6689246097091127\n",
      "n_estimators: 175\tmin_samples_split: 2\tNmean_r_mse_i: 0.6689317432190769\n",
      "n_estimators: 175\tmin_samples_split: 2\tNmean_r_mse_i: 0.6689276782368485\n",
      "n_estimators: 175\tmin_samples_split: 2\tNmean_r_mse_i: 0.6689500724113552\n",
      "n_estimators: 175\tmin_samples_split: 2\tNmean_r_mse_i: 0.6689245636113947\n",
      "n_estimators: 175\tmin_samples_split: 3\tNmean_r_mse_i: 0.6689316513208089\n",
      "n_estimators: 175\tmin_samples_split: 3\tNmean_r_mse_i: 0.6689276125854942\n",
      "n_estimators: 175\tmin_samples_split: 3\tNmean_r_mse_i: 0.6689498633128105\n",
      "n_estimators: 175\tmin_samples_split: 3\tNmean_r_mse_i: 0.6689245181037276\n",
      "n_estimators: 175\tmin_samples_split: 4\tNmean_r_mse_i: 0.6689315605969597\n",
      "n_estimators: 175\tmin_samples_split: 4\tNmean_r_mse_i: 0.6689275477717966\n",
      "n_estimators: 175\tmin_samples_split: 4\tNmean_r_mse_i: 0.6689496568779416\n",
      "n_estimators: 175\tmin_samples_split: 4\tNmean_r_mse_i: 0.6689244731748543\n",
      "n_estimators: 175\tmin_samples_split: 5\tNmean_r_mse_i: 0.6689314710251593\n",
      "n_estimators: 175\tmin_samples_split: 5\tNmean_r_mse_i: 0.6689274837798258\n",
      "n_estimators: 175\tmin_samples_split: 5\tNmean_r_mse_i: 0.6689494530561724\n",
      "n_estimators: 175\tmin_samples_split: 5\tNmean_r_mse_i: 0.6689244288138024\n",
      "n_estimators: 200\tmin_samples_split: 2\tNmean_r_mse_i: 0.6689313825836025\n",
      "n_estimators: 200\tmin_samples_split: 2\tNmean_r_mse_i: 0.668927420594053\n",
      "n_estimators: 200\tmin_samples_split: 2\tNmean_r_mse_i: 0.6689492517981991\n",
      "n_estimators: 200\tmin_samples_split: 2\tNmean_r_mse_i: 0.6689243850098753\n",
      "n_estimators: 200\tmin_samples_split: 3\tNmean_r_mse_i: 0.6689312952510306\n",
      "n_estimators: 200\tmin_samples_split: 3\tNmean_r_mse_i: 0.6689273581993385\n",
      "n_estimators: 200\tmin_samples_split: 3\tNmean_r_mse_i: 0.6689490530559503\n",
      "n_estimators: 200\tmin_samples_split: 3\tNmean_r_mse_i: 0.6689243417526429\n",
      "n_estimators: 200\tmin_samples_split: 4\tNmean_r_mse_i: 0.6689312090067152\n",
      "n_estimators: 200\tmin_samples_split: 4\tNmean_r_mse_i: 0.6689272965809189\n",
      "n_estimators: 200\tmin_samples_split: 4\tNmean_r_mse_i: 0.6689488567825495\n",
      "n_estimators: 200\tmin_samples_split: 4\tNmean_r_mse_i: 0.6689242990319345\n",
      "n_estimators: 200\tmin_samples_split: 5\tNmean_r_mse_i: 0.6689311238304407\n",
      "n_estimators: 200\tmin_samples_split: 5\tNmean_r_mse_i: 0.6689272357243964\n",
      "n_estimators: 200\tmin_samples_split: 5\tNmean_r_mse_i: 0.668948662932277\n",
      "n_estimators: 200\tmin_samples_split: 5\tNmean_r_mse_i: 0.6689242568378295\n",
      "n_estimators: 225\tmin_samples_split: 2\tNmean_r_mse_i: 0.6689310397024897\n",
      "n_estimators: 225\tmin_samples_split: 2\tNmean_r_mse_i: 0.6689271756157267\n",
      "n_estimators: 225\tmin_samples_split: 2\tNmean_r_mse_i: 0.6689484714605354\n",
      "n_estimators: 225\tmin_samples_split: 2\tNmean_r_mse_i: 0.6689242151606508\n",
      "n_estimators: 225\tmin_samples_split: 3\tNmean_r_mse_i: 0.6689309566036268\n",
      "n_estimators: 225\tmin_samples_split: 3\tNmean_r_mse_i: 0.6689271162412087\n",
      "n_estimators: 225\tmin_samples_split: 3\tNmean_r_mse_i: 0.668948282323815\n",
      "n_estimators: 225\tmin_samples_split: 3\tNmean_r_mse_i: 0.6689241739909568\n",
      "n_estimators: 225\tmin_samples_split: 4\tNmean_r_mse_i: 0.6689308745150844\n",
      "n_estimators: 225\tmin_samples_split: 4\tNmean_r_mse_i: 0.6689270575874738\n",
      "n_estimators: 225\tmin_samples_split: 4\tNmean_r_mse_i: 0.668948095479661\n",
      "n_estimators: 225\tmin_samples_split: 4\tNmean_r_mse_i: 0.6689241333195344\n",
      "n_estimators: 225\tmin_samples_split: 5\tNmean_r_mse_i: 0.6689307934185486\n",
      "n_estimators: 225\tmin_samples_split: 5\tNmean_r_mse_i: 0.6689269996414765\n",
      "n_estimators: 225\tmin_samples_split: 5\tNmean_r_mse_i: 0.6689479108866414\n",
      "n_estimators: 225\tmin_samples_split: 5\tNmean_r_mse_i: 0.6689240931373922\n",
      "n_estimators: 250\tmin_samples_split: 2\tNmean_r_mse_i: 0.6689307132961453\n",
      "n_estimators: 250\tmin_samples_split: 2\tNmean_r_mse_i: 0.6689269423904836\n",
      "n_estimators: 250\tmin_samples_split: 2\tNmean_r_mse_i: 0.6689477285043165\n",
      "n_estimators: 250\tmin_samples_split: 2\tNmean_r_mse_i: 0.668924053435754\n",
      "n_estimators: 250\tmin_samples_split: 3\tNmean_r_mse_i: 0.6689306341304274\n",
      "n_estimators: 250\tmin_samples_split: 3\tNmean_r_mse_i: 0.6689268858220658\n",
      "n_estimators: 250\tmin_samples_split: 3\tNmean_r_mse_i: 0.66894754829321\n",
      "n_estimators: 250\tmin_samples_split: 3\tNmean_r_mse_i: 0.6689240142060521\n",
      "n_estimators: 250\tmin_samples_split: 4\tNmean_r_mse_i: 0.668930555904362\n",
      "n_estimators: 250\tmin_samples_split: 4\tNmean_r_mse_i: 0.6689268299240885\n",
      "n_estimators: 250\tmin_samples_split: 4\tNmean_r_mse_i: 0.6689473702147791\n",
      "n_estimators: 250\tmin_samples_split: 4\tNmean_r_mse_i: 0.6689239754399212\n",
      "n_estimators: 250\tmin_samples_split: 5\tNmean_r_mse_i: 0.668930478601318\n",
      "n_estimators: 250\tmin_samples_split: 5\tNmean_r_mse_i: 0.6689267746847031\n",
      "n_estimators: 250\tmin_samples_split: 5\tNmean_r_mse_i: 0.6689471942313887\n",
      "n_estimators: 250\tmin_samples_split: 5\tNmean_r_mse_i: 0.6689239371291927\n",
      "n_estimators: 275\tmin_samples_split: 2\tNmean_r_mse_i: 0.6689304022050546\n",
      "n_estimators: 275\tmin_samples_split: 2\tNmean_r_mse_i: 0.6689267200923382\n",
      "n_estimators: 275\tmin_samples_split: 2\tNmean_r_mse_i: 0.6689470203062835\n",
      "n_estimators: 275\tmin_samples_split: 2\tNmean_r_mse_i: 0.6689238992658888\n",
      "n_estimators: 275\tmin_samples_split: 3\tNmean_r_mse_i: 0.6689303266997096\n",
      "n_estimators: 275\tmin_samples_split: 3\tNmean_r_mse_i: 0.6689266661356923\n",
      "n_estimators: 275\tmin_samples_split: 3\tNmean_r_mse_i: 0.6689468484035632\n",
      "n_estimators: 275\tmin_samples_split: 3\tNmean_r_mse_i: 0.668923861842217\n",
      "n_estimators: 275\tmin_samples_split: 4\tNmean_r_mse_i: 0.6689302520697891\n",
      "n_estimators: 275\tmin_samples_split: 4\tNmean_r_mse_i: 0.6689266128037253\n",
      "n_estimators: 275\tmin_samples_split: 4\tNmean_r_mse_i: 0.6689466784881576\n",
      "n_estimators: 275\tmin_samples_split: 4\tNmean_r_mse_i: 0.6689238248505642\n",
      "n_estimators: 275\tmin_samples_split: 5\tNmean_r_mse_i: 0.6689301783001557\n",
      "n_estimators: 275\tmin_samples_split: 5\tNmean_r_mse_i: 0.6689265600856515\n",
      "n_estimators: 275\tmin_samples_split: 5\tNmean_r_mse_i: 0.6689465105258027\n",
      "n_estimators: 275\tmin_samples_split: 5\tNmean_r_mse_i: 0.668923788283493\n",
      "n_estimators: 300\tmin_samples_split: 2\tNmean_r_mse_i: 0.6689301053760196\n",
      "n_estimators: 300\tmin_samples_split: 2\tNmean_r_mse_i: 0.6689265079709319\n",
      "n_estimators: 300\tmin_samples_split: 2\tNmean_r_mse_i: 0.6689463444830176\n",
      "n_estimators: 300\tmin_samples_split: 2\tNmean_r_mse_i: 0.668923752133735\n",
      "n_estimators: 300\tmin_samples_split: 3\tNmean_r_mse_i: 0.6689300332829277\n",
      "n_estimators: 300\tmin_samples_split: 3\tNmean_r_mse_i: 0.6689264564492674\n",
      "n_estimators: 300\tmin_samples_split: 3\tNmean_r_mse_i: 0.6689461803270823\n",
      "n_estimators: 300\tmin_samples_split: 3\tNmean_r_mse_i: 0.668923716394187\n",
      "n_estimators: 300\tmin_samples_split: 4\tNmean_r_mse_i: 0.6689299620067548\n",
      "n_estimators: 300\tmin_samples_split: 4\tNmean_r_mse_i: 0.668926405510592\n",
      "n_estimators: 300\tmin_samples_split: 4\tNmean_r_mse_i: 0.6689460180260163\n",
      "n_estimators: 300\tmin_samples_split: 4\tNmean_r_mse_i: 0.6689236810579062\n",
      "n_estimators: 300\tmin_samples_split: 5\tNmean_r_mse_i: 0.6689298915336935\n",
      "n_estimators: 300\tmin_samples_split: 5\tNmean_r_mse_i: 0.6689263551450664\n",
      "n_estimators: 300\tmin_samples_split: 5\tNmean_r_mse_i: 0.6689458575485578\n",
      "n_estimators: 300\tmin_samples_split: 5\tNmean_r_mse_i: 0.6689236461181053\n",
      "n_estimators: 25\tmin_samples_split: 2\tNmean_r_mse_i: 0.6689298218502465\n",
      "n_estimators: 25\tmin_samples_split: 2\tNmean_r_mse_i: 0.6689263053430711\n",
      "n_estimators: 25\tmin_samples_split: 2\tNmean_r_mse_i: 0.6689456988641436\n",
      "n_estimators: 25\tmin_samples_split: 2\tNmean_r_mse_i: 0.6689236115681488\n",
      "n_estimators: 25\tmin_samples_split: 3\tNmean_r_mse_i: 0.6689297529432168\n",
      "n_estimators: 25\tmin_samples_split: 3\tNmean_r_mse_i: 0.6689262560952008\n",
      "n_estimators: 25\tmin_samples_split: 3\tNmean_r_mse_i: 0.6689455419428895\n",
      "n_estimators: 25\tmin_samples_split: 3\tNmean_r_mse_i: 0.6689235774015483\n",
      "n_estimators: 25\tmin_samples_split: 4\tNmean_r_mse_i: 0.6689296847996998\n",
      "n_estimators: 25\tmin_samples_split: 4\tNmean_r_mse_i: 0.6689262073922586\n",
      "n_estimators: 25\tmin_samples_split: 4\tNmean_r_mse_i: 0.6689453867555718\n",
      "n_estimators: 25\tmin_samples_split: 4\tNmean_r_mse_i: 0.6689235436119585\n",
      "n_estimators: 25\tmin_samples_split: 5\tNmean_r_mse_i: 0.6689296174070756\n",
      "n_estimators: 25\tmin_samples_split: 5\tNmean_r_mse_i: 0.6689261592252498\n",
      "n_estimators: 25\tmin_samples_split: 5\tNmean_r_mse_i: 0.6689452332736093\n",
      "n_estimators: 25\tmin_samples_split: 5\tNmean_r_mse_i: 0.6689235101931736\n",
      "n_estimators: 50\tmin_samples_split: 2\tNmean_r_mse_i: 0.6689295507530006\n",
      "n_estimators: 50\tmin_samples_split: 2\tNmean_r_mse_i: 0.6689261115853765\n",
      "n_estimators: 50\tmin_samples_split: 2\tNmean_r_mse_i: 0.6689450814690453\n",
      "n_estimators: 50\tmin_samples_split: 2\tNmean_r_mse_i: 0.668923477139123\n",
      "n_estimators: 50\tmin_samples_split: 3\tNmean_r_mse_i: 0.6689294848254007\n",
      "n_estimators: 50\tmin_samples_split: 3\tNmean_r_mse_i: 0.6689260644640325\n",
      "n_estimators: 50\tmin_samples_split: 3\tNmean_r_mse_i: 0.668944931314531\n",
      "n_estimators: 50\tmin_samples_split: 3\tNmean_r_mse_i: 0.6689234444438681\n",
      "n_estimators: 50\tmin_samples_split: 4\tNmean_r_mse_i: 0.668929419612463\n",
      "n_estimators: 50\tmin_samples_split: 4\tNmean_r_mse_i: 0.6689260178527977\n",
      "n_estimators: 50\tmin_samples_split: 4\tNmean_r_mse_i: 0.6689447827833086\n",
      "n_estimators: 50\tmin_samples_split: 4\tNmean_r_mse_i: 0.6689234121015983\n",
      "n_estimators: 50\tmin_samples_split: 5\tNmean_r_mse_i: 0.6689293551026299\n",
      "n_estimators: 50\tmin_samples_split: 5\tNmean_r_mse_i: 0.6689259717434335\n",
      "n_estimators: 50\tmin_samples_split: 5\tNmean_r_mse_i: 0.6689446358491963\n",
      "n_estimators: 50\tmin_samples_split: 5\tNmean_r_mse_i: 0.6689233801066281\n",
      "n_estimators: 75\tmin_samples_split: 2\tNmean_r_mse_i: 0.6689292912845911\n",
      "n_estimators: 75\tmin_samples_split: 2\tNmean_r_mse_i: 0.6689259261278778\n",
      "n_estimators: 75\tmin_samples_split: 2\tNmean_r_mse_i: 0.6689444904865717\n",
      "n_estimators: 75\tmin_samples_split: 2\tNmean_r_mse_i: 0.6689233484533933\n",
      "n_estimators: 75\tmin_samples_split: 3\tNmean_r_mse_i: 0.6689292281472781\n",
      "n_estimators: 75\tmin_samples_split: 3\tNmean_r_mse_i: 0.66892588099824\n",
      "n_estimators: 75\tmin_samples_split: 3\tNmean_r_mse_i: 0.668944346670358\n",
      "n_estimators: 75\tmin_samples_split: 3\tNmean_r_mse_i: 0.6689233171364477\n",
      "n_estimators: 75\tmin_samples_split: 4\tNmean_r_mse_i: 0.668929165679857\n",
      "n_estimators: 75\tmin_samples_split: 4\tNmean_r_mse_i: 0.6689258363467973\n",
      "n_estimators: 75\tmin_samples_split: 4\tNmean_r_mse_i: 0.668944204376009\n",
      "n_estimators: 75\tmin_samples_split: 4\tNmean_r_mse_i: 0.6689232861504607\n",
      "n_estimators: 75\tmin_samples_split: 5\tNmean_r_mse_i: 0.6689291038717227\n",
      "n_estimators: 75\tmin_samples_split: 5\tNmean_r_mse_i: 0.6689257921659887\n",
      "n_estimators: 75\tmin_samples_split: 5\tNmean_r_mse_i: 0.6689440635794953\n",
      "n_estimators: 75\tmin_samples_split: 5\tNmean_r_mse_i: 0.6689232554902134\n",
      "n_estimators: 100\tmin_samples_split: 2\tNmean_r_mse_i: 0.6689290427124926\n",
      "n_estimators: 100\tmin_samples_split: 2\tNmean_r_mse_i: 0.6689257484484129\n",
      "n_estimators: 100\tmin_samples_split: 2\tNmean_r_mse_i: 0.6689439242572907\n",
      "n_estimators: 100\tmin_samples_split: 2\tNmean_r_mse_i: 0.668923225150596\n",
      "n_estimators: 100\tmin_samples_split: 3\tNmean_r_mse_i: 0.6689289821920011\n",
      "n_estimators: 100\tmin_samples_split: 3\tNmean_r_mse_i: 0.6689257051868223\n",
      "n_estimators: 100\tmin_samples_split: 3\tNmean_r_mse_i: 0.6689437863863589\n",
      "n_estimators: 100\tmin_samples_split: 3\tNmean_r_mse_i: 0.6689231951266055\n",
      "n_estimators: 100\tmin_samples_split: 4\tNmean_r_mse_i: 0.6689289223002942\n",
      "n_estimators: 100\tmin_samples_split: 4\tNmean_r_mse_i: 0.6689256623741197\n",
      "n_estimators: 100\tmin_samples_split: 4\tNmean_r_mse_i: 0.6689436499441416\n",
      "n_estimators: 100\tmin_samples_split: 4\tNmean_r_mse_i: 0.6689231654133417\n",
      "n_estimators: 100\tmin_samples_split: 5\tNmean_r_mse_i: 0.6689288630276229\n",
      "n_estimators: 100\tmin_samples_split: 5\tNmean_r_mse_i: 0.6689256200033546\n",
      "n_estimators: 100\tmin_samples_split: 5\tNmean_r_mse_i: 0.668943514908545\n",
      "n_estimators: 100\tmin_samples_split: 5\tNmean_r_mse_i: 0.6689231360060062\n",
      "n_estimators: 125\tmin_samples_split: 2\tNmean_r_mse_i: 0.6689288043644392\n",
      "n_estimators: 125\tmin_samples_split: 2\tNmean_r_mse_i: 0.6689255780677196\n",
      "n_estimators: 125\tmin_samples_split: 2\tNmean_r_mse_i: 0.6689433812579288\n",
      "n_estimators: 125\tmin_samples_split: 2\tNmean_r_mse_i: 0.6689231068998981\n",
      "n_estimators: 125\tmin_samples_split: 3\tNmean_r_mse_i: 0.6689287463013905\n",
      "n_estimators: 125\tmin_samples_split: 3\tNmean_r_mse_i: 0.6689255365605455\n",
      "n_estimators: 125\tmin_samples_split: 3\tNmean_r_mse_i: 0.6689432489710945\n",
      "n_estimators: 125\tmin_samples_split: 3\tNmean_r_mse_i: 0.6689230780904128\n",
      "n_estimators: 125\tmin_samples_split: 4\tNmean_r_mse_i: 0.6689286888293142\n",
      "n_estimators: 125\tmin_samples_split: 4\tNmean_r_mse_i: 0.6689254954752996\n",
      "n_estimators: 125\tmin_samples_split: 4\tNmean_r_mse_i: 0.6689431180272738\n",
      "n_estimators: 125\tmin_samples_split: 4\tNmean_r_mse_i: 0.6689230495730388\n",
      "n_estimators: 125\tmin_samples_split: 5\tNmean_r_mse_i: 0.6689286319392337\n",
      "n_estimators: 125\tmin_samples_split: 5\tNmean_r_mse_i: 0.6689254548055807\n",
      "n_estimators: 125\tmin_samples_split: 5\tNmean_r_mse_i: 0.6689429884061179\n",
      "n_estimators: 125\tmin_samples_split: 5\tNmean_r_mse_i: 0.6689230213433559\n",
      "n_estimators: 150\tmin_samples_split: 2\tNmean_r_mse_i: 0.6689285756223529\n",
      "n_estimators: 150\tmin_samples_split: 2\tNmean_r_mse_i: 0.6689254145451169\n",
      "n_estimators: 150\tmin_samples_split: 2\tNmean_r_mse_i: 0.6689428600876871\n",
      "n_estimators: 150\tmin_samples_split: 2\tNmean_r_mse_i: 0.6689229933970324\n",
      "n_estimators: 150\tmin_samples_split: 3\tNmean_r_mse_i: 0.6689285198700524\n",
      "n_estimators: 150\tmin_samples_split: 3\tNmean_r_mse_i: 0.6689253746877617\n",
      "n_estimators: 150\tmin_samples_split: 3\tNmean_r_mse_i: 0.6689427330524407\n",
      "n_estimators: 150\tmin_samples_split: 3\tNmean_r_mse_i: 0.6689229657298233\n",
      "n_estimators: 150\tmin_samples_split: 4\tNmean_r_mse_i: 0.6689284646738846\n",
      "n_estimators: 150\tmin_samples_split: 4\tNmean_r_mse_i: 0.6689253352274909\n",
      "n_estimators: 150\tmin_samples_split: 4\tNmean_r_mse_i: 0.6689426072812266\n",
      "n_estimators: 150\tmin_samples_split: 4\tNmean_r_mse_i: 0.6689229383375679\n",
      "n_estimators: 150\tmin_samples_split: 5\tNmean_r_mse_i: 0.6689284100255696\n",
      "n_estimators: 150\tmin_samples_split: 5\tNmean_r_mse_i: 0.6689252961584\n",
      "n_estimators: 150\tmin_samples_split: 5\tNmean_r_mse_i: 0.668942482755272\n",
      "n_estimators: 150\tmin_samples_split: 5\tNmean_r_mse_i: 0.6689229112161875\n",
      "n_estimators: 175\tmin_samples_split: 2\tNmean_r_mse_i: 0.668928355916991\n",
      "n_estimators: 175\tmin_samples_split: 2\tNmean_r_mse_i: 0.6689252574747009\n",
      "n_estimators: 175\tmin_samples_split: 2\tNmean_r_mse_i: 0.668942359456174\n",
      "n_estimators: 175\tmin_samples_split: 2\tNmean_r_mse_i: 0.6689228843616843\n",
      "n_estimators: 175\tmin_samples_split: 3\tNmean_r_mse_i: 0.668928302340192\n",
      "n_estimators: 175\tmin_samples_split: 3\tNmean_r_mse_i: 0.668925219170719\n",
      "n_estimators: 175\tmin_samples_split: 3\tNmean_r_mse_i: 0.668942237365891\n",
      "n_estimators: 175\tmin_samples_split: 3\tNmean_r_mse_i: 0.6689228577701383\n",
      "n_estimators: 175\tmin_samples_split: 4\tNmean_r_mse_i: 0.6689282492873715\n",
      "n_estimators: 175\tmin_samples_split: 4\tNmean_r_mse_i: 0.668925181240891\n",
      "n_estimators: 175\tmin_samples_split: 4\tNmean_r_mse_i: 0.6689421164667323\n",
      "n_estimators: 175\tmin_samples_split: 4\tNmean_r_mse_i: 0.6689228314377059\n",
      "n_estimators: 175\tmin_samples_split: 5\tNmean_r_mse_i: 0.6689281967508802\n",
      "n_estimators: 175\tmin_samples_split: 5\tNmean_r_mse_i: 0.668925143679761\n",
      "n_estimators: 175\tmin_samples_split: 5\tNmean_r_mse_i: 0.6689419967413522\n",
      "n_estimators: 175\tmin_samples_split: 5\tNmean_r_mse_i: 0.6689228053606184\n",
      "n_estimators: 200\tmin_samples_split: 2\tNmean_r_mse_i: 0.6689281447232168\n",
      "n_estimators: 200\tmin_samples_split: 2\tNmean_r_mse_i: 0.6689251064819793\n",
      "n_estimators: 200\tmin_samples_split: 2\tNmean_r_mse_i: 0.6689418781727389\n",
      "n_estimators: 200\tmin_samples_split: 2\tNmean_r_mse_i: 0.6689227795351795\n",
      "n_estimators: 200\tmin_samples_split: 3\tNmean_r_mse_i: 0.668928093197025\n",
      "n_estimators: 200\tmin_samples_split: 3\tNmean_r_mse_i: 0.668925069642299\n",
      "n_estimators: 200\tmin_samples_split: 3\tNmean_r_mse_i: 0.6689417607442085\n",
      "n_estimators: 200\tmin_samples_split: 3\tNmean_r_mse_i: 0.668922753957764\n",
      "n_estimators: 200\tmin_samples_split: 4\tNmean_r_mse_i: 0.6689280421650892\n",
      "n_estimators: 200\tmin_samples_split: 4\tNmean_r_mse_i: 0.6689250331555738\n",
      "n_estimators: 200\tmin_samples_split: 4\tNmean_r_mse_i: 0.6689416444393959\n",
      "n_estimators: 200\tmin_samples_split: 4\tNmean_r_mse_i: 0.668922728624816\n",
      "n_estimators: 200\tmin_samples_split: 5\tNmean_r_mse_i: 0.6689279916203317\n",
      "n_estimators: 200\tmin_samples_split: 5\tNmean_r_mse_i: 0.6689249970167553\n",
      "n_estimators: 200\tmin_samples_split: 5\tNmean_r_mse_i: 0.6689415292422484\n",
      "n_estimators: 200\tmin_samples_split: 5\tNmean_r_mse_i: 0.6689227035328472\n",
      "n_estimators: 225\tmin_samples_split: 2\tNmean_r_mse_i: 0.6689279415558095\n",
      "n_estimators: 225\tmin_samples_split: 2\tNmean_r_mse_i: 0.6689249612208913\n",
      "n_estimators: 225\tmin_samples_split: 2\tNmean_r_mse_i: 0.6689414151370169\n",
      "n_estimators: 225\tmin_samples_split: 2\tNmean_r_mse_i: 0.6689226786784357\n",
      "n_estimators: 225\tmin_samples_split: 3\tNmean_r_mse_i: 0.6689278919647106\n",
      "n_estimators: 225\tmin_samples_split: 3\tNmean_r_mse_i: 0.6689249257631226\n",
      "n_estimators: 225\tmin_samples_split: 3\tNmean_r_mse_i: 0.6689413021082496\n",
      "n_estimators: 225\tmin_samples_split: 3\tNmean_r_mse_i: 0.6689226540582235\n",
      "n_estimators: 225\tmin_samples_split: 4\tNmean_r_mse_i: 0.6689278428403516\n",
      "n_estimators: 225\tmin_samples_split: 4\tNmean_r_mse_i: 0.6689248906386822\n",
      "n_estimators: 225\tmin_samples_split: 4\tNmean_r_mse_i: 0.6689411901407857\n",
      "n_estimators: 225\tmin_samples_split: 4\tNmean_r_mse_i: 0.6689226296689159\n",
      "n_estimators: 225\tmin_samples_split: 5\tNmean_r_mse_i: 0.6689277941761737\n",
      "n_estimators: 225\tmin_samples_split: 5\tNmean_r_mse_i: 0.6689248558428913\n",
      "n_estimators: 225\tmin_samples_split: 5\tNmean_r_mse_i: 0.6689410792197464\n",
      "n_estimators: 225\tmin_samples_split: 5\tNmean_r_mse_i: 0.66892260550728\n",
      "n_estimators: 250\tmin_samples_split: 2\tNmean_r_mse_i: 0.6689277459657412\n",
      "n_estimators: 250\tmin_samples_split: 2\tNmean_r_mse_i: 0.6689248213711592\n",
      "n_estimators: 250\tmin_samples_split: 2\tNmean_r_mse_i: 0.668940969330531\n",
      "n_estimators: 250\tmin_samples_split: 2\tNmean_r_mse_i: 0.6689225815701423\n",
      "n_estimators: 250\tmin_samples_split: 3\tNmean_r_mse_i: 0.6689276982027373\n",
      "n_estimators: 250\tmin_samples_split: 3\tNmean_r_mse_i: 0.6689247872189795\n",
      "n_estimators: 250\tmin_samples_split: 3\tNmean_r_mse_i: 0.6689408604588081\n",
      "n_estimators: 250\tmin_samples_split: 3\tNmean_r_mse_i: 0.6689225578543886\n",
      "n_estimators: 250\tmin_samples_split: 4\tNmean_r_mse_i: 0.668927650880962\n",
      "n_estimators: 250\tmin_samples_split: 4\tNmean_r_mse_i: 0.6689247533819294\n",
      "n_estimators: 250\tmin_samples_split: 4\tNmean_r_mse_i: 0.6689407525905112\n",
      "n_estimators: 250\tmin_samples_split: 4\tNmean_r_mse_i: 0.6689225343569617\n",
      "n_estimators: 250\tmin_samples_split: 5\tNmean_r_mse_i: 0.6689276039943296\n",
      "n_estimators: 250\tmin_samples_split: 5\tNmean_r_mse_i: 0.6689247198556675\n",
      "n_estimators: 250\tmin_samples_split: 5\tNmean_r_mse_i: 0.6689406457118319\n",
      "n_estimators: 250\tmin_samples_split: 5\tNmean_r_mse_i: 0.6689225110748607\n",
      "n_estimators: 275\tmin_samples_split: 2\tNmean_r_mse_i: 0.6689275575368653\n",
      "n_estimators: 275\tmin_samples_split: 2\tNmean_r_mse_i: 0.6689246866359314\n",
      "n_estimators: 275\tmin_samples_split: 2\tNmean_r_mse_i: 0.6689405398092135\n",
      "n_estimators: 275\tmin_samples_split: 2\tNmean_r_mse_i: 0.6689224880051391\n",
      "n_estimators: 275\tmin_samples_split: 3\tNmean_r_mse_i: 0.6689275115027038\n",
      "n_estimators: 275\tmin_samples_split: 3\tNmean_r_mse_i: 0.6689246537185366\n",
      "n_estimators: 275\tmin_samples_split: 3\tNmean_r_mse_i: 0.6689404348693462\n",
      "n_estimators: 275\tmin_samples_split: 3\tNmean_r_mse_i: 0.6689224651449042\n",
      "n_estimators: 275\tmin_samples_split: 4\tNmean_r_mse_i: 0.6689274658860856\n",
      "n_estimators: 275\tmin_samples_split: 4\tNmean_r_mse_i: 0.668924621099374\n",
      "n_estimators: 275\tmin_samples_split: 4\tNmean_r_mse_i: 0.6689403308791609\n",
      "n_estimators: 275\tmin_samples_split: 4\tNmean_r_mse_i: 0.6689224424913155\n",
      "n_estimators: 275\tmin_samples_split: 5\tNmean_r_mse_i: 0.6689274206813557\n",
      "n_estimators: 275\tmin_samples_split: 5\tNmean_r_mse_i: 0.6689245887744091\n",
      "n_estimators: 275\tmin_samples_split: 5\tNmean_r_mse_i: 0.6689402278258242\n",
      "n_estimators: 275\tmin_samples_split: 5\tNmean_r_mse_i: 0.6689224200415835\n",
      "n_estimators: 300\tmin_samples_split: 2\tNmean_r_mse_i: 0.6689273758829604\n",
      "n_estimators: 300\tmin_samples_split: 2\tNmean_r_mse_i: 0.6689245567396795\n",
      "n_estimators: 300\tmin_samples_split: 2\tNmean_r_mse_i: 0.6689401256967326\n",
      "n_estimators: 300\tmin_samples_split: 2\tNmean_r_mse_i: 0.6689223977929691\n",
      "n_estimators: 300\tmin_samples_split: 3\tNmean_r_mse_i: 0.6689273314854456\n",
      "n_estimators: 300\tmin_samples_split: 3\tNmean_r_mse_i: 0.668924524991294\n",
      "n_estimators: 300\tmin_samples_split: 3\tNmean_r_mse_i: 0.668940024479508\n",
      "n_estimators: 300\tmin_samples_split: 3\tNmean_r_mse_i: 0.6689223757427816\n",
      "n_estimators: 300\tmin_samples_split: 4\tNmean_r_mse_i: 0.6689272874834543\n",
      "n_estimators: 300\tmin_samples_split: 4\tNmean_r_mse_i: 0.6689244935254302\n",
      "n_estimators: 300\tmin_samples_split: 4\tNmean_r_mse_i: 0.6689399241619919\n",
      "n_estimators: 300\tmin_samples_split: 4\tNmean_r_mse_i: 0.6689223538883781\n",
      "n_estimators: 300\tmin_samples_split: 5\tNmean_r_mse_i: 0.6689272438717246\n",
      "n_estimators: 300\tmin_samples_split: 5\tNmean_r_mse_i: 0.6689244623383337\n",
      "n_estimators: 300\tmin_samples_split: 5\tNmean_r_mse_i: 0.6689398247322415\n",
      "n_estimators: 300\tmin_samples_split: 5\tNmean_r_mse_i: 0.6689223322271627\n",
      "---------End of Calculation!---------\n",
      "min_est: 300\tmin_spl: 5\tmin_r_mse_i: 0.6689223322271627\n"
     ]
    }
   ],
   "source": [
    "Nlist_y_i_pred = []\n",
    "Nlist_r_mse_i =[]\n",
    "min_r_mse_i = 0.7\n",
    "\n",
    "for i in [0,3,7,8]:       # 위에서 쪼갠 molecule set 중 one, four, eight, nine 만 .fit() 가 실행되므로 해당 set들만 계산이 돌아가도록 설정해주고\n",
    "    for est in [25,50,75,100,125,150,175,200,225,250,275,300]:      \n",
    "        for spl in [2,3,4,5]:\n",
    "            model = RandomForestRegressor(n_estimators = est ,min_samples_split = spl)    # 여러 hyper parameter를 넣어볼 모델을 만들고\n",
    "            model.fit(list_X_i_train[i], list_y_i_train[i])     # 학습시키기!\n",
    "            y_pred_i = model.predict(list_X_i_test[i])         # 예측하기!\n",
    "            Nlist_y_i_pred.append(y_pred_i)                    # 4개의 molecule set을 따로 돌렸으므로 예측값들을 리스트에 넣어주고\n",
    "            for i in range(0,4):                               \n",
    "                r_mse_i = sqrt(mean_squared_error(new_list_y_i_test[i], list_y_i_pred[i]))    # 4개의 molecule set들 각각의 정답과 예측 값의 RMSE를 리스트에 넣어주고\n",
    "                list_r_mse_i.append(r_mse_i)    \n",
    "                Nmean_r_mse_i = np.mean(list_r_mse_i)    # 구한 4개의 RMSE의 평균을 구한다.\n",
    "\n",
    "                if Nmean_r_mse_i < min_r_mse_i :      #  hyper parameter를 바꿔가며 구한 RMSE 평균의 최소값을 구한다.\n",
    "                    min_r_mse_i = Nmean_r_mse_i\n",
    "                    min_est = est\n",
    "                    min_spl = spl               \n",
    "\n",
    "                print(f\"n_estimators: {est}\\tmin_samples_split: {spl}\\tNmean_r_mse_i: {Nmean_r_mse_i}\")\n",
    "print(\"---------End of Calculation!---------\")\n",
    "print(f\"min_est: {min_est}\\tmin_spl: {min_spl}\\tmin_r_mse_i: {min_r_mse_i}\") "
   ]
  },
  {
   "cell_type": "markdown",
   "id": "ff0a93a1-a472-4f6c-9837-8453897d0576",
   "metadata": {},
   "source": [
    "<span style=\"color:purple\">↑ [caculate 3] n_estimators=300 / min_samples_split=5 / RMSD = 0.6689223322271627 </span>"
   ]
  },
  {
   "cell_type": "markdown",
   "id": "a76ef41c-b505-45f8-b950-9fb3263a096c",
   "metadata": {},
   "source": [
    "**정리**  \n",
    "**Conformation of molecules**를 사용한 예측 모델 **RMSE = 0.605304453024637**  ★\n",
    "\n",
    "**Descriptors**를 사용한 예측 모델   \n",
    "<span style=\"color:purple\">[caculate 1] n_estimators=100 / min_samples_split=2 / **RMSD = 0.6689174530384019** ★</span>  \n",
    "<span style=\"color:purple\">[caculate 2] n_estimators=300 / min_samples_split=4 / RMSD = 0.6689496841758367 </span>  \n",
    "<span style=\"color:purple\">[caculate 3] n_estimators=300 / min_samples_split=5 / RMSD = 0.6689223322271627 </span>  \n",
    "오차 값들의 차이가 너무 근소하고, 계산이 완료되는 시간이 너무 오래 걸려서 더이상의 계산은 그만하였다. 처음 dafalt 로 setting 된 모델이 오차가 가장 작다. "
   ]
  },
  {
   "cell_type": "markdown",
   "id": "4d8b5d26-e208-4ccd-9ca8-7c1cfa008e48",
   "metadata": {},
   "source": [
    "###  <span style=\"color:orange\">Maching Learning 기본 순서 </span>\n",
    "1. 전체 dataset을 준비\n",
    "2. X , y 분리\n",
    "3. traing set , test set 분리\n",
    "---\n",
    "3. 빈 모델을 만듦\n",
    "4. 빈 모델에 traing set을 넣어 모델을 학습시킴\n",
    "5. 학습된 모델에 test set을 넣어 예측시켜봄\n",
    "---\n",
    "6. 잘 풀었나 채점해봄 \n",
    "7. 모델 튜닝 Hypter parameter\n",
    "8. **어떤 feature가 중요했는지 확인** <span style=\"color:orange\">→ feature_importances_</span>"
   ]
  },
  {
   "cell_type": "code",
   "execution_count": 121,
   "id": "bb8a9190-3e43-45d1-b3c5-827b8dafd990",
   "metadata": {},
   "outputs": [],
   "source": [
    "ys_model_v2 = model"
   ]
  },
  {
   "cell_type": "code",
   "execution_count": 144,
   "id": "cd1715ad-a4aa-4f4e-985b-78f23236215b",
   "metadata": {
    "collapsed": true,
    "jupyter": {
     "outputs_hidden": true
    },
    "tags": []
   },
   "outputs": [
    {
     "data": {
      "text/plain": [
       "[0.12914183880817767,\n",
       " 0.0688268173769324,\n",
       " 0.1280514935009732,\n",
       " 0.030896551920402592,\n",
       " 0.03197392182277087,\n",
       " 0.13409518902379858,\n",
       " 0.15999906555320917,\n",
       " 0.07968314895800108,\n",
       " 0.03438540162697932,\n",
       " 0.022238069873315832,\n",
       " 0.031181926832263757,\n",
       " 0.008052696295641282,\n",
       " 0.01517454296628691,\n",
       " 0.010130802057104031,\n",
       " 0.007836797023906657,\n",
       " 0.002283549458798112,\n",
       " 0.04730506871215437,\n",
       " 0.04771129842680906,\n",
       " 0.006147233408862137,\n",
       " 0.004884586353612932]"
      ]
     },
     "execution_count": 144,
     "metadata": {},
     "output_type": "execute_result"
    }
   ],
   "source": [
    "imp = ys_model_v2.feature_importances_.tolist()        # feature importance를 확인하기 위해 array를 list에 넣어주고\n",
    "imp"
   ]
  },
  {
   "cell_type": "code",
   "execution_count": 146,
   "id": "96a21fd1-1d37-4dac-9b3a-1b4760784343",
   "metadata": {
    "collapsed": true,
    "jupyter": {
     "outputs_hidden": true
    },
    "tags": []
   },
   "outputs": [
    {
     "data": {
      "text/plain": [
       "{1: 0.12914183880817767,\n",
       " 2: 0.0688268173769324,\n",
       " 3: 0.1280514935009732,\n",
       " 4: 0.030896551920402592,\n",
       " 5: 0.03197392182277087,\n",
       " 6: 0.13409518902379858,\n",
       " 7: 0.15999906555320917,\n",
       " 8: 0.07968314895800108,\n",
       " 9: 0.03438540162697932,\n",
       " 10: 0.022238069873315832,\n",
       " 11: 0.031181926832263757,\n",
       " 12: 0.008052696295641282,\n",
       " 13: 0.01517454296628691,\n",
       " 14: 0.010130802057104031,\n",
       " 15: 0.007836797023906657,\n",
       " 16: 0.002283549458798112,\n",
       " 17: 0.04730506871215437,\n",
       " 18: 0.04771129842680906,\n",
       " 19: 0.006147233408862137,\n",
       " 20: 0.004884586353612932}"
      ]
     },
     "execution_count": 146,
     "metadata": {},
     "output_type": "execute_result"
    }
   ],
   "source": [
    "dict = {i: imp[i - 1] for i in range(1,21)}        #어떤 feature인지 알기 위해, 딕셔너리에 넣고 key를 인덱스로 설정하고 \n",
    "dict"
   ]
  },
  {
   "cell_type": "code",
   "execution_count": 152,
   "id": "7496eb79-f415-4819-9891-c4cbbf01a13a",
   "metadata": {},
   "outputs": [
    {
     "data": {
      "text/plain": [
       "[(7, 0.15999906555320917),\n",
       " (6, 0.13409518902379858),\n",
       " (1, 0.12914183880817767),\n",
       " (3, 0.1280514935009732),\n",
       " (8, 0.07968314895800108),\n",
       " (2, 0.0688268173769324),\n",
       " (18, 0.04771129842680906),\n",
       " (17, 0.04730506871215437),\n",
       " (9, 0.03438540162697932),\n",
       " (5, 0.03197392182277087),\n",
       " (11, 0.031181926832263757),\n",
       " (4, 0.030896551920402592),\n",
       " (10, 0.022238069873315832),\n",
       " (13, 0.01517454296628691),\n",
       " (14, 0.010130802057104031),\n",
       " (12, 0.008052696295641282),\n",
       " (15, 0.007836797023906657),\n",
       " (19, 0.006147233408862137),\n",
       " (20, 0.004884586353612932),\n",
       " (16, 0.002283549458798112)]"
      ]
     },
     "execution_count": 152,
     "metadata": {},
     "output_type": "execute_result"
    }
   ],
   "source": [
    "sorted_dict = sorted(dict.items(), key = lambda item: item[1], reverse = True)       # 딕셔너리의 value를 내림 차순으로 정리하였다.\n",
    "sorted_dict"
   ]
  },
  {
   "cell_type": "code",
   "execution_count": 142,
   "id": "416213fb-6b51-4406-9318-846e784c0919",
   "metadata": {},
   "outputs": [
    {
     "data": {
      "text/html": [
       "<div>\n",
       "<style scoped>\n",
       "    .dataframe tbody tr th:only-of-type {\n",
       "        vertical-align: middle;\n",
       "    }\n",
       "\n",
       "    .dataframe tbody tr th {\n",
       "        vertical-align: top;\n",
       "    }\n",
       "\n",
       "    .dataframe thead th {\n",
       "        text-align: right;\n",
       "    }\n",
       "</style>\n",
       "<table border=\"1\" class=\"dataframe\">\n",
       "  <thead>\n",
       "    <tr style=\"text-align: right;\">\n",
       "      <th></th>\n",
       "      <th>Oscillator_Strength</th>\n",
       "      <th>cj</th>\n",
       "      <th>arr</th>\n",
       "      <th>fg</th>\n",
       "      <th>ha</th>\n",
       "      <th>max_pc</th>\n",
       "      <th>min_pc</th>\n",
       "      <th>mw</th>\n",
       "      <th>hba</th>\n",
       "      <th>hbd</th>\n",
       "      <th>rb</th>\n",
       "      <th>r</th>\n",
       "      <th>hc</th>\n",
       "      <th>sr</th>\n",
       "      <th>alr</th>\n",
       "      <th>ba</th>\n",
       "      <th>ve</th>\n",
       "      <th>co</th>\n",
       "      <th>arn</th>\n",
       "      <th>mth</th>\n",
       "    </tr>\n",
       "  </thead>\n",
       "  <tbody>\n",
       "    <tr>\n",
       "      <th>0</th>\n",
       "      <td>0.053</td>\n",
       "      <td>1</td>\n",
       "      <td>1</td>\n",
       "      <td>4</td>\n",
       "      <td>4</td>\n",
       "      <td>0.146012</td>\n",
       "      <td>-0.385753</td>\n",
       "      <td>238.148141</td>\n",
       "      <td>3</td>\n",
       "      <td>2</td>\n",
       "      <td>2</td>\n",
       "      <td>2</td>\n",
       "      <td>1</td>\n",
       "      <td>1</td>\n",
       "      <td>1</td>\n",
       "      <td>0</td>\n",
       "      <td>94</td>\n",
       "      <td>0</td>\n",
       "      <td>0</td>\n",
       "      <td>0</td>\n",
       "    </tr>\n",
       "    <tr>\n",
       "      <th>1</th>\n",
       "      <td>0.002</td>\n",
       "      <td>0</td>\n",
       "      <td>0</td>\n",
       "      <td>3</td>\n",
       "      <td>3</td>\n",
       "      <td>0.180288</td>\n",
       "      <td>-0.367630</td>\n",
       "      <td>157.110279</td>\n",
       "      <td>3</td>\n",
       "      <td>2</td>\n",
       "      <td>0</td>\n",
       "      <td>1</td>\n",
       "      <td>1</td>\n",
       "      <td>1</td>\n",
       "      <td>1</td>\n",
       "      <td>0</td>\n",
       "      <td>64</td>\n",
       "      <td>1</td>\n",
       "      <td>0</td>\n",
       "      <td>0</td>\n",
       "    </tr>\n",
       "    <tr>\n",
       "      <th>2</th>\n",
       "      <td>0.003</td>\n",
       "      <td>0</td>\n",
       "      <td>0</td>\n",
       "      <td>2</td>\n",
       "      <td>3</td>\n",
       "      <td>0.092082</td>\n",
       "      <td>-0.328366</td>\n",
       "      <td>215.211790</td>\n",
       "      <td>3</td>\n",
       "      <td>1</td>\n",
       "      <td>1</td>\n",
       "      <td>1</td>\n",
       "      <td>1</td>\n",
       "      <td>1</td>\n",
       "      <td>1</td>\n",
       "      <td>0</td>\n",
       "      <td>90</td>\n",
       "      <td>0</td>\n",
       "      <td>0</td>\n",
       "      <td>0</td>\n",
       "    </tr>\n",
       "    <tr>\n",
       "      <th>3</th>\n",
       "      <td>0.065</td>\n",
       "      <td>2</td>\n",
       "      <td>1</td>\n",
       "      <td>4</td>\n",
       "      <td>5</td>\n",
       "      <td>0.320316</td>\n",
       "      <td>-0.504260</td>\n",
       "      <td>197.068808</td>\n",
       "      <td>5</td>\n",
       "      <td>5</td>\n",
       "      <td>3</td>\n",
       "      <td>1</td>\n",
       "      <td>0</td>\n",
       "      <td>0</td>\n",
       "      <td>0</td>\n",
       "      <td>0</td>\n",
       "      <td>76</td>\n",
       "      <td>1</td>\n",
       "      <td>0</td>\n",
       "      <td>0</td>\n",
       "    </tr>\n",
       "    <tr>\n",
       "      <th>4</th>\n",
       "      <td>0.110</td>\n",
       "      <td>2</td>\n",
       "      <td>2</td>\n",
       "      <td>4</td>\n",
       "      <td>5</td>\n",
       "      <td>0.307501</td>\n",
       "      <td>-0.480985</td>\n",
       "      <td>231.100777</td>\n",
       "      <td>5</td>\n",
       "      <td>2</td>\n",
       "      <td>4</td>\n",
       "      <td>2</td>\n",
       "      <td>1</td>\n",
       "      <td>0</td>\n",
       "      <td>0</td>\n",
       "      <td>0</td>\n",
       "      <td>88</td>\n",
       "      <td>1</td>\n",
       "      <td>0</td>\n",
       "      <td>0</td>\n",
       "    </tr>\n",
       "    <tr>\n",
       "      <th>...</th>\n",
       "      <td>...</td>\n",
       "      <td>...</td>\n",
       "      <td>...</td>\n",
       "      <td>...</td>\n",
       "      <td>...</td>\n",
       "      <td>...</td>\n",
       "      <td>...</td>\n",
       "      <td>...</td>\n",
       "      <td>...</td>\n",
       "      <td>...</td>\n",
       "      <td>...</td>\n",
       "      <td>...</td>\n",
       "      <td>...</td>\n",
       "      <td>...</td>\n",
       "      <td>...</td>\n",
       "      <td>...</td>\n",
       "      <td>...</td>\n",
       "      <td>...</td>\n",
       "      <td>...</td>\n",
       "      <td>...</td>\n",
       "    </tr>\n",
       "    <tr>\n",
       "      <th>99995</th>\n",
       "      <td>0.003</td>\n",
       "      <td>1</td>\n",
       "      <td>0</td>\n",
       "      <td>3</td>\n",
       "      <td>4</td>\n",
       "      <td>0.236940</td>\n",
       "      <td>-0.376386</td>\n",
       "      <td>212.152478</td>\n",
       "      <td>4</td>\n",
       "      <td>1</td>\n",
       "      <td>3</td>\n",
       "      <td>2</td>\n",
       "      <td>2</td>\n",
       "      <td>2</td>\n",
       "      <td>2</td>\n",
       "      <td>0</td>\n",
       "      <td>86</td>\n",
       "      <td>1</td>\n",
       "      <td>0</td>\n",
       "      <td>0</td>\n",
       "    </tr>\n",
       "    <tr>\n",
       "      <th>99996</th>\n",
       "      <td>0.002</td>\n",
       "      <td>1</td>\n",
       "      <td>0</td>\n",
       "      <td>1</td>\n",
       "      <td>3</td>\n",
       "      <td>0.307877</td>\n",
       "      <td>-0.463489</td>\n",
       "      <td>98.048013</td>\n",
       "      <td>3</td>\n",
       "      <td>1</td>\n",
       "      <td>0</td>\n",
       "      <td>1</td>\n",
       "      <td>1</td>\n",
       "      <td>0</td>\n",
       "      <td>1</td>\n",
       "      <td>0</td>\n",
       "      <td>38</td>\n",
       "      <td>0</td>\n",
       "      <td>0</td>\n",
       "      <td>0</td>\n",
       "    </tr>\n",
       "    <tr>\n",
       "      <th>99997</th>\n",
       "      <td>0.000</td>\n",
       "      <td>1</td>\n",
       "      <td>0</td>\n",
       "      <td>3</td>\n",
       "      <td>2</td>\n",
       "      <td>0.155197</td>\n",
       "      <td>-0.377034</td>\n",
       "      <td>312.208930</td>\n",
       "      <td>2</td>\n",
       "      <td>1</td>\n",
       "      <td>0</td>\n",
       "      <td>4</td>\n",
       "      <td>0</td>\n",
       "      <td>3</td>\n",
       "      <td>4</td>\n",
       "      <td>0</td>\n",
       "      <td>124</td>\n",
       "      <td>1</td>\n",
       "      <td>0</td>\n",
       "      <td>0</td>\n",
       "    </tr>\n",
       "    <tr>\n",
       "      <th>99998</th>\n",
       "      <td>0.000</td>\n",
       "      <td>0</td>\n",
       "      <td>0</td>\n",
       "      <td>3</td>\n",
       "      <td>3</td>\n",
       "      <td>0.093513</td>\n",
       "      <td>-0.395054</td>\n",
       "      <td>104.071154</td>\n",
       "      <td>3</td>\n",
       "      <td>3</td>\n",
       "      <td>4</td>\n",
       "      <td>0</td>\n",
       "      <td>0</td>\n",
       "      <td>0</td>\n",
       "      <td>0</td>\n",
       "      <td>0</td>\n",
       "      <td>43</td>\n",
       "      <td>0</td>\n",
       "      <td>0</td>\n",
       "      <td>0</td>\n",
       "    </tr>\n",
       "    <tr>\n",
       "      <th>99999</th>\n",
       "      <td>0.039</td>\n",
       "      <td>1</td>\n",
       "      <td>1</td>\n",
       "      <td>3</td>\n",
       "      <td>4</td>\n",
       "      <td>0.122351</td>\n",
       "      <td>-0.383681</td>\n",
       "      <td>233.152812</td>\n",
       "      <td>4</td>\n",
       "      <td>3</td>\n",
       "      <td>4</td>\n",
       "      <td>2</td>\n",
       "      <td>1</td>\n",
       "      <td>1</td>\n",
       "      <td>1</td>\n",
       "      <td>0</td>\n",
       "      <td>92</td>\n",
       "      <td>0</td>\n",
       "      <td>1</td>\n",
       "      <td>0</td>\n",
       "    </tr>\n",
       "  </tbody>\n",
       "</table>\n",
       "<p>100000 rows × 20 columns</p>\n",
       "</div>"
      ],
      "text/plain": [
       "       Oscillator_Strength  cj  arr  fg  ha    max_pc    min_pc          mw  \\\n",
       "0                    0.053   1    1   4   4  0.146012 -0.385753  238.148141   \n",
       "1                    0.002   0    0   3   3  0.180288 -0.367630  157.110279   \n",
       "2                    0.003   0    0   2   3  0.092082 -0.328366  215.211790   \n",
       "3                    0.065   2    1   4   5  0.320316 -0.504260  197.068808   \n",
       "4                    0.110   2    2   4   5  0.307501 -0.480985  231.100777   \n",
       "...                    ...  ..  ...  ..  ..       ...       ...         ...   \n",
       "99995                0.003   1    0   3   4  0.236940 -0.376386  212.152478   \n",
       "99996                0.002   1    0   1   3  0.307877 -0.463489   98.048013   \n",
       "99997                0.000   1    0   3   2  0.155197 -0.377034  312.208930   \n",
       "99998                0.000   0    0   3   3  0.093513 -0.395054  104.071154   \n",
       "99999                0.039   1    1   3   4  0.122351 -0.383681  233.152812   \n",
       "\n",
       "       hba  hbd  rb  r  hc  sr  alr  ba   ve  co  arn  mth  \n",
       "0        3    2   2  2   1   1    1   0   94   0    0    0  \n",
       "1        3    2   0  1   1   1    1   0   64   1    0    0  \n",
       "2        3    1   1  1   1   1    1   0   90   0    0    0  \n",
       "3        5    5   3  1   0   0    0   0   76   1    0    0  \n",
       "4        5    2   4  2   1   0    0   0   88   1    0    0  \n",
       "...    ...  ...  .. ..  ..  ..  ...  ..  ...  ..  ...  ...  \n",
       "99995    4    1   3  2   2   2    2   0   86   1    0    0  \n",
       "99996    3    1   0  1   1   0    1   0   38   0    0    0  \n",
       "99997    2    1   0  4   0   3    4   0  124   1    0    0  \n",
       "99998    3    3   4  0   0   0    0   0   43   0    0    0  \n",
       "99999    4    3   4  2   1   1    1   0   92   0    1    0  \n",
       "\n",
       "[100000 rows x 20 columns]"
      ]
     },
     "execution_count": 142,
     "metadata": {},
     "output_type": "execute_result"
    }
   ],
   "source": [
    "X     "
   ]
  },
  {
   "cell_type": "markdown",
   "id": "fe8c3222-b6f6-4d5a-a71a-3a4bcc2da6b5",
   "metadata": {},
   "source": [
    "  "
   ]
  },
  {
   "attachments": {
    "2a40adbe-0e82-42f8-bcfb-5a611d5c55cd.png": {
     "image/png": "[encoded data removed]"
    },
    "9ae40bc4-20c6-4b00-8f50-9298a1f221a6.png": {
     "image/png": "[encoded data removed]"
    },
    "ce63bf10-9461-4e2b-aead-b36d5ff68225.png": {
     "image/png": "[encoded data removed]"
    }
   },
   "cell_type": "markdown",
   "id": "b27c60b0-73fa-454e-b87d-2cd0e6844158",
   "metadata": {},
   "source": [
    "## Top 5 most important features.\n",
    "- 7&6 : Partial Charge  \n",
    "- 1  : Oscillator Strength  \n",
    "- 3  : The number of Aromating Rings  \n",
    "- 8 : Molecular Weight  \n",
    "- 2 : Conjugated groups  \n",
    "\n",
    "###### <span style=\"color:pink\">P.S. 주어진 테스트용 데이터(SMILES_for_test)를 넣고 HOMO_LUMO gap을 예측값을 반환하려고 했지만, 처음에 모델 학습을 할 때</span>  \n",
    "###### <span style=\"color:pink\">Oscillator strength를 feature로 사용한 게 문제가 됐다. 학습 파일과  동일하게 테스트용 파일에도 Oscillator strength feature가</span> \n",
    "###### <span style=\"color:pink\">필요한데 계산할 수 있는 method를 찾지 못했다. 다른 방법은 학습용 데이터들을 Oscillator strength 없이 다시 학습시키는</span>  \n",
    "######  <span style=\"color:pink\">  것이었는데 계산이 너무 오래걸리고 복잡해서(전체 파일을 쪼개서 돌려야 했으므로..)다시 하기엔 무리가 있다고 판단하였다.</span>  \n",
    "------------------------------끝------------------------------\n",
    "---\n",
    "![image.png](attachment:2a40adbe-0e82-42f8-bcfb-5a611d5c55cd.png)![image.png](attachment:ce63bf10-9461-4e2b-aead-b36d5ff68225.png)![image.png](attachment:9ae40bc4-20c6-4b00-8f50-9298a1f221a6.png)"
   ]
  },
  {
   "cell_type": "code",
   "execution_count": null,
   "id": "6157fd1d-95cb-4645-bf34-06fde7989b0b",
   "metadata": {},
   "outputs": [],
   "source": []
  }
 ],
 "metadata": {
  "kernelspec": {
   "display_name": "Python 3",
   "language": "python",
   "name": "python3"
  },
  "language_info": {
   "codemirror_mode": {
    "name": "ipython",
    "version": 3
   },
   "file_extension": ".py",
   "mimetype": "text/x-python",
   "name": "python",
   "nbconvert_exporter": "python",
   "pygments_lexer": "ipython3",
   "version": "3.8.8"
  }
 },
 "nbformat": 4,
 "nbformat_minor": 5
}
